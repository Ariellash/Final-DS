{
 "cells": [
  {
   "cell_type": "markdown",
   "metadata": {},
   "source": [
    "# Import packages"
   ]
  },
  {
   "cell_type": "code",
   "execution_count": 1,
   "metadata": {},
   "outputs": [
    {
     "name": "stderr",
     "output_type": "stream",
     "text": [
      "C:\\Users\\dom\\Anaconda3\\lib\\site-packages\\statsmodels\\tools\\_testing.py:19: FutureWarning: pandas.util.testing is deprecated. Use the functions in the public API at pandas.testing instead.\n",
      "  import pandas.util.testing as tm\n"
     ]
    }
   ],
   "source": [
    "import pandas as pd\n",
    "import numpy as np\n",
    "import matplotlib.pyplot as plt\n",
    "import seaborn as sns\n",
    "%matplotlib inline\n",
    "import warnings; warnings.simplefilter('ignore')\n",
    "import ast\n",
    "import re\n",
    "from timeit import default_timer as timer"
   ]
  },
  {
   "cell_type": "markdown",
   "metadata": {},
   "source": [
    "# Functions"
   ]
  },
  {
   "cell_type": "code",
   "execution_count": 2,
   "metadata": {},
   "outputs": [],
   "source": [
    "#Function that writes to csv\n",
    "def saveData(x):\n",
    "    x.to_csv('dataintermediate.csv',index=False)"
   ]
  },
  {
   "cell_type": "code",
   "execution_count": 3,
   "metadata": {},
   "outputs": [],
   "source": [
    "#find any of specific substrings \n",
    "def substringExists(x,strlist):\n",
    "    \"\"\"if any of folling values appears return 1\"\"\"\n",
    "    if any(re.findall('|'.join(strlist),x)):\n",
    "        return 1\n",
    "    return x"
   ]
  },
  {
   "cell_type": "markdown",
   "metadata": {},
   "source": [
    "# Data preparation"
   ]
  },
  {
   "cell_type": "markdown",
   "metadata": {},
   "source": [
    "### Read Data and select columns for Model"
   ]
  },
  {
   "cell_type": "code",
   "execution_count": 4,
   "metadata": {},
   "outputs": [
    {
     "name": "stdout",
     "output_type": "stream",
     "text": [
      "<class 'pandas.core.frame.DataFrame'>\n",
      "RangeIndex: 377185 entries, 0 to 377184\n",
      "Data columns (total 18 columns):\n",
      " #   Column        Non-Null Count   Dtype \n",
      "---  ------        --------------   ----- \n",
      " 0   status        337267 non-null  object\n",
      " 1   private pool  4181 non-null    object\n",
      " 2   propertyType  342452 non-null  object\n",
      " 3   street        377183 non-null  object\n",
      " 4   baths         270847 non-null  object\n",
      " 5   homeFacts     377185 non-null  object\n",
      " 6   fireplace     103115 non-null  object\n",
      " 7   city          377151 non-null  object\n",
      " 8   schools       377185 non-null  object\n",
      " 9   sqft          336608 non-null  object\n",
      " 10  zipcode       377185 non-null  object\n",
      " 11  beds          285903 non-null  object\n",
      " 12  state         377185 non-null  object\n",
      " 13  stories       226470 non-null  object\n",
      " 14  mls-id        24942 non-null   object\n",
      " 15  PrivatePool   40311 non-null   object\n",
      " 16  MlsId         310305 non-null  object\n",
      " 17  target        374704 non-null  object\n",
      "dtypes: object(18)\n",
      "memory usage: 51.8+ MB\n"
     ]
    }
   ],
   "source": [
    "df=pd.read_csv('data.csv')\n",
    "df.info()"
   ]
  },
  {
   "cell_type": "code",
   "execution_count": 5,
   "metadata": {},
   "outputs": [],
   "source": [
    "#First I will use most commonsence properties that might influence the property Price\n",
    "data=df[['status','private pool','baths','homeFacts','fireplace','schools','sqft','beds','state','stories','PrivatePool','propertyType','target']]"
   ]
  },
  {
   "cell_type": "code",
   "execution_count": 6,
   "metadata": {},
   "outputs": [
    {
     "name": "stdout",
     "output_type": "stream",
     "text": [
      "<class 'pandas.core.frame.DataFrame'>\n",
      "RangeIndex: 377185 entries, 0 to 377184\n",
      "Data columns (total 13 columns):\n",
      " #   Column        Non-Null Count   Dtype \n",
      "---  ------        --------------   ----- \n",
      " 0   status        337267 non-null  object\n",
      " 1   private pool  4181 non-null    object\n",
      " 2   baths         270847 non-null  object\n",
      " 3   homeFacts     377185 non-null  object\n",
      " 4   fireplace     103115 non-null  object\n",
      " 5   schools       377185 non-null  object\n",
      " 6   sqft          336608 non-null  object\n",
      " 7   beds          285903 non-null  object\n",
      " 8   state         377185 non-null  object\n",
      " 9   stories       226470 non-null  object\n",
      " 10  PrivatePool   40311 non-null   object\n",
      " 11  propertyType  342452 non-null  object\n",
      " 12  target        374704 non-null  object\n",
      "dtypes: object(13)\n",
      "memory usage: 37.4+ MB\n"
     ]
    }
   ],
   "source": [
    "data.info()"
   ]
  },
  {
   "cell_type": "markdown",
   "metadata": {},
   "source": [
    "## HomeFacts"
   ]
  },
  {
   "cell_type": "code",
   "execution_count": 7,
   "metadata": {},
   "outputs": [],
   "source": [
    "data['homeFacts']=data['homeFacts'].apply(lambda x: ast.literal_eval(x)['atAGlanceFacts'])\n"
   ]
  },
  {
   "cell_type": "code",
   "execution_count": 8,
   "metadata": {},
   "outputs": [
    {
     "data": {
      "text/plain": [
       "['Year built',\n",
       " 'Remodeled year',\n",
       " 'Heating',\n",
       " 'Cooling',\n",
       " 'Parking',\n",
       " 'lotsize',\n",
       " 'Price/sqft']"
      ]
     },
     "execution_count": 8,
     "metadata": {},
     "output_type": "execute_result"
    }
   ],
   "source": [
    "#Get Labels for df columns\n",
    "def getdata(x):\n",
    "    Labels=list()\n",
    "    for i in x:\n",
    "        Labels.append(i['factLabel'])\n",
    "    return Labels\n",
    "Labels=getdata(data.homeFacts[1])\n",
    "Labels"
   ]
  },
  {
   "cell_type": "code",
   "execution_count": 9,
   "metadata": {},
   "outputs": [],
   "source": [
    "#Convert dictionaries per row to appropriate columns in df and extract all the values\n",
    "for l in Labels:\n",
    "    data[l]=data['homeFacts'].apply(lambda x: x[Labels.index(l)]['factValue']) "
   ]
  },
  {
   "cell_type": "code",
   "execution_count": 10,
   "metadata": {},
   "outputs": [],
   "source": [
    "saveData(data)\n"
   ]
  },
  {
   "cell_type": "markdown",
   "metadata": {},
   "source": [
    "## Schools"
   ]
  },
  {
   "cell_type": "code",
   "execution_count": 11,
   "metadata": {},
   "outputs": [],
   "source": [
    "data=pd.read_csv('dataintermediate.csv')\n",
    "data['schools']=data['schools'].apply(lambda x: ast.literal_eval(x)[0])"
   ]
  },
  {
   "cell_type": "code",
   "execution_count": 12,
   "metadata": {},
   "outputs": [],
   "source": [
    "#Extract rating list to schRating column\n",
    "data['schRating']=data['schools'].apply(lambda x: [n for n in x['rating'] if n != 'NR']) "
   ]
  },
  {
   "cell_type": "code",
   "execution_count": 13,
   "metadata": {},
   "outputs": [],
   "source": [
    "def findrating(x):\n",
    "    '''Function that makes an order in ratings and takes the maximum'''\n",
    "    l=[0]\n",
    "    for i in x:\n",
    "        if (i.find('/')>-1 and i[:i.find('/')]=='None') or i=='NA' or i=='':\n",
    "            l.append(0)\n",
    "        elif i.find('/')>-1:\n",
    "            l.append(int(i[:i.find('/')]))\n",
    "        else:\n",
    "            l.append(int(i))\n",
    "    return max(l)"
   ]
  },
  {
   "cell_type": "code",
   "execution_count": 14,
   "metadata": {},
   "outputs": [],
   "source": [
    "data['schRating']=data['schRating'].apply(lambda x: findrating(x))"
   ]
  },
  {
   "cell_type": "code",
   "execution_count": 15,
   "metadata": {},
   "outputs": [
    {
     "name": "stdout",
     "output_type": "stream",
     "text": [
      "<class 'pandas.core.frame.DataFrame'>\n",
      "RangeIndex: 377185 entries, 0 to 377184\n",
      "Data columns (total 21 columns):\n",
      " #   Column          Non-Null Count   Dtype  \n",
      "---  ------          --------------   -----  \n",
      " 0   status          337267 non-null  object \n",
      " 1   private pool    4181 non-null    object \n",
      " 2   baths           270847 non-null  object \n",
      " 3   homeFacts       377185 non-null  object \n",
      " 4   fireplace       103115 non-null  object \n",
      " 5   schools         377185 non-null  object \n",
      " 6   sqft            336608 non-null  object \n",
      " 7   beds            285903 non-null  object \n",
      " 8   state           377185 non-null  object \n",
      " 9   stories         226470 non-null  object \n",
      " 10  PrivatePool     40311 non-null   object \n",
      " 11  propertyType    342452 non-null  object \n",
      " 12  target          374704 non-null  object \n",
      " 13  Year built      314811 non-null  object \n",
      " 14  Remodeled year  151075 non-null  float64\n",
      " 15  Heating         267853 non-null  object \n",
      " 16  Cooling         253218 non-null  object \n",
      " 17  Parking         201765 non-null  object \n",
      " 18  lotsize         315730 non-null  object \n",
      " 19  Price/sqft      313447 non-null  object \n",
      " 20  schRating       377185 non-null  int64  \n",
      "dtypes: float64(1), int64(1), object(19)\n",
      "memory usage: 60.4+ MB\n"
     ]
    }
   ],
   "source": [
    "data.info()"
   ]
  },
  {
   "cell_type": "markdown",
   "metadata": {},
   "source": [
    "### Fill nas in sqft with existing lotsize values"
   ]
  },
  {
   "cell_type": "code",
   "execution_count": 16,
   "metadata": {},
   "outputs": [],
   "source": [
    "data.lotsize=data.lotsize.str.lower().str.strip()\n",
    "#Remove all acre substrings and convert the values to float and fill na of sqft with values\n",
    "data.sqft[(data.sqft.isna()==True)&(data.lotsize.str.contains('acre'))]=data.lotsize[(data.sqft.isna()==True)&(data.lotsize.str.contains('acre'))].str.replace(' acres','').str.replace(',','').str.replace(' acre','').astype(float)*43560.04"
   ]
  },
  {
   "cell_type": "code",
   "execution_count": 17,
   "metadata": {},
   "outputs": [],
   "source": [
    "#Remove all sq substrings and convert the values to float and fill na of sqft with values\n",
    "data.sqft[(data.sqft.isna()==True)&(data.lotsize.str.contains('sq'))]=data.lotsize[(data.sqft.isna()==True)&(data.lotsize.str.contains('sq'))].str.replace(' sq. ft.','').str.replace(',','').str.replace(' sqft','').astype(float)*43560.04"
   ]
  },
  {
   "cell_type": "markdown",
   "metadata": {},
   "source": [
    "## Price/sqft"
   ]
  },
  {
   "cell_type": "code",
   "execution_count": 18,
   "metadata": {},
   "outputs": [],
   "source": [
    "data['Price/sqft']=data['Price/sqft'].str.lower()"
   ]
  },
  {
   "cell_type": "code",
   "execution_count": 19,
   "metadata": {},
   "outputs": [],
   "source": [
    "data['Price/sqft']=data['Price/sqft'].str.replace('$',\"\").str.replace('/sqft','').str.replace(' / sq. ft.','').str.replace(',','')\n",
    "data['Price/sqft']=data['Price/sqft'].str.replace('no data','0').str.replace('no info','0').str.replace('contact manager','0')"
   ]
  },
  {
   "cell_type": "code",
   "execution_count": 20,
   "metadata": {},
   "outputs": [],
   "source": [
    "data['Price/sqft'].fillna(0,inplace=True)"
   ]
  },
  {
   "cell_type": "code",
   "execution_count": 21,
   "metadata": {},
   "outputs": [
    {
     "data": {
      "text/plain": [
       "0    144\n",
       "1    159\n",
       "2    965\n",
       "3    371\n",
       "4      0\n",
       "5    233\n",
       "6    120\n",
       "7     57\n",
       "8     68\n",
       "9    162\n",
       "Name: Price/sqft, dtype: object"
      ]
     },
     "execution_count": 21,
     "metadata": {},
     "output_type": "execute_result"
    }
   ],
   "source": [
    "data['Price/sqft'].head(10)"
   ]
  },
  {
   "cell_type": "code",
   "execution_count": 22,
   "metadata": {},
   "outputs": [],
   "source": [
    "data['Price/sqft']=data['Price/sqft'].astype(int)"
   ]
  },
  {
   "cell_type": "code",
   "execution_count": 24,
   "metadata": {},
   "outputs": [
    {
     "data": {
      "text/plain": [
       "(-5950.001, 1190000.0]    0.999963\n",
       "(1190000.0, 2380000.0]    0.000024\n",
       "(4760000.0, 5950000.0]    0.000011\n",
       "(2380000.0, 3570000.0]    0.000003\n",
       "(3570000.0, 4760000.0]    0.000000\n",
       "Name: Price/sqft, dtype: float64"
      ]
     },
     "execution_count": 24,
     "metadata": {},
     "output_type": "execute_result"
    }
   ],
   "source": [
    "data['Price/sqft'].value_counts(normalize=True,bins=5)"
   ]
  },
  {
   "cell_type": "code",
   "execution_count": 25,
   "metadata": {},
   "outputs": [],
   "source": [
    "data['Price/sqft'][(data['Price/sqft']>0)]=np.log(data['Price/sqft'][(data['Price/sqft']>0)])"
   ]
  },
  {
   "cell_type": "code",
   "execution_count": 26,
   "metadata": {},
   "outputs": [
    {
     "data": {
      "text/plain": [
       "<matplotlib.axes._subplots.AxesSubplot at 0x19fbb1f0748>"
      ]
     },
     "execution_count": 26,
     "metadata": {},
     "output_type": "execute_result"
    },
    {
     "data": {
      "image/png": "[encoded data removed]",
      "text/plain": [
       "<Figure size 432x288 with 1 Axes>"
      ]
     },
     "metadata": {
      "needs_background": "light"
     },
     "output_type": "display_data"
    }
   ],
   "source": [
    "data['Price/sqft'].hist()"
   ]
  },
  {
   "cell_type": "code",
   "execution_count": 27,
   "metadata": {},
   "outputs": [
    {
     "data": {
      "text/plain": [
       "(3.12, 6.24]        0.724448\n",
       "(-0.0166, 3.12]     0.187728\n",
       "(6.24, 9.359]       0.087535\n",
       "(9.359, 12.479]     0.000159\n",
       "(12.479, 15.599]    0.000130\n",
       "Name: Price/sqft, dtype: float64"
      ]
     },
     "execution_count": 27,
     "metadata": {},
     "output_type": "execute_result"
    }
   ],
   "source": [
    "data['Price/sqft'].value_counts(normalize=True,bins=5)"
   ]
  },
  {
   "cell_type": "markdown",
   "metadata": {},
   "source": [
    "### Price of the Property (target) "
   ]
  },
  {
   "cell_type": "code",
   "execution_count": 28,
   "metadata": {},
   "outputs": [
    {
     "data": {
      "text/plain": [
       "'/, $-+mo'"
      ]
     },
     "execution_count": 28,
     "metadata": {},
     "output_type": "execute_result"
    }
   ],
   "source": [
    "#find symbols that are not numbers to replace\n",
    "\n",
    "symbollist=data.target.str.findall(r'\\D').value_counts().reset_index()['index']\n",
    "s=list()\n",
    "for i in symbollist:\n",
    "    s=s+i\n",
    "s=list(set(s))\n",
    "s=''.join(s)\n",
    "s"
   ]
  },
  {
   "cell_type": "code",
   "execution_count": 29,
   "metadata": {},
   "outputs": [],
   "source": [
    "#Function that First remove \",\",\"+\",\"/mo\" from all string values then If the string value is a range - take the average\n",
    "#Function returns for strings it's numeric value\n",
    "def clean_currency(x):\n",
    "    \"\"\"replace redundent symbols\"\"\"\n",
    "    if isinstance(x, str):\n",
    "        x=x.replace('$','').replace(',','').replace('+','').replace('/mo','')\n",
    "      \n",
    "    #for values that appears as range take the average\n",
    "    if isinstance(x, str) and x.find(' - ')>0:\n",
    "        a=x.find(' - ')\n",
    "        return((float(x[:a])+float(x[a+3:]))/2)  \n",
    "    return(float(x))"
   ]
  },
  {
   "cell_type": "code",
   "execution_count": 30,
   "metadata": {},
   "outputs": [],
   "source": [
    "data['target'] = data['target'].apply(clean_currency)\n",
    "data=data.rename(columns={'target':'Price'})"
   ]
  },
  {
   "cell_type": "code",
   "execution_count": 31,
   "metadata": {},
   "outputs": [
    {
     "name": "stdout",
     "output_type": "stream",
     "text": [
      "<class 'pandas.core.frame.DataFrame'>\n",
      "RangeIndex: 377185 entries, 0 to 377184\n",
      "Data columns (total 21 columns):\n",
      " #   Column          Non-Null Count   Dtype  \n",
      "---  ------          --------------   -----  \n",
      " 0   status          337267 non-null  object \n",
      " 1   private pool    4181 non-null    object \n",
      " 2   baths           270847 non-null  object \n",
      " 3   homeFacts       377185 non-null  object \n",
      " 4   fireplace       103115 non-null  object \n",
      " 5   schools         377185 non-null  object \n",
      " 6   sqft            362944 non-null  object \n",
      " 7   beds            285903 non-null  object \n",
      " 8   state           377185 non-null  object \n",
      " 9   stories         226470 non-null  object \n",
      " 10  PrivatePool     40311 non-null   object \n",
      " 11  propertyType    342452 non-null  object \n",
      " 12  Price           374704 non-null  float64\n",
      " 13  Year built      314811 non-null  object \n",
      " 14  Remodeled year  151075 non-null  float64\n",
      " 15  Heating         267853 non-null  object \n",
      " 16  Cooling         253218 non-null  object \n",
      " 17  Parking         201765 non-null  object \n",
      " 18  lotsize         315730 non-null  object \n",
      " 19  Price/sqft      377185 non-null  float64\n",
      " 20  schRating       377185 non-null  int64  \n",
      "dtypes: float64(3), int64(1), object(17)\n",
      "memory usage: 60.4+ MB\n"
     ]
    }
   ],
   "source": [
    "data.info()"
   ]
  },
  {
   "cell_type": "markdown",
   "metadata": {},
   "source": [
    "## sqft"
   ]
  },
  {
   "cell_type": "code",
   "execution_count": 32,
   "metadata": {},
   "outputs": [],
   "source": [
    "#use Area data for filling NAs for sqft\n",
    "values=data['beds'][data.beds.str.contains('sqft')==True]\n",
    "valuesA=data['beds'][data.beds.str.contains('acres')==True]\n",
    "data['sqft'][data.beds.str.contains('sqft')==True]=values\n",
    "data['sqft'][data.beds.str.contains('acres')==True]=valuesA\n",
    "data[['beds','sqft']][(data.beds.str.contains('sqft|acres')==True)]\n",
    "data['beds'][data.beds.str.contains('sqft|arcres')==True]='None'"
   ]
  },
  {
   "cell_type": "code",
   "execution_count": 33,
   "metadata": {},
   "outputs": [],
   "source": [
    "data.sqft[data.sqft.str.contains(' sqft|,')==True]=data.sqft[data.sqft.str.contains(' sqft|,')==True].str.replace(' sqft','').str.replace(',','')\n",
    "data.sqft[data.sqft.str.contains('acre')==True]=data.sqft[data.sqft.str.contains('acre')==True].str.replace(' acres','').astype(float)*43560.04\n",
    "data.sqft[(data.sqft.str.contains('\\D')==True)&(data.sqft.isna()==False)]=data.sqft[(data.sqft.str.contains('\\D')==True)&(data.sqft.isna()==False)].str.replace('\\D','')\n",
    "#fill blank with mean of non blank\n",
    "data.sqft[(data.sqft.isna()==False)&(data.sqft=='')]=data.sqft[(data.sqft.isna()==False)&(data.sqft!='')].astype(float).mean()\n",
    "data.sqft[(data.sqft.isna()==False)]=data.sqft[(data.sqft.isna()==False)].astype(float)"
   ]
  },
  {
   "cell_type": "code",
   "execution_count": 34,
   "metadata": {},
   "outputs": [],
   "source": [
    "#Group data according to property type and take the average area for each property type for NA\n",
    "Area=data[['sqft','propertyType']]\n",
    "Area['sqft']=Area['sqft'][Area.sqft.isna()==False].astype(float)\n",
    "Area=Area[Area.sqft.isna()==False].groupby(by='propertyType').mean().reset_index()\n",
    "Area.sqft=Area.sqft.round(decimals=0)\n",
    "data.sqft[data.sqft.isna()==True]=data[data.sqft.isna()==True].merge(Area, on='propertyType', how='left').sqft_y\n"
   ]
  },
  {
   "cell_type": "markdown",
   "metadata": {},
   "source": [
    "### Use Price, sqft and Price/sqft to fill na's"
   ]
  },
  {
   "cell_type": "code",
   "execution_count": 35,
   "metadata": {},
   "outputs": [],
   "source": [
    "#replace sqft nas with [Price]/[Price/sqft]\n",
    "data1=data[['Price/sqft','sqft','Price']][(data.sqft.isna()==True)&(data['Price/sqft'].isna()==False)&(data.Price.isna()==False)&(data['Price/sqft']!='none')]\n",
    "data1.sqft=data1.Price/data1['Price/sqft']\n",
    "data['sqft'].iloc[data1.index]=data1.sqft"
   ]
  },
  {
   "cell_type": "code",
   "execution_count": 36,
   "metadata": {},
   "outputs": [
    {
     "name": "stdout",
     "output_type": "stream",
     "text": [
      "<class 'pandas.core.frame.DataFrame'>\n",
      "RangeIndex: 377185 entries, 0 to 377184\n",
      "Data columns (total 21 columns):\n",
      " #   Column          Non-Null Count   Dtype  \n",
      "---  ------          --------------   -----  \n",
      " 0   status          337267 non-null  object \n",
      " 1   private pool    4181 non-null    object \n",
      " 2   baths           270847 non-null  object \n",
      " 3   homeFacts       377185 non-null  object \n",
      " 4   fireplace       103115 non-null  object \n",
      " 5   schools         377185 non-null  object \n",
      " 6   sqft            377065 non-null  object \n",
      " 7   beds            285903 non-null  object \n",
      " 8   state           377185 non-null  object \n",
      " 9   stories         226470 non-null  object \n",
      " 10  PrivatePool     40311 non-null   object \n",
      " 11  propertyType    342452 non-null  object \n",
      " 12  Price           366378 non-null  object \n",
      " 13  Year built      314811 non-null  object \n",
      " 14  Remodeled year  151075 non-null  float64\n",
      " 15  Heating         267853 non-null  object \n",
      " 16  Cooling         253218 non-null  object \n",
      " 17  Parking         201765 non-null  object \n",
      " 18  lotsize         315730 non-null  object \n",
      " 19  Price/sqft      377185 non-null  float64\n",
      " 20  schRating       377185 non-null  int64  \n",
      "dtypes: float64(2), int64(1), object(18)\n",
      "memory usage: 60.4+ MB\n"
     ]
    }
   ],
   "source": [
    "#replace Price nas with [sqft]*[Price/sqft]\n",
    "data1=data[['Price/sqft','sqft','Price']][((data.Price.isna()==True)&data.sqft.isna()==False)&(data['Price/sqft'].isna()==False)&(data['Price/sqft']!='none')]\n",
    "data1.Price=data1.sqft*data1['Price/sqft']\n",
    "data['Price'].iloc[data1.index]=data1.Price\n",
    "data.info()"
   ]
  },
  {
   "cell_type": "code",
   "execution_count": 37,
   "metadata": {},
   "outputs": [],
   "source": [
    "data.drop(['Price/sqft','lotsize'],axis=1,inplace=True)"
   ]
  },
  {
   "cell_type": "markdown",
   "metadata": {},
   "source": [
    "### Get rid of the rows where Price and sqft is NA"
   ]
  },
  {
   "cell_type": "code",
   "execution_count": 38,
   "metadata": {},
   "outputs": [],
   "source": [
    "data.dropna(subset=['sqft'],axis=0,inplace=True)\n",
    "data.dropna(subset=['Price'],axis=0,inplace=True)"
   ]
  },
  {
   "cell_type": "code",
   "execution_count": 39,
   "metadata": {},
   "outputs": [],
   "source": [
    "data.sqft=data.sqft.astype(float)\n",
    "data.Price=data.Price.astype(float)"
   ]
  },
  {
   "cell_type": "code",
   "execution_count": 40,
   "metadata": {},
   "outputs": [
    {
     "data": {
      "text/plain": [
       "count    3.663780e+05\n",
       "mean     1.983235e+06\n",
       "std      5.627604e+07\n",
       "min      0.000000e+00\n",
       "25%      5.125764e+03\n",
       "50%      8.503574e+03\n",
       "75%      1.273311e+04\n",
       "max      2.752820e+09\n",
       "Name: Price, dtype: float64"
      ]
     },
     "execution_count": 40,
     "metadata": {},
     "output_type": "execute_result"
    }
   ],
   "source": [
    "data.Price.describe()"
   ]
  },
  {
   "cell_type": "code",
   "execution_count": 41,
   "metadata": {},
   "outputs": [
    {
     "data": {
      "text/plain": [
       "(-2752820.293, 275282029.244]       0.998619\n",
       "(1376410146.219, 1651692175.463]    0.000319\n",
       "(1651692175.463, 1926974204.707]    0.000259\n",
       "(1101128116.976, 1376410146.219]    0.000216\n",
       "(825846087.732, 1101128116.976]     0.000158\n",
       "(1926974204.707, 2202256233.951]    0.000142\n",
       "(550564058.488, 825846087.732]      0.000104\n",
       "(275282029.244, 550564058.488]      0.000101\n",
       "(2202256233.951, 2477538263.195]    0.000063\n",
       "(2477538263.195, 2752820292.439]    0.000019\n",
       "Name: Price, dtype: float64"
      ]
     },
     "execution_count": 41,
     "metadata": {},
     "output_type": "execute_result"
    }
   ],
   "source": [
    "data.Price.value_counts(normalize=True,bins=10)"
   ]
  },
  {
   "cell_type": "code",
   "execution_count": 42,
   "metadata": {},
   "outputs": [
    {
     "data": {
      "text/plain": [
       "<matplotlib.axes._subplots.AxesSubplot at 0x19fba831f28>"
      ]
     },
     "execution_count": 42,
     "metadata": {},
     "output_type": "execute_result"
    },
    {
     "data": {
      "image/png": "[encoded data removed]",
      "text/plain": [
       "<Figure size 432x288 with 1 Axes>"
      ]
     },
     "metadata": {
      "needs_background": "light"
     },
     "output_type": "display_data"
    }
   ],
   "source": [
    "sns.distplot(np.log(data.Price[(data.Price >0)&(data.Price <=34500126672.528)]))"
   ]
  },
  {
   "cell_type": "code",
   "execution_count": 43,
   "metadata": {},
   "outputs": [],
   "source": [
    "#get rid of exceptions data\n",
    "data.drop(data.Price[(data.Price <=0)|(data.Price >34500126672.528)].index,axis=0,inplace=True)"
   ]
  },
  {
   "cell_type": "code",
   "execution_count": 44,
   "metadata": {},
   "outputs": [],
   "source": [
    "#normalizing Price\n",
    "data.Price=np.log(data.Price)"
   ]
  },
  {
   "cell_type": "code",
   "execution_count": 45,
   "metadata": {},
   "outputs": [],
   "source": [
    "#data.to_csv('dataintermediate.csv',index=False)\n",
    "saveData(data)"
   ]
  },
  {
   "cell_type": "code",
   "execution_count": 46,
   "metadata": {},
   "outputs": [],
   "source": [
    "data=pd.read_csv('dataintermediate.csv')"
   ]
  },
  {
   "cell_type": "markdown",
   "metadata": {},
   "source": [
    "## Year built and remodeled"
   ]
  },
  {
   "cell_type": "code",
   "execution_count": 47,
   "metadata": {},
   "outputs": [
    {
     "name": "stdout",
     "output_type": "stream",
     "text": [
      "<class 'pandas.core.frame.DataFrame'>\n",
      "RangeIndex: 310021 entries, 0 to 310020\n",
      "Data columns (total 19 columns):\n",
      " #   Column          Non-Null Count   Dtype  \n",
      "---  ------          --------------   -----  \n",
      " 0   status          279884 non-null  object \n",
      " 1   private pool    3721 non-null    object \n",
      " 2   baths           249213 non-null  object \n",
      " 3   homeFacts       310021 non-null  object \n",
      " 4   fireplace       98286 non-null   object \n",
      " 5   schools         310021 non-null  object \n",
      " 6   sqft            310021 non-null  float64\n",
      " 7   beds            261396 non-null  object \n",
      " 8   state           310021 non-null  object \n",
      " 9   stories         211796 non-null  object \n",
      " 10  PrivatePool     38521 non-null   object \n",
      " 11  propertyType    293227 non-null  object \n",
      " 12  Price           310021 non-null  float64\n",
      " 13  Year built      292469 non-null  object \n",
      " 14  Remodeled year  140359 non-null  float64\n",
      " 15  Heating         246349 non-null  object \n",
      " 16  Cooling         238643 non-null  object \n",
      " 17  Parking         186871 non-null  object \n",
      " 18  schRating       310021 non-null  int64  \n",
      "dtypes: float64(3), int64(1), object(15)\n",
      "memory usage: 44.9+ MB\n"
     ]
    }
   ],
   "source": [
    "data=pd.read_csv('dataintermediate.csv')\n",
    "data.info()"
   ]
  },
  {
   "cell_type": "code",
   "execution_count": 48,
   "metadata": {},
   "outputs": [],
   "source": [
    "#put indexes of str and num values in to variables\n",
    "stri=data['Year built'][data['Year built'].str.contains('\\D')==True].index\n",
    "numi=data['Year built'][data['Year built'].str.contains('\\D')==False].index"
   ]
  },
  {
   "cell_type": "code",
   "execution_count": 49,
   "metadata": {},
   "outputs": [],
   "source": [
    "#replace exeptions where there is no sence (smaller than 0 or bigger than 2020) by No Data\n",
    "iyearexp=data['Year built'].iloc[numi].astype('int64')[(data['Year built'].iloc[numi].astype('int64')<0)|(data['Year built'].iloc[numi].astype('int64')>2020)].index\n",
    "data['Year built'].iloc[iyearexp]='No Data'\n",
    "numi=data['Year built'][data['Year built'].str.contains('\\D')==False].index\n",
    "stri=data['Year built'][data['Year built'].str.contains('\\D')==True].index"
   ]
  },
  {
   "cell_type": "code",
   "execution_count": 50,
   "metadata": {},
   "outputs": [
    {
     "data": {
      "image/png": "[encoded data removed]",
      "text/plain": [
       "<Figure size 432x288 with 1 Axes>"
      ]
     },
     "metadata": {
      "needs_background": "light"
     },
     "output_type": "display_data"
    }
   ],
   "source": [
    "#Check if there are more exeptions\n",
    "sns.boxplot(data['Year built'].iloc[numi].astype('int64'), color='yellow');"
   ]
  },
  {
   "cell_type": "code",
   "execution_count": 51,
   "metadata": {},
   "outputs": [],
   "source": [
    "#Drop more exeptions values that smaller than 1500 -> update number indexes value\n",
    "iyearexp=data['Year built'].iloc[numi].astype('int64')[(data['Year built'].iloc[numi].astype('int64')<1500)|(data['Year built'].iloc[numi].astype('int64')>2020)].index\n",
    "data['Year built'].iloc[iyearexp]='No Data'\n",
    "numi=data['Year built'][data['Year built'].str.contains('\\D')==False].index\n",
    "stri=data['Year built'][data['Year built'].str.contains('\\D')==True].index"
   ]
  },
  {
   "cell_type": "code",
   "execution_count": 52,
   "metadata": {},
   "outputs": [
    {
     "data": {
      "image/png": "[encoded data removed]",
      "text/plain": [
       "<Figure size 432x288 with 1 Axes>"
      ]
     },
     "metadata": {
      "needs_background": "light"
     },
     "output_type": "display_data"
    }
   ],
   "source": [
    "sns.boxplot(data['Year built'].iloc[numi].astype('int64'), color='yellow');"
   ]
  },
  {
   "cell_type": "code",
   "execution_count": 53,
   "metadata": {},
   "outputs": [],
   "source": [
    "#convert numeric data to integer\n",
    "data['Year built'].iloc[numi]=data['Year built'].iloc[numi].astype(int)"
   ]
  },
  {
   "cell_type": "code",
   "execution_count": 54,
   "metadata": {},
   "outputs": [],
   "source": [
    "#replace string data to mean of numeric data\n",
    "data['Year built'].iloc[stri]=int(round(data['Year built'].iloc[numi].mean(),0))"
   ]
  },
  {
   "cell_type": "code",
   "execution_count": 55,
   "metadata": {},
   "outputs": [],
   "source": [
    "#fill nas with the mean of numeric values\n",
    "data['Year built'].fillna(int(round(data['Year built'].iloc[numi].mean(),0)),inplace=True)"
   ]
  },
  {
   "cell_type": "code",
   "execution_count": 56,
   "metadata": {},
   "outputs": [
    {
     "data": {
      "text/plain": [
       "count    310021.000000\n",
       "mean       1980.172621\n",
       "std          32.364232\n",
       "min        1700.000000\n",
       "25%        1960.000000\n",
       "50%        1983.000000\n",
       "75%        2007.000000\n",
       "max        2020.000000\n",
       "Name: Year built, dtype: float64"
      ]
     },
     "execution_count": 56,
     "metadata": {},
     "output_type": "execute_result"
    }
   ],
   "source": [
    "data['Year built'].describe()"
   ]
  },
  {
   "cell_type": "code",
   "execution_count": 57,
   "metadata": {},
   "outputs": [],
   "source": [
    "data['Remodeled year'].fillna(data['Remodeled year'].notnull().mean(),inplace=True)\n",
    "data['Remodeled year']=data['Remodeled year'].astype(int)"
   ]
  },
  {
   "cell_type": "markdown",
   "metadata": {},
   "source": [
    "### Status"
   ]
  },
  {
   "cell_type": "code",
   "execution_count": 58,
   "metadata": {},
   "outputs": [
    {
     "data": {
      "text/html": [
       "<div>\n",
       "<style scoped>\n",
       "    .dataframe tbody tr th:only-of-type {\n",
       "        vertical-align: middle;\n",
       "    }\n",
       "\n",
       "    .dataframe tbody tr th {\n",
       "        vertical-align: top;\n",
       "    }\n",
       "\n",
       "    .dataframe thead th {\n",
       "        text-align: right;\n",
       "    }\n",
       "</style>\n",
       "<table border=\"1\" class=\"dataframe\">\n",
       "  <thead>\n",
       "    <tr style=\"text-align: right;\">\n",
       "      <th></th>\n",
       "      <th>index</th>\n",
       "      <th>status</th>\n",
       "    </tr>\n",
       "  </thead>\n",
       "  <tbody>\n",
       "    <tr>\n",
       "      <th>0</th>\n",
       "      <td>for sale</td>\n",
       "      <td>0.637989</td>\n",
       "    </tr>\n",
       "    <tr>\n",
       "      <th>1</th>\n",
       "      <td>active</td>\n",
       "      <td>0.282321</td>\n",
       "    </tr>\n",
       "    <tr>\n",
       "      <th>2</th>\n",
       "      <td>new construction</td>\n",
       "      <td>0.018300</td>\n",
       "    </tr>\n",
       "    <tr>\n",
       "      <th>3</th>\n",
       "      <td>foreclosure</td>\n",
       "      <td>0.015503</td>\n",
       "    </tr>\n",
       "    <tr>\n",
       "      <th>4</th>\n",
       "      <td>pending</td>\n",
       "      <td>0.015092</td>\n",
       "    </tr>\n",
       "    <tr>\n",
       "      <th>...</th>\n",
       "      <td>...</td>\n",
       "      <td>...</td>\n",
       "    </tr>\n",
       "    <tr>\n",
       "      <th>136</th>\n",
       "      <td>under contract taking back up offers</td>\n",
       "      <td>0.000004</td>\n",
       "    </tr>\n",
       "    <tr>\n",
       "      <th>137</th>\n",
       "      <td>pending, continue to show</td>\n",
       "      <td>0.000004</td>\n",
       "    </tr>\n",
       "    <tr>\n",
       "      <th>138</th>\n",
       "      <td>reactivated</td>\n",
       "      <td>0.000004</td>\n",
       "    </tr>\n",
       "    <tr>\n",
       "      <th>139</th>\n",
       "      <td>contingent - sale of home</td>\n",
       "      <td>0.000004</td>\n",
       "    </tr>\n",
       "    <tr>\n",
       "      <th>140</th>\n",
       "      <td>coming soon: nov 23.</td>\n",
       "      <td>0.000004</td>\n",
       "    </tr>\n",
       "  </tbody>\n",
       "</table>\n",
       "<p>141 rows × 2 columns</p>\n",
       "</div>"
      ],
      "text/plain": [
       "                                    index    status\n",
       "0                                for sale  0.637989\n",
       "1                                  active  0.282321\n",
       "2                        new construction  0.018300\n",
       "3                             foreclosure  0.015503\n",
       "4                                 pending  0.015092\n",
       "..                                    ...       ...\n",
       "136  under contract taking back up offers  0.000004\n",
       "137             pending, continue to show  0.000004\n",
       "138                           reactivated  0.000004\n",
       "139             contingent - sale of home  0.000004\n",
       "140                  coming soon: nov 23.  0.000004\n",
       "\n",
       "[141 rows x 2 columns]"
      ]
     },
     "execution_count": 58,
     "metadata": {},
     "output_type": "execute_result"
    }
   ],
   "source": [
    "data.status=data.status.str.lower()\n",
    "status=data.status\n",
    "status=status.value_counts(normalize=True).reset_index()\n",
    "status\n",
    "#according to next summary I would use only for sale, active, accepted for status(that are 91% of overall amount), the rest will be dropped"
   ]
  },
  {
   "cell_type": "code",
   "execution_count": 59,
   "metadata": {},
   "outputs": [
    {
     "data": {
      "text/html": [
       "<div>\n",
       "<style scoped>\n",
       "    .dataframe tbody tr th:only-of-type {\n",
       "        vertical-align: middle;\n",
       "    }\n",
       "\n",
       "    .dataframe tbody tr th {\n",
       "        vertical-align: top;\n",
       "    }\n",
       "\n",
       "    .dataframe thead th {\n",
       "        text-align: right;\n",
       "    }\n",
       "</style>\n",
       "<table border=\"1\" class=\"dataframe\">\n",
       "  <thead>\n",
       "    <tr style=\"text-align: right;\">\n",
       "      <th></th>\n",
       "      <th>newStatus</th>\n",
       "      <th>status</th>\n",
       "    </tr>\n",
       "  </thead>\n",
       "  <tbody>\n",
       "    <tr>\n",
       "      <th>0</th>\n",
       "      <td>1</td>\n",
       "      <td>0.924769</td>\n",
       "    </tr>\n",
       "    <tr>\n",
       "      <th>1</th>\n",
       "      <td>apartment for rent</td>\n",
       "      <td>0.000021</td>\n",
       "    </tr>\n",
       "    <tr>\n",
       "      <th>2</th>\n",
       "      <td>auction</td>\n",
       "      <td>0.000029</td>\n",
       "    </tr>\n",
       "    <tr>\n",
       "      <th>3</th>\n",
       "      <td>back on market</td>\n",
       "      <td>0.000372</td>\n",
       "    </tr>\n",
       "    <tr>\n",
       "      <th>4</th>\n",
       "      <td>backup contract</td>\n",
       "      <td>0.000021</td>\n",
       "    </tr>\n",
       "    <tr>\n",
       "      <th>...</th>\n",
       "      <td>...</td>\n",
       "      <td>...</td>\n",
       "    </tr>\n",
       "    <tr>\n",
       "      <th>119</th>\n",
       "      <td>under contract - show</td>\n",
       "      <td>0.000029</td>\n",
       "    </tr>\n",
       "    <tr>\n",
       "      <th>120</th>\n",
       "      <td>under contract backups</td>\n",
       "      <td>0.000890</td>\n",
       "    </tr>\n",
       "    <tr>\n",
       "      <th>121</th>\n",
       "      <td>under contract show</td>\n",
       "      <td>0.003805</td>\n",
       "    </tr>\n",
       "    <tr>\n",
       "      <th>122</th>\n",
       "      <td>under contract taking back up offers</td>\n",
       "      <td>0.000004</td>\n",
       "    </tr>\n",
       "    <tr>\n",
       "      <th>123</th>\n",
       "      <td>under contract w/ bckp</td>\n",
       "      <td>0.000004</td>\n",
       "    </tr>\n",
       "  </tbody>\n",
       "</table>\n",
       "<p>124 rows × 2 columns</p>\n",
       "</div>"
      ],
      "text/plain": [
       "                                newStatus    status\n",
       "0                                       1  0.924769\n",
       "1                      apartment for rent  0.000021\n",
       "2                                 auction  0.000029\n",
       "3                          back on market  0.000372\n",
       "4                         backup contract  0.000021\n",
       "..                                    ...       ...\n",
       "119                 under contract - show  0.000029\n",
       "120                under contract backups  0.000890\n",
       "121                   under contract show  0.003805\n",
       "122  under contract taking back up offers  0.000004\n",
       "123                under contract w/ bckp  0.000004\n",
       "\n",
       "[124 rows x 2 columns]"
      ]
     },
     "execution_count": 59,
     "metadata": {},
     "output_type": "execute_result"
    }
   ],
   "source": [
    "strlist=['for sale','active','accepted']\n",
    "status['newStatus']=status['index'].apply(lambda x: substringExists(x,strlist))\n",
    "nstatus=status.groupby('newStatus').sum().reset_index()\n",
    "nstatus"
   ]
  },
  {
   "cell_type": "code",
   "execution_count": 60,
   "metadata": {},
   "outputs": [
    {
     "data": {
      "text/plain": [
       "['new construction',\n",
       " 'foreclosure',\n",
       " 'pending',\n",
       " 'p',\n",
       " 'under contract show',\n",
       " 'under contract   showing',\n",
       " 'under contract',\n",
       " 'contingent',\n",
       " 'new',\n",
       " 'price change',\n",
       " 'recently sold',\n",
       " 'under contract backups',\n",
       " 'contingent finance and inspection',\n",
       " 'pending continue to show',\n",
       " 'option pending',\n",
       " 'back on market',\n",
       " 'contingent show',\n",
       " 'pending taking backups',\n",
       " 'option contract',\n",
       " 'foreclosed',\n",
       " 'pending with contingencies',\n",
       " 'c',\n",
       " 'pi',\n",
       " 'contract p',\n",
       " 'p pending sale',\n",
       " 'contract contingent on buyer sale',\n",
       " 'c continue show',\n",
       " 'pending - taking backups',\n",
       " 'closed',\n",
       " 'pending inspection',\n",
       " 'contingent take backup',\n",
       " 'offer pending signature',\n",
       " 'pending in',\n",
       " 'contingent   show',\n",
       " 'coming soon: nov 29.',\n",
       " 'listing extended',\n",
       " 'pending w/insp finance',\n",
       " 'contingency contract',\n",
       " 'contingent escape',\n",
       " 'ct insp - inspection contingency',\n",
       " 'u under contract',\n",
       " 'auction',\n",
       " 'coming soon: dec 6.',\n",
       " 'under contract - show',\n",
       " 'coming soon: dec 5.',\n",
       " 'backup contract',\n",
       " 'coming soon: dec 4.',\n",
       " 'apartment for rent',\n",
       " 'contingency 48 hr (+/ )',\n",
       " 'contingent lien holder release',\n",
       " 'ct',\n",
       " 'coming soon: nov 27.',\n",
       " 'pending   continue to show   financing',\n",
       " 'coming soon: dec 13.',\n",
       " 'coming soon: nov 28.',\n",
       " 'coming soon: dec 10.',\n",
       " 'condo for rent',\n",
       " 'coming soon: nov 30.',\n",
       " 'coming soon: dec 3.',\n",
       " 'coming soon: dec 7.',\n",
       " 'coming soon: nov 19.',\n",
       " 'pending offer approval',\n",
       " 'contingent   release',\n",
       " 'coming soon: dec 2.',\n",
       " 'coming soon: dec 9.',\n",
       " 'lease/purchase pending',\n",
       " 'coming soon: dec 14.',\n",
       " 'pending   continue to show',\n",
       " 'coming soon: nov 13.',\n",
       " 'pending (do not show)',\n",
       " 'pending w/ cont.',\n",
       " 'pf',\n",
       " 'contingent   foreclosure',\n",
       " 'under contract - no show',\n",
       " 'coming soon: dec 18.',\n",
       " 're activated',\n",
       " 'pending - continue to show',\n",
       " 'ps',\n",
       " 'coming soon: dec 16.',\n",
       " 'coming soon: oct 30.',\n",
       " 'pending fe',\n",
       " 'uc continue to show',\n",
       " 'contingent - financing',\n",
       " 'coming soon: dec 20.',\n",
       " 'coming soon: nov 22.',\n",
       " 'coming soon: dec 24.',\n",
       " 'coming soon: dec 11.',\n",
       " 'coming soon: nov 21.',\n",
       " 'coming soon: nov 14.',\n",
       " 'coming soon: nov 11.',\n",
       " 'coming soon: dec 27.',\n",
       " 'under contract w/ bckp',\n",
       " 'coming soon: dec 1.',\n",
       " 'pending bring backup',\n",
       " 'pending sh',\n",
       " 'pending - backup offer requested',\n",
       " 'coming soon: dec 15.',\n",
       " 'coming soon: dec 23.',\n",
       " 'pending w/escape clause',\n",
       " 'coming soon: nov 17.',\n",
       " 'conditional contract',\n",
       " 'contingent   no show',\n",
       " 'lease/purchase',\n",
       " 'coming soon: oct 29.',\n",
       " 'coming soon: nov 5.',\n",
       " 'pending take backups',\n",
       " 'coming soon: dec 12.',\n",
       " 'coming soon: nov 12.',\n",
       " 'coming soon: oct 21.',\n",
       " 'pending w/backup wanted',\n",
       " 'coming soon: nov 26.',\n",
       " 'coming soon: nov 8.',\n",
       " 'sold: $15,000',\n",
       " 'conting accpt backups',\n",
       " 'coming soon: oct 24.',\n",
       " 'coming soon: dec 25.',\n",
       " 'coming soon: nov 25.',\n",
       " 'pending backups wanted',\n",
       " 'under contract taking back up offers',\n",
       " 'pending, continue to show',\n",
       " 'reactivated',\n",
       " 'contingent - sale of home',\n",
       " 'coming soon: nov 23.']"
      ]
     },
     "execution_count": 60,
     "metadata": {},
     "output_type": "execute_result"
    }
   ],
   "source": [
    "#create list of statuses that are not relevant and then drop them from df\n",
    "nstatus=status[status['newStatus']!=1]['newStatus']\n",
    "nstatus.tolist()"
   ]
  },
  {
   "cell_type": "code",
   "execution_count": 61,
   "metadata": {},
   "outputs": [
    {
     "data": {
      "text/html": [
       "<div>\n",
       "<style scoped>\n",
       "    .dataframe tbody tr th:only-of-type {\n",
       "        vertical-align: middle;\n",
       "    }\n",
       "\n",
       "    .dataframe tbody tr th {\n",
       "        vertical-align: top;\n",
       "    }\n",
       "\n",
       "    .dataframe thead th {\n",
       "        text-align: right;\n",
       "    }\n",
       "</style>\n",
       "<table border=\"1\" class=\"dataframe\">\n",
       "  <thead>\n",
       "    <tr style=\"text-align: right;\">\n",
       "      <th></th>\n",
       "      <th>private pool</th>\n",
       "      <th>baths</th>\n",
       "      <th>homeFacts</th>\n",
       "      <th>fireplace</th>\n",
       "      <th>schools</th>\n",
       "      <th>sqft</th>\n",
       "      <th>beds</th>\n",
       "      <th>state</th>\n",
       "      <th>stories</th>\n",
       "      <th>PrivatePool</th>\n",
       "      <th>propertyType</th>\n",
       "      <th>Price</th>\n",
       "      <th>Year built</th>\n",
       "      <th>Remodeled year</th>\n",
       "      <th>Heating</th>\n",
       "      <th>Cooling</th>\n",
       "      <th>Parking</th>\n",
       "      <th>schRating</th>\n",
       "    </tr>\n",
       "  </thead>\n",
       "  <tbody>\n",
       "    <tr>\n",
       "      <th>0</th>\n",
       "      <td>NaN</td>\n",
       "      <td>3.5</td>\n",
       "      <td>[{'factValue': '2019', 'factLabel': 'Year buil...</td>\n",
       "      <td>Gas Logs</td>\n",
       "      <td>{'rating': ['4', '4', '7', 'NR', '4', '7', 'NR...</td>\n",
       "      <td>2900.0</td>\n",
       "      <td>4</td>\n",
       "      <td>NC</td>\n",
       "      <td>NaN</td>\n",
       "      <td>NaN</td>\n",
       "      <td>Single Family Home</td>\n",
       "      <td>9.575848</td>\n",
       "      <td>2019</td>\n",
       "      <td>0</td>\n",
       "      <td>Central A/C, Heat Pump</td>\n",
       "      <td>NaN</td>\n",
       "      <td>NaN</td>\n",
       "      <td>7</td>\n",
       "    </tr>\n",
       "    <tr>\n",
       "      <th>1</th>\n",
       "      <td>NaN</td>\n",
       "      <td>3 Baths</td>\n",
       "      <td>[{'factValue': '2019', 'factLabel': 'Year buil...</td>\n",
       "      <td>NaN</td>\n",
       "      <td>{'rating': ['4/10', 'None/10', '4/10'], 'data'...</td>\n",
       "      <td>1947.0</td>\n",
       "      <td>3 Beds</td>\n",
       "      <td>WA</td>\n",
       "      <td>2.0</td>\n",
       "      <td>NaN</td>\n",
       "      <td>single-family home</td>\n",
       "      <td>9.197170</td>\n",
       "      <td>2019</td>\n",
       "      <td>0</td>\n",
       "      <td>NaN</td>\n",
       "      <td>NaN</td>\n",
       "      <td>NaN</td>\n",
       "      <td>4</td>\n",
       "    </tr>\n",
       "    <tr>\n",
       "      <th>2</th>\n",
       "      <td>NaN</td>\n",
       "      <td>2 Baths</td>\n",
       "      <td>[{'factValue': '1961', 'factLabel': 'Year buil...</td>\n",
       "      <td>yes</td>\n",
       "      <td>{'rating': ['8/10', '4/10', '8/10'], 'data': {...</td>\n",
       "      <td>3000.0</td>\n",
       "      <td>3 Beds</td>\n",
       "      <td>CA</td>\n",
       "      <td>1.0</td>\n",
       "      <td>yes</td>\n",
       "      <td>single-family home</td>\n",
       "      <td>9.933841</td>\n",
       "      <td>1961</td>\n",
       "      <td>1967</td>\n",
       "      <td>Forced Air</td>\n",
       "      <td>Central</td>\n",
       "      <td>Attached Garage</td>\n",
       "      <td>8</td>\n",
       "    </tr>\n",
       "    <tr>\n",
       "      <th>3</th>\n",
       "      <td>NaN</td>\n",
       "      <td>8 Baths</td>\n",
       "      <td>[{'factValue': '2006', 'factLabel': 'Year buil...</td>\n",
       "      <td>yes</td>\n",
       "      <td>{'rating': ['9/10', '9/10', '10/10', '9/10'], ...</td>\n",
       "      <td>6457.0</td>\n",
       "      <td>5 Beds</td>\n",
       "      <td>TX</td>\n",
       "      <td>3.0</td>\n",
       "      <td>NaN</td>\n",
       "      <td>single-family home</td>\n",
       "      <td>10.550615</td>\n",
       "      <td>2006</td>\n",
       "      <td>2006</td>\n",
       "      <td>Forced Air</td>\n",
       "      <td>Central</td>\n",
       "      <td>Detached Garage</td>\n",
       "      <td>10</td>\n",
       "    </tr>\n",
       "    <tr>\n",
       "      <th>4</th>\n",
       "      <td>NaN</td>\n",
       "      <td>NaN</td>\n",
       "      <td>[{'factValue': '1920', 'factLabel': 'Year buil...</td>\n",
       "      <td>NaN</td>\n",
       "      <td>{'rating': [], 'data': {'Distance': [], 'Grade...</td>\n",
       "      <td>897.0</td>\n",
       "      <td>2 Beds</td>\n",
       "      <td>PA</td>\n",
       "      <td>2.0</td>\n",
       "      <td>NaN</td>\n",
       "      <td>townhouse</td>\n",
       "      <td>8.494862</td>\n",
       "      <td>1920</td>\n",
       "      <td>0</td>\n",
       "      <td>Forced Air</td>\n",
       "      <td>Central</td>\n",
       "      <td>NaN</td>\n",
       "      <td>0</td>\n",
       "    </tr>\n",
       "  </tbody>\n",
       "</table>\n",
       "</div>"
      ],
      "text/plain": [
       "  private pool    baths                                          homeFacts  \\\n",
       "0          NaN      3.5  [{'factValue': '2019', 'factLabel': 'Year buil...   \n",
       "1          NaN  3 Baths  [{'factValue': '2019', 'factLabel': 'Year buil...   \n",
       "2          NaN  2 Baths  [{'factValue': '1961', 'factLabel': 'Year buil...   \n",
       "3          NaN  8 Baths  [{'factValue': '2006', 'factLabel': 'Year buil...   \n",
       "4          NaN      NaN  [{'factValue': '1920', 'factLabel': 'Year buil...   \n",
       "\n",
       "  fireplace                                            schools    sqft  \\\n",
       "0  Gas Logs  {'rating': ['4', '4', '7', 'NR', '4', '7', 'NR...  2900.0   \n",
       "1       NaN  {'rating': ['4/10', 'None/10', '4/10'], 'data'...  1947.0   \n",
       "2       yes  {'rating': ['8/10', '4/10', '8/10'], 'data': {...  3000.0   \n",
       "3       yes  {'rating': ['9/10', '9/10', '10/10', '9/10'], ...  6457.0   \n",
       "4       NaN  {'rating': [], 'data': {'Distance': [], 'Grade...   897.0   \n",
       "\n",
       "     beds state stories PrivatePool        propertyType      Price  \\\n",
       "0       4    NC     NaN         NaN  Single Family Home   9.575848   \n",
       "1  3 Beds    WA     2.0         NaN  single-family home   9.197170   \n",
       "2  3 Beds    CA     1.0         yes  single-family home   9.933841   \n",
       "3  5 Beds    TX     3.0         NaN  single-family home  10.550615   \n",
       "4  2 Beds    PA     2.0         NaN           townhouse   8.494862   \n",
       "\n",
       "   Year built  Remodeled year                 Heating  Cooling  \\\n",
       "0        2019               0  Central A/C, Heat Pump      NaN   \n",
       "1        2019               0                     NaN      NaN   \n",
       "2        1961            1967              Forced Air  Central   \n",
       "3        2006            2006              Forced Air  Central   \n",
       "4        1920               0              Forced Air  Central   \n",
       "\n",
       "           Parking  schRating  \n",
       "0              NaN          7  \n",
       "1              NaN          4  \n",
       "2  Attached Garage          8  \n",
       "3  Detached Garage         10  \n",
       "4              NaN          0  "
      ]
     },
     "execution_count": 61,
     "metadata": {},
     "output_type": "execute_result"
    }
   ],
   "source": [
    "data.drop(data[data['status'].isin(nstatus)==True].index.values.tolist(),inplace=True)\n",
    "data=data.reset_index()\n",
    "data.drop(['index'],axis=1,inplace=True)\n",
    "data.drop(['status'],axis=1,inplace=True)\n",
    "data.head()"
   ]
  },
  {
   "cell_type": "markdown",
   "metadata": {},
   "source": [
    "### Private Pool"
   ]
  },
  {
   "cell_type": "code",
   "execution_count": 62,
   "metadata": {},
   "outputs": [],
   "source": [
    "data['PrivatePool']=data['PrivatePool'].str.lower()\n",
    "data['private pool']=data['private pool'].str.lower()"
   ]
  },
  {
   "cell_type": "code",
   "execution_count": 63,
   "metadata": {},
   "outputs": [],
   "source": [
    "# Replace 'yes' with 1 and unufy \"private pool\" and PrivatePool and replace NA with 0\n",
    "data[['private pool','PrivatePool']]=data[['private pool','PrivatePool']].replace(to_replace=['yes'],value=1)\n",
    "data['PrivatePool']=data['PrivatePool'].fillna(data['private pool'])\n",
    "data['PrivatePool']=data['PrivatePool'].fillna(0)\n",
    "data=data.drop(['private pool'],axis=1)\n"
   ]
  },
  {
   "cell_type": "code",
   "execution_count": 64,
   "metadata": {},
   "outputs": [
    {
     "data": {
      "text/plain": [
       "0    247446\n",
       "1     41519\n",
       "Name: PrivatePool, dtype: int64"
      ]
     },
     "execution_count": 64,
     "metadata": {},
     "output_type": "execute_result"
    }
   ],
   "source": [
    "data.PrivatePool=data.PrivatePool.astype(int)\n",
    "data.PrivatePool.value_counts()"
   ]
  },
  {
   "cell_type": "code",
   "execution_count": 65,
   "metadata": {},
   "outputs": [
    {
     "data": {
      "text/html": [
       "<div>\n",
       "<style scoped>\n",
       "    .dataframe tbody tr th:only-of-type {\n",
       "        vertical-align: middle;\n",
       "    }\n",
       "\n",
       "    .dataframe tbody tr th {\n",
       "        vertical-align: top;\n",
       "    }\n",
       "\n",
       "    .dataframe thead th {\n",
       "        text-align: right;\n",
       "    }\n",
       "</style>\n",
       "<table border=\"1\" class=\"dataframe\">\n",
       "  <thead>\n",
       "    <tr style=\"text-align: right;\">\n",
       "      <th></th>\n",
       "      <th>baths</th>\n",
       "      <th>homeFacts</th>\n",
       "      <th>fireplace</th>\n",
       "      <th>schools</th>\n",
       "      <th>sqft</th>\n",
       "      <th>beds</th>\n",
       "      <th>state</th>\n",
       "      <th>stories</th>\n",
       "      <th>PrivatePool</th>\n",
       "      <th>propertyType</th>\n",
       "      <th>Price</th>\n",
       "      <th>Year built</th>\n",
       "      <th>Remodeled year</th>\n",
       "      <th>Heating</th>\n",
       "      <th>Cooling</th>\n",
       "      <th>Parking</th>\n",
       "      <th>schRating</th>\n",
       "    </tr>\n",
       "  </thead>\n",
       "  <tbody>\n",
       "    <tr>\n",
       "      <th>0</th>\n",
       "      <td>3.5</td>\n",
       "      <td>[{'factValue': '2019', 'factLabel': 'Year buil...</td>\n",
       "      <td>Gas Logs</td>\n",
       "      <td>{'rating': ['4', '4', '7', 'NR', '4', '7', 'NR...</td>\n",
       "      <td>2900.0</td>\n",
       "      <td>4</td>\n",
       "      <td>NC</td>\n",
       "      <td>NaN</td>\n",
       "      <td>0</td>\n",
       "      <td>Single Family Home</td>\n",
       "      <td>9.575848</td>\n",
       "      <td>2019</td>\n",
       "      <td>0</td>\n",
       "      <td>Central A/C, Heat Pump</td>\n",
       "      <td>NaN</td>\n",
       "      <td>NaN</td>\n",
       "      <td>7</td>\n",
       "    </tr>\n",
       "    <tr>\n",
       "      <th>1</th>\n",
       "      <td>3 Baths</td>\n",
       "      <td>[{'factValue': '2019', 'factLabel': 'Year buil...</td>\n",
       "      <td>NaN</td>\n",
       "      <td>{'rating': ['4/10', 'None/10', '4/10'], 'data'...</td>\n",
       "      <td>1947.0</td>\n",
       "      <td>3 Beds</td>\n",
       "      <td>WA</td>\n",
       "      <td>2.0</td>\n",
       "      <td>0</td>\n",
       "      <td>single-family home</td>\n",
       "      <td>9.197170</td>\n",
       "      <td>2019</td>\n",
       "      <td>0</td>\n",
       "      <td>NaN</td>\n",
       "      <td>NaN</td>\n",
       "      <td>NaN</td>\n",
       "      <td>4</td>\n",
       "    </tr>\n",
       "    <tr>\n",
       "      <th>2</th>\n",
       "      <td>2 Baths</td>\n",
       "      <td>[{'factValue': '1961', 'factLabel': 'Year buil...</td>\n",
       "      <td>yes</td>\n",
       "      <td>{'rating': ['8/10', '4/10', '8/10'], 'data': {...</td>\n",
       "      <td>3000.0</td>\n",
       "      <td>3 Beds</td>\n",
       "      <td>CA</td>\n",
       "      <td>1.0</td>\n",
       "      <td>1</td>\n",
       "      <td>single-family home</td>\n",
       "      <td>9.933841</td>\n",
       "      <td>1961</td>\n",
       "      <td>1967</td>\n",
       "      <td>Forced Air</td>\n",
       "      <td>Central</td>\n",
       "      <td>Attached Garage</td>\n",
       "      <td>8</td>\n",
       "    </tr>\n",
       "    <tr>\n",
       "      <th>3</th>\n",
       "      <td>8 Baths</td>\n",
       "      <td>[{'factValue': '2006', 'factLabel': 'Year buil...</td>\n",
       "      <td>yes</td>\n",
       "      <td>{'rating': ['9/10', '9/10', '10/10', '9/10'], ...</td>\n",
       "      <td>6457.0</td>\n",
       "      <td>5 Beds</td>\n",
       "      <td>TX</td>\n",
       "      <td>3.0</td>\n",
       "      <td>0</td>\n",
       "      <td>single-family home</td>\n",
       "      <td>10.550615</td>\n",
       "      <td>2006</td>\n",
       "      <td>2006</td>\n",
       "      <td>Forced Air</td>\n",
       "      <td>Central</td>\n",
       "      <td>Detached Garage</td>\n",
       "      <td>10</td>\n",
       "    </tr>\n",
       "    <tr>\n",
       "      <th>4</th>\n",
       "      <td>NaN</td>\n",
       "      <td>[{'factValue': '1920', 'factLabel': 'Year buil...</td>\n",
       "      <td>NaN</td>\n",
       "      <td>{'rating': [], 'data': {'Distance': [], 'Grade...</td>\n",
       "      <td>897.0</td>\n",
       "      <td>2 Beds</td>\n",
       "      <td>PA</td>\n",
       "      <td>2.0</td>\n",
       "      <td>0</td>\n",
       "      <td>townhouse</td>\n",
       "      <td>8.494862</td>\n",
       "      <td>1920</td>\n",
       "      <td>0</td>\n",
       "      <td>Forced Air</td>\n",
       "      <td>Central</td>\n",
       "      <td>NaN</td>\n",
       "      <td>0</td>\n",
       "    </tr>\n",
       "  </tbody>\n",
       "</table>\n",
       "</div>"
      ],
      "text/plain": [
       "     baths                                          homeFacts fireplace  \\\n",
       "0      3.5  [{'factValue': '2019', 'factLabel': 'Year buil...  Gas Logs   \n",
       "1  3 Baths  [{'factValue': '2019', 'factLabel': 'Year buil...       NaN   \n",
       "2  2 Baths  [{'factValue': '1961', 'factLabel': 'Year buil...       yes   \n",
       "3  8 Baths  [{'factValue': '2006', 'factLabel': 'Year buil...       yes   \n",
       "4      NaN  [{'factValue': '1920', 'factLabel': 'Year buil...       NaN   \n",
       "\n",
       "                                             schools    sqft    beds state  \\\n",
       "0  {'rating': ['4', '4', '7', 'NR', '4', '7', 'NR...  2900.0       4    NC   \n",
       "1  {'rating': ['4/10', 'None/10', '4/10'], 'data'...  1947.0  3 Beds    WA   \n",
       "2  {'rating': ['8/10', '4/10', '8/10'], 'data': {...  3000.0  3 Beds    CA   \n",
       "3  {'rating': ['9/10', '9/10', '10/10', '9/10'], ...  6457.0  5 Beds    TX   \n",
       "4  {'rating': [], 'data': {'Distance': [], 'Grade...   897.0  2 Beds    PA   \n",
       "\n",
       "  stories  PrivatePool        propertyType      Price  Year built  \\\n",
       "0     NaN            0  Single Family Home   9.575848        2019   \n",
       "1     2.0            0  single-family home   9.197170        2019   \n",
       "2     1.0            1  single-family home   9.933841        1961   \n",
       "3     3.0            0  single-family home  10.550615        2006   \n",
       "4     2.0            0           townhouse   8.494862        1920   \n",
       "\n",
       "   Remodeled year                 Heating  Cooling          Parking  schRating  \n",
       "0               0  Central A/C, Heat Pump      NaN              NaN          7  \n",
       "1               0                     NaN      NaN              NaN          4  \n",
       "2            1967              Forced Air  Central  Attached Garage          8  \n",
       "3            2006              Forced Air  Central  Detached Garage         10  \n",
       "4               0              Forced Air  Central              NaN          0  "
      ]
     },
     "execution_count": 65,
     "metadata": {},
     "output_type": "execute_result"
    }
   ],
   "source": [
    "data.head()"
   ]
  },
  {
   "cell_type": "markdown",
   "metadata": {},
   "source": [
    "### Bath"
   ]
  },
  {
   "cell_type": "code",
   "execution_count": 66,
   "metadata": {},
   "outputs": [
    {
     "name": "stdout",
     "output_type": "stream",
     "text": [
      "There are 25.0% missing values\n"
     ]
    }
   ],
   "source": [
    "data.baths=data.baths.str.lower()\n",
    "print(f'There are {round(data.baths.isna().sum()/data.baths.count()*100,0)}% missing values')"
   ]
  },
  {
   "cell_type": "code",
   "execution_count": 67,
   "metadata": {},
   "outputs": [],
   "source": [
    "#Leave cells with numbers only for Bath \n",
    "data['baths']=data.baths.str.findall(r'\\d').str[0]"
   ]
  },
  {
   "cell_type": "code",
   "execution_count": 68,
   "metadata": {},
   "outputs": [],
   "source": [
    "data['baths'][data.baths.isna()==False]=data['baths'][data.baths.isna()==False].astype(int)"
   ]
  },
  {
   "cell_type": "code",
   "execution_count": 69,
   "metadata": {},
   "outputs": [
    {
     "data": {
      "text/plain": [
       "2.0    0.443836\n",
       "3.0    0.280621\n",
       "4.0    0.109897\n",
       "1.0    0.090618\n",
       "5.0    0.039885\n",
       "6.0    0.017995\n",
       "7.0    0.009788\n",
       "8.0    0.004807\n",
       "9.0    0.002288\n",
       "0.0    0.000266\n",
       "Name: baths, dtype: float64"
      ]
     },
     "execution_count": 69,
     "metadata": {},
     "output_type": "execute_result"
    }
   ],
   "source": [
    "data.baths.value_counts(normalize=True)"
   ]
  },
  {
   "cell_type": "code",
   "execution_count": 70,
   "metadata": {},
   "outputs": [
    {
     "data": {
      "text/html": [
       "<div>\n",
       "<style scoped>\n",
       "    .dataframe tbody tr th:only-of-type {\n",
       "        vertical-align: middle;\n",
       "    }\n",
       "\n",
       "    .dataframe tbody tr th {\n",
       "        vertical-align: top;\n",
       "    }\n",
       "\n",
       "    .dataframe thead th {\n",
       "        text-align: right;\n",
       "    }\n",
       "</style>\n",
       "<table border=\"1\" class=\"dataframe\">\n",
       "  <thead>\n",
       "    <tr style=\"text-align: right;\">\n",
       "      <th></th>\n",
       "      <th>baths</th>\n",
       "      <th>homeFacts</th>\n",
       "      <th>fireplace</th>\n",
       "      <th>schools</th>\n",
       "      <th>sqft</th>\n",
       "      <th>beds</th>\n",
       "      <th>state</th>\n",
       "      <th>stories</th>\n",
       "      <th>PrivatePool</th>\n",
       "      <th>propertyType</th>\n",
       "      <th>Price</th>\n",
       "      <th>Year built</th>\n",
       "      <th>Remodeled year</th>\n",
       "      <th>Heating</th>\n",
       "      <th>Cooling</th>\n",
       "      <th>Parking</th>\n",
       "      <th>schRating</th>\n",
       "    </tr>\n",
       "  </thead>\n",
       "  <tbody>\n",
       "    <tr>\n",
       "      <th>0</th>\n",
       "      <td>3</td>\n",
       "      <td>[{'factValue': '2019', 'factLabel': 'Year buil...</td>\n",
       "      <td>Gas Logs</td>\n",
       "      <td>{'rating': ['4', '4', '7', 'NR', '4', '7', 'NR...</td>\n",
       "      <td>2900.0</td>\n",
       "      <td>4</td>\n",
       "      <td>NC</td>\n",
       "      <td>NaN</td>\n",
       "      <td>0</td>\n",
       "      <td>Single Family Home</td>\n",
       "      <td>9.575848</td>\n",
       "      <td>2019</td>\n",
       "      <td>0</td>\n",
       "      <td>Central A/C, Heat Pump</td>\n",
       "      <td>NaN</td>\n",
       "      <td>NaN</td>\n",
       "      <td>7</td>\n",
       "    </tr>\n",
       "    <tr>\n",
       "      <th>1</th>\n",
       "      <td>3</td>\n",
       "      <td>[{'factValue': '2019', 'factLabel': 'Year buil...</td>\n",
       "      <td>NaN</td>\n",
       "      <td>{'rating': ['4/10', 'None/10', '4/10'], 'data'...</td>\n",
       "      <td>1947.0</td>\n",
       "      <td>3 Beds</td>\n",
       "      <td>WA</td>\n",
       "      <td>2.0</td>\n",
       "      <td>0</td>\n",
       "      <td>single-family home</td>\n",
       "      <td>9.197170</td>\n",
       "      <td>2019</td>\n",
       "      <td>0</td>\n",
       "      <td>NaN</td>\n",
       "      <td>NaN</td>\n",
       "      <td>NaN</td>\n",
       "      <td>4</td>\n",
       "    </tr>\n",
       "    <tr>\n",
       "      <th>2</th>\n",
       "      <td>2</td>\n",
       "      <td>[{'factValue': '1961', 'factLabel': 'Year buil...</td>\n",
       "      <td>yes</td>\n",
       "      <td>{'rating': ['8/10', '4/10', '8/10'], 'data': {...</td>\n",
       "      <td>3000.0</td>\n",
       "      <td>3 Beds</td>\n",
       "      <td>CA</td>\n",
       "      <td>1.0</td>\n",
       "      <td>1</td>\n",
       "      <td>single-family home</td>\n",
       "      <td>9.933841</td>\n",
       "      <td>1961</td>\n",
       "      <td>1967</td>\n",
       "      <td>Forced Air</td>\n",
       "      <td>Central</td>\n",
       "      <td>Attached Garage</td>\n",
       "      <td>8</td>\n",
       "    </tr>\n",
       "    <tr>\n",
       "      <th>3</th>\n",
       "      <td>8</td>\n",
       "      <td>[{'factValue': '2006', 'factLabel': 'Year buil...</td>\n",
       "      <td>yes</td>\n",
       "      <td>{'rating': ['9/10', '9/10', '10/10', '9/10'], ...</td>\n",
       "      <td>6457.0</td>\n",
       "      <td>5 Beds</td>\n",
       "      <td>TX</td>\n",
       "      <td>3.0</td>\n",
       "      <td>0</td>\n",
       "      <td>single-family home</td>\n",
       "      <td>10.550615</td>\n",
       "      <td>2006</td>\n",
       "      <td>2006</td>\n",
       "      <td>Forced Air</td>\n",
       "      <td>Central</td>\n",
       "      <td>Detached Garage</td>\n",
       "      <td>10</td>\n",
       "    </tr>\n",
       "    <tr>\n",
       "      <th>4</th>\n",
       "      <td>3</td>\n",
       "      <td>[{'factValue': '1920', 'factLabel': 'Year buil...</td>\n",
       "      <td>NaN</td>\n",
       "      <td>{'rating': [], 'data': {'Distance': [], 'Grade...</td>\n",
       "      <td>897.0</td>\n",
       "      <td>2 Beds</td>\n",
       "      <td>PA</td>\n",
       "      <td>2.0</td>\n",
       "      <td>0</td>\n",
       "      <td>townhouse</td>\n",
       "      <td>8.494862</td>\n",
       "      <td>1920</td>\n",
       "      <td>0</td>\n",
       "      <td>Forced Air</td>\n",
       "      <td>Central</td>\n",
       "      <td>NaN</td>\n",
       "      <td>0</td>\n",
       "    </tr>\n",
       "  </tbody>\n",
       "</table>\n",
       "</div>"
      ],
      "text/plain": [
       "  baths                                          homeFacts fireplace  \\\n",
       "0     3  [{'factValue': '2019', 'factLabel': 'Year buil...  Gas Logs   \n",
       "1     3  [{'factValue': '2019', 'factLabel': 'Year buil...       NaN   \n",
       "2     2  [{'factValue': '1961', 'factLabel': 'Year buil...       yes   \n",
       "3     8  [{'factValue': '2006', 'factLabel': 'Year buil...       yes   \n",
       "4     3  [{'factValue': '1920', 'factLabel': 'Year buil...       NaN   \n",
       "\n",
       "                                             schools    sqft    beds state  \\\n",
       "0  {'rating': ['4', '4', '7', 'NR', '4', '7', 'NR...  2900.0       4    NC   \n",
       "1  {'rating': ['4/10', 'None/10', '4/10'], 'data'...  1947.0  3 Beds    WA   \n",
       "2  {'rating': ['8/10', '4/10', '8/10'], 'data': {...  3000.0  3 Beds    CA   \n",
       "3  {'rating': ['9/10', '9/10', '10/10', '9/10'], ...  6457.0  5 Beds    TX   \n",
       "4  {'rating': [], 'data': {'Distance': [], 'Grade...   897.0  2 Beds    PA   \n",
       "\n",
       "  stories  PrivatePool        propertyType      Price  Year built  \\\n",
       "0     NaN            0  Single Family Home   9.575848        2019   \n",
       "1     2.0            0  single-family home   9.197170        2019   \n",
       "2     1.0            1  single-family home   9.933841        1961   \n",
       "3     3.0            0  single-family home  10.550615        2006   \n",
       "4     2.0            0           townhouse   8.494862        1920   \n",
       "\n",
       "   Remodeled year                 Heating  Cooling          Parking  schRating  \n",
       "0               0  Central A/C, Heat Pump      NaN              NaN          7  \n",
       "1               0                     NaN      NaN              NaN          4  \n",
       "2            1967              Forced Air  Central  Attached Garage          8  \n",
       "3            2006              Forced Air  Central  Detached Garage         10  \n",
       "4               0              Forced Air  Central              NaN          0  "
      ]
     },
     "execution_count": 70,
     "metadata": {},
     "output_type": "execute_result"
    }
   ],
   "source": [
    "#Group data according to property type and take the average bathrooms for each property type for NA\n",
    "Baths=data[['baths','propertyType']]\n",
    "Baths['baths']=Baths['baths'][Baths.baths.isna()==False].astype(int)\n",
    "Baths=Baths[Baths.baths.isna()==False].groupby(by='propertyType').mean().reset_index()\n",
    "Baths.baths=Baths.baths.round(decimals=0)\n",
    "data.baths[data.baths.isna()==True]=data[data.baths.isna()==True].merge(Baths, on='propertyType', how='left').baths_y\n",
    "data.head()"
   ]
  },
  {
   "cell_type": "code",
   "execution_count": 71,
   "metadata": {},
   "outputs": [
    {
     "name": "stdout",
     "output_type": "stream",
     "text": [
      "<class 'pandas.core.frame.DataFrame'>\n",
      "RangeIndex: 288965 entries, 0 to 288964\n",
      "Data columns (total 17 columns):\n",
      " #   Column          Non-Null Count   Dtype  \n",
      "---  ------          --------------   -----  \n",
      " 0   baths           239215 non-null  object \n",
      " 1   homeFacts       288965 non-null  object \n",
      " 2   fireplace       91405 non-null   object \n",
      " 3   schools         288965 non-null  object \n",
      " 4   sqft            288965 non-null  float64\n",
      " 5   beds            241524 non-null  object \n",
      " 6   state           288965 non-null  object \n",
      " 7   stories         196977 non-null  object \n",
      " 8   PrivatePool     288965 non-null  int32  \n",
      " 9   propertyType    272280 non-null  object \n",
      " 10  Price           288965 non-null  float64\n",
      " 11  Year built      288965 non-null  int64  \n",
      " 12  Remodeled year  288965 non-null  int32  \n",
      " 13  Heating         230834 non-null  object \n",
      " 14  Cooling         224104 non-null  object \n",
      " 15  Parking         173853 non-null  object \n",
      " 16  schRating       288965 non-null  int64  \n",
      "dtypes: float64(2), int32(2), int64(2), object(11)\n",
      "memory usage: 35.3+ MB\n"
     ]
    }
   ],
   "source": [
    "#Group data according to bedrooms and take the average bathrooms for each bedroom number for NA\n",
    "BathsBeds=data[['baths','beds']]\n",
    "BathsBeds['baths']=BathsBeds['baths'][BathsBeds.baths.isna()==False].astype(int)\n",
    "BathsBeds=BathsBeds[BathsBeds.baths.isna()==False].groupby(by='beds').mean().reset_index()\n",
    "BathsBeds.baths=BathsBeds.baths.round(decimals=0)\n",
    "data.baths[data.baths.isna()==True]=data[data.baths.isna()==True].merge(BathsBeds, on='beds', how='left').baths_y\n",
    "data.info()\n"
   ]
  },
  {
   "cell_type": "code",
   "execution_count": 72,
   "metadata": {},
   "outputs": [
    {
     "data": {
      "text/plain": [
       "686       Baths\n",
       "756       Baths\n",
       "1057      Baths\n",
       "1443      Baths\n",
       "1733      Baths\n",
       "          ...  \n",
       "287645    Baths\n",
       "287820    Baths\n",
       "288301    Baths\n",
       "288423    Baths\n",
       "288550    Baths\n",
       "Name: beds, Length: 876, dtype: object"
      ]
     },
     "execution_count": 72,
     "metadata": {},
     "output_type": "execute_result"
    }
   ],
   "source": [
    "#check if some values can be taken from beds column\n",
    "data['beds'][(data.beds.str.contains('Bath'))&(data.beds.isna()==False)&(data.baths.isna()==True)]"
   ]
  },
  {
   "cell_type": "code",
   "execution_count": 73,
   "metadata": {},
   "outputs": [],
   "source": [
    "#beds columns has values that contains baths, replace NA with 1 for bath and 2 for baths\n",
    "data['beds'][(data.beds=='Bath')&(data.beds.isna()==False)&(data.baths.isna()==True)]=1\n",
    "data['beds'][(data.beds=='Baths')&(data.beds.isna()==False)&(data.baths.isna()==True)]=2\n",
    "data['baths'][(data.beds.str.contains('Bath'))&(data.beds.isna()==False)&(data.baths.isna()==True)]=1"
   ]
  },
  {
   "cell_type": "code",
   "execution_count": 74,
   "metadata": {},
   "outputs": [
    {
     "name": "stdout",
     "output_type": "stream",
     "text": [
      "<class 'pandas.core.frame.DataFrame'>\n",
      "RangeIndex: 288965 entries, 0 to 288964\n",
      "Data columns (total 17 columns):\n",
      " #   Column          Non-Null Count   Dtype  \n",
      "---  ------          --------------   -----  \n",
      " 0   baths           240953 non-null  object \n",
      " 1   homeFacts       288965 non-null  object \n",
      " 2   fireplace       91405 non-null   object \n",
      " 3   schools         288965 non-null  object \n",
      " 4   sqft            288965 non-null  float64\n",
      " 5   beds            241524 non-null  object \n",
      " 6   state           288965 non-null  object \n",
      " 7   stories         196977 non-null  object \n",
      " 8   PrivatePool     288965 non-null  int32  \n",
      " 9   propertyType    272280 non-null  object \n",
      " 10  Price           288965 non-null  float64\n",
      " 11  Year built      288965 non-null  int64  \n",
      " 12  Remodeled year  288965 non-null  int32  \n",
      " 13  Heating         230834 non-null  object \n",
      " 14  Cooling         224104 non-null  object \n",
      " 15  Parking         173853 non-null  object \n",
      " 16  schRating       288965 non-null  int64  \n",
      "dtypes: float64(2), int32(2), int64(2), object(11)\n",
      "memory usage: 35.3+ MB\n"
     ]
    }
   ],
   "source": [
    "#Group data according to sqft and take the average bathrooms for each area for NA\n",
    "BathsArea=data[['baths','sqft']]\n",
    "BathsArea['baths']=BathsArea['baths'][BathsArea.baths.isna()==False].astype(int)\n",
    "BathsArea=BathsArea[BathsArea.baths.isna()==False].groupby(by='sqft').mean().reset_index()\n",
    "BathsArea.baths=BathsArea.baths.round(decimals=0)\n",
    "data.baths[data.baths.isna()==True]=data[data.baths.isna()==True].merge(BathsArea, on='sqft', how='left').baths_y\n",
    "data.info()\n"
   ]
  },
  {
   "cell_type": "code",
   "execution_count": 75,
   "metadata": {},
   "outputs": [],
   "source": [
    "data.baths.fillna(1,inplace=True)\n",
    "data.baths=data.baths.astype(int)"
   ]
  },
  {
   "cell_type": "code",
   "execution_count": 76,
   "metadata": {},
   "outputs": [
    {
     "name": "stdout",
     "output_type": "stream",
     "text": [
      "<class 'pandas.core.frame.DataFrame'>\n",
      "RangeIndex: 288965 entries, 0 to 288964\n",
      "Data columns (total 17 columns):\n",
      " #   Column          Non-Null Count   Dtype  \n",
      "---  ------          --------------   -----  \n",
      " 0   baths           288965 non-null  int32  \n",
      " 1   homeFacts       288965 non-null  object \n",
      " 2   fireplace       91405 non-null   object \n",
      " 3   schools         288965 non-null  object \n",
      " 4   sqft            288965 non-null  float64\n",
      " 5   beds            241524 non-null  object \n",
      " 6   state           288965 non-null  object \n",
      " 7   stories         196977 non-null  object \n",
      " 8   PrivatePool     288965 non-null  int32  \n",
      " 9   propertyType    272280 non-null  object \n",
      " 10  Price           288965 non-null  float64\n",
      " 11  Year built      288965 non-null  int64  \n",
      " 12  Remodeled year  288965 non-null  int32  \n",
      " 13  Heating         230834 non-null  object \n",
      " 14  Cooling         224104 non-null  object \n",
      " 15  Parking         173853 non-null  object \n",
      " 16  schRating       288965 non-null  int64  \n",
      "dtypes: float64(2), int32(3), int64(2), object(10)\n",
      "memory usage: 34.2+ MB\n"
     ]
    }
   ],
   "source": [
    "data.info()"
   ]
  },
  {
   "cell_type": "markdown",
   "metadata": {},
   "source": [
    "### Beds"
   ]
  },
  {
   "cell_type": "code",
   "execution_count": 77,
   "metadata": {},
   "outputs": [
    {
     "name": "stdout",
     "output_type": "stream",
     "text": [
      "There are 17.0% of missing values\n"
     ]
    }
   ],
   "source": [
    "data.beds=data.beds.str.lower()\n",
    "print(f'There are {round(data.beds.isna().sum()/data.baths.count()*100,0)}% of missing values')"
   ]
  },
  {
   "cell_type": "code",
   "execution_count": 78,
   "metadata": {},
   "outputs": [
    {
     "data": {
      "text/plain": [
       "3 beds    0.206235\n",
       "4 beds    0.139324\n",
       "3         0.102615\n",
       "2 beds    0.101044\n",
       "4         0.067676\n",
       "            ...   \n",
       "15.0      0.000004\n",
       "13.0      0.000004\n",
       "75        0.000004\n",
       "15 bd     0.000004\n",
       "46 bd     0.000004\n",
       "Name: beds, Length: 133, dtype: float64"
      ]
     },
     "execution_count": 78,
     "metadata": {},
     "output_type": "execute_result"
    }
   ],
   "source": [
    "data.beds.value_counts(normalize=True)"
   ]
  },
  {
   "cell_type": "code",
   "execution_count": 79,
   "metadata": {},
   "outputs": [
    {
     "data": {
      "text/plain": [
       "3.0                                                                                                                           0.423484\n",
       "4.0                                                                                                                           0.287052\n",
       "2.0                                                                                                                           0.127847\n",
       "5.0                                                                                                                           0.076836\n",
       "--                                                                                                                            0.031501\n",
       "1.0                                                                                                                           0.023625\n",
       "6.0                                                                                                                           0.017595\n",
       "7.0                                                                                                                           0.003335\n",
       "                                                                                                                              0.002696\n",
       "0.0                                                                                                                           0.002128\n",
       "8.0                                                                                                                           0.002057\n",
       "10.0                                                                                                                          0.000568\n",
       "9.0                                                                                                                           0.000426\n",
       "11.0                                                                                                                          0.000213\n",
       "13.0                                                                                                                          0.000071\n",
       "3.1 acres                                                                                                                     0.000071\n",
       "15.0                                                                                                                          0.000071\n",
       "12.0                                                                                                                          0.000071\n",
       "based on redfin's st johns data, we estimate the home's value is $360,731, which is 2.2% less than its current list price.    0.000071\n",
       "based on redfin's raleigh data, we estimate the home's value is $708,248, which is 1.2% more than its current list price.     0.000071\n",
       "16.0                                                                                                                          0.000071\n",
       "14.0                                                                                                                          0.000071\n",
       "27.0                                                                                                                          0.000071\n",
       "Name: beds, dtype: float64"
      ]
     },
     "execution_count": 79,
     "metadata": {},
     "output_type": "execute_result"
    }
   ],
   "source": [
    "#leave numbers only for Beds\n",
    "data['beds']=data.beds.str.replace(' beds','').str.replace(' bd','')\n",
    "data['beds']=data.beds.str.replace('baths','2')\n",
    "data['beds']=data.beds.str.replace('bath','1')\n",
    "data.beds[(data.beds.str.contains('\\D')==True)&(data.beds.isna()==False)].value_counts(normalize=True)"
   ]
  },
  {
   "cell_type": "code",
   "execution_count": 80,
   "metadata": {},
   "outputs": [],
   "source": [
    "data['beds'][data.beds.str.contains('sqft|acres|acre| |--')==True]=0\n"
   ]
  },
  {
   "cell_type": "code",
   "execution_count": 81,
   "metadata": {},
   "outputs": [],
   "source": [
    "data['beds'][data.beds.str.contains('2 bedrooms')==True]=2\n",
    "data['beds'][data.beds.str.contains('3 or more bedrooms')==True]=3\n",
    "data['beds'][data.beds.str.contains('based on redfin')==True]=1"
   ]
  },
  {
   "cell_type": "code",
   "execution_count": 82,
   "metadata": {},
   "outputs": [],
   "source": [
    "data['beds']=data['beds'][(data.beds.isna()==False)&(data.beds!='none')].astype(float)\n"
   ]
  },
  {
   "cell_type": "code",
   "execution_count": 83,
   "metadata": {},
   "outputs": [],
   "source": [
    "#Group data according to property type and take the average area for each property type for NA\n",
    "Beds=data[['beds','propertyType']]\n",
    "Beds['beds']=Beds['beds'][(Beds.beds.isna()==False)&(Beds.beds!='none')].astype(float)\n",
    "Beds=Beds.groupby(by='propertyType').mean().reset_index()\n",
    "Beds.beds=Beds.beds.round(decimals=0)\n",
    "data=data.merge(Beds, on='propertyType', how='left')"
   ]
  },
  {
   "cell_type": "code",
   "execution_count": 84,
   "metadata": {},
   "outputs": [
    {
     "name": "stdout",
     "output_type": "stream",
     "text": [
      "<class 'pandas.core.frame.DataFrame'>\n",
      "Int64Index: 288965 entries, 0 to 288964\n",
      "Data columns (total 17 columns):\n",
      " #   Column          Non-Null Count   Dtype  \n",
      "---  ------          --------------   -----  \n",
      " 0   baths           288965 non-null  int32  \n",
      " 1   homeFacts       288965 non-null  object \n",
      " 2   fireplace       91405 non-null   object \n",
      " 3   schools         288965 non-null  object \n",
      " 4   sqft            288965 non-null  float64\n",
      " 5   beds            288965 non-null  float64\n",
      " 6   state           288965 non-null  object \n",
      " 7   stories         196977 non-null  object \n",
      " 8   PrivatePool     288965 non-null  int32  \n",
      " 9   propertyType    272280 non-null  object \n",
      " 10  Price           288965 non-null  float64\n",
      " 11  Year built      288965 non-null  int64  \n",
      " 12  Remodeled year  288965 non-null  int32  \n",
      " 13  Heating         230834 non-null  object \n",
      " 14  Cooling         224104 non-null  object \n",
      " 15  Parking         173853 non-null  object \n",
      " 16  schRating       288965 non-null  int64  \n",
      "dtypes: float64(3), int32(3), int64(2), object(9)\n",
      "memory usage: 36.4+ MB\n"
     ]
    }
   ],
   "source": [
    "data['beds_x'].fillna(data.beds_y,inplace=True)\n",
    "data['beds_x'][data.beds_x=='none']=data.beds_y\n",
    "data.beds_x.fillna(data.beds_x.mean(),inplace=True)\n",
    "data.drop('beds_y',axis=1,inplace=True)\n",
    "data=data.rename(columns={'beds_x':'beds'})\n",
    "data.info()"
   ]
  },
  {
   "cell_type": "code",
   "execution_count": 85,
   "metadata": {},
   "outputs": [
    {
     "data": {
      "text/plain": [
       "(-0.145, 14.4]    0.999100\n",
       "(14.4, 28.8]      0.000747\n",
       "(28.8, 43.2]      0.000090\n",
       "(43.2, 57.6]      0.000038\n",
       "(72.0, 86.4]      0.000014\n",
       "(86.4, 100.8]     0.000007\n",
       "(129.6, 144.0]    0.000003\n",
       "(115.2, 129.6]    0.000000\n",
       "(100.8, 115.2]    0.000000\n",
       "(57.6, 72.0]      0.000000\n",
       "Name: beds, dtype: float64"
      ]
     },
     "execution_count": 85,
     "metadata": {},
     "output_type": "execute_result"
    }
   ],
   "source": [
    "data.beds.value_counts(normalize=True,bins=10)"
   ]
  },
  {
   "cell_type": "code",
   "execution_count": 86,
   "metadata": {},
   "outputs": [],
   "source": [
    "data=data.drop(data.beds[data.beds>15].index)"
   ]
  },
  {
   "cell_type": "code",
   "execution_count": 87,
   "metadata": {},
   "outputs": [
    {
     "name": "stdout",
     "output_type": "stream",
     "text": [
      "<class 'pandas.core.frame.DataFrame'>\n",
      "Int64Index: 288737 entries, 0 to 288964\n",
      "Data columns (total 17 columns):\n",
      " #   Column          Non-Null Count   Dtype  \n",
      "---  ------          --------------   -----  \n",
      " 0   baths           288737 non-null  int32  \n",
      " 1   homeFacts       288737 non-null  object \n",
      " 2   fireplace       91376 non-null   object \n",
      " 3   schools         288737 non-null  object \n",
      " 4   sqft            288737 non-null  float64\n",
      " 5   beds            288737 non-null  float64\n",
      " 6   state           288737 non-null  object \n",
      " 7   stories         196855 non-null  object \n",
      " 8   PrivatePool     288737 non-null  int32  \n",
      " 9   propertyType    272052 non-null  object \n",
      " 10  Price           288737 non-null  float64\n",
      " 11  Year built      288737 non-null  int64  \n",
      " 12  Remodeled year  288737 non-null  int32  \n",
      " 13  Heating         230686 non-null  object \n",
      " 14  Cooling         223976 non-null  object \n",
      " 15  Parking         173706 non-null  object \n",
      " 16  schRating       288737 non-null  int64  \n",
      "dtypes: float64(3), int32(3), int64(2), object(9)\n",
      "memory usage: 36.3+ MB\n"
     ]
    }
   ],
   "source": [
    "data.info()"
   ]
  },
  {
   "cell_type": "markdown",
   "metadata": {},
   "source": [
    "### Create feature baths per bedroom"
   ]
  },
  {
   "cell_type": "code",
   "execution_count": 88,
   "metadata": {},
   "outputs": [],
   "source": [
    "data['baths'][data['baths']<1]=1\n",
    "data['beds'][data['beds']<1]=1\n",
    "data['baths/bed']=data['beds']/data['baths']"
   ]
  },
  {
   "cell_type": "code",
   "execution_count": 89,
   "metadata": {},
   "outputs": [],
   "source": [
    "#data.to_csv('dataintermediate.csv',index=False)\n",
    "saveData(data)"
   ]
  },
  {
   "cell_type": "markdown",
   "metadata": {},
   "source": [
    "### Fireplace"
   ]
  },
  {
   "cell_type": "code",
   "execution_count": 90,
   "metadata": {},
   "outputs": [
    {
     "name": "stdout",
     "output_type": "stream",
     "text": [
      "<class 'pandas.core.frame.DataFrame'>\n",
      "RangeIndex: 288737 entries, 0 to 288736\n",
      "Data columns (total 18 columns):\n",
      " #   Column          Non-Null Count   Dtype  \n",
      "---  ------          --------------   -----  \n",
      " 0   baths           288737 non-null  int64  \n",
      " 1   homeFacts       288737 non-null  object \n",
      " 2   fireplace       91376 non-null   object \n",
      " 3   schools         288737 non-null  object \n",
      " 4   sqft            288737 non-null  float64\n",
      " 5   beds            288737 non-null  float64\n",
      " 6   state           288737 non-null  object \n",
      " 7   stories         196855 non-null  object \n",
      " 8   PrivatePool     288737 non-null  int64  \n",
      " 9   propertyType    272052 non-null  object \n",
      " 10  Price           288737 non-null  float64\n",
      " 11  Year built      288737 non-null  int64  \n",
      " 12  Remodeled year  288737 non-null  int64  \n",
      " 13  Heating         230686 non-null  object \n",
      " 14  Cooling         223976 non-null  object \n",
      " 15  Parking         173706 non-null  object \n",
      " 16  schRating       288737 non-null  int64  \n",
      " 17  baths/bed       288737 non-null  float64\n",
      "dtypes: float64(4), int64(5), object(9)\n",
      "memory usage: 39.7+ MB\n"
     ]
    }
   ],
   "source": [
    "data=pd.read_csv('dataintermediate.csv')\n",
    "data.info()"
   ]
  },
  {
   "cell_type": "code",
   "execution_count": 91,
   "metadata": {},
   "outputs": [],
   "source": [
    "data['fireplace']=data['fireplace'].str.lower()\n",
    "data.fireplace[data.fireplace.str.contains('fire|yes|gas|burning|stove|frplc')==True]=1\n",
    "data.fireplace[data.fireplace.str.contains('no|0 ')==True]=0\n",
    "data.fireplace[(data.fireplace.str.contains('\\d')==True)&(data.fireplace.str.contains('0')==False)]=1\n",
    "data.fireplace[data.fireplace!=1]=0"
   ]
  },
  {
   "cell_type": "code",
   "execution_count": 92,
   "metadata": {},
   "outputs": [
    {
     "name": "stdout",
     "output_type": "stream",
     "text": [
      "<class 'pandas.core.frame.DataFrame'>\n",
      "RangeIndex: 288737 entries, 0 to 288736\n",
      "Data columns (total 18 columns):\n",
      " #   Column          Non-Null Count   Dtype  \n",
      "---  ------          --------------   -----  \n",
      " 0   baths           288737 non-null  int64  \n",
      " 1   homeFacts       288737 non-null  object \n",
      " 2   fireplace       288737 non-null  int32  \n",
      " 3   schools         288737 non-null  object \n",
      " 4   sqft            288737 non-null  float64\n",
      " 5   beds            288737 non-null  float64\n",
      " 6   state           288737 non-null  object \n",
      " 7   stories         196855 non-null  object \n",
      " 8   PrivatePool     288737 non-null  int64  \n",
      " 9   propertyType    272052 non-null  object \n",
      " 10  Price           288737 non-null  float64\n",
      " 11  Year built      288737 non-null  int64  \n",
      " 12  Remodeled year  288737 non-null  int64  \n",
      " 13  Heating         230686 non-null  object \n",
      " 14  Cooling         223976 non-null  object \n",
      " 15  Parking         173706 non-null  object \n",
      " 16  schRating       288737 non-null  int64  \n",
      " 17  baths/bed       288737 non-null  float64\n",
      "dtypes: float64(4), int32(1), int64(5), object(8)\n",
      "memory usage: 38.6+ MB\n"
     ]
    }
   ],
   "source": [
    "data.fireplace=data.fireplace.astype(int)\n",
    "data.info()"
   ]
  },
  {
   "cell_type": "markdown",
   "metadata": {},
   "source": [
    "### Stories"
   ]
  },
  {
   "cell_type": "code",
   "execution_count": 93,
   "metadata": {},
   "outputs": [],
   "source": [
    "data.stories=data.stories.str.lower()"
   ]
  },
  {
   "cell_type": "code",
   "execution_count": 94,
   "metadata": {},
   "outputs": [
    {
     "data": {
      "text/plain": [
       "one                       5455\n",
       "two                       2420\n",
       "three or more              538\n",
       "one story                  296\n",
       "multi/split                252\n",
       "                          ... \n",
       "two, multi/split             1\n",
       "multi/split, two             1\n",
       "bedroom - split plan         1\n",
       "split entry (bi-level)       1\n",
       "multi level, tri level       1\n",
       "Name: stories, Length: 85, dtype: int64"
      ]
     },
     "execution_count": 94,
     "metadata": {},
     "output_type": "execute_result"
    }
   ],
   "source": [
    "data['st1']=data.stories.str.findall(r'\\d').str[0]\n",
    "#data.stories=data.stories[data.st1.isna()==False]\n",
    "data.stories[(data.st1.isna()==True)&(data.stories.isna()==False)].value_counts()\n",
    "#data.stories.value_counts()"
   ]
  },
  {
   "cell_type": "code",
   "execution_count": 95,
   "metadata": {},
   "outputs": [],
   "source": [
    "data.stories[data.stories.str.contains('one')==True]=1\n",
    "data.stories[data.stories.str.contains('two')==True]=2"
   ]
  },
  {
   "cell_type": "code",
   "execution_count": 96,
   "metadata": {},
   "outputs": [],
   "source": [
    "data.stories=data['st1'][(data.st1.isna()==False)&(data.stories.isna()==False)]"
   ]
  },
  {
   "cell_type": "code",
   "execution_count": 97,
   "metadata": {},
   "outputs": [],
   "source": [
    "data.drop('st1',axis=1,inplace=True)\n",
    "data.dropna(subset=['stories'],axis=0,inplace=True)"
   ]
  },
  {
   "cell_type": "code",
   "execution_count": 98,
   "metadata": {},
   "outputs": [],
   "source": [
    "data.stories=data.stories.astype(int)"
   ]
  },
  {
   "cell_type": "code",
   "execution_count": 99,
   "metadata": {},
   "outputs": [],
   "source": [
    "data['stories'][data.stories<2]=1\n",
    "data['stories'][data.stories>1]=2"
   ]
  },
  {
   "cell_type": "code",
   "execution_count": 100,
   "metadata": {},
   "outputs": [
    {
     "data": {
      "text/plain": [
       "2    94778\n",
       "1    91677\n",
       "Name: stories, dtype: int64"
      ]
     },
     "execution_count": 100,
     "metadata": {},
     "output_type": "execute_result"
    }
   ],
   "source": [
    "data.stories.value_counts()"
   ]
  },
  {
   "cell_type": "code",
   "execution_count": 101,
   "metadata": {},
   "outputs": [],
   "source": [
    "#data.to_csv('dataintermediate.csv',index=False)\n",
    "saveData(data)\n"
   ]
  },
  {
   "cell_type": "markdown",
   "metadata": {},
   "source": [
    "### Parking"
   ]
  },
  {
   "cell_type": "code",
   "execution_count": 102,
   "metadata": {},
   "outputs": [
    {
     "data": {
      "text/plain": [
       "Attached Garage                                                                                                                 51740\n",
       "2 spaces                                                                                                                        20375\n",
       "1 space                                                                                                                          9576\n",
       "Detached Garage                                                                                                                  8119\n",
       "No Data                                                                                                                          6943\n",
       "                                                                                                                                ...  \n",
       "Fenced, Paved Driveway, Paved Parking, Secure Parking, Off Street                                                                   1\n",
       "Attch'd Gar Cabinets, Electric Door Opener, RV Gate, Dir Entry frm Garage, Slab Parking Spaces                                      1\n",
       "Attch'd Gar Cabinets, Electric Door Opener, Extnded Lngth Garage, Golf Cart Garage, Rear Vehicle Entry, Dir Entry frm Garage        1\n",
       "Lighted Parking, Unassigned, Parking Lot                                                                                            1\n",
       "DW/Concrete, Garage                                                                                                                 1\n",
       "Name: Parking, Length: 2336, dtype: int64"
      ]
     },
     "execution_count": 102,
     "metadata": {},
     "output_type": "execute_result"
    }
   ],
   "source": [
    "data=pd.read_csv('dataintermediate.csv')\n",
    "data.Parking.value_counts()"
   ]
  },
  {
   "cell_type": "code",
   "execution_count": 103,
   "metadata": {},
   "outputs": [],
   "source": [
    "data.Parking[data.Parking.notnull()==True]=data.Parking[data.Parking.notnull()==True].str.lower()\n",
    "data.Parking[(data.Parking.notnull()==True)&(data.Parking.str.contains('no')==True)]=0\n",
    "data.Parking[(data.Parking.notnull()==True)]=1\n"
   ]
  },
  {
   "cell_type": "code",
   "execution_count": 104,
   "metadata": {},
   "outputs": [
    {
     "data": {
      "text/plain": [
       "0         0\n",
       "1         1\n",
       "2         1\n",
       "3         0\n",
       "4         1\n",
       "         ..\n",
       "186450    1\n",
       "186451    1\n",
       "186452    1\n",
       "186453    1\n",
       "186454    1\n",
       "Name: Parking, Length: 186455, dtype: int32"
      ]
     },
     "execution_count": 104,
     "metadata": {},
     "output_type": "execute_result"
    }
   ],
   "source": [
    "data.Parking.fillna(0,inplace=True)\n",
    "data.Parking.astype(int)"
   ]
  },
  {
   "cell_type": "markdown",
   "metadata": {},
   "source": [
    "## Density per state- additional data"
   ]
  },
  {
   "cell_type": "code",
   "execution_count": 105,
   "metadata": {},
   "outputs": [],
   "source": [
    "url = 'https://www.census.gov/data/tables/2010/dec/density-data-text.html'  "
   ]
  },
  {
   "cell_type": "code",
   "execution_count": 106,
   "metadata": {},
   "outputs": [],
   "source": [
    "pd.read_html(url)[0].to_csv('density2010.csv',index=False)\n",
    "density=pd.read_csv('density2010.csv')"
   ]
  },
  {
   "cell_type": "code",
   "execution_count": 107,
   "metadata": {},
   "outputs": [
    {
     "data": {
      "text/html": [
       "<div>\n",
       "<style scoped>\n",
       "    .dataframe tbody tr th:only-of-type {\n",
       "        vertical-align: middle;\n",
       "    }\n",
       "\n",
       "    .dataframe tbody tr th {\n",
       "        vertical-align: top;\n",
       "    }\n",
       "\n",
       "    .dataframe thead th {\n",
       "        text-align: right;\n",
       "    }\n",
       "</style>\n",
       "<table border=\"1\" class=\"dataframe\">\n",
       "  <thead>\n",
       "    <tr style=\"text-align: right;\">\n",
       "      <th></th>\n",
       "      <th>statefull</th>\n",
       "      <th>density</th>\n",
       "    </tr>\n",
       "  </thead>\n",
       "  <tbody>\n",
       "    <tr>\n",
       "      <th>0</th>\n",
       "      <td>Alabama</td>\n",
       "      <td>94.4</td>\n",
       "    </tr>\n",
       "    <tr>\n",
       "      <th>1</th>\n",
       "      <td>Alaska</td>\n",
       "      <td>1.2</td>\n",
       "    </tr>\n",
       "    <tr>\n",
       "      <th>2</th>\n",
       "      <td>Arizona</td>\n",
       "      <td>56.3</td>\n",
       "    </tr>\n",
       "    <tr>\n",
       "      <th>3</th>\n",
       "      <td>Arkansas</td>\n",
       "      <td>56.0</td>\n",
       "    </tr>\n",
       "    <tr>\n",
       "      <th>4</th>\n",
       "      <td>California</td>\n",
       "      <td>239.1</td>\n",
       "    </tr>\n",
       "  </tbody>\n",
       "</table>\n",
       "</div>"
      ],
      "text/plain": [
       "    statefull density\n",
       "0     Alabama    94.4\n",
       "1      Alaska     1.2\n",
       "2     Arizona    56.3\n",
       "3    Arkansas    56.0\n",
       "4  California   239.1"
      ]
     },
     "execution_count": 107,
     "metadata": {},
     "output_type": "execute_result"
    }
   ],
   "source": [
    "density2010=pd.DataFrame(density.iloc[3::4]['2010'].values,columns=['statefull'])\n",
    "density2010['density']=density.iloc[5::4]['2010'].values\n",
    "density2010.head()"
   ]
  },
  {
   "cell_type": "code",
   "execution_count": 108,
   "metadata": {},
   "outputs": [
    {
     "data": {
      "text/html": [
       "<div>\n",
       "<style scoped>\n",
       "    .dataframe tbody tr th:only-of-type {\n",
       "        vertical-align: middle;\n",
       "    }\n",
       "\n",
       "    .dataframe tbody tr th {\n",
       "        vertical-align: top;\n",
       "    }\n",
       "\n",
       "    .dataframe thead th {\n",
       "        text-align: right;\n",
       "    }\n",
       "</style>\n",
       "<table border=\"1\" class=\"dataframe\">\n",
       "  <thead>\n",
       "    <tr style=\"text-align: right;\">\n",
       "      <th></th>\n",
       "      <th>Codes:  ISO ISO 3166 codes (2-letter, 3-letter, and 3-digit codes from ISO 3166-1; 2+2-letter codes from ISO 3166-2)  ANSI 2-letter and 2-digit codes from the ANSI standard INCITS 38:2009 (supersedes FIPS 5-2)  USPS 2-letter codes used by the United States Postal Service  USCG 2-letter codes used by the United States Coast Guard (bold red text shows differences between ANSI and USCG) Abbreviations:  GPO Older variable-length official US Government Printing Office abbreviations  AP Abbreviations from the AP Stylebook (bold red text shows differences between GPO and AP)</th>\n",
       "      <th>Codes:  ISO ISO 3166 codes (2-letter, 3-letter, and 3-digit codes from ISO 3166-1; 2+2-letter codes from ISO 3166-2)  ANSI 2-letter and 2-digit codes from the ANSI standard INCITS 38:2009 (supersedes FIPS 5-2)  USPS 2-letter codes used by the United States Postal Service  USCG 2-letter codes used by the United States Coast Guard (bold red text shows differences between ANSI and USCG) Abbreviations:  GPO Older variable-length official US Government Printing Office abbreviations  AP Abbreviations from the AP Stylebook (bold red text shows differences between GPO and AP).3</th>\n",
       "    </tr>\n",
       "  </thead>\n",
       "  <tbody>\n",
       "    <tr>\n",
       "      <th>0</th>\n",
       "      <td>Alabama</td>\n",
       "      <td>AL</td>\n",
       "    </tr>\n",
       "    <tr>\n",
       "      <th>1</th>\n",
       "      <td>Alaska</td>\n",
       "      <td>AK</td>\n",
       "    </tr>\n",
       "    <tr>\n",
       "      <th>2</th>\n",
       "      <td>Arizona</td>\n",
       "      <td>AZ</td>\n",
       "    </tr>\n",
       "    <tr>\n",
       "      <th>3</th>\n",
       "      <td>Arkansas</td>\n",
       "      <td>AR</td>\n",
       "    </tr>\n",
       "    <tr>\n",
       "      <th>4</th>\n",
       "      <td>California</td>\n",
       "      <td>CA</td>\n",
       "    </tr>\n",
       "  </tbody>\n",
       "</table>\n",
       "</div>"
      ],
      "text/plain": [
       "  Codes:  ISO ISO 3166 codes (2-letter, 3-letter, and 3-digit codes from ISO 3166-1; 2+2-letter codes from ISO 3166-2)  ANSI 2-letter and 2-digit codes from the ANSI standard INCITS 38:2009 (supersedes FIPS 5-2)  USPS 2-letter codes used by the United States Postal Service  USCG 2-letter codes used by the United States Coast Guard (bold red text shows differences between ANSI and USCG) Abbreviations:  GPO Older variable-length official US Government Printing Office abbreviations  AP Abbreviations from the AP Stylebook (bold red text shows differences between GPO and AP)  \\\n",
       "0                                            Alabama                                                                                                                                                                                                                                                                                                                                                                                                                                                                                                                                               \n",
       "1                                             Alaska                                                                                                                                                                                                                                                                                                                                                                                                                                                                                                                                               \n",
       "2                                            Arizona                                                                                                                                                                                                                                                                                                                                                                                                                                                                                                                                               \n",
       "3                                           Arkansas                                                                                                                                                                                                                                                                                                                                                                                                                                                                                                                                               \n",
       "4                                         California                                                                                                                                                                                                                                                                                                                                                                                                                                                                                                                                               \n",
       "\n",
       "  Codes:  ISO ISO 3166 codes (2-letter, 3-letter, and 3-digit codes from ISO 3166-1; 2+2-letter codes from ISO 3166-2)  ANSI 2-letter and 2-digit codes from the ANSI standard INCITS 38:2009 (supersedes FIPS 5-2)  USPS 2-letter codes used by the United States Postal Service  USCG 2-letter codes used by the United States Coast Guard (bold red text shows differences between ANSI and USCG) Abbreviations:  GPO Older variable-length official US Government Printing Office abbreviations  AP Abbreviations from the AP Stylebook (bold red text shows differences between GPO and AP).3  \n",
       "0                                                 AL                                                                                                                                                                                                                                                                                                                                                                                                                                                                                                                                                \n",
       "1                                                 AK                                                                                                                                                                                                                                                                                                                                                                                                                                                                                                                                                \n",
       "2                                                 AZ                                                                                                                                                                                                                                                                                                                                                                                                                                                                                                                                                \n",
       "3                                                 AR                                                                                                                                                                                                                                                                                                                                                                                                                                                                                                                                                \n",
       "4                                                 CA                                                                                                                                                                                                                                                                                                                                                                                                                                                                                                                                                "
      ]
     },
     "execution_count": 108,
     "metadata": {},
     "output_type": "execute_result"
    }
   ],
   "source": [
    "url1 = 'https://en.wikipedia.org/wiki/List_of_U.S._state_and_territory_abbreviations'  \n",
    "pd.read_html(url1)[0].iloc[11:,[0,3]].dropna().to_csv('abrv.csv',index=False)\n",
    "stateabrv=pd.read_csv('abrv.csv')\n",
    "stateabrv.head()"
   ]
  },
  {
   "cell_type": "code",
   "execution_count": 109,
   "metadata": {},
   "outputs": [],
   "source": [
    "stateabrv.columns=['statefull','state']"
   ]
  },
  {
   "cell_type": "code",
   "execution_count": 110,
   "metadata": {},
   "outputs": [
    {
     "data": {
      "text/html": [
       "<div>\n",
       "<style scoped>\n",
       "    .dataframe tbody tr th:only-of-type {\n",
       "        vertical-align: middle;\n",
       "    }\n",
       "\n",
       "    .dataframe tbody tr th {\n",
       "        vertical-align: top;\n",
       "    }\n",
       "\n",
       "    .dataframe thead th {\n",
       "        text-align: right;\n",
       "    }\n",
       "</style>\n",
       "<table border=\"1\" class=\"dataframe\">\n",
       "  <thead>\n",
       "    <tr style=\"text-align: right;\">\n",
       "      <th></th>\n",
       "      <th>statefull</th>\n",
       "      <th>density</th>\n",
       "      <th>state</th>\n",
       "    </tr>\n",
       "  </thead>\n",
       "  <tbody>\n",
       "    <tr>\n",
       "      <th>0</th>\n",
       "      <td>Alabama</td>\n",
       "      <td>94.4</td>\n",
       "      <td>AL</td>\n",
       "    </tr>\n",
       "    <tr>\n",
       "      <th>1</th>\n",
       "      <td>Alaska</td>\n",
       "      <td>1.2</td>\n",
       "      <td>AK</td>\n",
       "    </tr>\n",
       "    <tr>\n",
       "      <th>2</th>\n",
       "      <td>Arizona</td>\n",
       "      <td>56.3</td>\n",
       "      <td>AZ</td>\n",
       "    </tr>\n",
       "    <tr>\n",
       "      <th>3</th>\n",
       "      <td>Arkansas</td>\n",
       "      <td>56.0</td>\n",
       "      <td>AR</td>\n",
       "    </tr>\n",
       "    <tr>\n",
       "      <th>4</th>\n",
       "      <td>California</td>\n",
       "      <td>239.1</td>\n",
       "      <td>CA</td>\n",
       "    </tr>\n",
       "  </tbody>\n",
       "</table>\n",
       "</div>"
      ],
      "text/plain": [
       "    statefull density state\n",
       "0     Alabama    94.4    AL\n",
       "1      Alaska     1.2    AK\n",
       "2     Arizona    56.3    AZ\n",
       "3    Arkansas    56.0    AR\n",
       "4  California   239.1    CA"
      ]
     },
     "execution_count": 110,
     "metadata": {},
     "output_type": "execute_result"
    }
   ],
   "source": [
    "density2010=density2010.merge(stateabrv, on='statefull', how='left')\n",
    "density2010.head()"
   ]
  },
  {
   "cell_type": "code",
   "execution_count": 111,
   "metadata": {},
   "outputs": [],
   "source": [
    "data.state=data.state.astype(str)"
   ]
  },
  {
   "cell_type": "code",
   "execution_count": 112,
   "metadata": {},
   "outputs": [
    {
     "data": {
      "text/plain": [
       "0         WA\n",
       "1         CA\n",
       "2         TX\n",
       "3         PA\n",
       "4         TX\n",
       "          ..\n",
       "186450    DC\n",
       "186451    FL\n",
       "186452    IL\n",
       "186453    NY\n",
       "186454    TX\n",
       "Name: state, Length: 186455, dtype: object"
      ]
     },
     "execution_count": 112,
     "metadata": {},
     "output_type": "execute_result"
    }
   ],
   "source": [
    "data.state"
   ]
  },
  {
   "cell_type": "code",
   "execution_count": 113,
   "metadata": {},
   "outputs": [],
   "source": [
    "data=data.merge(density2010, on='state', how='left')"
   ]
  },
  {
   "cell_type": "code",
   "execution_count": 114,
   "metadata": {},
   "outputs": [],
   "source": [
    "data.density=data.density.astype(float)"
   ]
  },
  {
   "cell_type": "markdown",
   "metadata": {},
   "source": [
    "## Features table"
   ]
  },
  {
   "cell_type": "code",
   "execution_count": 115,
   "metadata": {},
   "outputs": [],
   "source": [
    "Features=data[['stories','fireplace','sqft','PrivatePool','Year built','Remodeled year','baths/bed','Parking','schRating','density']]\n",
    "target=data.Price"
   ]
  },
  {
   "cell_type": "code",
   "execution_count": 116,
   "metadata": {},
   "outputs": [
    {
     "name": "stdout",
     "output_type": "stream",
     "text": [
      "<class 'pandas.core.frame.DataFrame'>\n",
      "Int64Index: 186455 entries, 0 to 186454\n",
      "Data columns (total 10 columns):\n",
      " #   Column          Non-Null Count   Dtype  \n",
      "---  ------          --------------   -----  \n",
      " 0   stories         186455 non-null  int64  \n",
      " 1   fireplace       186455 non-null  int64  \n",
      " 2   sqft            186455 non-null  float64\n",
      " 3   PrivatePool     186455 non-null  int64  \n",
      " 4   Year built      186455 non-null  int64  \n",
      " 5   Remodeled year  186455 non-null  int64  \n",
      " 6   baths/bed       186455 non-null  float64\n",
      " 7   Parking         186455 non-null  int64  \n",
      " 8   schRating       186455 non-null  int64  \n",
      " 9   density         186455 non-null  float64\n",
      "dtypes: float64(3), int64(7)\n",
      "memory usage: 15.6 MB\n"
     ]
    }
   ],
   "source": [
    "Features.info()"
   ]
  },
  {
   "cell_type": "code",
   "execution_count": 117,
   "metadata": {},
   "outputs": [
    {
     "data": {
      "text/plain": [
       "<matplotlib.axes._subplots.AxesSubplot at 0x19ff0377d30>"
      ]
     },
     "execution_count": 117,
     "metadata": {},
     "output_type": "execute_result"
    },
    {
     "data": {
      "image/png": "[encoded data removed]",
      "text/plain": [
       "<Figure size 432x288 with 2 Axes>"
      ]
     },
     "metadata": {
      "needs_background": "light"
     },
     "output_type": "display_data"
    }
   ],
   "source": [
    "sns.heatmap(Features.corr(), annot=True, cmap='coolwarm')"
   ]
  },
  {
   "cell_type": "markdown",
   "metadata": {},
   "source": [
    "# Model"
   ]
  },
  {
   "cell_type": "code",
   "execution_count": 118,
   "metadata": {},
   "outputs": [],
   "source": [
    "import numpy as np\n",
    "from sklearn.metrics import mean_absolute_error,mean_squared_error\n",
    "from sklearn.linear_model import LinearRegression\n",
    "from sklearn.ensemble import GradientBoostingRegressor\n",
    "from sklearn.model_selection import train_test_split\n",
    "from sklearn.preprocessing import StandardScaler"
   ]
  },
  {
   "cell_type": "code",
   "execution_count": 119,
   "metadata": {},
   "outputs": [],
   "source": [
    "scaler = StandardScaler()\n",
    "FeaturesSt=scaler.fit_transform(Features)"
   ]
  },
  {
   "cell_type": "code",
   "execution_count": 120,
   "metadata": {},
   "outputs": [
    {
     "name": "stdout",
     "output_type": "stream",
     "text": [
      "X_train: (149164, 10)\n",
      "X_test: (37291, 10)\n",
      "y_train: (149164,)\n",
      "y_test: (37291,)\n"
     ]
    }
   ],
   "source": [
    "X_train, X_test, y_train, y_test = train_test_split(FeaturesSt, target, test_size=0.2)\n",
    "print('X_train:', X_train.shape)\n",
    "print('X_test:', X_test.shape)\n",
    "print('y_train:', y_train.shape)\n",
    "print('y_test:', y_test.shape)"
   ]
  },
  {
   "cell_type": "code",
   "execution_count": 121,
   "metadata": {},
   "outputs": [
    {
     "name": "stdout",
     "output_type": "stream",
     "text": [
      "157.11193379999997\n"
     ]
    }
   ],
   "source": [
    "start = timer()\n",
    "predictor = GradientBoostingRegressor(n_estimators=1000, learning_rate=0.4)\n",
    "predictor.fit(X_train, y_train)\n",
    "y_pred = predictor.predict(X_test)\n",
    "end = timer()\n",
    "print(end - start)"
   ]
  },
  {
   "cell_type": "code",
   "execution_count": 122,
   "metadata": {},
   "outputs": [
    {
     "name": "stdout",
     "output_type": "stream",
     "text": [
      "R^2 GB: 0.9692, MAE GB: 0.07, RSME: 0.1\n"
     ]
    }
   ],
   "source": [
    "mae=mean_absolute_error(y_test,y_pred)\n",
    "mse=mean_squared_error(y_test,y_pred)\n",
    "print(f'R^2 GB: {round(predictor.score(X_test,y_test),4)}, MAE GB: {round(mae,2)}, RSME: {round(np.sqrt(mse),2)}')\n"
   ]
  },
  {
   "cell_type": "markdown",
   "metadata": {},
   "source": [
    "The model is not perfect and requires some further work with the data. "
   ]
  }
 ],
 "metadata": {
  "celltoolbar": "Raw Cell Format",
  "kernelspec": {
   "display_name": "Python 3",
   "language": "python",
   "name": "python3"
  },
  "language_info": {
   "codemirror_mode": {
    "name": "ipython",
    "version": 3
   },
   "file_extension": ".py",
   "mimetype": "text/x-python",
   "name": "python",
   "nbconvert_exporter": "python",
   "pygments_lexer": "ipython3",
   "version": "3.7.3"
  }
 },
 "nbformat": 4,
 "nbformat_minor": 4
}
