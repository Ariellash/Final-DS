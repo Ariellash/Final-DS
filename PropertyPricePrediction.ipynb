{
 "cells": [
  {
   "cell_type": "markdown",
   "metadata": {},
   "source": [
    "# Import packages"
   ]
  },
  {
   "cell_type": "code",
   "execution_count": 1,
   "metadata": {},
   "outputs": [
    {
     "name": "stderr",
     "output_type": "stream",
     "text": [
      "C:\\Users\\dom\\Anaconda3\\lib\\site-packages\\statsmodels\\tools\\_testing.py:19: FutureWarning: pandas.util.testing is deprecated. Use the functions in the public API at pandas.testing instead.\n",
      "  import pandas.util.testing as tm\n"
     ]
    }
   ],
   "source": [
    "import pandas as pd\n",
    "import numpy as np\n",
    "import matplotlib.pyplot as plt\n",
    "import seaborn as sns\n",
    "%matplotlib inline\n",
    "import warnings; warnings.simplefilter('ignore')\n",
    "import ast\n",
    "import re\n",
    "from timeit import default_timer as timer"
   ]
  },
  {
   "cell_type": "markdown",
   "metadata": {},
   "source": [
    "# Functions"
   ]
  },
  {
   "cell_type": "code",
   "execution_count": 2,
   "metadata": {},
   "outputs": [],
   "source": [
    "#Function that writes to csv\n",
    "def saveData(x):\n",
    "    x.to_csv('dataintermediate.csv',index=False)"
   ]
  },
  {
   "cell_type": "code",
   "execution_count": 3,
   "metadata": {},
   "outputs": [],
   "source": [
    "#find any of specific substrings \n",
    "def substringExists(x,strlist):\n",
    "    \"\"\"if any of folling values appears return 1\"\"\"\n",
    "    if any(re.findall('|'.join(strlist),x)):\n",
    "        return 1\n",
    "    return x"
   ]
  },
  {
   "cell_type": "markdown",
   "metadata": {},
   "source": [
    "# Data preparation"
   ]
  },
  {
   "cell_type": "markdown",
   "metadata": {},
   "source": [
    "### Read Data and select columns for Model"
   ]
  },
  {
   "cell_type": "code",
   "execution_count": 4,
   "metadata": {},
   "outputs": [
    {
     "name": "stdout",
     "output_type": "stream",
     "text": [
      "<class 'pandas.core.frame.DataFrame'>\n",
      "RangeIndex: 377185 entries, 0 to 377184\n",
      "Data columns (total 18 columns):\n",
      " #   Column        Non-Null Count   Dtype \n",
      "---  ------        --------------   ----- \n",
      " 0   status        337267 non-null  object\n",
      " 1   private pool  4181 non-null    object\n",
      " 2   propertyType  342452 non-null  object\n",
      " 3   street        377183 non-null  object\n",
      " 4   baths         270847 non-null  object\n",
      " 5   homeFacts     377185 non-null  object\n",
      " 6   fireplace     103115 non-null  object\n",
      " 7   city          377151 non-null  object\n",
      " 8   schools       377185 non-null  object\n",
      " 9   sqft          336608 non-null  object\n",
      " 10  zipcode       377185 non-null  object\n",
      " 11  beds          285903 non-null  object\n",
      " 12  state         377185 non-null  object\n",
      " 13  stories       226470 non-null  object\n",
      " 14  mls-id        24942 non-null   object\n",
      " 15  PrivatePool   40311 non-null   object\n",
      " 16  MlsId         310305 non-null  object\n",
      " 17  target        374704 non-null  object\n",
      "dtypes: object(18)\n",
      "memory usage: 51.8+ MB\n"
     ]
    }
   ],
   "source": [
    "df=pd.read_csv('data.csv')\n",
    "df.info()"
   ]
  },
  {
   "cell_type": "code",
   "execution_count": 5,
   "metadata": {},
   "outputs": [],
   "source": [
    "#First I will use most commonsence properties that might influence the property Price\n",
    "data=df[['status','private pool','baths','homeFacts','fireplace','schools','sqft','beds','state','stories','PrivatePool','propertyType','target']]"
   ]
  },
  {
   "cell_type": "code",
   "execution_count": 6,
   "metadata": {},
   "outputs": [
    {
     "name": "stdout",
     "output_type": "stream",
     "text": [
      "<class 'pandas.core.frame.DataFrame'>\n",
      "RangeIndex: 377185 entries, 0 to 377184\n",
      "Data columns (total 13 columns):\n",
      " #   Column        Non-Null Count   Dtype \n",
      "---  ------        --------------   ----- \n",
      " 0   status        337267 non-null  object\n",
      " 1   private pool  4181 non-null    object\n",
      " 2   baths         270847 non-null  object\n",
      " 3   homeFacts     377185 non-null  object\n",
      " 4   fireplace     103115 non-null  object\n",
      " 5   schools       377185 non-null  object\n",
      " 6   sqft          336608 non-null  object\n",
      " 7   beds          285903 non-null  object\n",
      " 8   state         377185 non-null  object\n",
      " 9   stories       226470 non-null  object\n",
      " 10  PrivatePool   40311 non-null   object\n",
      " 11  propertyType  342452 non-null  object\n",
      " 12  target        374704 non-null  object\n",
      "dtypes: object(13)\n",
      "memory usage: 37.4+ MB\n"
     ]
    }
   ],
   "source": [
    "data.info()"
   ]
  },
  {
   "cell_type": "markdown",
   "metadata": {},
   "source": [
    "## HomeFacts"
   ]
  },
  {
   "cell_type": "code",
   "execution_count": 7,
   "metadata": {},
   "outputs": [],
   "source": [
    "data['homeFacts']=data['homeFacts'].apply(lambda x: ast.literal_eval(x)['atAGlanceFacts'])\n"
   ]
  },
  {
   "cell_type": "code",
   "execution_count": 8,
   "metadata": {},
   "outputs": [
    {
     "data": {
      "text/plain": [
       "['Year built',\n",
       " 'Remodeled year',\n",
       " 'Heating',\n",
       " 'Cooling',\n",
       " 'Parking',\n",
       " 'lotsize',\n",
       " 'Price/sqft']"
      ]
     },
     "execution_count": 8,
     "metadata": {},
     "output_type": "execute_result"
    }
   ],
   "source": [
    "#Get Labels for df columns\n",
    "def getdata(x):\n",
    "    Labels=list()\n",
    "    for i in x:\n",
    "        Labels.append(i['factLabel'])\n",
    "    return Labels\n",
    "Labels=getdata(data.homeFacts[1])\n",
    "Labels"
   ]
  },
  {
   "cell_type": "code",
   "execution_count": 9,
   "metadata": {},
   "outputs": [],
   "source": [
    "#Convert dictionaries per row to appropriate columns in df and extract all the values\n",
    "for l in Labels:\n",
    "    data[l]=data['homeFacts'].apply(lambda x: x[Labels.index(l)]['factValue']) "
   ]
  },
  {
   "cell_type": "code",
   "execution_count": 10,
   "metadata": {},
   "outputs": [],
   "source": [
    "saveData(data)\n"
   ]
  },
  {
   "cell_type": "markdown",
   "metadata": {},
   "source": [
    "## Schools"
   ]
  },
  {
   "cell_type": "code",
   "execution_count": 11,
   "metadata": {},
   "outputs": [],
   "source": [
    "data=pd.read_csv('dataintermediate.csv')\n",
    "data['schools']=data['schools'].apply(lambda x: ast.literal_eval(x)[0])"
   ]
  },
  {
   "cell_type": "code",
   "execution_count": 12,
   "metadata": {},
   "outputs": [],
   "source": [
    "#Extract rating list to schRating column\n",
    "data['schRating']=data['schools'].apply(lambda x: [n for n in x['rating'] if n != 'NR']) "
   ]
  },
  {
   "cell_type": "code",
   "execution_count": 13,
   "metadata": {},
   "outputs": [],
   "source": [
    "def findrating(x):\n",
    "    '''Function that makes an order in ratings and takes the maximum'''\n",
    "    l=[0]\n",
    "    for i in x:\n",
    "        if (i.find('/')>-1 and i[:i.find('/')]=='None') or i=='NA' or i=='':\n",
    "            l.append(0)\n",
    "        elif i.find('/')>-1:\n",
    "            l.append(int(i[:i.find('/')]))\n",
    "        else:\n",
    "            l.append(int(i))\n",
    "    return max(l)"
   ]
  },
  {
   "cell_type": "code",
   "execution_count": 14,
   "metadata": {},
   "outputs": [],
   "source": [
    "data['schRating']=data['schRating'].apply(lambda x: findrating(x))"
   ]
  },
  {
   "cell_type": "code",
   "execution_count": 15,
   "metadata": {},
   "outputs": [
    {
     "name": "stdout",
     "output_type": "stream",
     "text": [
      "<class 'pandas.core.frame.DataFrame'>\n",
      "RangeIndex: 377185 entries, 0 to 377184\n",
      "Data columns (total 21 columns):\n",
      " #   Column          Non-Null Count   Dtype  \n",
      "---  ------          --------------   -----  \n",
      " 0   status          337267 non-null  object \n",
      " 1   private pool    4181 non-null    object \n",
      " 2   baths           270847 non-null  object \n",
      " 3   homeFacts       377185 non-null  object \n",
      " 4   fireplace       103115 non-null  object \n",
      " 5   schools         377185 non-null  object \n",
      " 6   sqft            336608 non-null  object \n",
      " 7   beds            285903 non-null  object \n",
      " 8   state           377185 non-null  object \n",
      " 9   stories         226470 non-null  object \n",
      " 10  PrivatePool     40311 non-null   object \n",
      " 11  propertyType    342452 non-null  object \n",
      " 12  target          374704 non-null  object \n",
      " 13  Year built      314811 non-null  object \n",
      " 14  Remodeled year  151075 non-null  float64\n",
      " 15  Heating         267853 non-null  object \n",
      " 16  Cooling         253218 non-null  object \n",
      " 17  Parking         201765 non-null  object \n",
      " 18  lotsize         315730 non-null  object \n",
      " 19  Price/sqft      313447 non-null  object \n",
      " 20  schRating       377185 non-null  int64  \n",
      "dtypes: float64(1), int64(1), object(19)\n",
      "memory usage: 60.4+ MB\n"
     ]
    }
   ],
   "source": [
    "data.info()"
   ]
  },
  {
   "cell_type": "markdown",
   "metadata": {},
   "source": [
    "### Fill nas in sqft with existing lotsize values"
   ]
  },
  {
   "cell_type": "code",
   "execution_count": 16,
   "metadata": {},
   "outputs": [],
   "source": [
    "data.lotsize=data.lotsize.str.lower().str.strip()\n",
    "#Remove all acre substrings and convert the values to float and fill na of sqft with values\n",
    "data.sqft[(data.sqft.isna()==True)&(data.lotsize.str.contains('acre'))]=data.lotsize[(data.sqft.isna()==True)&(data.lotsize.str.contains('acre'))].str.replace(' acres','').str.replace(',','').str.replace(' acre','').astype(float)*43560.04"
   ]
  },
  {
   "cell_type": "code",
   "execution_count": 17,
   "metadata": {},
   "outputs": [],
   "source": [
    "#Remove all sq substrings and convert the values to float and fill na of sqft with values\n",
    "data.sqft[(data.sqft.isna()==True)&(data.lotsize.str.contains('sq'))]=data.lotsize[(data.sqft.isna()==True)&(data.lotsize.str.contains('sq'))].str.replace(' sq. ft.','').str.replace(',','').str.replace(' sqft','').astype(float)*43560.04"
   ]
  },
  {
   "cell_type": "markdown",
   "metadata": {},
   "source": [
    "## Price/sqft"
   ]
  },
  {
   "cell_type": "code",
   "execution_count": 18,
   "metadata": {},
   "outputs": [],
   "source": [
    "data['Price/sqft']=data['Price/sqft'].str.lower()"
   ]
  },
  {
   "cell_type": "code",
   "execution_count": 19,
   "metadata": {},
   "outputs": [],
   "source": [
    "data['Price/sqft'][(data['Price/sqft'].str.contains('$')==True)&(data['Price/sqft'].isna()==False)]=data['Price/sqft'][(data['Price/sqft'].str.contains('$')==True)&(data['Price/sqft'].isna()==False)].str.replace('$','')\n",
    "data['Price/sqft'][(data['Price/sqft'].str.contains('sq')==True)&(data['Price/sqft'].isna()==False)]=data['Price/sqft'][(data['Price/sqft'].str.contains('sq')==True)&(data['Price/sqft'].isna()==False)].str.replace('/sqft','').str.replace(' / sq. ft.','')\n",
    "data['Price/sqft'][(data['Price/sqft'].str.contains('no')==True)&(data['Price/sqft'].isna()==False)]=data['Price/sqft'][(data['Price/sqft'].str.contains('no')==True)&(data['Price/sqft'].isna()==False)].str.replace('no data','none').str.replace('no info','none')\n",
    "data['Price/sqft'][(data['Price/sqft'].str.contains(',')==True)&(data['Price/sqft'].isna()==False)]=data['Price/sqft'][(data['Price/sqft'].str.contains(',')==True)&(data['Price/sqft'].isna()==False)].str.replace(',','')\n",
    "data['Price/sqft'][(data['Price/sqft'].str.contains('contact manager')==True)&(data['Price/sqft'].isna()==False)]=data['Price/sqft'][(data['Price/sqft'].str.contains('contact manager')==True)&(data['Price/sqft'].isna()==False)].str.replace('contact manager','none')\n",
    "data['Price/sqft'][(data['Price/sqft']=='')&(data['Price/sqft'].isna()==False)]='none'"
   ]
  },
  {
   "cell_type": "code",
   "execution_count": 20,
   "metadata": {},
   "outputs": [
    {
     "data": {
      "text/plain": [
       "0         144\n",
       "1         159\n",
       "2         965\n",
       "3         371\n",
       "4         NaN\n",
       "         ... \n",
       "377180    311\n",
       "377181    337\n",
       "377182    458\n",
       "377183    NaN\n",
       "377184    140\n",
       "Name: Price/sqft, Length: 377185, dtype: object"
      ]
     },
     "execution_count": 20,
     "metadata": {},
     "output_type": "execute_result"
    }
   ],
   "source": [
    "data['Price/sqft'][(data['Price/sqft']!='none')&(data['Price/sqft'].isna()==False)]=data['Price/sqft'][(data['Price/sqft']!='none')&(data['Price/sqft'].isna()==False)].astype(float)\n",
    "data['Price/sqft']"
   ]
  },
  {
   "cell_type": "markdown",
   "metadata": {},
   "source": [
    "### Price of the Property (target) "
   ]
  },
  {
   "cell_type": "code",
   "execution_count": 21,
   "metadata": {},
   "outputs": [
    {
     "data": {
      "text/plain": [
       "' m,$-o/+'"
      ]
     },
     "execution_count": 21,
     "metadata": {},
     "output_type": "execute_result"
    }
   ],
   "source": [
    "#find symbols that are not numbers to replace\n",
    "\n",
    "symbollist=data.target.str.findall(r'\\D').value_counts().reset_index()['index']\n",
    "s=list()\n",
    "for i in symbollist:\n",
    "    s=s+i\n",
    "s=list(set(s))\n",
    "s=''.join(s)\n",
    "s"
   ]
  },
  {
   "cell_type": "code",
   "execution_count": 22,
   "metadata": {},
   "outputs": [],
   "source": [
    "#Function that First remove \",\",\"+\",\"/mo\" from all string values then If the string value is a range - take the average\n",
    "#Function returns for strings it's numeric value\n",
    "def clean_currency(x):\n",
    "    \"\"\"replace redundent symbols\"\"\"\n",
    "    if isinstance(x, str):\n",
    "        x=x.replace('$','').replace(',','').replace('+','').replace('/mo','')\n",
    "      \n",
    "    #for values that appears as range take the average\n",
    "    if isinstance(x, str) and x.find(' - ')>0:\n",
    "        a=x.find(' - ')\n",
    "        return((float(x[:a])+float(x[a+3:]))/2)  \n",
    "    return(float(x))"
   ]
  },
  {
   "cell_type": "code",
   "execution_count": 23,
   "metadata": {},
   "outputs": [],
   "source": [
    "data['target'] = data['target'].apply(clean_currency)\n",
    "data=data.rename(columns={'target':'Price'})"
   ]
  },
  {
   "cell_type": "code",
   "execution_count": 24,
   "metadata": {},
   "outputs": [
    {
     "name": "stdout",
     "output_type": "stream",
     "text": [
      "<class 'pandas.core.frame.DataFrame'>\n",
      "RangeIndex: 377185 entries, 0 to 377184\n",
      "Data columns (total 21 columns):\n",
      " #   Column          Non-Null Count   Dtype  \n",
      "---  ------          --------------   -----  \n",
      " 0   status          337267 non-null  object \n",
      " 1   private pool    4181 non-null    object \n",
      " 2   baths           270847 non-null  object \n",
      " 3   homeFacts       377185 non-null  object \n",
      " 4   fireplace       103115 non-null  object \n",
      " 5   schools         377185 non-null  object \n",
      " 6   sqft            362944 non-null  object \n",
      " 7   beds            285903 non-null  object \n",
      " 8   state           377185 non-null  object \n",
      " 9   stories         226470 non-null  object \n",
      " 10  PrivatePool     40311 non-null   object \n",
      " 11  propertyType    342452 non-null  object \n",
      " 12  Price           374704 non-null  float64\n",
      " 13  Year built      314811 non-null  object \n",
      " 14  Remodeled year  151075 non-null  float64\n",
      " 15  Heating         267853 non-null  object \n",
      " 16  Cooling         253218 non-null  object \n",
      " 17  Parking         201765 non-null  object \n",
      " 18  lotsize         315730 non-null  object \n",
      " 19  Price/sqft      313447 non-null  object \n",
      " 20  schRating       377185 non-null  int64  \n",
      "dtypes: float64(2), int64(1), object(18)\n",
      "memory usage: 60.4+ MB\n"
     ]
    }
   ],
   "source": [
    "data.info()"
   ]
  },
  {
   "cell_type": "markdown",
   "metadata": {},
   "source": [
    "## sqft"
   ]
  },
  {
   "cell_type": "code",
   "execution_count": 25,
   "metadata": {},
   "outputs": [],
   "source": [
    "#use Area data for filling NAs for sqft\n",
    "values=data['beds'][data.beds.str.contains('sqft')==True]\n",
    "valuesA=data['beds'][data.beds.str.contains('acres')==True]\n",
    "data['sqft'][data.beds.str.contains('sqft')==True]=values\n",
    "data['sqft'][data.beds.str.contains('acres')==True]=valuesA\n",
    "data[['beds','sqft']][(data.beds.str.contains('sqft|acres')==True)]\n",
    "data['beds'][data.beds.str.contains('sqft|arcres')==True]='None'"
   ]
  },
  {
   "cell_type": "code",
   "execution_count": 26,
   "metadata": {},
   "outputs": [],
   "source": [
    "data.sqft[data.sqft.str.contains(' sqft|,')==True]=data.sqft[data.sqft.str.contains(' sqft|,')==True].str.replace(' sqft','').str.replace(',','')\n",
    "data.sqft[data.sqft.str.contains('acre')==True]=data.sqft[data.sqft.str.contains('acre')==True].str.replace(' acres','').astype(float)*43560.04\n",
    "data.sqft[(data.sqft.str.contains('\\D')==True)&(data.sqft.isna()==False)]=data.sqft[(data.sqft.str.contains('\\D')==True)&(data.sqft.isna()==False)].str.replace('\\D','')\n",
    "#fill blank with mean of non blank\n",
    "data.sqft[(data.sqft.isna()==False)&(data.sqft=='')]=data.sqft[(data.sqft.isna()==False)&(data.sqft!='')].astype(float).mean()\n",
    "data.sqft[(data.sqft.isna()==False)]=data.sqft[(data.sqft.isna()==False)].astype(float)"
   ]
  },
  {
   "cell_type": "code",
   "execution_count": 27,
   "metadata": {},
   "outputs": [],
   "source": [
    "#Group data according to property type and take the average area for each property type for NA\n",
    "Area=data[['sqft','propertyType']]\n",
    "Area['sqft']=Area['sqft'][Area.sqft.isna()==False].astype(float)\n",
    "Area=Area[Area.sqft.isna()==False].groupby(by='propertyType').mean().reset_index()\n",
    "Area.sqft=Area.sqft.round(decimals=0)\n",
    "data.sqft[data.sqft.isna()==True]=data[data.sqft.isna()==True].merge(Area, on='propertyType', how='left').sqft_y\n"
   ]
  },
  {
   "cell_type": "markdown",
   "metadata": {},
   "source": [
    "### Use Price, sqft and Price/sqft to fill na's"
   ]
  },
  {
   "cell_type": "code",
   "execution_count": 28,
   "metadata": {},
   "outputs": [],
   "source": [
    "#replace sqft nas with [Price]/[Price/sqft]\n",
    "data1=data[['Price/sqft','sqft','Price']][(data.sqft.isna()==True)&(data['Price/sqft'].isna()==False)&(data.Price.isna()==False)&(data['Price/sqft']!='none')]\n",
    "data1.sqft=data1.Price/data1['Price/sqft']\n",
    "data['sqft'].iloc[data1.index]=data1.sqft"
   ]
  },
  {
   "cell_type": "code",
   "execution_count": 29,
   "metadata": {},
   "outputs": [
    {
     "name": "stdout",
     "output_type": "stream",
     "text": [
      "<class 'pandas.core.frame.DataFrame'>\n",
      "RangeIndex: 377185 entries, 0 to 377184\n",
      "Data columns (total 21 columns):\n",
      " #   Column          Non-Null Count   Dtype  \n",
      "---  ------          --------------   -----  \n",
      " 0   status          337267 non-null  object \n",
      " 1   private pool    4181 non-null    object \n",
      " 2   baths           270847 non-null  object \n",
      " 3   homeFacts       377185 non-null  object \n",
      " 4   fireplace       103115 non-null  object \n",
      " 5   schools         377185 non-null  object \n",
      " 6   sqft            366397 non-null  object \n",
      " 7   beds            285903 non-null  object \n",
      " 8   state           377185 non-null  object \n",
      " 9   stories         226470 non-null  object \n",
      " 10  PrivatePool     40311 non-null   object \n",
      " 11  propertyType    342452 non-null  object \n",
      " 12  Price           375054 non-null  object \n",
      " 13  Year built      314811 non-null  object \n",
      " 14  Remodeled year  151075 non-null  float64\n",
      " 15  Heating         267853 non-null  object \n",
      " 16  Cooling         253218 non-null  object \n",
      " 17  Parking         201765 non-null  object \n",
      " 18  lotsize         315730 non-null  object \n",
      " 19  Price/sqft      313447 non-null  object \n",
      " 20  schRating       377185 non-null  int64  \n",
      "dtypes: float64(1), int64(1), object(19)\n",
      "memory usage: 60.4+ MB\n"
     ]
    }
   ],
   "source": [
    "#replace Price nas with [sqft]*[Price/sqft]\n",
    "data1=data[['Price/sqft','sqft','Price']][((data.Price.isna()==True)&data.sqft.isna()==False)&(data['Price/sqft'].isna()==False)&(data['Price/sqft']!='none')]\n",
    "data1.Price=data1.sqft*data1['Price/sqft']\n",
    "data['Price'].iloc[data1.index]=data1.Price\n",
    "data.info()"
   ]
  },
  {
   "cell_type": "code",
   "execution_count": 30,
   "metadata": {},
   "outputs": [],
   "source": [
    "data.drop(['Price/sqft','lotsize'],axis=1,inplace=True)"
   ]
  },
  {
   "cell_type": "markdown",
   "metadata": {},
   "source": [
    "### Get rid of the rows where Price and sqft is NA"
   ]
  },
  {
   "cell_type": "code",
   "execution_count": 31,
   "metadata": {},
   "outputs": [],
   "source": [
    "data.dropna(subset=['sqft'],axis=0,inplace=True)\n",
    "data.dropna(subset=['Price'],axis=0,inplace=True)"
   ]
  },
  {
   "cell_type": "code",
   "execution_count": 32,
   "metadata": {},
   "outputs": [],
   "source": [
    "data.sqft=data.sqft.astype(float)\n",
    "data.Price=data.Price.astype(float)"
   ]
  },
  {
   "cell_type": "code",
   "execution_count": 33,
   "metadata": {},
   "outputs": [
    {
     "data": {
      "text/plain": [
       "count    3.643860e+05\n",
       "mean     5.374513e+07\n",
       "std      1.875630e+09\n",
       "min      0.000000e+00\n",
       "25%      1.871790e+05\n",
       "50%      3.192600e+05\n",
       "75%      5.732440e+05\n",
       "max      3.450013e+11\n",
       "Name: Price, dtype: float64"
      ]
     },
     "execution_count": 33,
     "metadata": {},
     "output_type": "execute_result"
    }
   ],
   "source": [
    "data.Price.describe()"
   ]
  },
  {
   "cell_type": "code",
   "execution_count": 34,
   "metadata": {},
   "outputs": [
    {
     "data": {
      "text/plain": [
       "(-345001266.726, 34500126672.528]       0.999336\n",
       "(34500126672.528, 69000253345.056]      0.000519\n",
       "(69000253345.056, 103500380017.584]     0.000104\n",
       "(103500380017.584, 138000506690.112]    0.000025\n",
       "(241500886707.696, 276001013380.224]    0.000005\n",
       "(138000506690.112, 172500633362.64]     0.000005\n",
       "(310501140052.752, 345001266725.28]     0.000003\n",
       "(172500633362.64, 207000760035.168]     0.000003\n",
       "(276001013380.224, 310501140052.752]    0.000000\n",
       "(207000760035.168, 241500886707.696]    0.000000\n",
       "Name: Price, dtype: float64"
      ]
     },
     "execution_count": 34,
     "metadata": {},
     "output_type": "execute_result"
    }
   ],
   "source": [
    "data.Price.value_counts(normalize=True,bins=10)"
   ]
  },
  {
   "cell_type": "code",
   "execution_count": 35,
   "metadata": {},
   "outputs": [
    {
     "data": {
      "text/plain": [
       "<matplotlib.axes._subplots.AxesSubplot at 0x2028f923a90>"
      ]
     },
     "execution_count": 35,
     "metadata": {},
     "output_type": "execute_result"
    },
    {
     "data": {
      "image/png": "[encoded data removed]",
      "text/plain": [
       "<Figure size 432x288 with 1 Axes>"
      ]
     },
     "metadata": {
      "needs_background": "light"
     },
     "output_type": "display_data"
    }
   ],
   "source": [
    "sns.distplot(np.log(data.Price[(data.Price >0)&(data.Price <=34500126672.528)]))"
   ]
  },
  {
   "cell_type": "code",
   "execution_count": 36,
   "metadata": {},
   "outputs": [],
   "source": [
    "#get rid of exceptions data\n",
    "data.drop(data.Price[(data.Price <=0)|(data.Price >34500126672.528)].index,axis=0,inplace=True)"
   ]
  },
  {
   "cell_type": "code",
   "execution_count": 37,
   "metadata": {},
   "outputs": [],
   "source": [
    "#normalizing Price\n",
    "data.Price=np.log(data.Price)"
   ]
  },
  {
   "cell_type": "code",
   "execution_count": 38,
   "metadata": {},
   "outputs": [],
   "source": [
    "#data.to_csv('dataintermediate.csv',index=False)\n",
    "saveData(data)"
   ]
  },
  {
   "cell_type": "code",
   "execution_count": 39,
   "metadata": {},
   "outputs": [],
   "source": [
    "data=pd.read_csv('dataintermediate.csv')"
   ]
  },
  {
   "cell_type": "markdown",
   "metadata": {},
   "source": [
    "## Year built and remodeled"
   ]
  },
  {
   "cell_type": "code",
   "execution_count": 40,
   "metadata": {},
   "outputs": [
    {
     "name": "stdout",
     "output_type": "stream",
     "text": [
      "<class 'pandas.core.frame.DataFrame'>\n",
      "RangeIndex: 363979 entries, 0 to 363978\n",
      "Data columns (total 19 columns):\n",
      " #   Column          Non-Null Count   Dtype  \n",
      "---  ------          --------------   -----  \n",
      " 0   status          324765 non-null  object \n",
      " 1   private pool    4151 non-null    object \n",
      " 2   baths           267677 non-null  object \n",
      " 3   homeFacts       363979 non-null  object \n",
      " 4   fireplace       102296 non-null  object \n",
      " 5   schools         363979 non-null  object \n",
      " 6   sqft            363979 non-null  float64\n",
      " 7   beds            281183 non-null  object \n",
      " 8   state           363979 non-null  object \n",
      " 9   stories         224346 non-null  object \n",
      " 10  PrivatePool     40001 non-null   object \n",
      " 11  propertyType    337103 non-null  object \n",
      " 12  Price           363979 non-null  float64\n",
      " 13  Year built      310114 non-null  object \n",
      " 14  Remodeled year  149343 non-null  float64\n",
      " 15  Heating         264298 non-null  object \n",
      " 16  Cooling         250204 non-null  object \n",
      " 17  Parking         199485 non-null  object \n",
      " 18  schRating       363979 non-null  int64  \n",
      "dtypes: float64(3), int64(1), object(15)\n",
      "memory usage: 52.8+ MB\n"
     ]
    }
   ],
   "source": [
    "data=pd.read_csv('dataintermediate.csv')\n",
    "data.info()"
   ]
  },
  {
   "cell_type": "code",
   "execution_count": 41,
   "metadata": {},
   "outputs": [],
   "source": [
    "#put indexes of str and num values in to variables\n",
    "stri=data['Year built'][data['Year built'].str.contains('\\D')==True].index\n",
    "numi=data['Year built'][data['Year built'].str.contains('\\D')==False].index"
   ]
  },
  {
   "cell_type": "code",
   "execution_count": 42,
   "metadata": {},
   "outputs": [],
   "source": [
    "#replace exeptions where there is no sence (smaller than 0 or bigger than 2020) by No Data\n",
    "iyearexp=data['Year built'].iloc[numi].astype('int64')[(data['Year built'].iloc[numi].astype('int64')<0)|(data['Year built'].iloc[numi].astype('int64')>2020)].index\n",
    "data['Year built'].iloc[iyearexp]='No Data'\n",
    "numi=data['Year built'][data['Year built'].str.contains('\\D')==False].index\n",
    "stri=data['Year built'][data['Year built'].str.contains('\\D')==True].index"
   ]
  },
  {
   "cell_type": "code",
   "execution_count": 43,
   "metadata": {},
   "outputs": [
    {
     "data": {
      "image/png": "[encoded data removed]",
      "text/plain": [
       "<Figure size 432x288 with 1 Axes>"
      ]
     },
     "metadata": {
      "needs_background": "light"
     },
     "output_type": "display_data"
    }
   ],
   "source": [
    "#Check if there are more exeptions\n",
    "sns.boxplot(data['Year built'].iloc[numi].astype('int64'), color='yellow');"
   ]
  },
  {
   "cell_type": "code",
   "execution_count": 44,
   "metadata": {},
   "outputs": [],
   "source": [
    "#Drop more exeptions values that smaller than 1500 -> update number indexes value\n",
    "iyearexp=data['Year built'].iloc[numi].astype('int64')[(data['Year built'].iloc[numi].astype('int64')<1500)|(data['Year built'].iloc[numi].astype('int64')>2020)].index\n",
    "data['Year built'].iloc[iyearexp]='No Data'\n",
    "numi=data['Year built'][data['Year built'].str.contains('\\D')==False].index\n",
    "stri=data['Year built'][data['Year built'].str.contains('\\D')==True].index"
   ]
  },
  {
   "cell_type": "code",
   "execution_count": 45,
   "metadata": {},
   "outputs": [
    {
     "data": {
      "image/png": "[encoded data removed]",
      "text/plain": [
       "<Figure size 432x288 with 1 Axes>"
      ]
     },
     "metadata": {
      "needs_background": "light"
     },
     "output_type": "display_data"
    }
   ],
   "source": [
    "sns.boxplot(data['Year built'].iloc[numi].astype('int64'), color='yellow');"
   ]
  },
  {
   "cell_type": "code",
   "execution_count": 46,
   "metadata": {},
   "outputs": [],
   "source": [
    "#convert numeric data to integer\n",
    "data['Year built'].iloc[numi]=data['Year built'].iloc[numi].astype(int)"
   ]
  },
  {
   "cell_type": "code",
   "execution_count": 47,
   "metadata": {},
   "outputs": [],
   "source": [
    "#replace string data to mean of numeric data\n",
    "data['Year built'].iloc[stri]=int(round(data['Year built'].iloc[numi].mean(),0))"
   ]
  },
  {
   "cell_type": "code",
   "execution_count": 48,
   "metadata": {},
   "outputs": [],
   "source": [
    "#fill nas with the mean of numeric values\n",
    "data['Year built'].fillna(int(round(data['Year built'].iloc[numi].mean(),0)),inplace=True)"
   ]
  },
  {
   "cell_type": "code",
   "execution_count": 49,
   "metadata": {},
   "outputs": [
    {
     "data": {
      "text/plain": [
       "count    363979.000000\n",
       "mean       1979.307166\n",
       "std          30.905259\n",
       "min        1700.000000\n",
       "25%        1962.000000\n",
       "50%        1979.000000\n",
       "75%        2005.000000\n",
       "max        2020.000000\n",
       "Name: Year built, dtype: float64"
      ]
     },
     "execution_count": 49,
     "metadata": {},
     "output_type": "execute_result"
    }
   ],
   "source": [
    "data['Year built'].describe()"
   ]
  },
  {
   "cell_type": "code",
   "execution_count": 50,
   "metadata": {},
   "outputs": [],
   "source": [
    "data['Remodeled year'].fillna(data['Remodeled year'].notnull().mean(),inplace=True)\n",
    "data['Remodeled year']=data['Remodeled year'].astype(int)"
   ]
  },
  {
   "cell_type": "markdown",
   "metadata": {},
   "source": [
    "### Status"
   ]
  },
  {
   "cell_type": "code",
   "execution_count": 51,
   "metadata": {},
   "outputs": [
    {
     "data": {
      "text/html": [
       "<div>\n",
       "<style scoped>\n",
       "    .dataframe tbody tr th:only-of-type {\n",
       "        vertical-align: middle;\n",
       "    }\n",
       "\n",
       "    .dataframe tbody tr th {\n",
       "        vertical-align: top;\n",
       "    }\n",
       "\n",
       "    .dataframe thead th {\n",
       "        text-align: right;\n",
       "    }\n",
       "</style>\n",
       "<table border=\"1\" class=\"dataframe\">\n",
       "  <thead>\n",
       "    <tr style=\"text-align: right;\">\n",
       "      <th></th>\n",
       "      <th>index</th>\n",
       "      <th>status</th>\n",
       "    </tr>\n",
       "  </thead>\n",
       "  <tbody>\n",
       "    <tr>\n",
       "      <th>0</th>\n",
       "      <td>for sale</td>\n",
       "      <td>0.607365</td>\n",
       "    </tr>\n",
       "    <tr>\n",
       "      <th>1</th>\n",
       "      <td>active</td>\n",
       "      <td>0.298634</td>\n",
       "    </tr>\n",
       "    <tr>\n",
       "      <th>2</th>\n",
       "      <td>foreclosure</td>\n",
       "      <td>0.018010</td>\n",
       "    </tr>\n",
       "    <tr>\n",
       "      <th>3</th>\n",
       "      <td>new construction</td>\n",
       "      <td>0.016797</td>\n",
       "    </tr>\n",
       "    <tr>\n",
       "      <th>4</th>\n",
       "      <td>pending</td>\n",
       "      <td>0.014768</td>\n",
       "    </tr>\n",
       "    <tr>\n",
       "      <th>...</th>\n",
       "      <td>...</td>\n",
       "      <td>...</td>\n",
       "    </tr>\n",
       "    <tr>\n",
       "      <th>145</th>\n",
       "      <td>pending backups wanted</td>\n",
       "      <td>0.000003</td>\n",
       "    </tr>\n",
       "    <tr>\n",
       "      <th>146</th>\n",
       "      <td>coming soon: oct 21.</td>\n",
       "      <td>0.000003</td>\n",
       "    </tr>\n",
       "    <tr>\n",
       "      <th>147</th>\n",
       "      <td>coming soon: nov 23.</td>\n",
       "      <td>0.000003</td>\n",
       "    </tr>\n",
       "    <tr>\n",
       "      <th>148</th>\n",
       "      <td>coming soon: dec 25.</td>\n",
       "      <td>0.000003</td>\n",
       "    </tr>\n",
       "    <tr>\n",
       "      <th>149</th>\n",
       "      <td>temporary active</td>\n",
       "      <td>0.000003</td>\n",
       "    </tr>\n",
       "  </tbody>\n",
       "</table>\n",
       "<p>150 rows × 2 columns</p>\n",
       "</div>"
      ],
      "text/plain": [
       "                      index    status\n",
       "0                  for sale  0.607365\n",
       "1                    active  0.298634\n",
       "2               foreclosure  0.018010\n",
       "3          new construction  0.016797\n",
       "4                   pending  0.014768\n",
       "..                      ...       ...\n",
       "145  pending backups wanted  0.000003\n",
       "146    coming soon: oct 21.  0.000003\n",
       "147    coming soon: nov 23.  0.000003\n",
       "148    coming soon: dec 25.  0.000003\n",
       "149        temporary active  0.000003\n",
       "\n",
       "[150 rows x 2 columns]"
      ]
     },
     "execution_count": 51,
     "metadata": {},
     "output_type": "execute_result"
    }
   ],
   "source": [
    "data.status=data.status.str.lower()\n",
    "status=data.status\n",
    "status=status.value_counts(normalize=True).reset_index()\n",
    "status\n",
    "#according to next summary I would use only for sale, active, accepted for status(that are 91% of overall amount), the rest will be dropped"
   ]
  },
  {
   "cell_type": "code",
   "execution_count": 52,
   "metadata": {},
   "outputs": [
    {
     "data": {
      "text/html": [
       "<div>\n",
       "<style scoped>\n",
       "    .dataframe tbody tr th:only-of-type {\n",
       "        vertical-align: middle;\n",
       "    }\n",
       "\n",
       "    .dataframe tbody tr th {\n",
       "        vertical-align: top;\n",
       "    }\n",
       "\n",
       "    .dataframe thead th {\n",
       "        text-align: right;\n",
       "    }\n",
       "</style>\n",
       "<table border=\"1\" class=\"dataframe\">\n",
       "  <thead>\n",
       "    <tr style=\"text-align: right;\">\n",
       "      <th></th>\n",
       "      <th>newStatus</th>\n",
       "      <th>status</th>\n",
       "    </tr>\n",
       "  </thead>\n",
       "  <tbody>\n",
       "    <tr>\n",
       "      <th>0</th>\n",
       "      <td>1</td>\n",
       "      <td>0.910160</td>\n",
       "    </tr>\n",
       "    <tr>\n",
       "      <th>1</th>\n",
       "      <td>/ auction</td>\n",
       "      <td>0.002457</td>\n",
       "    </tr>\n",
       "    <tr>\n",
       "      <th>2</th>\n",
       "      <td>accepting backups</td>\n",
       "      <td>0.000006</td>\n",
       "    </tr>\n",
       "    <tr>\n",
       "      <th>3</th>\n",
       "      <td>apartment for rent</td>\n",
       "      <td>0.000022</td>\n",
       "    </tr>\n",
       "    <tr>\n",
       "      <th>4</th>\n",
       "      <td>auction</td>\n",
       "      <td>0.001490</td>\n",
       "    </tr>\n",
       "    <tr>\n",
       "      <th>...</th>\n",
       "      <td>...</td>\n",
       "      <td>...</td>\n",
       "    </tr>\n",
       "    <tr>\n",
       "      <th>128</th>\n",
       "      <td>under contract - show</td>\n",
       "      <td>0.000028</td>\n",
       "    </tr>\n",
       "    <tr>\n",
       "      <th>129</th>\n",
       "      <td>under contract backups</td>\n",
       "      <td>0.000776</td>\n",
       "    </tr>\n",
       "    <tr>\n",
       "      <th>130</th>\n",
       "      <td>under contract show</td>\n",
       "      <td>0.003643</td>\n",
       "    </tr>\n",
       "    <tr>\n",
       "      <th>131</th>\n",
       "      <td>under contract taking back up offers</td>\n",
       "      <td>0.000003</td>\n",
       "    </tr>\n",
       "    <tr>\n",
       "      <th>132</th>\n",
       "      <td>under contract w/ bckp</td>\n",
       "      <td>0.000003</td>\n",
       "    </tr>\n",
       "  </tbody>\n",
       "</table>\n",
       "<p>133 rows × 2 columns</p>\n",
       "</div>"
      ],
      "text/plain": [
       "                                newStatus    status\n",
       "0                                       1  0.910160\n",
       "1                               / auction  0.002457\n",
       "2                       accepting backups  0.000006\n",
       "3                      apartment for rent  0.000022\n",
       "4                                 auction  0.001490\n",
       "..                                    ...       ...\n",
       "128                 under contract - show  0.000028\n",
       "129                under contract backups  0.000776\n",
       "130                   under contract show  0.003643\n",
       "131  under contract taking back up offers  0.000003\n",
       "132                under contract w/ bckp  0.000003\n",
       "\n",
       "[133 rows x 2 columns]"
      ]
     },
     "execution_count": 52,
     "metadata": {},
     "output_type": "execute_result"
    }
   ],
   "source": [
    "strlist=['for sale','active','accepted']\n",
    "status['newStatus']=status['index'].apply(lambda x: substringExists(x,strlist))\n",
    "nstatus=status.groupby('newStatus').sum().reset_index()\n",
    "nstatus"
   ]
  },
  {
   "cell_type": "code",
   "execution_count": 53,
   "metadata": {},
   "outputs": [
    {
     "data": {
      "text/plain": [
       "['foreclosure',\n",
       " 'new construction',\n",
       " 'pending',\n",
       " 'pre-foreclosure',\n",
       " 'p',\n",
       " 'pre-foreclosure / auction',\n",
       " 'under contract show',\n",
       " ' / auction',\n",
       " 'under contract   showing',\n",
       " 'under contract',\n",
       " 'new',\n",
       " 'contingent',\n",
       " 'price change',\n",
       " 'auction',\n",
       " 'for rent',\n",
       " 'foreclosed',\n",
       " 'recently sold',\n",
       " 'under contract backups',\n",
       " 'contingent finance and inspection',\n",
       " 'pending continue to show',\n",
       " 'back on market',\n",
       " 'option pending',\n",
       " 'contingent show',\n",
       " 'pending taking backups',\n",
       " 'option contract',\n",
       " 'pending with contingencies',\n",
       " 'c',\n",
       " 'pi',\n",
       " 'contract p',\n",
       " 'p pending sale',\n",
       " 'due diligence period',\n",
       " 'contract contingent on buyer sale',\n",
       " 'listing extended',\n",
       " 'c continue show',\n",
       " 'pending - taking backups',\n",
       " 'closed',\n",
       " 'offer pending signature',\n",
       " 'contingent take backup',\n",
       " 'pending inspection',\n",
       " 'pending in',\n",
       " 'contingent   show',\n",
       " 'u under contract',\n",
       " 'coming soon: nov 29.',\n",
       " 'contingent escape',\n",
       " 'pending w/insp finance',\n",
       " 'under contract - show',\n",
       " 'contingency contract',\n",
       " 'ct insp - inspection contingency',\n",
       " 'coming soon: dec 6.',\n",
       " 'condo for rent',\n",
       " 'apartment for rent',\n",
       " 'coming soon: dec 5.',\n",
       " 'pending ab',\n",
       " 'coming soon: dec 4.',\n",
       " 'backup contract',\n",
       " 'ct',\n",
       " 'coming soon: dec 13.',\n",
       " 'pending   continue to show   financing',\n",
       " 'contingency 48 hr (+/ )',\n",
       " 'contingent lien holder release',\n",
       " 'coming soon: nov 27.',\n",
       " 'coming soon: nov 28.',\n",
       " 'coming soon: nov 19.',\n",
       " 'pf',\n",
       " 'coming soon: dec 10.',\n",
       " 'pending offer approval',\n",
       " 'coming soon: dec 7.',\n",
       " 'pending   continue to show',\n",
       " 'contingent   release',\n",
       " 'lease/purchase pending',\n",
       " 'coming soon: dec 9.',\n",
       " 'coming soon: nov 30.',\n",
       " 'coming soon: dec 14.',\n",
       " 'pending fe',\n",
       " 'coming soon: dec 3.',\n",
       " 'coming soon: dec 2.',\n",
       " 'coming soon: dec 16.',\n",
       " 'coming soon: nov 13.',\n",
       " 'pending sale',\n",
       " 'contingent - financing',\n",
       " 'uc continue to show',\n",
       " 'coming soon: dec 20.',\n",
       " 'contingent   foreclosure',\n",
       " 'coming soon: nov 21.',\n",
       " 're activated',\n",
       " 'pending w/ cont.',\n",
       " 'under contract - no show',\n",
       " 'pending (do not show)',\n",
       " 'accepting backups',\n",
       " 'coming soon: oct 30.',\n",
       " 'pending - continue to show',\n",
       " 'coming soon: nov 22.',\n",
       " 'coming soon: dec 24.',\n",
       " 'ps',\n",
       " 'coming soon: dec 18.',\n",
       " 'coming soon: nov 5.',\n",
       " 'contingent - sale of home',\n",
       " 'conditional contract',\n",
       " 'pending, continue to show',\n",
       " 'coming soon: nov 17.',\n",
       " 'coming soon: nov 8.',\n",
       " 'contingent   no show',\n",
       " 'coming soon: dec 12.',\n",
       " 'coming soon: dec 23.',\n",
       " 'pending sh',\n",
       " 'coming soon: nov 11.',\n",
       " 'coming soon: nov 12.',\n",
       " 'coming soon: oct 24.',\n",
       " 'coming soon: dec 11.',\n",
       " 'under contract w/ bckp',\n",
       " 'coming soon: dec 1.',\n",
       " 'reactivated',\n",
       " 'pending take backups',\n",
       " 'coming soon: oct 29.',\n",
       " 'coming soon: dec 27.',\n",
       " 'coming soon: nov 25.',\n",
       " 'sold: $15,000',\n",
       " 'contract',\n",
       " 'pending w/escape clause',\n",
       " 'conting accpt backups',\n",
       " 'lease/purchase',\n",
       " 'coming soon: nov 26.',\n",
       " 'pending bring backup',\n",
       " 'coming soon: dec 15.',\n",
       " 'pending w/backup wanted',\n",
       " 'under contract taking back up offers',\n",
       " 'coming soon: nov 14.',\n",
       " 'pending - backup offer requested',\n",
       " 'pending backups wanted',\n",
       " 'coming soon: oct 21.',\n",
       " 'coming soon: nov 23.',\n",
       " 'coming soon: dec 25.']"
      ]
     },
     "execution_count": 53,
     "metadata": {},
     "output_type": "execute_result"
    }
   ],
   "source": [
    "#create list of statuses that are not relevant and then drop them from df\n",
    "nstatus=status[status['newStatus']!=1]['newStatus']\n",
    "nstatus.tolist()"
   ]
  },
  {
   "cell_type": "code",
   "execution_count": 54,
   "metadata": {},
   "outputs": [
    {
     "data": {
      "text/html": [
       "<div>\n",
       "<style scoped>\n",
       "    .dataframe tbody tr th:only-of-type {\n",
       "        vertical-align: middle;\n",
       "    }\n",
       "\n",
       "    .dataframe tbody tr th {\n",
       "        vertical-align: top;\n",
       "    }\n",
       "\n",
       "    .dataframe thead th {\n",
       "        text-align: right;\n",
       "    }\n",
       "</style>\n",
       "<table border=\"1\" class=\"dataframe\">\n",
       "  <thead>\n",
       "    <tr style=\"text-align: right;\">\n",
       "      <th></th>\n",
       "      <th>private pool</th>\n",
       "      <th>baths</th>\n",
       "      <th>homeFacts</th>\n",
       "      <th>fireplace</th>\n",
       "      <th>schools</th>\n",
       "      <th>sqft</th>\n",
       "      <th>beds</th>\n",
       "      <th>state</th>\n",
       "      <th>stories</th>\n",
       "      <th>PrivatePool</th>\n",
       "      <th>propertyType</th>\n",
       "      <th>Price</th>\n",
       "      <th>Year built</th>\n",
       "      <th>Remodeled year</th>\n",
       "      <th>Heating</th>\n",
       "      <th>Cooling</th>\n",
       "      <th>Parking</th>\n",
       "      <th>schRating</th>\n",
       "    </tr>\n",
       "  </thead>\n",
       "  <tbody>\n",
       "    <tr>\n",
       "      <th>0</th>\n",
       "      <td>NaN</td>\n",
       "      <td>3.5</td>\n",
       "      <td>[{'factValue': '2019', 'factLabel': 'Year buil...</td>\n",
       "      <td>Gas Logs</td>\n",
       "      <td>{'rating': ['4', '4', '7', 'NR', '4', '7', 'NR...</td>\n",
       "      <td>2.900000e+03</td>\n",
       "      <td>4</td>\n",
       "      <td>NC</td>\n",
       "      <td>NaN</td>\n",
       "      <td>NaN</td>\n",
       "      <td>Single Family Home</td>\n",
       "      <td>12.942279</td>\n",
       "      <td>2019</td>\n",
       "      <td>0</td>\n",
       "      <td>Central A/C, Heat Pump</td>\n",
       "      <td>NaN</td>\n",
       "      <td>NaN</td>\n",
       "      <td>7</td>\n",
       "    </tr>\n",
       "    <tr>\n",
       "      <th>1</th>\n",
       "      <td>NaN</td>\n",
       "      <td>3 Baths</td>\n",
       "      <td>[{'factValue': '2019', 'factLabel': 'Year buil...</td>\n",
       "      <td>NaN</td>\n",
       "      <td>{'rating': ['4/10', 'None/10', '4/10'], 'data'...</td>\n",
       "      <td>1.947000e+03</td>\n",
       "      <td>3 Beds</td>\n",
       "      <td>WA</td>\n",
       "      <td>2.0</td>\n",
       "      <td>NaN</td>\n",
       "      <td>single-family home</td>\n",
       "      <td>12.642949</td>\n",
       "      <td>2019</td>\n",
       "      <td>0</td>\n",
       "      <td>NaN</td>\n",
       "      <td>NaN</td>\n",
       "      <td>NaN</td>\n",
       "      <td>4</td>\n",
       "    </tr>\n",
       "    <tr>\n",
       "      <th>2</th>\n",
       "      <td>NaN</td>\n",
       "      <td>2 Baths</td>\n",
       "      <td>[{'factValue': '1961', 'factLabel': 'Year buil...</td>\n",
       "      <td>yes</td>\n",
       "      <td>{'rating': ['8/10', '4/10', '8/10'], 'data': {...</td>\n",
       "      <td>3.000000e+03</td>\n",
       "      <td>3 Beds</td>\n",
       "      <td>CA</td>\n",
       "      <td>1.0</td>\n",
       "      <td>yes</td>\n",
       "      <td>single-family home</td>\n",
       "      <td>14.878496</td>\n",
       "      <td>1961</td>\n",
       "      <td>1967</td>\n",
       "      <td>Forced Air</td>\n",
       "      <td>Central</td>\n",
       "      <td>Attached Garage</td>\n",
       "      <td>8</td>\n",
       "    </tr>\n",
       "    <tr>\n",
       "      <th>3</th>\n",
       "      <td>NaN</td>\n",
       "      <td>8 Baths</td>\n",
       "      <td>[{'factValue': '2006', 'factLabel': 'Year buil...</td>\n",
       "      <td>yes</td>\n",
       "      <td>{'rating': ['9/10', '9/10', '10/10', '9/10'], ...</td>\n",
       "      <td>6.457000e+03</td>\n",
       "      <td>5 Beds</td>\n",
       "      <td>TX</td>\n",
       "      <td>3.0</td>\n",
       "      <td>NaN</td>\n",
       "      <td>single-family home</td>\n",
       "      <td>14.689122</td>\n",
       "      <td>2006</td>\n",
       "      <td>2006</td>\n",
       "      <td>Forced Air</td>\n",
       "      <td>Central</td>\n",
       "      <td>Detached Garage</td>\n",
       "      <td>10</td>\n",
       "    </tr>\n",
       "    <tr>\n",
       "      <th>4</th>\n",
       "      <td>NaN</td>\n",
       "      <td>NaN</td>\n",
       "      <td>[{'factValue': '', 'factLabel': 'Year built'},...</td>\n",
       "      <td>NaN</td>\n",
       "      <td>{'rating': ['4/10', '5/10', '5/10'], 'data': {...</td>\n",
       "      <td>4.364280e+08</td>\n",
       "      <td>NaN</td>\n",
       "      <td>FL</td>\n",
       "      <td>NaN</td>\n",
       "      <td>NaN</td>\n",
       "      <td>lot/land</td>\n",
       "      <td>8.517193</td>\n",
       "      <td>1979</td>\n",
       "      <td>0</td>\n",
       "      <td>NaN</td>\n",
       "      <td>NaN</td>\n",
       "      <td>NaN</td>\n",
       "      <td>5</td>\n",
       "    </tr>\n",
       "  </tbody>\n",
       "</table>\n",
       "</div>"
      ],
      "text/plain": [
       "  private pool    baths                                          homeFacts  \\\n",
       "0          NaN      3.5  [{'factValue': '2019', 'factLabel': 'Year buil...   \n",
       "1          NaN  3 Baths  [{'factValue': '2019', 'factLabel': 'Year buil...   \n",
       "2          NaN  2 Baths  [{'factValue': '1961', 'factLabel': 'Year buil...   \n",
       "3          NaN  8 Baths  [{'factValue': '2006', 'factLabel': 'Year buil...   \n",
       "4          NaN      NaN  [{'factValue': '', 'factLabel': 'Year built'},...   \n",
       "\n",
       "  fireplace                                            schools          sqft  \\\n",
       "0  Gas Logs  {'rating': ['4', '4', '7', 'NR', '4', '7', 'NR...  2.900000e+03   \n",
       "1       NaN  {'rating': ['4/10', 'None/10', '4/10'], 'data'...  1.947000e+03   \n",
       "2       yes  {'rating': ['8/10', '4/10', '8/10'], 'data': {...  3.000000e+03   \n",
       "3       yes  {'rating': ['9/10', '9/10', '10/10', '9/10'], ...  6.457000e+03   \n",
       "4       NaN  {'rating': ['4/10', '5/10', '5/10'], 'data': {...  4.364280e+08   \n",
       "\n",
       "     beds state stories PrivatePool        propertyType      Price  \\\n",
       "0       4    NC     NaN         NaN  Single Family Home  12.942279   \n",
       "1  3 Beds    WA     2.0         NaN  single-family home  12.642949   \n",
       "2  3 Beds    CA     1.0         yes  single-family home  14.878496   \n",
       "3  5 Beds    TX     3.0         NaN  single-family home  14.689122   \n",
       "4     NaN    FL     NaN         NaN            lot/land   8.517193   \n",
       "\n",
       "   Year built  Remodeled year                 Heating  Cooling  \\\n",
       "0        2019               0  Central A/C, Heat Pump      NaN   \n",
       "1        2019               0                     NaN      NaN   \n",
       "2        1961            1967              Forced Air  Central   \n",
       "3        2006            2006              Forced Air  Central   \n",
       "4        1979               0                     NaN      NaN   \n",
       "\n",
       "           Parking  schRating  \n",
       "0              NaN          7  \n",
       "1              NaN          4  \n",
       "2  Attached Garage          8  \n",
       "3  Detached Garage         10  \n",
       "4              NaN          5  "
      ]
     },
     "execution_count": 54,
     "metadata": {},
     "output_type": "execute_result"
    }
   ],
   "source": [
    "data.drop(data[data['status'].isin(nstatus)==True].index.values.tolist(),inplace=True)\n",
    "data=data.reset_index()\n",
    "data.drop(['index'],axis=1,inplace=True)\n",
    "data.drop(['status'],axis=1,inplace=True)\n",
    "data.head()"
   ]
  },
  {
   "cell_type": "markdown",
   "metadata": {},
   "source": [
    "### Private Pool"
   ]
  },
  {
   "cell_type": "code",
   "execution_count": 55,
   "metadata": {},
   "outputs": [],
   "source": [
    "data['PrivatePool']=data['PrivatePool'].str.lower()\n",
    "data['private pool']=data['private pool'].str.lower()"
   ]
  },
  {
   "cell_type": "code",
   "execution_count": 56,
   "metadata": {},
   "outputs": [],
   "source": [
    "# Replace 'yes' with 1 and unufy \"private pool\" and PrivatePool and replace NA with 0\n",
    "data[['private pool','PrivatePool']]=data[['private pool','PrivatePool']].replace(to_replace=['yes'],value=1)\n",
    "data['PrivatePool']=data['PrivatePool'].fillna(data['private pool'])\n",
    "data['PrivatePool']=data['PrivatePool'].fillna(0)\n",
    "data=data.drop(['private pool'],axis=1)\n"
   ]
  },
  {
   "cell_type": "code",
   "execution_count": 57,
   "metadata": {},
   "outputs": [
    {
     "data": {
      "text/plain": [
       "0    291983\n",
       "1     42819\n",
       "Name: PrivatePool, dtype: int64"
      ]
     },
     "execution_count": 57,
     "metadata": {},
     "output_type": "execute_result"
    }
   ],
   "source": [
    "data.PrivatePool=data.PrivatePool.astype(int)\n",
    "data.PrivatePool.value_counts()"
   ]
  },
  {
   "cell_type": "code",
   "execution_count": 58,
   "metadata": {},
   "outputs": [
    {
     "data": {
      "text/html": [
       "<div>\n",
       "<style scoped>\n",
       "    .dataframe tbody tr th:only-of-type {\n",
       "        vertical-align: middle;\n",
       "    }\n",
       "\n",
       "    .dataframe tbody tr th {\n",
       "        vertical-align: top;\n",
       "    }\n",
       "\n",
       "    .dataframe thead th {\n",
       "        text-align: right;\n",
       "    }\n",
       "</style>\n",
       "<table border=\"1\" class=\"dataframe\">\n",
       "  <thead>\n",
       "    <tr style=\"text-align: right;\">\n",
       "      <th></th>\n",
       "      <th>baths</th>\n",
       "      <th>homeFacts</th>\n",
       "      <th>fireplace</th>\n",
       "      <th>schools</th>\n",
       "      <th>sqft</th>\n",
       "      <th>beds</th>\n",
       "      <th>state</th>\n",
       "      <th>stories</th>\n",
       "      <th>PrivatePool</th>\n",
       "      <th>propertyType</th>\n",
       "      <th>Price</th>\n",
       "      <th>Year built</th>\n",
       "      <th>Remodeled year</th>\n",
       "      <th>Heating</th>\n",
       "      <th>Cooling</th>\n",
       "      <th>Parking</th>\n",
       "      <th>schRating</th>\n",
       "    </tr>\n",
       "  </thead>\n",
       "  <tbody>\n",
       "    <tr>\n",
       "      <th>0</th>\n",
       "      <td>3.5</td>\n",
       "      <td>[{'factValue': '2019', 'factLabel': 'Year buil...</td>\n",
       "      <td>Gas Logs</td>\n",
       "      <td>{'rating': ['4', '4', '7', 'NR', '4', '7', 'NR...</td>\n",
       "      <td>2.900000e+03</td>\n",
       "      <td>4</td>\n",
       "      <td>NC</td>\n",
       "      <td>NaN</td>\n",
       "      <td>0</td>\n",
       "      <td>Single Family Home</td>\n",
       "      <td>12.942279</td>\n",
       "      <td>2019</td>\n",
       "      <td>0</td>\n",
       "      <td>Central A/C, Heat Pump</td>\n",
       "      <td>NaN</td>\n",
       "      <td>NaN</td>\n",
       "      <td>7</td>\n",
       "    </tr>\n",
       "    <tr>\n",
       "      <th>1</th>\n",
       "      <td>3 Baths</td>\n",
       "      <td>[{'factValue': '2019', 'factLabel': 'Year buil...</td>\n",
       "      <td>NaN</td>\n",
       "      <td>{'rating': ['4/10', 'None/10', '4/10'], 'data'...</td>\n",
       "      <td>1.947000e+03</td>\n",
       "      <td>3 Beds</td>\n",
       "      <td>WA</td>\n",
       "      <td>2.0</td>\n",
       "      <td>0</td>\n",
       "      <td>single-family home</td>\n",
       "      <td>12.642949</td>\n",
       "      <td>2019</td>\n",
       "      <td>0</td>\n",
       "      <td>NaN</td>\n",
       "      <td>NaN</td>\n",
       "      <td>NaN</td>\n",
       "      <td>4</td>\n",
       "    </tr>\n",
       "    <tr>\n",
       "      <th>2</th>\n",
       "      <td>2 Baths</td>\n",
       "      <td>[{'factValue': '1961', 'factLabel': 'Year buil...</td>\n",
       "      <td>yes</td>\n",
       "      <td>{'rating': ['8/10', '4/10', '8/10'], 'data': {...</td>\n",
       "      <td>3.000000e+03</td>\n",
       "      <td>3 Beds</td>\n",
       "      <td>CA</td>\n",
       "      <td>1.0</td>\n",
       "      <td>1</td>\n",
       "      <td>single-family home</td>\n",
       "      <td>14.878496</td>\n",
       "      <td>1961</td>\n",
       "      <td>1967</td>\n",
       "      <td>Forced Air</td>\n",
       "      <td>Central</td>\n",
       "      <td>Attached Garage</td>\n",
       "      <td>8</td>\n",
       "    </tr>\n",
       "    <tr>\n",
       "      <th>3</th>\n",
       "      <td>8 Baths</td>\n",
       "      <td>[{'factValue': '2006', 'factLabel': 'Year buil...</td>\n",
       "      <td>yes</td>\n",
       "      <td>{'rating': ['9/10', '9/10', '10/10', '9/10'], ...</td>\n",
       "      <td>6.457000e+03</td>\n",
       "      <td>5 Beds</td>\n",
       "      <td>TX</td>\n",
       "      <td>3.0</td>\n",
       "      <td>0</td>\n",
       "      <td>single-family home</td>\n",
       "      <td>14.689122</td>\n",
       "      <td>2006</td>\n",
       "      <td>2006</td>\n",
       "      <td>Forced Air</td>\n",
       "      <td>Central</td>\n",
       "      <td>Detached Garage</td>\n",
       "      <td>10</td>\n",
       "    </tr>\n",
       "    <tr>\n",
       "      <th>4</th>\n",
       "      <td>NaN</td>\n",
       "      <td>[{'factValue': '', 'factLabel': 'Year built'},...</td>\n",
       "      <td>NaN</td>\n",
       "      <td>{'rating': ['4/10', '5/10', '5/10'], 'data': {...</td>\n",
       "      <td>4.364280e+08</td>\n",
       "      <td>NaN</td>\n",
       "      <td>FL</td>\n",
       "      <td>NaN</td>\n",
       "      <td>0</td>\n",
       "      <td>lot/land</td>\n",
       "      <td>8.517193</td>\n",
       "      <td>1979</td>\n",
       "      <td>0</td>\n",
       "      <td>NaN</td>\n",
       "      <td>NaN</td>\n",
       "      <td>NaN</td>\n",
       "      <td>5</td>\n",
       "    </tr>\n",
       "  </tbody>\n",
       "</table>\n",
       "</div>"
      ],
      "text/plain": [
       "     baths                                          homeFacts fireplace  \\\n",
       "0      3.5  [{'factValue': '2019', 'factLabel': 'Year buil...  Gas Logs   \n",
       "1  3 Baths  [{'factValue': '2019', 'factLabel': 'Year buil...       NaN   \n",
       "2  2 Baths  [{'factValue': '1961', 'factLabel': 'Year buil...       yes   \n",
       "3  8 Baths  [{'factValue': '2006', 'factLabel': 'Year buil...       yes   \n",
       "4      NaN  [{'factValue': '', 'factLabel': 'Year built'},...       NaN   \n",
       "\n",
       "                                             schools          sqft    beds  \\\n",
       "0  {'rating': ['4', '4', '7', 'NR', '4', '7', 'NR...  2.900000e+03       4   \n",
       "1  {'rating': ['4/10', 'None/10', '4/10'], 'data'...  1.947000e+03  3 Beds   \n",
       "2  {'rating': ['8/10', '4/10', '8/10'], 'data': {...  3.000000e+03  3 Beds   \n",
       "3  {'rating': ['9/10', '9/10', '10/10', '9/10'], ...  6.457000e+03  5 Beds   \n",
       "4  {'rating': ['4/10', '5/10', '5/10'], 'data': {...  4.364280e+08     NaN   \n",
       "\n",
       "  state stories  PrivatePool        propertyType      Price  Year built  \\\n",
       "0    NC     NaN            0  Single Family Home  12.942279        2019   \n",
       "1    WA     2.0            0  single-family home  12.642949        2019   \n",
       "2    CA     1.0            1  single-family home  14.878496        1961   \n",
       "3    TX     3.0            0  single-family home  14.689122        2006   \n",
       "4    FL     NaN            0            lot/land   8.517193        1979   \n",
       "\n",
       "   Remodeled year                 Heating  Cooling          Parking  schRating  \n",
       "0               0  Central A/C, Heat Pump      NaN              NaN          7  \n",
       "1               0                     NaN      NaN              NaN          4  \n",
       "2            1967              Forced Air  Central  Attached Garage          8  \n",
       "3            2006              Forced Air  Central  Detached Garage         10  \n",
       "4               0                     NaN      NaN              NaN          5  "
      ]
     },
     "execution_count": 58,
     "metadata": {},
     "output_type": "execute_result"
    }
   ],
   "source": [
    "data.head()"
   ]
  },
  {
   "cell_type": "markdown",
   "metadata": {},
   "source": [
    "### Bath"
   ]
  },
  {
   "cell_type": "code",
   "execution_count": 59,
   "metadata": {},
   "outputs": [
    {
     "name": "stdout",
     "output_type": "stream",
     "text": [
      "There are 38.0% missing values\n"
     ]
    }
   ],
   "source": [
    "data.baths=data.baths.str.lower()\n",
    "print(f'There are {round(data.baths.isna().sum()/data.baths.count()*100,0)}% missing values')"
   ]
  },
  {
   "cell_type": "code",
   "execution_count": 60,
   "metadata": {},
   "outputs": [],
   "source": [
    "#Leave cells with numbers only for Bath \n",
    "data['baths']=data.baths.str.findall(r'\\d').str[0]"
   ]
  },
  {
   "cell_type": "code",
   "execution_count": 61,
   "metadata": {},
   "outputs": [],
   "source": [
    "data['baths'][data.baths.isna()==False]=data['baths'][data.baths.isna()==False].astype(int)"
   ]
  },
  {
   "cell_type": "code",
   "execution_count": 62,
   "metadata": {},
   "outputs": [
    {
     "data": {
      "text/plain": [
       "2.0    0.437617\n",
       "3.0    0.274373\n",
       "4.0    0.107001\n",
       "1.0    0.093303\n",
       "5.0    0.038817\n",
       "6.0    0.017567\n",
       "0.0    0.014930\n",
       "7.0    0.009527\n",
       "8.0    0.004650\n",
       "9.0    0.002215\n",
       "Name: baths, dtype: float64"
      ]
     },
     "execution_count": 62,
     "metadata": {},
     "output_type": "execute_result"
    }
   ],
   "source": [
    "data.baths.value_counts(normalize=True)"
   ]
  },
  {
   "cell_type": "code",
   "execution_count": 63,
   "metadata": {},
   "outputs": [
    {
     "data": {
      "text/html": [
       "<div>\n",
       "<style scoped>\n",
       "    .dataframe tbody tr th:only-of-type {\n",
       "        vertical-align: middle;\n",
       "    }\n",
       "\n",
       "    .dataframe tbody tr th {\n",
       "        vertical-align: top;\n",
       "    }\n",
       "\n",
       "    .dataframe thead th {\n",
       "        text-align: right;\n",
       "    }\n",
       "</style>\n",
       "<table border=\"1\" class=\"dataframe\">\n",
       "  <thead>\n",
       "    <tr style=\"text-align: right;\">\n",
       "      <th></th>\n",
       "      <th>baths</th>\n",
       "      <th>homeFacts</th>\n",
       "      <th>fireplace</th>\n",
       "      <th>schools</th>\n",
       "      <th>sqft</th>\n",
       "      <th>beds</th>\n",
       "      <th>state</th>\n",
       "      <th>stories</th>\n",
       "      <th>PrivatePool</th>\n",
       "      <th>propertyType</th>\n",
       "      <th>Price</th>\n",
       "      <th>Year built</th>\n",
       "      <th>Remodeled year</th>\n",
       "      <th>Heating</th>\n",
       "      <th>Cooling</th>\n",
       "      <th>Parking</th>\n",
       "      <th>schRating</th>\n",
       "    </tr>\n",
       "  </thead>\n",
       "  <tbody>\n",
       "    <tr>\n",
       "      <th>0</th>\n",
       "      <td>3</td>\n",
       "      <td>[{'factValue': '2019', 'factLabel': 'Year buil...</td>\n",
       "      <td>Gas Logs</td>\n",
       "      <td>{'rating': ['4', '4', '7', 'NR', '4', '7', 'NR...</td>\n",
       "      <td>2.900000e+03</td>\n",
       "      <td>4</td>\n",
       "      <td>NC</td>\n",
       "      <td>NaN</td>\n",
       "      <td>0</td>\n",
       "      <td>Single Family Home</td>\n",
       "      <td>12.942279</td>\n",
       "      <td>2019</td>\n",
       "      <td>0</td>\n",
       "      <td>Central A/C, Heat Pump</td>\n",
       "      <td>NaN</td>\n",
       "      <td>NaN</td>\n",
       "      <td>7</td>\n",
       "    </tr>\n",
       "    <tr>\n",
       "      <th>1</th>\n",
       "      <td>3</td>\n",
       "      <td>[{'factValue': '2019', 'factLabel': 'Year buil...</td>\n",
       "      <td>NaN</td>\n",
       "      <td>{'rating': ['4/10', 'None/10', '4/10'], 'data'...</td>\n",
       "      <td>1.947000e+03</td>\n",
       "      <td>3 Beds</td>\n",
       "      <td>WA</td>\n",
       "      <td>2.0</td>\n",
       "      <td>0</td>\n",
       "      <td>single-family home</td>\n",
       "      <td>12.642949</td>\n",
       "      <td>2019</td>\n",
       "      <td>0</td>\n",
       "      <td>NaN</td>\n",
       "      <td>NaN</td>\n",
       "      <td>NaN</td>\n",
       "      <td>4</td>\n",
       "    </tr>\n",
       "    <tr>\n",
       "      <th>2</th>\n",
       "      <td>2</td>\n",
       "      <td>[{'factValue': '1961', 'factLabel': 'Year buil...</td>\n",
       "      <td>yes</td>\n",
       "      <td>{'rating': ['8/10', '4/10', '8/10'], 'data': {...</td>\n",
       "      <td>3.000000e+03</td>\n",
       "      <td>3 Beds</td>\n",
       "      <td>CA</td>\n",
       "      <td>1.0</td>\n",
       "      <td>1</td>\n",
       "      <td>single-family home</td>\n",
       "      <td>14.878496</td>\n",
       "      <td>1961</td>\n",
       "      <td>1967</td>\n",
       "      <td>Forced Air</td>\n",
       "      <td>Central</td>\n",
       "      <td>Attached Garage</td>\n",
       "      <td>8</td>\n",
       "    </tr>\n",
       "    <tr>\n",
       "      <th>3</th>\n",
       "      <td>8</td>\n",
       "      <td>[{'factValue': '2006', 'factLabel': 'Year buil...</td>\n",
       "      <td>yes</td>\n",
       "      <td>{'rating': ['9/10', '9/10', '10/10', '9/10'], ...</td>\n",
       "      <td>6.457000e+03</td>\n",
       "      <td>5 Beds</td>\n",
       "      <td>TX</td>\n",
       "      <td>3.0</td>\n",
       "      <td>0</td>\n",
       "      <td>single-family home</td>\n",
       "      <td>14.689122</td>\n",
       "      <td>2006</td>\n",
       "      <td>2006</td>\n",
       "      <td>Forced Air</td>\n",
       "      <td>Central</td>\n",
       "      <td>Detached Garage</td>\n",
       "      <td>10</td>\n",
       "    </tr>\n",
       "    <tr>\n",
       "      <th>4</th>\n",
       "      <td>2</td>\n",
       "      <td>[{'factValue': '', 'factLabel': 'Year built'},...</td>\n",
       "      <td>NaN</td>\n",
       "      <td>{'rating': ['4/10', '5/10', '5/10'], 'data': {...</td>\n",
       "      <td>4.364280e+08</td>\n",
       "      <td>NaN</td>\n",
       "      <td>FL</td>\n",
       "      <td>NaN</td>\n",
       "      <td>0</td>\n",
       "      <td>lot/land</td>\n",
       "      <td>8.517193</td>\n",
       "      <td>1979</td>\n",
       "      <td>0</td>\n",
       "      <td>NaN</td>\n",
       "      <td>NaN</td>\n",
       "      <td>NaN</td>\n",
       "      <td>5</td>\n",
       "    </tr>\n",
       "  </tbody>\n",
       "</table>\n",
       "</div>"
      ],
      "text/plain": [
       "  baths                                          homeFacts fireplace  \\\n",
       "0     3  [{'factValue': '2019', 'factLabel': 'Year buil...  Gas Logs   \n",
       "1     3  [{'factValue': '2019', 'factLabel': 'Year buil...       NaN   \n",
       "2     2  [{'factValue': '1961', 'factLabel': 'Year buil...       yes   \n",
       "3     8  [{'factValue': '2006', 'factLabel': 'Year buil...       yes   \n",
       "4     2  [{'factValue': '', 'factLabel': 'Year built'},...       NaN   \n",
       "\n",
       "                                             schools          sqft    beds  \\\n",
       "0  {'rating': ['4', '4', '7', 'NR', '4', '7', 'NR...  2.900000e+03       4   \n",
       "1  {'rating': ['4/10', 'None/10', '4/10'], 'data'...  1.947000e+03  3 Beds   \n",
       "2  {'rating': ['8/10', '4/10', '8/10'], 'data': {...  3.000000e+03  3 Beds   \n",
       "3  {'rating': ['9/10', '9/10', '10/10', '9/10'], ...  6.457000e+03  5 Beds   \n",
       "4  {'rating': ['4/10', '5/10', '5/10'], 'data': {...  4.364280e+08     NaN   \n",
       "\n",
       "  state stories  PrivatePool        propertyType      Price  Year built  \\\n",
       "0    NC     NaN            0  Single Family Home  12.942279        2019   \n",
       "1    WA     2.0            0  single-family home  12.642949        2019   \n",
       "2    CA     1.0            1  single-family home  14.878496        1961   \n",
       "3    TX     3.0            0  single-family home  14.689122        2006   \n",
       "4    FL     NaN            0            lot/land   8.517193        1979   \n",
       "\n",
       "   Remodeled year                 Heating  Cooling          Parking  schRating  \n",
       "0               0  Central A/C, Heat Pump      NaN              NaN          7  \n",
       "1               0                     NaN      NaN              NaN          4  \n",
       "2            1967              Forced Air  Central  Attached Garage          8  \n",
       "3            2006              Forced Air  Central  Detached Garage         10  \n",
       "4               0                     NaN      NaN              NaN          5  "
      ]
     },
     "execution_count": 63,
     "metadata": {},
     "output_type": "execute_result"
    }
   ],
   "source": [
    "#Group data according to property type and take the average bathrooms for each property type for NA\n",
    "Baths=data[['baths','propertyType']]\n",
    "Baths['baths']=Baths['baths'][Baths.baths.isna()==False].astype(int)\n",
    "Baths=Baths[Baths.baths.isna()==False].groupby(by='propertyType').mean().reset_index()\n",
    "Baths.baths=Baths.baths.round(decimals=0)\n",
    "data.baths[data.baths.isna()==True]=data[data.baths.isna()==True].merge(Baths, on='propertyType', how='left').baths_y\n",
    "data.head()"
   ]
  },
  {
   "cell_type": "code",
   "execution_count": 64,
   "metadata": {},
   "outputs": [
    {
     "name": "stdout",
     "output_type": "stream",
     "text": [
      "<class 'pandas.core.frame.DataFrame'>\n",
      "RangeIndex: 334802 entries, 0 to 334801\n",
      "Data columns (total 17 columns):\n",
      " #   Column          Non-Null Count   Dtype  \n",
      "---  ------          --------------   -----  \n",
      " 0   baths           262389 non-null  object \n",
      " 1   homeFacts       334802 non-null  object \n",
      " 2   fireplace       93464 non-null   object \n",
      " 3   schools         334802 non-null  object \n",
      " 4   sqft            334802 non-null  float64\n",
      " 5   beds            254423 non-null  object \n",
      " 6   state           334802 non-null  object \n",
      " 7   stories         204703 non-null  object \n",
      " 8   PrivatePool     334802 non-null  int32  \n",
      " 9   propertyType    308191 non-null  object \n",
      " 10  Price           334802 non-null  float64\n",
      " 11  Year built      334802 non-null  int64  \n",
      " 12  Remodeled year  334802 non-null  int32  \n",
      " 13  Heating         243258 non-null  object \n",
      " 14  Cooling         231734 non-null  object \n",
      " 15  Parking         181640 non-null  object \n",
      " 16  schRating       334802 non-null  int64  \n",
      "dtypes: float64(2), int32(2), int64(2), object(11)\n",
      "memory usage: 40.9+ MB\n"
     ]
    }
   ],
   "source": [
    "#Group data according to bedrooms and take the average bathrooms for each bedroom number for NA\n",
    "BathsBeds=data[['baths','beds']]\n",
    "BathsBeds['baths']=BathsBeds['baths'][BathsBeds.baths.isna()==False].astype(int)\n",
    "BathsBeds=BathsBeds[BathsBeds.baths.isna()==False].groupby(by='beds').mean().reset_index()\n",
    "BathsBeds.baths=BathsBeds.baths.round(decimals=0)\n",
    "data.baths[data.baths.isna()==True]=data[data.baths.isna()==True].merge(BathsBeds, on='beds', how='left').baths_y\n",
    "data.info()\n"
   ]
  },
  {
   "cell_type": "code",
   "execution_count": 65,
   "metadata": {},
   "outputs": [
    {
     "data": {
      "text/plain": [
       "197        Bath\n",
       "2022      Baths\n",
       "2259       Bath\n",
       "2911      Baths\n",
       "3790      Baths\n",
       "          ...  \n",
       "333283    Baths\n",
       "333485    Baths\n",
       "334024    Baths\n",
       "334165    Baths\n",
       "334314    Baths\n",
       "Name: beds, Length: 866, dtype: object"
      ]
     },
     "execution_count": 65,
     "metadata": {},
     "output_type": "execute_result"
    }
   ],
   "source": [
    "#check if some values can be taken from beds column\n",
    "data['beds'][(data.beds.str.contains('Bath'))&(data.beds.isna()==False)&(data.baths.isna()==True)]"
   ]
  },
  {
   "cell_type": "code",
   "execution_count": 66,
   "metadata": {},
   "outputs": [],
   "source": [
    "#beds columns has values that contains baths, replace NA with 1 for bath and 2 for baths\n",
    "data['beds'][(data.beds=='Bath')&(data.beds.isna()==False)&(data.baths.isna()==True)]=1\n",
    "data['beds'][(data.beds=='Baths')&(data.beds.isna()==False)&(data.baths.isna()==True)]=2\n",
    "data['baths'][(data.beds.str.contains('Bath'))&(data.beds.isna()==False)&(data.baths.isna()==True)]=1"
   ]
  },
  {
   "cell_type": "code",
   "execution_count": 67,
   "metadata": {},
   "outputs": [
    {
     "name": "stdout",
     "output_type": "stream",
     "text": [
      "<class 'pandas.core.frame.DataFrame'>\n",
      "RangeIndex: 334802 entries, 0 to 334801\n",
      "Data columns (total 17 columns):\n",
      " #   Column          Non-Null Count   Dtype  \n",
      "---  ------          --------------   -----  \n",
      " 0   baths           266060 non-null  object \n",
      " 1   homeFacts       334802 non-null  object \n",
      " 2   fireplace       93464 non-null   object \n",
      " 3   schools         334802 non-null  object \n",
      " 4   sqft            334802 non-null  float64\n",
      " 5   beds            254423 non-null  object \n",
      " 6   state           334802 non-null  object \n",
      " 7   stories         204703 non-null  object \n",
      " 8   PrivatePool     334802 non-null  int32  \n",
      " 9   propertyType    308191 non-null  object \n",
      " 10  Price           334802 non-null  float64\n",
      " 11  Year built      334802 non-null  int64  \n",
      " 12  Remodeled year  334802 non-null  int32  \n",
      " 13  Heating         243258 non-null  object \n",
      " 14  Cooling         231734 non-null  object \n",
      " 15  Parking         181640 non-null  object \n",
      " 16  schRating       334802 non-null  int64  \n",
      "dtypes: float64(2), int32(2), int64(2), object(11)\n",
      "memory usage: 40.9+ MB\n"
     ]
    }
   ],
   "source": [
    "#Group data according to sqft and take the average bathrooms for each area for NA\n",
    "BathsArea=data[['baths','sqft']]\n",
    "BathsArea['baths']=BathsArea['baths'][BathsArea.baths.isna()==False].astype(int)\n",
    "BathsArea=BathsArea[BathsArea.baths.isna()==False].groupby(by='sqft').mean().reset_index()\n",
    "BathsArea.baths=BathsArea.baths.round(decimals=0)\n",
    "data.baths[data.baths.isna()==True]=data[data.baths.isna()==True].merge(BathsArea, on='sqft', how='left').baths_y\n",
    "data.info()\n"
   ]
  },
  {
   "cell_type": "code",
   "execution_count": 68,
   "metadata": {},
   "outputs": [],
   "source": [
    "data.baths.fillna(1,inplace=True)\n",
    "data.baths=data.baths.astype(int)"
   ]
  },
  {
   "cell_type": "code",
   "execution_count": 69,
   "metadata": {},
   "outputs": [
    {
     "name": "stdout",
     "output_type": "stream",
     "text": [
      "<class 'pandas.core.frame.DataFrame'>\n",
      "RangeIndex: 334802 entries, 0 to 334801\n",
      "Data columns (total 17 columns):\n",
      " #   Column          Non-Null Count   Dtype  \n",
      "---  ------          --------------   -----  \n",
      " 0   baths           334802 non-null  int32  \n",
      " 1   homeFacts       334802 non-null  object \n",
      " 2   fireplace       93464 non-null   object \n",
      " 3   schools         334802 non-null  object \n",
      " 4   sqft            334802 non-null  float64\n",
      " 5   beds            254423 non-null  object \n",
      " 6   state           334802 non-null  object \n",
      " 7   stories         204703 non-null  object \n",
      " 8   PrivatePool     334802 non-null  int32  \n",
      " 9   propertyType    308191 non-null  object \n",
      " 10  Price           334802 non-null  float64\n",
      " 11  Year built      334802 non-null  int64  \n",
      " 12  Remodeled year  334802 non-null  int32  \n",
      " 13  Heating         243258 non-null  object \n",
      " 14  Cooling         231734 non-null  object \n",
      " 15  Parking         181640 non-null  object \n",
      " 16  schRating       334802 non-null  int64  \n",
      "dtypes: float64(2), int32(3), int64(2), object(10)\n",
      "memory usage: 39.6+ MB\n"
     ]
    }
   ],
   "source": [
    "data.info()"
   ]
  },
  {
   "cell_type": "markdown",
   "metadata": {},
   "source": [
    "### Beds"
   ]
  },
  {
   "cell_type": "code",
   "execution_count": 70,
   "metadata": {},
   "outputs": [
    {
     "name": "stdout",
     "output_type": "stream",
     "text": [
      "There are 24.0% of missing values\n"
     ]
    }
   ],
   "source": [
    "data.beds=data.beds.str.lower()\n",
    "print(f'There are {round(data.beds.isna().sum()/data.baths.count()*100,0)}% of missing values')"
   ]
  },
  {
   "cell_type": "code",
   "execution_count": 71,
   "metadata": {},
   "outputs": [
    {
     "data": {
      "text/plain": [
       "3 beds                0.197075\n",
       "4 beds                0.133533\n",
       "3                     0.108368\n",
       "2 beds                0.097431\n",
       "4                     0.069801\n",
       "                        ...   \n",
       "3 or more bedrooms    0.000004\n",
       "39 beds               0.000004\n",
       "2.57 acres            0.000004\n",
       "2.09 acres            0.000004\n",
       "23.39 acres           0.000004\n",
       "Name: beds, Length: 581, dtype: float64"
      ]
     },
     "execution_count": 71,
     "metadata": {},
     "output_type": "execute_result"
    }
   ],
   "source": [
    "data.beds.value_counts(normalize=True)"
   ]
  },
  {
   "cell_type": "code",
   "execution_count": 72,
   "metadata": {},
   "outputs": [
    {
     "data": {
      "text/plain": [
       "3.0            0.342670\n",
       "4.0            0.231472\n",
       "2.0            0.105428\n",
       "none           0.075402\n",
       "5.0            0.062237\n",
       "                 ...   \n",
       "3.7 acres      0.000056\n",
       "16.57 acres    0.000056\n",
       "2.46 acres     0.000056\n",
       "11.2 acres     0.000056\n",
       "12.97 acres    0.000056\n",
       "Name: beds, Length: 469, dtype: float64"
      ]
     },
     "execution_count": 72,
     "metadata": {},
     "output_type": "execute_result"
    }
   ],
   "source": [
    "#leave numbers only for Beds\n",
    "data['beds']=data.beds.str.replace(' beds','').str.replace(' bd','')\n",
    "data['beds']=data.beds.str.replace('baths','2')\n",
    "data['beds']=data.beds.str.replace('bath','1')\n",
    "data.beds[(data.beds.str.contains('\\D')==True)&(data.beds.isna()==False)].value_counts(normalize=True)"
   ]
  },
  {
   "cell_type": "code",
   "execution_count": 73,
   "metadata": {},
   "outputs": [],
   "source": [
    "data['beds'][data.beds.str.contains('sqft|acres|acre| |--')==True]=0\n"
   ]
  },
  {
   "cell_type": "code",
   "execution_count": 74,
   "metadata": {},
   "outputs": [],
   "source": [
    "data['beds'][data.beds.str.contains('2 bedrooms')==True]=2\n",
    "data['beds'][data.beds.str.contains('3 or more bedrooms')==True]=3\n",
    "data['beds'][data.beds.str.contains('based on redfin')==True]=1"
   ]
  },
  {
   "cell_type": "code",
   "execution_count": 75,
   "metadata": {},
   "outputs": [],
   "source": [
    "data['beds']=data['beds'][(data.beds.isna()==False)&(data.beds!='none')].astype(float)\n"
   ]
  },
  {
   "cell_type": "code",
   "execution_count": 76,
   "metadata": {},
   "outputs": [],
   "source": [
    "#Group data according to property type and take the average area for each property type for NA\n",
    "Beds=data[['beds','propertyType']]\n",
    "Beds['beds']=Beds['beds'][(Beds.beds.isna()==False)&(Beds.beds!='none')].astype(float)\n",
    "Beds=Beds.groupby(by='propertyType').mean().reset_index()\n",
    "Beds.beds=Beds.beds.round(decimals=0)\n",
    "data=data.merge(Beds, on='propertyType', how='left')"
   ]
  },
  {
   "cell_type": "code",
   "execution_count": 77,
   "metadata": {},
   "outputs": [
    {
     "name": "stdout",
     "output_type": "stream",
     "text": [
      "<class 'pandas.core.frame.DataFrame'>\n",
      "Int64Index: 334802 entries, 0 to 334801\n",
      "Data columns (total 17 columns):\n",
      " #   Column          Non-Null Count   Dtype  \n",
      "---  ------          --------------   -----  \n",
      " 0   baths           334802 non-null  int32  \n",
      " 1   homeFacts       334802 non-null  object \n",
      " 2   fireplace       93464 non-null   object \n",
      " 3   schools         334802 non-null  object \n",
      " 4   sqft            334802 non-null  float64\n",
      " 5   beds            334802 non-null  float64\n",
      " 6   state           334802 non-null  object \n",
      " 7   stories         204703 non-null  object \n",
      " 8   PrivatePool     334802 non-null  int32  \n",
      " 9   propertyType    308191 non-null  object \n",
      " 10  Price           334802 non-null  float64\n",
      " 11  Year built      334802 non-null  int64  \n",
      " 12  Remodeled year  334802 non-null  int32  \n",
      " 13  Heating         243258 non-null  object \n",
      " 14  Cooling         231734 non-null  object \n",
      " 15  Parking         181640 non-null  object \n",
      " 16  schRating       334802 non-null  int64  \n",
      "dtypes: float64(3), int32(3), int64(2), object(9)\n",
      "memory usage: 42.1+ MB\n"
     ]
    }
   ],
   "source": [
    "data['beds_x'].fillna(data.beds_y,inplace=True)\n",
    "data['beds_x'][data.beds_x=='none']=data.beds_y\n",
    "data.beds_x.fillna(data.beds_x.mean(),inplace=True)\n",
    "data.drop('beds_y',axis=1,inplace=True)\n",
    "data=data.rename(columns={'beds_x':'beds'})\n",
    "data.info()"
   ]
  },
  {
   "cell_type": "code",
   "execution_count": 78,
   "metadata": {},
   "outputs": [
    {
     "data": {
      "text/plain": [
       "(-0.145, 14.4]    0.999044\n",
       "(14.4, 28.8]      0.000678\n",
       "(57.6, 72.0]      0.000131\n",
       "(28.8, 43.2]      0.000093\n",
       "(43.2, 57.6]      0.000033\n",
       "(72.0, 86.4]      0.000012\n",
       "(86.4, 100.8]     0.000006\n",
       "(129.6, 144.0]    0.000003\n",
       "(115.2, 129.6]    0.000000\n",
       "(100.8, 115.2]    0.000000\n",
       "Name: beds, dtype: float64"
      ]
     },
     "execution_count": 78,
     "metadata": {},
     "output_type": "execute_result"
    }
   ],
   "source": [
    "data.beds.value_counts(normalize=True,bins=10)"
   ]
  },
  {
   "cell_type": "code",
   "execution_count": 79,
   "metadata": {},
   "outputs": [],
   "source": [
    "data=data.drop(data.beds[data.beds>15].index)"
   ]
  },
  {
   "cell_type": "code",
   "execution_count": 80,
   "metadata": {},
   "outputs": [
    {
     "name": "stdout",
     "output_type": "stream",
     "text": [
      "<class 'pandas.core.frame.DataFrame'>\n",
      "Int64Index: 334514 entries, 0 to 334801\n",
      "Data columns (total 17 columns):\n",
      " #   Column          Non-Null Count   Dtype  \n",
      "---  ------          --------------   -----  \n",
      " 0   baths           334514 non-null  int32  \n",
      " 1   homeFacts       334514 non-null  object \n",
      " 2   fireplace       93435 non-null   object \n",
      " 3   schools         334514 non-null  object \n",
      " 4   sqft            334514 non-null  float64\n",
      " 5   beds            334514 non-null  float64\n",
      " 6   state           334514 non-null  object \n",
      " 7   stories         204572 non-null  object \n",
      " 8   PrivatePool     334514 non-null  int32  \n",
      " 9   propertyType    307903 non-null  object \n",
      " 10  Price           334514 non-null  float64\n",
      " 11  Year built      334514 non-null  int64  \n",
      " 12  Remodeled year  334514 non-null  int32  \n",
      " 13  Heating         243095 non-null  object \n",
      " 14  Cooling         231601 non-null  object \n",
      " 15  Parking         181485 non-null  object \n",
      " 16  schRating       334514 non-null  int64  \n",
      "dtypes: float64(3), int32(3), int64(2), object(9)\n",
      "memory usage: 42.1+ MB\n"
     ]
    }
   ],
   "source": [
    "data.info()"
   ]
  },
  {
   "cell_type": "markdown",
   "metadata": {},
   "source": [
    "### Create feature baths per bedroom"
   ]
  },
  {
   "cell_type": "code",
   "execution_count": 81,
   "metadata": {},
   "outputs": [],
   "source": [
    "data['baths'][data['baths']<1]=1\n",
    "data['beds'][data['beds']<1]=1\n",
    "data['baths/bed']=data['beds']/data['baths']"
   ]
  },
  {
   "cell_type": "code",
   "execution_count": 82,
   "metadata": {},
   "outputs": [],
   "source": [
    "#data.to_csv('dataintermediate.csv',index=False)\n",
    "saveData(data)"
   ]
  },
  {
   "cell_type": "markdown",
   "metadata": {},
   "source": [
    "### Fireplace"
   ]
  },
  {
   "cell_type": "code",
   "execution_count": 83,
   "metadata": {},
   "outputs": [
    {
     "name": "stdout",
     "output_type": "stream",
     "text": [
      "<class 'pandas.core.frame.DataFrame'>\n",
      "RangeIndex: 334514 entries, 0 to 334513\n",
      "Data columns (total 18 columns):\n",
      " #   Column          Non-Null Count   Dtype  \n",
      "---  ------          --------------   -----  \n",
      " 0   baths           334514 non-null  int64  \n",
      " 1   homeFacts       334514 non-null  object \n",
      " 2   fireplace       93435 non-null   object \n",
      " 3   schools         334514 non-null  object \n",
      " 4   sqft            334514 non-null  float64\n",
      " 5   beds            334514 non-null  float64\n",
      " 6   state           334514 non-null  object \n",
      " 7   stories         204572 non-null  object \n",
      " 8   PrivatePool     334514 non-null  int64  \n",
      " 9   propertyType    307903 non-null  object \n",
      " 10  Price           334514 non-null  float64\n",
      " 11  Year built      334514 non-null  int64  \n",
      " 12  Remodeled year  334514 non-null  int64  \n",
      " 13  Heating         243095 non-null  object \n",
      " 14  Cooling         231601 non-null  object \n",
      " 15  Parking         181485 non-null  object \n",
      " 16  schRating       334514 non-null  int64  \n",
      " 17  baths/bed       334514 non-null  float64\n",
      "dtypes: float64(4), int64(5), object(9)\n",
      "memory usage: 45.9+ MB\n"
     ]
    }
   ],
   "source": [
    "data=pd.read_csv('dataintermediate.csv')\n",
    "data.info()"
   ]
  },
  {
   "cell_type": "code",
   "execution_count": 84,
   "metadata": {},
   "outputs": [],
   "source": [
    "data['fireplace']=data['fireplace'].str.lower()\n",
    "data.fireplace[data.fireplace.str.contains('fire|yes|gas|burning|stove|frplc')==True]=1\n",
    "data.fireplace[data.fireplace.str.contains('no|0 ')==True]=0\n",
    "data.fireplace[(data.fireplace.str.contains('\\d')==True)&(data.fireplace.str.contains('0')==False)]=1\n",
    "data.fireplace[data.fireplace!=1]=0"
   ]
  },
  {
   "cell_type": "code",
   "execution_count": 85,
   "metadata": {},
   "outputs": [
    {
     "name": "stdout",
     "output_type": "stream",
     "text": [
      "<class 'pandas.core.frame.DataFrame'>\n",
      "RangeIndex: 334514 entries, 0 to 334513\n",
      "Data columns (total 18 columns):\n",
      " #   Column          Non-Null Count   Dtype  \n",
      "---  ------          --------------   -----  \n",
      " 0   baths           334514 non-null  int64  \n",
      " 1   homeFacts       334514 non-null  object \n",
      " 2   fireplace       334514 non-null  int32  \n",
      " 3   schools         334514 non-null  object \n",
      " 4   sqft            334514 non-null  float64\n",
      " 5   beds            334514 non-null  float64\n",
      " 6   state           334514 non-null  object \n",
      " 7   stories         204572 non-null  object \n",
      " 8   PrivatePool     334514 non-null  int64  \n",
      " 9   propertyType    307903 non-null  object \n",
      " 10  Price           334514 non-null  float64\n",
      " 11  Year built      334514 non-null  int64  \n",
      " 12  Remodeled year  334514 non-null  int64  \n",
      " 13  Heating         243095 non-null  object \n",
      " 14  Cooling         231601 non-null  object \n",
      " 15  Parking         181485 non-null  object \n",
      " 16  schRating       334514 non-null  int64  \n",
      " 17  baths/bed       334514 non-null  float64\n",
      "dtypes: float64(4), int32(1), int64(5), object(8)\n",
      "memory usage: 44.7+ MB\n"
     ]
    }
   ],
   "source": [
    "data.fireplace=data.fireplace.astype(int)\n",
    "data.info()"
   ]
  },
  {
   "cell_type": "markdown",
   "metadata": {},
   "source": [
    "### Stories"
   ]
  },
  {
   "cell_type": "code",
   "execution_count": 86,
   "metadata": {},
   "outputs": [],
   "source": [
    "data.stories=data.stories.str.lower()"
   ]
  },
  {
   "cell_type": "code",
   "execution_count": 87,
   "metadata": {},
   "outputs": [
    {
     "data": {
      "text/plain": [
       "one                           5462\n",
       "two                           2426\n",
       "three or more                  542\n",
       "lot                            303\n",
       "one story                      297\n",
       "                              ... \n",
       "two, multi/split                 1\n",
       "co-op                            1\n",
       "quad level                       1\n",
       "bedroom - split plan             1\n",
       "multi-level, new englander       1\n",
       "Name: stories, Length: 92, dtype: int64"
      ]
     },
     "execution_count": 87,
     "metadata": {},
     "output_type": "execute_result"
    }
   ],
   "source": [
    "data['st1']=data.stories.str.findall(r'\\d').str[0]\n",
    "#data.stories=data.stories[data.st1.isna()==False]\n",
    "data.stories[(data.st1.isna()==True)&(data.stories.isna()==False)].value_counts()\n",
    "#data.stories.value_counts()"
   ]
  },
  {
   "cell_type": "code",
   "execution_count": 88,
   "metadata": {},
   "outputs": [],
   "source": [
    "data.stories[data.stories.str.contains('one')==True]=1\n",
    "data.stories[data.stories.str.contains('two')==True]=2"
   ]
  },
  {
   "cell_type": "code",
   "execution_count": 89,
   "metadata": {},
   "outputs": [],
   "source": [
    "data.stories=data['st1'][(data.st1.isna()==False)&(data.stories.isna()==False)]"
   ]
  },
  {
   "cell_type": "code",
   "execution_count": 90,
   "metadata": {},
   "outputs": [],
   "source": [
    "data.drop('st1',axis=1,inplace=True)\n",
    "data.dropna(subset=['stories'],axis=0,inplace=True)"
   ]
  },
  {
   "cell_type": "code",
   "execution_count": 91,
   "metadata": {},
   "outputs": [],
   "source": [
    "data.stories=data.stories.astype(int)"
   ]
  },
  {
   "cell_type": "code",
   "execution_count": 92,
   "metadata": {},
   "outputs": [],
   "source": [
    "data['stories'][data.stories<2]=1\n",
    "data['stories'][data.stories>1]=2"
   ]
  },
  {
   "cell_type": "code",
   "execution_count": 93,
   "metadata": {},
   "outputs": [
    {
     "data": {
      "text/plain": [
       "2    97242\n",
       "1    96399\n",
       "Name: stories, dtype: int64"
      ]
     },
     "execution_count": 93,
     "metadata": {},
     "output_type": "execute_result"
    }
   ],
   "source": [
    "data.stories.value_counts()"
   ]
  },
  {
   "cell_type": "code",
   "execution_count": 94,
   "metadata": {},
   "outputs": [],
   "source": [
    "#data.to_csv('dataintermediate.csv',index=False)\n",
    "saveData(data)\n"
   ]
  },
  {
   "cell_type": "markdown",
   "metadata": {},
   "source": [
    "### Parking"
   ]
  },
  {
   "cell_type": "code",
   "execution_count": 95,
   "metadata": {},
   "outputs": [
    {
     "data": {
      "text/plain": [
       "Attached Garage                                                                                                                             52305\n",
       "2 spaces                                                                                                                                    21504\n",
       "1 space                                                                                                                                     10357\n",
       "No Data                                                                                                                                      9049\n",
       "Detached Garage                                                                                                                              8290\n",
       "                                                                                                                                            ...  \n",
       "Attached, On Street                                                                                                                             1\n",
       "Assigned, Parking Space Conveys, Alley                                                                                                          1\n",
       "Attch'd Gar Cabinets, Electric Door Opener, Extnded Lngth Garage, Over Height Garage, RV Gate, Dir Entry frm Garage, Slab Parking Spaces        1\n",
       "Boat, Covered, Driveway, Parking Pad                                                                                                            1\n",
       "On Street, Alley                                                                                                                                1\n",
       "Name: Parking, Length: 2398, dtype: int64"
      ]
     },
     "execution_count": 95,
     "metadata": {},
     "output_type": "execute_result"
    }
   ],
   "source": [
    "data=pd.read_csv('dataintermediate.csv')\n",
    "data.Parking.value_counts()"
   ]
  },
  {
   "cell_type": "code",
   "execution_count": 96,
   "metadata": {},
   "outputs": [],
   "source": [
    "data.Parking[data.Parking.notnull()==True]=data.Parking[data.Parking.notnull()==True].str.lower()\n",
    "data.Parking[(data.Parking.notnull()==True)&(data.Parking.str.contains('no')==True)]=0\n",
    "data.Parking[(data.Parking.notnull()==True)]=1\n"
   ]
  },
  {
   "cell_type": "code",
   "execution_count": 97,
   "metadata": {},
   "outputs": [
    {
     "data": {
      "text/plain": [
       "0         0\n",
       "1         1\n",
       "2         1\n",
       "3         0\n",
       "4         1\n",
       "         ..\n",
       "193636    1\n",
       "193637    1\n",
       "193638    1\n",
       "193639    1\n",
       "193640    1\n",
       "Name: Parking, Length: 193641, dtype: int32"
      ]
     },
     "execution_count": 97,
     "metadata": {},
     "output_type": "execute_result"
    }
   ],
   "source": [
    "data.Parking.fillna(0,inplace=True)\n",
    "data.Parking.astype(int)"
   ]
  },
  {
   "cell_type": "markdown",
   "metadata": {},
   "source": [
    "## Density per state- additional data"
   ]
  },
  {
   "cell_type": "code",
   "execution_count": 98,
   "metadata": {},
   "outputs": [],
   "source": [
    "url = 'https://www.census.gov/data/tables/2010/dec/density-data-text.html'  "
   ]
  },
  {
   "cell_type": "code",
   "execution_count": 99,
   "metadata": {},
   "outputs": [],
   "source": [
    "pd.read_html(url)[0].to_csv('density2010.csv',index=False)\n",
    "density=pd.read_csv('density2010.csv')"
   ]
  },
  {
   "cell_type": "code",
   "execution_count": 100,
   "metadata": {},
   "outputs": [
    {
     "data": {
      "text/html": [
       "<div>\n",
       "<style scoped>\n",
       "    .dataframe tbody tr th:only-of-type {\n",
       "        vertical-align: middle;\n",
       "    }\n",
       "\n",
       "    .dataframe tbody tr th {\n",
       "        vertical-align: top;\n",
       "    }\n",
       "\n",
       "    .dataframe thead th {\n",
       "        text-align: right;\n",
       "    }\n",
       "</style>\n",
       "<table border=\"1\" class=\"dataframe\">\n",
       "  <thead>\n",
       "    <tr style=\"text-align: right;\">\n",
       "      <th></th>\n",
       "      <th>statefull</th>\n",
       "      <th>density</th>\n",
       "    </tr>\n",
       "  </thead>\n",
       "  <tbody>\n",
       "    <tr>\n",
       "      <th>0</th>\n",
       "      <td>Alabama</td>\n",
       "      <td>94.4</td>\n",
       "    </tr>\n",
       "    <tr>\n",
       "      <th>1</th>\n",
       "      <td>Alaska</td>\n",
       "      <td>1.2</td>\n",
       "    </tr>\n",
       "    <tr>\n",
       "      <th>2</th>\n",
       "      <td>Arizona</td>\n",
       "      <td>56.3</td>\n",
       "    </tr>\n",
       "    <tr>\n",
       "      <th>3</th>\n",
       "      <td>Arkansas</td>\n",
       "      <td>56.0</td>\n",
       "    </tr>\n",
       "    <tr>\n",
       "      <th>4</th>\n",
       "      <td>California</td>\n",
       "      <td>239.1</td>\n",
       "    </tr>\n",
       "  </tbody>\n",
       "</table>\n",
       "</div>"
      ],
      "text/plain": [
       "    statefull density\n",
       "0     Alabama    94.4\n",
       "1      Alaska     1.2\n",
       "2     Arizona    56.3\n",
       "3    Arkansas    56.0\n",
       "4  California   239.1"
      ]
     },
     "execution_count": 100,
     "metadata": {},
     "output_type": "execute_result"
    }
   ],
   "source": [
    "density2010=pd.DataFrame(density.iloc[3::4]['2010'].values,columns=['statefull'])\n",
    "density2010['density']=density.iloc[5::4]['2010'].values\n",
    "density2010.head()"
   ]
  },
  {
   "cell_type": "code",
   "execution_count": 101,
   "metadata": {},
   "outputs": [
    {
     "data": {
      "text/html": [
       "<div>\n",
       "<style scoped>\n",
       "    .dataframe tbody tr th:only-of-type {\n",
       "        vertical-align: middle;\n",
       "    }\n",
       "\n",
       "    .dataframe tbody tr th {\n",
       "        vertical-align: top;\n",
       "    }\n",
       "\n",
       "    .dataframe thead th {\n",
       "        text-align: right;\n",
       "    }\n",
       "</style>\n",
       "<table border=\"1\" class=\"dataframe\">\n",
       "  <thead>\n",
       "    <tr style=\"text-align: right;\">\n",
       "      <th></th>\n",
       "      <th>Codes:  ISO ISO 3166 codes (2-letter, 3-letter, and 3-digit codes from ISO 3166-1; 2+2-letter codes from ISO 3166-2)  ANSI 2-letter and 2-digit codes from the ANSI standard INCITS 38:2009 (supersedes FIPS 5-2)  USPS 2-letter codes used by the United States Postal Service  USCG 2-letter codes used by the United States Coast Guard (bold red text shows differences between ANSI and USCG) Abbreviations:  GPO Older variable-length official US Government Printing Office abbreviations  AP Abbreviations from the AP Stylebook (bold red text shows differences between GPO and AP)</th>\n",
       "      <th>Codes:  ISO ISO 3166 codes (2-letter, 3-letter, and 3-digit codes from ISO 3166-1; 2+2-letter codes from ISO 3166-2)  ANSI 2-letter and 2-digit codes from the ANSI standard INCITS 38:2009 (supersedes FIPS 5-2)  USPS 2-letter codes used by the United States Postal Service  USCG 2-letter codes used by the United States Coast Guard (bold red text shows differences between ANSI and USCG) Abbreviations:  GPO Older variable-length official US Government Printing Office abbreviations  AP Abbreviations from the AP Stylebook (bold red text shows differences between GPO and AP).3</th>\n",
       "    </tr>\n",
       "  </thead>\n",
       "  <tbody>\n",
       "    <tr>\n",
       "      <th>0</th>\n",
       "      <td>Alabama</td>\n",
       "      <td>AL</td>\n",
       "    </tr>\n",
       "    <tr>\n",
       "      <th>1</th>\n",
       "      <td>Alaska</td>\n",
       "      <td>AK</td>\n",
       "    </tr>\n",
       "    <tr>\n",
       "      <th>2</th>\n",
       "      <td>Arizona</td>\n",
       "      <td>AZ</td>\n",
       "    </tr>\n",
       "    <tr>\n",
       "      <th>3</th>\n",
       "      <td>Arkansas</td>\n",
       "      <td>AR</td>\n",
       "    </tr>\n",
       "    <tr>\n",
       "      <th>4</th>\n",
       "      <td>California</td>\n",
       "      <td>CA</td>\n",
       "    </tr>\n",
       "  </tbody>\n",
       "</table>\n",
       "</div>"
      ],
      "text/plain": [
       "  Codes:  ISO ISO 3166 codes (2-letter, 3-letter, and 3-digit codes from ISO 3166-1; 2+2-letter codes from ISO 3166-2)  ANSI 2-letter and 2-digit codes from the ANSI standard INCITS 38:2009 (supersedes FIPS 5-2)  USPS 2-letter codes used by the United States Postal Service  USCG 2-letter codes used by the United States Coast Guard (bold red text shows differences between ANSI and USCG) Abbreviations:  GPO Older variable-length official US Government Printing Office abbreviations  AP Abbreviations from the AP Stylebook (bold red text shows differences between GPO and AP)  \\\n",
       "0                                            Alabama                                                                                                                                                                                                                                                                                                                                                                                                                                                                                                                                               \n",
       "1                                             Alaska                                                                                                                                                                                                                                                                                                                                                                                                                                                                                                                                               \n",
       "2                                            Arizona                                                                                                                                                                                                                                                                                                                                                                                                                                                                                                                                               \n",
       "3                                           Arkansas                                                                                                                                                                                                                                                                                                                                                                                                                                                                                                                                               \n",
       "4                                         California                                                                                                                                                                                                                                                                                                                                                                                                                                                                                                                                               \n",
       "\n",
       "  Codes:  ISO ISO 3166 codes (2-letter, 3-letter, and 3-digit codes from ISO 3166-1; 2+2-letter codes from ISO 3166-2)  ANSI 2-letter and 2-digit codes from the ANSI standard INCITS 38:2009 (supersedes FIPS 5-2)  USPS 2-letter codes used by the United States Postal Service  USCG 2-letter codes used by the United States Coast Guard (bold red text shows differences between ANSI and USCG) Abbreviations:  GPO Older variable-length official US Government Printing Office abbreviations  AP Abbreviations from the AP Stylebook (bold red text shows differences between GPO and AP).3  \n",
       "0                                                 AL                                                                                                                                                                                                                                                                                                                                                                                                                                                                                                                                                \n",
       "1                                                 AK                                                                                                                                                                                                                                                                                                                                                                                                                                                                                                                                                \n",
       "2                                                 AZ                                                                                                                                                                                                                                                                                                                                                                                                                                                                                                                                                \n",
       "3                                                 AR                                                                                                                                                                                                                                                                                                                                                                                                                                                                                                                                                \n",
       "4                                                 CA                                                                                                                                                                                                                                                                                                                                                                                                                                                                                                                                                "
      ]
     },
     "execution_count": 101,
     "metadata": {},
     "output_type": "execute_result"
    }
   ],
   "source": [
    "url1 = 'https://en.wikipedia.org/wiki/List_of_U.S._state_and_territory_abbreviations'  \n",
    "pd.read_html(url1)[0].iloc[11:,[0,3]].dropna().to_csv('abrv.csv',index=False)\n",
    "stateabrv=pd.read_csv('abrv.csv')\n",
    "stateabrv.head()"
   ]
  },
  {
   "cell_type": "code",
   "execution_count": 102,
   "metadata": {},
   "outputs": [],
   "source": [
    "stateabrv.columns=['statefull','state']"
   ]
  },
  {
   "cell_type": "code",
   "execution_count": 103,
   "metadata": {},
   "outputs": [
    {
     "data": {
      "text/html": [
       "<div>\n",
       "<style scoped>\n",
       "    .dataframe tbody tr th:only-of-type {\n",
       "        vertical-align: middle;\n",
       "    }\n",
       "\n",
       "    .dataframe tbody tr th {\n",
       "        vertical-align: top;\n",
       "    }\n",
       "\n",
       "    .dataframe thead th {\n",
       "        text-align: right;\n",
       "    }\n",
       "</style>\n",
       "<table border=\"1\" class=\"dataframe\">\n",
       "  <thead>\n",
       "    <tr style=\"text-align: right;\">\n",
       "      <th></th>\n",
       "      <th>statefull</th>\n",
       "      <th>density</th>\n",
       "      <th>state</th>\n",
       "    </tr>\n",
       "  </thead>\n",
       "  <tbody>\n",
       "    <tr>\n",
       "      <th>0</th>\n",
       "      <td>Alabama</td>\n",
       "      <td>94.4</td>\n",
       "      <td>AL</td>\n",
       "    </tr>\n",
       "    <tr>\n",
       "      <th>1</th>\n",
       "      <td>Alaska</td>\n",
       "      <td>1.2</td>\n",
       "      <td>AK</td>\n",
       "    </tr>\n",
       "    <tr>\n",
       "      <th>2</th>\n",
       "      <td>Arizona</td>\n",
       "      <td>56.3</td>\n",
       "      <td>AZ</td>\n",
       "    </tr>\n",
       "    <tr>\n",
       "      <th>3</th>\n",
       "      <td>Arkansas</td>\n",
       "      <td>56.0</td>\n",
       "      <td>AR</td>\n",
       "    </tr>\n",
       "    <tr>\n",
       "      <th>4</th>\n",
       "      <td>California</td>\n",
       "      <td>239.1</td>\n",
       "      <td>CA</td>\n",
       "    </tr>\n",
       "  </tbody>\n",
       "</table>\n",
       "</div>"
      ],
      "text/plain": [
       "    statefull density state\n",
       "0     Alabama    94.4    AL\n",
       "1      Alaska     1.2    AK\n",
       "2     Arizona    56.3    AZ\n",
       "3    Arkansas    56.0    AR\n",
       "4  California   239.1    CA"
      ]
     },
     "execution_count": 103,
     "metadata": {},
     "output_type": "execute_result"
    }
   ],
   "source": [
    "density2010=density2010.merge(stateabrv, on='statefull', how='left')\n",
    "density2010.head()"
   ]
  },
  {
   "cell_type": "code",
   "execution_count": 104,
   "metadata": {},
   "outputs": [],
   "source": [
    "data.state=data.state.astype(str)"
   ]
  },
  {
   "cell_type": "code",
   "execution_count": 105,
   "metadata": {},
   "outputs": [
    {
     "data": {
      "text/plain": [
       "0         WA\n",
       "1         CA\n",
       "2         TX\n",
       "3         PA\n",
       "4         TX\n",
       "          ..\n",
       "193636    DC\n",
       "193637    FL\n",
       "193638    IL\n",
       "193639    NY\n",
       "193640    TX\n",
       "Name: state, Length: 193641, dtype: object"
      ]
     },
     "execution_count": 105,
     "metadata": {},
     "output_type": "execute_result"
    }
   ],
   "source": [
    "data.state"
   ]
  },
  {
   "cell_type": "code",
   "execution_count": 106,
   "metadata": {},
   "outputs": [],
   "source": [
    "data=data.merge(density2010, on='state', how='left')"
   ]
  },
  {
   "cell_type": "code",
   "execution_count": 107,
   "metadata": {},
   "outputs": [],
   "source": [
    "data.density=data.density.astype(float)"
   ]
  },
  {
   "cell_type": "markdown",
   "metadata": {},
   "source": [
    "## Features table"
   ]
  },
  {
   "cell_type": "code",
   "execution_count": 108,
   "metadata": {},
   "outputs": [],
   "source": [
    "Features=data[['stories','fireplace','sqft','PrivatePool','Year built','Remodeled year','baths/bed','Parking','schRating','density']]\n",
    "target=data.Price"
   ]
  },
  {
   "cell_type": "code",
   "execution_count": 109,
   "metadata": {},
   "outputs": [
    {
     "name": "stdout",
     "output_type": "stream",
     "text": [
      "<class 'pandas.core.frame.DataFrame'>\n",
      "Int64Index: 193641 entries, 0 to 193640\n",
      "Data columns (total 10 columns):\n",
      " #   Column          Non-Null Count   Dtype  \n",
      "---  ------          --------------   -----  \n",
      " 0   stories         193641 non-null  int64  \n",
      " 1   fireplace       193641 non-null  int64  \n",
      " 2   sqft            193641 non-null  float64\n",
      " 3   PrivatePool     193641 non-null  int64  \n",
      " 4   Year built      193641 non-null  int64  \n",
      " 5   Remodeled year  193641 non-null  int64  \n",
      " 6   baths/bed       193641 non-null  float64\n",
      " 7   Parking         193641 non-null  int64  \n",
      " 8   schRating       193641 non-null  int64  \n",
      " 9   density         193641 non-null  float64\n",
      "dtypes: float64(3), int64(7)\n",
      "memory usage: 16.3 MB\n"
     ]
    }
   ],
   "source": [
    "Features.info()"
   ]
  },
  {
   "cell_type": "code",
   "execution_count": 110,
   "metadata": {},
   "outputs": [
    {
     "data": {
      "text/plain": [
       "<matplotlib.axes._subplots.AxesSubplot at 0x202765b59e8>"
      ]
     },
     "execution_count": 110,
     "metadata": {},
     "output_type": "execute_result"
    },
    {
     "data": {
      "image/png": "[encoded data removed]",
      "text/plain": [
       "<Figure size 432x288 with 2 Axes>"
      ]
     },
     "metadata": {
      "needs_background": "light"
     },
     "output_type": "display_data"
    }
   ],
   "source": [
    "sns.heatmap(Features.corr(), annot=True, cmap='coolwarm')"
   ]
  },
  {
   "cell_type": "markdown",
   "metadata": {},
   "source": [
    "# Model"
   ]
  },
  {
   "cell_type": "code",
   "execution_count": 111,
   "metadata": {},
   "outputs": [],
   "source": [
    "import numpy as np\n",
    "from sklearn.metrics import mean_absolute_error,mean_squared_error\n",
    "from sklearn.linear_model import LinearRegression\n",
    "from sklearn.ensemble import GradientBoostingRegressor\n",
    "from sklearn.model_selection import train_test_split\n",
    "from sklearn.preprocessing import StandardScaler"
   ]
  },
  {
   "cell_type": "code",
   "execution_count": 112,
   "metadata": {},
   "outputs": [],
   "source": [
    "scaler = StandardScaler()\n",
    "FeaturesSt=scaler.fit_transform(Features)"
   ]
  },
  {
   "cell_type": "code",
   "execution_count": 113,
   "metadata": {},
   "outputs": [
    {
     "name": "stdout",
     "output_type": "stream",
     "text": [
      "X_train: (154912, 10)\n",
      "X_test: (38729, 10)\n",
      "y_train: (154912,)\n",
      "y_test: (38729,)\n"
     ]
    }
   ],
   "source": [
    "X_train, X_test, y_train, y_test = train_test_split(FeaturesSt, target, test_size=0.2)\n",
    "print('X_train:', X_train.shape)\n",
    "print('X_test:', X_test.shape)\n",
    "print('y_train:', y_train.shape)\n",
    "print('y_test:', y_test.shape)"
   ]
  },
  {
   "cell_type": "code",
   "execution_count": 114,
   "metadata": {},
   "outputs": [
    {
     "name": "stdout",
     "output_type": "stream",
     "text": [
      "154.40003839999997\n"
     ]
    }
   ],
   "source": [
    "start = timer()\n",
    "predictor = GradientBoostingRegressor(n_estimators=1000, learning_rate=0.4)\n",
    "predictor.fit(X_train, y_train)\n",
    "y_pred = predictor.predict(X_test)\n",
    "end = timer()\n",
    "print(end - start)"
   ]
  },
  {
   "cell_type": "code",
   "execution_count": 115,
   "metadata": {},
   "outputs": [
    {
     "name": "stdout",
     "output_type": "stream",
     "text": [
      "R^2 GB: 0.7165, MAE GB: 0.34, RSME: 0.5\n"
     ]
    }
   ],
   "source": [
    "mae=mean_absolute_error(y_test,y_pred)\n",
    "mse=mean_squared_error(y_test,y_pred)\n",
    "print(f'R^2 GB: {round(predictor.score(X_test,y_test),4)}, MAE GB: {round(mae,2)}, RSME: {round(np.sqrt(mse),2)}')\n"
   ]
  },
  {
   "cell_type": "markdown",
   "metadata": {},
   "source": [
    "The model is not perfect and requires some further work with the data. "
   ]
  }
 ],
 "metadata": {
  "celltoolbar": "Raw Cell Format",
  "kernelspec": {
   "display_name": "Python 3",
   "language": "python",
   "name": "python3"
  },
  "language_info": {
   "codemirror_mode": {
    "name": "ipython",
    "version": 3
   },
   "file_extension": ".py",
   "mimetype": "text/x-python",
   "name": "python",
   "nbconvert_exporter": "python",
   "pygments_lexer": "ipython3",
   "version": "3.7.3"
  }
 },
 "nbformat": 4,
 "nbformat_minor": 4
}
