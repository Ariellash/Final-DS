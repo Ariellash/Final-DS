{
 "cells": [
  {
   "cell_type": "markdown",
   "metadata": {},
   "source": [
    "# Import packages"
   ]
  },
  {
   "cell_type": "code",
   "execution_count": 1,
   "metadata": {},
   "outputs": [
    {
     "name": "stderr",
     "output_type": "stream",
     "text": [
      "C:\\Users\\dom\\Anaconda3\\lib\\site-packages\\statsmodels\\tools\\_testing.py:19: FutureWarning: pandas.util.testing is deprecated. Use the functions in the public API at pandas.testing instead.\n",
      "  import pandas.util.testing as tm\n"
     ]
    }
   ],
   "source": [
    "import pandas as pd\n",
    "import numpy as np\n",
    "import matplotlib.pyplot as plt\n",
    "import seaborn as sns\n",
    "%matplotlib inline\n",
    "import warnings; warnings.simplefilter('ignore')\n",
    "import ast\n",
    "import re\n",
    "from timeit import default_timer as timer\n",
    "import random\n",
    "import numpy as np"
   ]
  },
  {
   "cell_type": "markdown",
   "metadata": {},
   "source": [
    "# Functions"
   ]
  },
  {
   "cell_type": "code",
   "execution_count": 2,
   "metadata": {},
   "outputs": [],
   "source": [
    "#Function that writes to csv\n",
    "def save_data(x):\n",
    "    x.to_csv('dataintermediate.csv', index=False)"
   ]
  },
  {
   "cell_type": "markdown",
   "metadata": {},
   "source": [
    "# Data preparation"
   ]
  },
  {
   "cell_type": "markdown",
   "metadata": {},
   "source": [
    "### Read Data and select columns for Model"
   ]
  },
  {
   "cell_type": "code",
   "execution_count": 3,
   "metadata": {},
   "outputs": [
    {
     "name": "stdout",
     "output_type": "stream",
     "text": [
      "<class 'pandas.core.frame.DataFrame'>\n",
      "RangeIndex: 374687 entries, 0 to 374686\n",
      "Data columns (total 18 columns):\n",
      " #   Column        Non-Null Count   Dtype \n",
      "---  ------        --------------   ----- \n",
      " 0   status        335392 non-null  object\n",
      " 1   private pool  4197 non-null    object\n",
      " 2   propertyType  340127 non-null  object\n",
      " 3   street        374686 non-null  object\n",
      " 4   baths         269465 non-null  object\n",
      " 5   homeFacts     374687 non-null  object\n",
      " 6   fireplace     102486 non-null  object\n",
      " 7   city          374657 non-null  object\n",
      " 8   schools       374687 non-null  object\n",
      " 9   sqft          334483 non-null  object\n",
      " 10  zipcode       374687 non-null  object\n",
      " 11  beds          283832 non-null  object\n",
      " 12  state         374686 non-null  object\n",
      " 13  stories       224861 non-null  object\n",
      " 14  mls-id        25078 non-null   object\n",
      " 15  PrivatePool   40296 non-null   object\n",
      " 16  MlsId         310313 non-null  object\n",
      " 17  target        374687 non-null  int64 \n",
      "dtypes: int64(1), object(17)\n",
      "memory usage: 51.5+ MB\n"
     ]
    }
   ],
   "source": [
    "df = pd.read_csv('datav.csv')\n",
    "df.info()"
   ]
  },
  {
   "cell_type": "markdown",
   "metadata": {},
   "source": [
    "#### If to drop all NAs from data frame then there will be an empty table. So some work is required per each column separately"
   ]
  },
  {
   "cell_type": "code",
   "execution_count": 4,
   "metadata": {},
   "outputs": [],
   "source": [
    "#First I will use most commonsence properties that might influence the property Price\n",
    "data = df[['status', 'private pool', 'baths',\n",
    "           'homeFacts', 'fireplace', 'schools',\n",
    "           'sqft', 'beds', 'state', 'stories',\n",
    "           'PrivatePool', 'propertyType', 'target']]"
   ]
  },
  {
   "cell_type": "markdown",
   "metadata": {},
   "source": [
    "### Property type"
   ]
  },
  {
   "cell_type": "code",
   "execution_count": 5,
   "metadata": {},
   "outputs": [],
   "source": [
    "data.propertyType = data.propertyType.fillna('0')\n",
    "data.propertyType = data.propertyType.str.lower()"
   ]
  },
  {
   "cell_type": "code",
   "execution_count": 6,
   "metadata": {},
   "outputs": [],
   "source": [
    "data.propertyType[data.propertyType.str.contains('single')] = '1'\n",
    "data.propertyType[data.propertyType.str.contains('condo')] = '2'\n",
    "data.propertyType[data.propertyType.str.contains('land')] = '3'\n",
    "data.propertyType[data.propertyType.str.contains('townhouse')] = '4'\n",
    "data.propertyType[data.propertyType.str.contains('multi')] = '5'\n",
    "data.propertyType[data.propertyType.str.contains('traditional')] = '6'\n",
    "data.propertyType[data.propertyType.str.contains('coop')] = '7'\n",
    "data.propertyType[data.propertyType.str.contains('\\D')] = '8'"
   ]
  },
  {
   "cell_type": "code",
   "execution_count": 7,
   "metadata": {},
   "outputs": [
    {
     "data": {
      "text/plain": [
       "Series([], Name: propertyType, dtype: float64)"
      ]
     },
     "execution_count": 7,
     "metadata": {},
     "output_type": "execute_result"
    }
   ],
   "source": [
    "data.propertyType[data.propertyType.str.contains('\\D')].value_counts(normalize=True)"
   ]
  },
  {
   "cell_type": "code",
   "execution_count": 8,
   "metadata": {},
   "outputs": [
    {
     "data": {
      "text/plain": [
       "1    0.503316\n",
       "2    0.136762\n",
       "0    0.092237\n",
       "3    0.084316\n",
       "8    0.071006\n",
       "4    0.048763\n",
       "5    0.033276\n",
       "6    0.019977\n",
       "7    0.010347\n",
       "Name: propertyType, dtype: float64"
      ]
     },
     "execution_count": 8,
     "metadata": {},
     "output_type": "execute_result"
    }
   ],
   "source": [
    "data.propertyType.value_counts(normalize=True)"
   ]
  },
  {
   "cell_type": "code",
   "execution_count": 9,
   "metadata": {},
   "outputs": [],
   "source": [
    "data.propertyType = data.propertyType.astype(int)"
   ]
  },
  {
   "cell_type": "markdown",
   "metadata": {},
   "source": [
    "### Price of the Property (target) "
   ]
  },
  {
   "cell_type": "code",
   "execution_count": 10,
   "metadata": {},
   "outputs": [],
   "source": [
    "data.target.fillna(0, inplace=True)"
   ]
  },
  {
   "cell_type": "code",
   "execution_count": 13,
   "metadata": {},
   "outputs": [
    {
     "data": {
      "text/plain": [
       "0          339900\n",
       "1          223000\n",
       "2         3195000\n",
       "3          715000\n",
       "4         1224500\n",
       "           ...   \n",
       "374682     144900\n",
       "374683     199000\n",
       "374684      28900\n",
       "374685     575000\n",
       "374686      55000\n",
       "Name: target, Length: 374687, dtype: int64"
      ]
     },
     "execution_count": 13,
     "metadata": {},
     "output_type": "execute_result"
    }
   ],
   "source": [
    "data.target"
   ]
  },
  {
   "cell_type": "code",
   "execution_count": 11,
   "metadata": {},
   "outputs": [
    {
     "ename": "AttributeError",
     "evalue": "Can only use .str accessor with string values!",
     "output_type": "error",
     "traceback": [
      "\u001b[1;31m---------------------------------------------------------------------------\u001b[0m",
      "\u001b[1;31mAttributeError\u001b[0m                            Traceback (most recent call last)",
      "\u001b[1;32m<ipython-input-11-44eb18bc300a>\u001b[0m in \u001b[0;36m<module>\u001b[1;34m\u001b[0m\n\u001b[0;32m      1\u001b[0m \u001b[1;31m#find symbols that are not numbers to replace\u001b[0m\u001b[1;33m\u001b[0m\u001b[1;33m\u001b[0m\u001b[1;33m\u001b[0m\u001b[0m\n\u001b[1;32m----> 2\u001b[1;33m \u001b[0msymbollist\u001b[0m \u001b[1;33m=\u001b[0m \u001b[0mdata\u001b[0m\u001b[1;33m.\u001b[0m\u001b[0mtarget\u001b[0m\u001b[1;33m.\u001b[0m\u001b[0mstr\u001b[0m\u001b[1;33m.\u001b[0m\u001b[0mfindall\u001b[0m\u001b[1;33m(\u001b[0m\u001b[1;34mr'\\D'\u001b[0m\u001b[1;33m)\u001b[0m\u001b[1;33m.\u001b[0m\u001b[0mvalue_counts\u001b[0m\u001b[1;33m(\u001b[0m\u001b[1;33m)\u001b[0m\u001b[1;33m.\u001b[0m\u001b[0mreset_index\u001b[0m\u001b[1;33m(\u001b[0m\u001b[1;33m)\u001b[0m\u001b[1;33m[\u001b[0m\u001b[1;34m'index'\u001b[0m\u001b[1;33m]\u001b[0m\u001b[1;33m\u001b[0m\u001b[1;33m\u001b[0m\u001b[0m\n\u001b[0m\u001b[0;32m      3\u001b[0m \u001b[0ms\u001b[0m \u001b[1;33m=\u001b[0m \u001b[0mlist\u001b[0m\u001b[1;33m(\u001b[0m\u001b[1;33m)\u001b[0m\u001b[1;33m\u001b[0m\u001b[1;33m\u001b[0m\u001b[0m\n\u001b[0;32m      4\u001b[0m \u001b[1;32mfor\u001b[0m \u001b[0mi\u001b[0m \u001b[1;32min\u001b[0m \u001b[0msymbollist\u001b[0m\u001b[1;33m:\u001b[0m\u001b[1;33m\u001b[0m\u001b[1;33m\u001b[0m\u001b[0m\n\u001b[0;32m      5\u001b[0m     \u001b[0ms\u001b[0m \u001b[1;33m=\u001b[0m \u001b[0ms\u001b[0m \u001b[1;33m+\u001b[0m \u001b[0mi\u001b[0m\u001b[1;33m\u001b[0m\u001b[1;33m\u001b[0m\u001b[0m\n",
      "\u001b[1;32m~\\Anaconda3\\lib\\site-packages\\pandas\\core\\generic.py\u001b[0m in \u001b[0;36m__getattr__\u001b[1;34m(self, name)\u001b[0m\n\u001b[0;32m   5268\u001b[0m             \u001b[1;32mor\u001b[0m \u001b[0mname\u001b[0m \u001b[1;32min\u001b[0m \u001b[0mself\u001b[0m\u001b[1;33m.\u001b[0m\u001b[0m_accessors\u001b[0m\u001b[1;33m\u001b[0m\u001b[1;33m\u001b[0m\u001b[0m\n\u001b[0;32m   5269\u001b[0m         ):\n\u001b[1;32m-> 5270\u001b[1;33m             \u001b[1;32mreturn\u001b[0m \u001b[0mobject\u001b[0m\u001b[1;33m.\u001b[0m\u001b[0m__getattribute__\u001b[0m\u001b[1;33m(\u001b[0m\u001b[0mself\u001b[0m\u001b[1;33m,\u001b[0m \u001b[0mname\u001b[0m\u001b[1;33m)\u001b[0m\u001b[1;33m\u001b[0m\u001b[1;33m\u001b[0m\u001b[0m\n\u001b[0m\u001b[0;32m   5271\u001b[0m         \u001b[1;32melse\u001b[0m\u001b[1;33m:\u001b[0m\u001b[1;33m\u001b[0m\u001b[1;33m\u001b[0m\u001b[0m\n\u001b[0;32m   5272\u001b[0m             \u001b[1;32mif\u001b[0m \u001b[0mself\u001b[0m\u001b[1;33m.\u001b[0m\u001b[0m_info_axis\u001b[0m\u001b[1;33m.\u001b[0m\u001b[0m_can_hold_identifiers_and_holds_name\u001b[0m\u001b[1;33m(\u001b[0m\u001b[0mname\u001b[0m\u001b[1;33m)\u001b[0m\u001b[1;33m:\u001b[0m\u001b[1;33m\u001b[0m\u001b[1;33m\u001b[0m\u001b[0m\n",
      "\u001b[1;32m~\\Anaconda3\\lib\\site-packages\\pandas\\core\\accessor.py\u001b[0m in \u001b[0;36m__get__\u001b[1;34m(self, obj, cls)\u001b[0m\n\u001b[0;32m    185\u001b[0m             \u001b[1;31m# we're accessing the attribute of the class, i.e., Dataset.geo\u001b[0m\u001b[1;33m\u001b[0m\u001b[1;33m\u001b[0m\u001b[1;33m\u001b[0m\u001b[0m\n\u001b[0;32m    186\u001b[0m             \u001b[1;32mreturn\u001b[0m \u001b[0mself\u001b[0m\u001b[1;33m.\u001b[0m\u001b[0m_accessor\u001b[0m\u001b[1;33m\u001b[0m\u001b[1;33m\u001b[0m\u001b[0m\n\u001b[1;32m--> 187\u001b[1;33m         \u001b[0maccessor_obj\u001b[0m \u001b[1;33m=\u001b[0m \u001b[0mself\u001b[0m\u001b[1;33m.\u001b[0m\u001b[0m_accessor\u001b[0m\u001b[1;33m(\u001b[0m\u001b[0mobj\u001b[0m\u001b[1;33m)\u001b[0m\u001b[1;33m\u001b[0m\u001b[1;33m\u001b[0m\u001b[0m\n\u001b[0m\u001b[0;32m    188\u001b[0m         \u001b[1;31m# Replace the property with the accessor object. Inspired by:\u001b[0m\u001b[1;33m\u001b[0m\u001b[1;33m\u001b[0m\u001b[1;33m\u001b[0m\u001b[0m\n\u001b[0;32m    189\u001b[0m         \u001b[1;31m# http://www.pydanny.com/cached-property.html\u001b[0m\u001b[1;33m\u001b[0m\u001b[1;33m\u001b[0m\u001b[1;33m\u001b[0m\u001b[0m\n",
      "\u001b[1;32m~\\Anaconda3\\lib\\site-packages\\pandas\\core\\strings.py\u001b[0m in \u001b[0;36m__init__\u001b[1;34m(self, data)\u001b[0m\n\u001b[0;32m   2037\u001b[0m \u001b[1;33m\u001b[0m\u001b[0m\n\u001b[0;32m   2038\u001b[0m     \u001b[1;32mdef\u001b[0m \u001b[0m__init__\u001b[0m\u001b[1;33m(\u001b[0m\u001b[0mself\u001b[0m\u001b[1;33m,\u001b[0m \u001b[0mdata\u001b[0m\u001b[1;33m)\u001b[0m\u001b[1;33m:\u001b[0m\u001b[1;33m\u001b[0m\u001b[1;33m\u001b[0m\u001b[0m\n\u001b[1;32m-> 2039\u001b[1;33m         \u001b[0mself\u001b[0m\u001b[1;33m.\u001b[0m\u001b[0m_inferred_dtype\u001b[0m \u001b[1;33m=\u001b[0m \u001b[0mself\u001b[0m\u001b[1;33m.\u001b[0m\u001b[0m_validate\u001b[0m\u001b[1;33m(\u001b[0m\u001b[0mdata\u001b[0m\u001b[1;33m)\u001b[0m\u001b[1;33m\u001b[0m\u001b[1;33m\u001b[0m\u001b[0m\n\u001b[0m\u001b[0;32m   2040\u001b[0m         \u001b[0mself\u001b[0m\u001b[1;33m.\u001b[0m\u001b[0m_is_categorical\u001b[0m \u001b[1;33m=\u001b[0m \u001b[0mis_categorical_dtype\u001b[0m\u001b[1;33m(\u001b[0m\u001b[0mdata\u001b[0m\u001b[1;33m)\u001b[0m\u001b[1;33m\u001b[0m\u001b[1;33m\u001b[0m\u001b[0m\n\u001b[0;32m   2041\u001b[0m         \u001b[0mself\u001b[0m\u001b[1;33m.\u001b[0m\u001b[0m_is_string\u001b[0m \u001b[1;33m=\u001b[0m \u001b[0mdata\u001b[0m\u001b[1;33m.\u001b[0m\u001b[0mdtype\u001b[0m\u001b[1;33m.\u001b[0m\u001b[0mname\u001b[0m \u001b[1;33m==\u001b[0m \u001b[1;34m\"string\"\u001b[0m\u001b[1;33m\u001b[0m\u001b[1;33m\u001b[0m\u001b[0m\n",
      "\u001b[1;32m~\\Anaconda3\\lib\\site-packages\\pandas\\core\\strings.py\u001b[0m in \u001b[0;36m_validate\u001b[1;34m(data)\u001b[0m\n\u001b[0;32m   2094\u001b[0m \u001b[1;33m\u001b[0m\u001b[0m\n\u001b[0;32m   2095\u001b[0m         \u001b[1;32mif\u001b[0m \u001b[0minferred_dtype\u001b[0m \u001b[1;32mnot\u001b[0m \u001b[1;32min\u001b[0m \u001b[0mallowed_types\u001b[0m\u001b[1;33m:\u001b[0m\u001b[1;33m\u001b[0m\u001b[1;33m\u001b[0m\u001b[0m\n\u001b[1;32m-> 2096\u001b[1;33m             \u001b[1;32mraise\u001b[0m \u001b[0mAttributeError\u001b[0m\u001b[1;33m(\u001b[0m\u001b[1;34m\"Can only use .str accessor with string values!\"\u001b[0m\u001b[1;33m)\u001b[0m\u001b[1;33m\u001b[0m\u001b[1;33m\u001b[0m\u001b[0m\n\u001b[0m\u001b[0;32m   2097\u001b[0m         \u001b[1;32mreturn\u001b[0m \u001b[0minferred_dtype\u001b[0m\u001b[1;33m\u001b[0m\u001b[1;33m\u001b[0m\u001b[0m\n\u001b[0;32m   2098\u001b[0m \u001b[1;33m\u001b[0m\u001b[0m\n",
      "\u001b[1;31mAttributeError\u001b[0m: Can only use .str accessor with string values!"
     ]
    }
   ],
   "source": [
    "#find symbols that are not numbers to replace\n",
    "symbollist = data.target.str.findall(r'\\D').value_counts().reset_index()['index']\n",
    "s = list()\n",
    "for i in symbollist:\n",
    "    s = s + i\n",
    "s = list(set(s))\n",
    "s = ''.join(s)\n",
    "print(f'Next symbols are to be replaced {s}')"
   ]
  },
  {
   "cell_type": "code",
   "execution_count": 16,
   "metadata": {},
   "outputs": [],
   "source": [
    "#Function that First remove \",\",\"+\",\"/mo\" from all string values then If the string value is a range - take the average\n",
    "#Function returns for strings it's numeric value\n",
    "def clean_currency(x):\n",
    "    \"\"\"replace redundent symbols\"\"\"\n",
    "    if isinstance(x, str):\n",
    "        x = x.replace('$', '').replace(',', '').replace('+', '').replace('/mo', '')\n",
    "      \n",
    "    #for values that appears as range take the average\n",
    "    if isinstance(x, str) and x.find(' - ') > 0:\n",
    "        a = x.find(' - ')\n",
    "        return((float(x[:a]) + float(x[a + 3:]))/2)  \n",
    "    return(float(x))"
   ]
  },
  {
   "cell_type": "code",
   "execution_count": 17,
   "metadata": {},
   "outputs": [],
   "source": [
    "data['target'] = data['target'].apply(clean_currency)\n",
    "data = data.rename(columns={'target':'Price'})"
   ]
  },
  {
   "cell_type": "code",
   "execution_count": 18,
   "metadata": {},
   "outputs": [],
   "source": [
    "data.Price = data.Price.astype(float)"
   ]
  },
  {
   "cell_type": "code",
   "execution_count": 19,
   "metadata": {},
   "outputs": [
    {
     "name": "stdout",
     "output_type": "stream",
     "text": [
      "There is 0.0% of missing values in Price\n"
     ]
    }
   ],
   "source": [
    "print(f'There is {round(data.Price[data.Price == 0].count() / len(data.Price) * 100, 2)}% of missing values in Price')"
   ]
  },
  {
   "cell_type": "markdown",
   "metadata": {},
   "source": [
    "## Before dropping I will try to reduce the amount on NAs by other columns"
   ]
  },
  {
   "cell_type": "markdown",
   "metadata": {},
   "source": [
    "## HomeFacts"
   ]
  },
  {
   "cell_type": "code",
   "execution_count": 20,
   "metadata": {},
   "outputs": [],
   "source": [
    "data['homeFacts'] = data['homeFacts'].apply(lambda x: ast.literal_eval(x)['atAGlanceFacts'])"
   ]
  },
  {
   "cell_type": "code",
   "execution_count": 21,
   "metadata": {},
   "outputs": [
    {
     "data": {
      "text/plain": [
       "['Year built',\n",
       " 'Remodeled year',\n",
       " 'Heating',\n",
       " 'Cooling',\n",
       " 'Parking',\n",
       " 'lotsize',\n",
       " 'Price/sqft']"
      ]
     },
     "execution_count": 21,
     "metadata": {},
     "output_type": "execute_result"
    }
   ],
   "source": [
    "#Get Labels for df columns\n",
    "\n",
    "def getdata(x):\n",
    "    labels = list()\n",
    "    for i in x:\n",
    "        labels.append(i['factLabel'])\n",
    "    return labels\n",
    "\n",
    "labels = getdata(data.homeFacts[1])\n",
    "labels"
   ]
  },
  {
   "cell_type": "code",
   "execution_count": 22,
   "metadata": {},
   "outputs": [],
   "source": [
    "#Convert dictionaries per row to appropriate columns in df and extract all the values\n",
    "for l in labels:\n",
    "    data[l] = data['homeFacts'].apply(lambda x: x[labels.index(l)]['factValue']) "
   ]
  },
  {
   "cell_type": "code",
   "execution_count": 23,
   "metadata": {},
   "outputs": [],
   "source": [
    "save_data(data)"
   ]
  },
  {
   "cell_type": "markdown",
   "metadata": {},
   "source": [
    "### Lotsize"
   ]
  },
  {
   "cell_type": "code",
   "execution_count": 24,
   "metadata": {},
   "outputs": [],
   "source": [
    "data = pd.read_csv('dataintermediate.csv')"
   ]
  },
  {
   "cell_type": "code",
   "execution_count": 25,
   "metadata": {},
   "outputs": [
    {
     "data": {
      "text/plain": [
       "'0.52 acres'"
      ]
     },
     "execution_count": 25,
     "metadata": {},
     "output_type": "execute_result"
    }
   ],
   "source": [
    "data.lotsize.iloc[10]"
   ]
  },
  {
   "cell_type": "code",
   "execution_count": 26,
   "metadata": {},
   "outputs": [],
   "source": [
    "# change strings to lower case and fill NAs and blanks with 0\n",
    "data.lotsize = data.lotsize.str.lower().str.strip()\n",
    "data.lotsize.fillna('0',inplace = True)"
   ]
  },
  {
   "cell_type": "code",
   "execution_count": 27,
   "metadata": {},
   "outputs": [],
   "source": [
    "#create 2 lists of indexes , for values that contains \"acre\" and \"sq\" substrings\n",
    "sq_index = data.lotsize[data.lotsize.str.contains('sq') == True].index\n",
    "acre_index = data.lotsize[data.lotsize.str.contains('acre') == True].index"
   ]
  },
  {
   "cell_type": "code",
   "execution_count": 28,
   "metadata": {},
   "outputs": [],
   "source": [
    "#Remove all literals from values that contain \"sq\"\n",
    "data.lotsize.iloc[sq_index]=data.lotsize.iloc[sq_index].str.replace(r'\\D','')"
   ]
  },
  {
   "cell_type": "code",
   "execution_count": 29,
   "metadata": {},
   "outputs": [],
   "source": [
    "#Remove all literals from values that contain \"acre\" convert to float and convert to sqft\n",
    "data.lotsize.iloc[acre_index] = round(data.lotsize.iloc[acre_index].str.replace('[a-z, ]','').astype(float) * 43560.04, 0)"
   ]
  },
  {
   "cell_type": "code",
   "execution_count": 30,
   "metadata": {},
   "outputs": [],
   "source": [
    "#Take care of other literals too and blank values\n",
    "other_index=data.lotsize[data.lotsize.str.contains('—|[a-z]') == True].index\n",
    "data.lotsize.iloc[other_index] = '0'\n",
    "other_index=data.lotsize[data.lotsize.str.contains(',') == True].index\n",
    "data.lotsize.iloc[other_index] = data.lotsize.iloc[other_index].str.replace(',','')\n",
    "data.lotsize[data.lotsize == ''] = 0"
   ]
  },
  {
   "cell_type": "code",
   "execution_count": 31,
   "metadata": {},
   "outputs": [],
   "source": [
    "data.lotsize=data.lotsize.astype(float)"
   ]
  },
  {
   "cell_type": "code",
   "execution_count": 32,
   "metadata": {},
   "outputs": [],
   "source": [
    "save_data(data)"
   ]
  },
  {
   "cell_type": "markdown",
   "metadata": {},
   "source": [
    "## Price/sqft"
   ]
  },
  {
   "cell_type": "code",
   "execution_count": 33,
   "metadata": {},
   "outputs": [],
   "source": [
    "data = pd.read_csv('dataintermediate.csv')"
   ]
  },
  {
   "cell_type": "code",
   "execution_count": 34,
   "metadata": {},
   "outputs": [],
   "source": [
    "data['Price/sqft'] = data['Price/sqft'].str.lower()"
   ]
  },
  {
   "cell_type": "code",
   "execution_count": 35,
   "metadata": {},
   "outputs": [],
   "source": [
    "#Get rid of strings near numbers\n",
    "blank_list = ['$', '/sqft', ' / sq. ft.', ',']\n",
    "for v in blank_list:\n",
    "    data['Price/sqft'] = data['Price/sqft'].str.replace(v,'')"
   ]
  },
  {
   "cell_type": "code",
   "execution_count": 36,
   "metadata": {},
   "outputs": [],
   "source": [
    "#Replace strings that mean no value to 0\n",
    "zero_list = ['no data', 'no info', 'contact manager']\n",
    "for v in zero_list:\n",
    "    data['Price/sqft'] = data['Price/sqft'].str.replace(v,'0')    "
   ]
  },
  {
   "cell_type": "code",
   "execution_count": 37,
   "metadata": {},
   "outputs": [],
   "source": [
    "data['Price/sqft'].fillna(0,inplace=True)"
   ]
  },
  {
   "cell_type": "code",
   "execution_count": 38,
   "metadata": {},
   "outputs": [],
   "source": [
    "data['Price/sqft'] = data['Price/sqft'].astype(int)"
   ]
  },
  {
   "cell_type": "markdown",
   "metadata": {},
   "source": [
    "## sqft"
   ]
  },
  {
   "cell_type": "code",
   "execution_count": 39,
   "metadata": {},
   "outputs": [],
   "source": [
    "data.sqft=data.sqft.str.replace('\\D','')"
   ]
  },
  {
   "cell_type": "markdown",
   "metadata": {},
   "source": [
    "Before dropping Na's from sqft column I will retrieve information from Price/sqft, Price, lotsize, beds, baths"
   ]
  },
  {
   "cell_type": "code",
   "execution_count": 40,
   "metadata": {},
   "outputs": [],
   "source": [
    "data.sqft = data.sqft.fillna(0)\n",
    "data.sqft[data.sqft == ''] = 0\n",
    "data.sqft = data.sqft.astype(float)\n",
    "data.sqft[data.sqft < 0] = 0"
   ]
  },
  {
   "cell_type": "code",
   "execution_count": 41,
   "metadata": {},
   "outputs": [
    {
     "name": "stdout",
     "output_type": "stream",
     "text": [
      "There is 14.12% of missing values in sqft\n"
     ]
    }
   ],
   "source": [
    "print(f'There is {round((data.sqft[data.sqft == 0].count()) / len(data.sqft) * 100, 2)}% of missing values in sqft')"
   ]
  },
  {
   "cell_type": "code",
   "execution_count": 42,
   "metadata": {},
   "outputs": [],
   "source": [
    "#use values from beds that points on area measurement data for filling 0 for sqft\n",
    "values = data['beds'][(data.beds.str.contains('sqft') == True) & (data.sqft == 0)].str.replace('\\D', '')\n",
    "values.drop(labels = values[values == ''].index, inplace = True)\n",
    "values=values.astype(float)\n",
    "valuesA = data['beds'][(data.beds.str.contains('acres') == True) & (data.sqft == 0)]\n",
    "valuesA = round(valuesA.str.replace('[a-z]', '').astype(float) * 43560.04, 2) \n",
    "data['sqft'].iloc[values.index] = values\n",
    "data['sqft'].iloc[valuesA.index] = valuesA"
   ]
  },
  {
   "cell_type": "code",
   "execution_count": 43,
   "metadata": {},
   "outputs": [],
   "source": [
    "data['beds'][data.beds.str.contains('sqft|arcres') == True] = 0"
   ]
  },
  {
   "cell_type": "code",
   "execution_count": 44,
   "metadata": {},
   "outputs": [
    {
     "name": "stdout",
     "output_type": "stream",
     "text": [
      "There is 13.38% of missing values in sqft\n"
     ]
    }
   ],
   "source": [
    "print(f'There is {round((data.sqft[data.sqft == 0].count()) / len(data.sqft) * 100, 2)}% of missing values in sqft')"
   ]
  },
  {
   "cell_type": "code",
   "execution_count": 45,
   "metadata": {},
   "outputs": [],
   "source": [
    "#Fill NAs of sqft with values from lotsize\n",
    "data.sqft[data.sqft == 0] = data.lotsize[data.sqft == 0]"
   ]
  },
  {
   "cell_type": "code",
   "execution_count": 46,
   "metadata": {},
   "outputs": [
    {
     "name": "stdout",
     "output_type": "stream",
     "text": [
      "There is 3.24% of missing values in sqft\n"
     ]
    }
   ],
   "source": [
    "print(f'There is {round((data.sqft[data.sqft == 0].count()) / len(data.sqft) * 100, 2)}% of missing values in sqft')"
   ]
  },
  {
   "cell_type": "code",
   "execution_count": 47,
   "metadata": {},
   "outputs": [
    {
     "name": "stdout",
     "output_type": "stream",
     "text": [
      "There is 378 values Price/sqft and Price that can be used for sqft missing values\n"
     ]
    }
   ],
   "source": [
    "data1=data[['Price/sqft','sqft','Price']][(data.sqft == 0) & (data.Price != 0) & (data['Price/sqft'] != 0)]\n",
    "print(f'There is {len(data1)} values Price/sqft and Price that can be used for sqft missing values')"
   ]
  },
  {
   "cell_type": "code",
   "execution_count": 48,
   "metadata": {},
   "outputs": [],
   "source": [
    "#replace missing values of sqft with [Price]/[Price/sqft]\n",
    "data1.sqft = data1.Price / data1['Price/sqft']"
   ]
  },
  {
   "cell_type": "code",
   "execution_count": 49,
   "metadata": {},
   "outputs": [],
   "source": [
    "data.sqft.iloc[data1.index] = data1.sqft"
   ]
  },
  {
   "cell_type": "code",
   "execution_count": 50,
   "metadata": {},
   "outputs": [
    {
     "name": "stdout",
     "output_type": "stream",
     "text": [
      "There is 3.14% of missing values in sqft\n"
     ]
    }
   ],
   "source": [
    "print(f'There is {round((data.sqft[data.sqft == 0].count()) / len(data.sqft) * 100, 2)}% of missing values in sqft')"
   ]
  },
  {
   "cell_type": "markdown",
   "metadata": {},
   "source": [
    "Before taking the mean for missing values, I'll drop the exceptences"
   ]
  },
  {
   "cell_type": "code",
   "execution_count": 51,
   "metadata": {},
   "outputs": [
    {
     "data": {
      "text/plain": [
       "count    3.746870e+05\n",
       "mean     3.794977e+04\n",
       "std      4.601768e+06\n",
       "min      0.000000e+00\n",
       "25%      1.300000e+03\n",
       "50%      1.943000e+03\n",
       "75%      3.049000e+03\n",
       "max      1.859533e+09\n",
       "Name: sqft, dtype: float64"
      ]
     },
     "execution_count": 51,
     "metadata": {},
     "output_type": "execute_result"
    }
   ],
   "source": [
    "data.sqft.describe()"
   ]
  },
  {
   "cell_type": "code",
   "execution_count": 52,
   "metadata": {},
   "outputs": [
    {
     "data": {
      "text/plain": [
       "(-1859532.841, 185953284.0]     0.999981\n",
       "(1673579556.0, 1859532840.0]    0.000005\n",
       "(371906568.0, 557859852.0]      0.000005\n",
       "(185953284.0, 371906568.0]      0.000005\n",
       "(557859852.0, 743813136.0]      0.000003\n",
       "(1487626272.0, 1673579556.0]    0.000000\n",
       "(1301672988.0, 1487626272.0]    0.000000\n",
       "(1115719704.0, 1301672988.0]    0.000000\n",
       "(929766420.0, 1115719704.0]     0.000000\n",
       "(743813136.0, 929766420.0]      0.000000\n",
       "Name: sqft, dtype: float64"
      ]
     },
     "execution_count": 52,
     "metadata": {},
     "output_type": "execute_result"
    }
   ],
   "source": [
    "#sqft distribution\n",
    "data.sqft.value_counts(normalize=True, bins=10)"
   ]
  },
  {
   "cell_type": "code",
   "execution_count": 53,
   "metadata": {},
   "outputs": [],
   "source": [
    "data.drop(data.sqft[data.sqft > 214748364.7].index, inplace = True)"
   ]
  },
  {
   "cell_type": "code",
   "execution_count": 54,
   "metadata": {},
   "outputs": [],
   "source": [
    "#Group data according to property type and take the average area for each property type for NA\n",
    "area = data[['sqft','propertyType']][data.sqft != 0].groupby(by='propertyType').mean().reset_index()\n",
    "area\n",
    "area.sqft = area.sqft.round(decimals=0)\n",
    "data.sqft[data.sqft == 0] = data[data.sqft == 0].merge(area, on='propertyType', how='left').sqft_y"
   ]
  },
  {
   "cell_type": "code",
   "execution_count": 55,
   "metadata": {},
   "outputs": [],
   "source": [
    "data.sqft.fillna(0, inplace = True)"
   ]
  },
  {
   "cell_type": "markdown",
   "metadata": {},
   "source": [
    "### Use sqft and Price/sqft to fill Price na's"
   ]
  },
  {
   "cell_type": "code",
   "execution_count": 56,
   "metadata": {},
   "outputs": [
    {
     "name": "stdout",
     "output_type": "stream",
     "text": [
      "There is 0.0% of missing values in Price\n"
     ]
    }
   ],
   "source": [
    "#replace Price missing values with [sqft]*[Price/sqft]\n",
    "data2 = data[['Price/sqft','sqft','Price']][(data.Price == 0) & (data.sqft != 0) & (data['Price/sqft'] != 0)]\n",
    "data2.Price = data2.sqft * data2['Price/sqft']\n",
    "data['Price'].iloc[data2.index] = data2.Price\n",
    "print(f'There is {round(data.Price.isna().sum() / len(data.Price) * 100, 2)}% of missing values in Price')"
   ]
  },
  {
   "cell_type": "code",
   "execution_count": 57,
   "metadata": {},
   "outputs": [],
   "source": [
    "data.drop(['Price/sqft','lotsize'], axis=1, inplace=True)"
   ]
  },
  {
   "cell_type": "markdown",
   "metadata": {},
   "source": [
    "### Replace the rest missing values in Price and sqft to mean and normalizing"
   ]
  },
  {
   "cell_type": "code",
   "execution_count": 58,
   "metadata": {},
   "outputs": [],
   "source": [
    "data.Price[data.Price == 0] = data.Price[data.Price != 0].mean()\n",
    "data.Price.fillna(data.Price[data.Price.isna() == False].mean(), inplace=True)\n",
    "data.sqft[data.sqft == 0] = data.sqft[data.sqft != 0].mean()"
   ]
  },
  {
   "cell_type": "code",
   "execution_count": 59,
   "metadata": {},
   "outputs": [
    {
     "data": {
      "text/plain": [
       "(-164999.0, 16500000.9]       0.998132\n",
       "(16500000.9, 33000000.8]      0.001433\n",
       "(33000000.8, 49500000.7]      0.000267\n",
       "(49500000.7, 66000000.6]      0.000112\n",
       "(66000000.6, 82500000.5]      0.000027\n",
       "(82500000.5, 99000000.4]      0.000013\n",
       "(148500000.1, 165000000.0]    0.000005\n",
       "(115500000.3, 132000000.2]    0.000005\n",
       "(99000000.4, 115500000.3]     0.000005\n",
       "(132000000.2, 148500000.1]    0.000000\n",
       "Name: Price, dtype: float64"
      ]
     },
     "execution_count": 59,
     "metadata": {},
     "output_type": "execute_result"
    }
   ],
   "source": [
    "#price distribution\n",
    "data.Price.value_counts(normalize=True, bins=10)"
   ]
  },
  {
   "cell_type": "code",
   "execution_count": 60,
   "metadata": {},
   "outputs": [
    {
     "data": {
      "text/plain": [
       "<matplotlib.axes._subplots.AxesSubplot at 0x2d7fb5bc208>"
      ]
     },
     "execution_count": 60,
     "metadata": {},
     "output_type": "execute_result"
    },
    {
     "data": {
      "image/png": "[encoded data removed]",
      "text/plain": [
       "<Figure size 432x288 with 1 Axes>"
      ]
     },
     "metadata": {
      "needs_background": "light"
     },
     "output_type": "display_data"
    }
   ],
   "source": [
    "sns.distplot(np.log(data.Price[(data.Price > 0) & (data.Price <= 19500000.9)]))"
   ]
  },
  {
   "cell_type": "code",
   "execution_count": 61,
   "metadata": {},
   "outputs": [],
   "source": [
    "#get rid of exceptions data\n",
    "data.drop(data.Price[(data.Price <= 0) | (data.Price > 19500000.9)].index, axis=0 , inplace=True)"
   ]
  },
  {
   "cell_type": "code",
   "execution_count": 62,
   "metadata": {},
   "outputs": [],
   "source": [
    "#normalizing Price\n",
    "data.Price = np.log(data.Price)"
   ]
  },
  {
   "cell_type": "code",
   "execution_count": 63,
   "metadata": {},
   "outputs": [
    {
     "data": {
      "text/plain": [
       "<matplotlib.axes._subplots.AxesSubplot at 0x2d7fb87ef60>"
      ]
     },
     "execution_count": 63,
     "metadata": {},
     "output_type": "execute_result"
    },
    {
     "data": {
      "image/png": "[encoded data removed]",
      "text/plain": [
       "<Figure size 432x288 with 1 Axes>"
      ]
     },
     "metadata": {
      "needs_background": "light"
     },
     "output_type": "display_data"
    }
   ],
   "source": [
    "sns.distplot(np.log(data.sqft))"
   ]
  },
  {
   "cell_type": "code",
   "execution_count": 64,
   "metadata": {},
   "outputs": [],
   "source": [
    "#normalizing sqft\n",
    "data.sqft = np.log(data.sqft)"
   ]
  },
  {
   "cell_type": "code",
   "execution_count": 65,
   "metadata": {},
   "outputs": [],
   "source": [
    "#data.to_csv('dataintermediate.csv',index=False)\n",
    "save_data(data)"
   ]
  },
  {
   "cell_type": "code",
   "execution_count": 66,
   "metadata": {},
   "outputs": [],
   "source": [
    "data = pd.read_csv('dataintermediate.csv')"
   ]
  },
  {
   "cell_type": "markdown",
   "metadata": {},
   "source": [
    "## Schools"
   ]
  },
  {
   "cell_type": "code",
   "execution_count": 67,
   "metadata": {},
   "outputs": [],
   "source": [
    "data = pd.read_csv('dataintermediate.csv')\n",
    "data['schools'] = data['schools'].apply(lambda x: ast.literal_eval(x)[0])"
   ]
  },
  {
   "cell_type": "code",
   "execution_count": 68,
   "metadata": {},
   "outputs": [],
   "source": [
    "#Extract rating list to school_rating column\n",
    "data['school_rating'] = data['schools'].apply(lambda x: [n for n in x['rating'] if n != 'NR']) "
   ]
  },
  {
   "cell_type": "code",
   "execution_count": 69,
   "metadata": {},
   "outputs": [],
   "source": [
    "def find_rating(x):\n",
    "    '''Function that makes an order in ratings and takes the maximum'''\n",
    "    l = [0]\n",
    "    for i in x:\n",
    "        if (i.find('/') > -1 and i[:i.find('/')] == 'None') or i == 'NA' or i == '':\n",
    "            l.append(0)\n",
    "        elif i.find('/') > -1:\n",
    "            l.append(int(i[:i.find('/')]))\n",
    "        else:\n",
    "            l.append(int(i))\n",
    "    return max(l)"
   ]
  },
  {
   "cell_type": "code",
   "execution_count": 70,
   "metadata": {},
   "outputs": [],
   "source": [
    "data['school_rating'] = data['school_rating'].apply(lambda x: find_rating(x))"
   ]
  },
  {
   "cell_type": "code",
   "execution_count": 71,
   "metadata": {},
   "outputs": [],
   "source": [
    "save_data(data)"
   ]
  },
  {
   "cell_type": "markdown",
   "metadata": {},
   "source": [
    "## Year built and remodeled"
   ]
  },
  {
   "cell_type": "code",
   "execution_count": 72,
   "metadata": {},
   "outputs": [
    {
     "name": "stdout",
     "output_type": "stream",
     "text": [
      "<class 'pandas.core.frame.DataFrame'>\n",
      "RangeIndex: 374179 entries, 0 to 374178\n",
      "Data columns (total 19 columns):\n",
      " #   Column          Non-Null Count   Dtype  \n",
      "---  ------          --------------   -----  \n",
      " 0   status          334914 non-null  object \n",
      " 1   private pool    4192 non-null    object \n",
      " 2   baths           269106 non-null  object \n",
      " 3   homeFacts       374179 non-null  object \n",
      " 4   fireplace       102310 non-null  object \n",
      " 5   schools         374179 non-null  object \n",
      " 6   sqft            374179 non-null  float64\n",
      " 7   beds            283454 non-null  object \n",
      " 8   state           374178 non-null  object \n",
      " 9   stories         224633 non-null  object \n",
      " 10  PrivatePool     40102 non-null   object \n",
      " 11  propertyType    374179 non-null  int64  \n",
      " 12  Price           374179 non-null  float64\n",
      " 13  Year built      312136 non-null  object \n",
      " 14  Remodeled year  149786 non-null  float64\n",
      " 15  Heating         265880 non-null  object \n",
      " 16  Cooling         251443 non-null  object \n",
      " 17  Parking         200308 non-null  object \n",
      " 18  school_rating   374179 non-null  int64  \n",
      "dtypes: float64(3), int64(2), object(14)\n",
      "memory usage: 54.2+ MB\n"
     ]
    }
   ],
   "source": [
    "data = pd.read_csv('dataintermediate.csv')\n",
    "data.info()"
   ]
  },
  {
   "cell_type": "code",
   "execution_count": 73,
   "metadata": {},
   "outputs": [],
   "source": [
    "#put indexes of str and num values in to variables\n",
    "stri = data['Year built'][data['Year built'].str.contains('\\D') == True].index\n",
    "numi = data['Year built'][data['Year built'].str.contains('\\D') == False].index"
   ]
  },
  {
   "cell_type": "code",
   "execution_count": 74,
   "metadata": {},
   "outputs": [],
   "source": [
    "#replace exeptions where there is no sence (smaller than 0 or bigger than 2020) by No Data\n",
    "iyearexp = data['Year built'].iloc[numi].astype('int64')\n",
    "iyearexp = iyearexp[(data['Year built'].iloc[numi].astype('int64') < 0)\n",
    "                    | (data['Year built'].iloc[numi].astype('int64') > 2020)].index\n",
    "data['Year built'].iloc[iyearexp] = 'No Data'\n",
    "numi=data['Year built'][data['Year built'].str.contains('\\D') == False].index\n",
    "stri=data['Year built'][data['Year built'].str.contains('\\D') == True].index"
   ]
  },
  {
   "cell_type": "code",
   "execution_count": 75,
   "metadata": {},
   "outputs": [
    {
     "data": {
      "image/png": "[encoded data removed]",
      "text/plain": [
       "<Figure size 432x288 with 1 Axes>"
      ]
     },
     "metadata": {
      "needs_background": "light"
     },
     "output_type": "display_data"
    }
   ],
   "source": [
    "#Check if there are more exeptions\n",
    "sns.boxplot(data['Year built'].iloc[numi].astype('int64'), color = 'yellow');"
   ]
  },
  {
   "cell_type": "code",
   "execution_count": 76,
   "metadata": {},
   "outputs": [],
   "source": [
    "#Drop more exeptions values that smaller than 1500 -> update number indexes value\n",
    "iyearexp=data['Year built'].iloc[numi].astype('int64')\n",
    "iyearexp = iyearexp[(data['Year built'].iloc[numi].astype('int64') < 1500)\n",
    "                    | (data['Year built'].iloc[numi].astype('int64') > 2020)].index\n",
    "data['Year built'].iloc[iyearexp] = 'No Data'\n",
    "numi=data['Year built'][data['Year built'].str.contains('\\D') == False].index\n",
    "stri=data['Year built'][data['Year built'].str.contains('\\D') == True].index"
   ]
  },
  {
   "cell_type": "code",
   "execution_count": 77,
   "metadata": {},
   "outputs": [
    {
     "data": {
      "image/png": "[encoded data removed]",
      "text/plain": [
       "<Figure size 432x288 with 1 Axes>"
      ]
     },
     "metadata": {
      "needs_background": "light"
     },
     "output_type": "display_data"
    }
   ],
   "source": [
    "sns.boxplot(data['Year built'].iloc[numi].astype('int64'), color='yellow');"
   ]
  },
  {
   "cell_type": "code",
   "execution_count": 78,
   "metadata": {},
   "outputs": [],
   "source": [
    "#convert numeric data to integer\n",
    "data['Year built'].iloc[numi] = data['Year built'].iloc[numi].astype(int)"
   ]
  },
  {
   "cell_type": "code",
   "execution_count": 79,
   "metadata": {},
   "outputs": [
    {
     "data": {
      "text/plain": [
       "(1978.1, 2020.0]     0.563178\n",
       "(1936.2, 1978.1]     0.305595\n",
       "(1894.3, 1936.2]     0.122950\n",
       "(1852.4, 1894.3]     0.007450\n",
       "(1810.5, 1852.4]     0.000650\n",
       "(1768.6, 1810.5]     0.000158\n",
       "(1726.7, 1768.6]     0.000010\n",
       "(1684.8, 1726.7]     0.000006\n",
       "(1600.58, 1642.9]    0.000003\n",
       "(1642.9, 1684.8]     0.000000\n",
       "Name: Year built, dtype: float64"
      ]
     },
     "execution_count": 79,
     "metadata": {},
     "output_type": "execute_result"
    }
   ],
   "source": [
    "data['Year built'].iloc[numi].value_counts(normalize=True, bins=10)"
   ]
  },
  {
   "cell_type": "code",
   "execution_count": 80,
   "metadata": {},
   "outputs": [],
   "source": [
    "#replace string data to mean of numeric data\n",
    "data['Year built'].iloc[stri] = int(round(data['Year built'].iloc[numi].mean(),0))"
   ]
  },
  {
   "cell_type": "code",
   "execution_count": 81,
   "metadata": {},
   "outputs": [],
   "source": [
    "#fill nas with the mean of numeric values\n",
    "data['Year built'].fillna(int(round(data['Year built'].iloc[numi].mean(),0)), inplace=True)"
   ]
  },
  {
   "cell_type": "code",
   "execution_count": 82,
   "metadata": {},
   "outputs": [
    {
     "data": {
      "text/plain": [
       "count    374179.000000\n",
       "mean       1979.200401\n",
       "std          30.631504\n",
       "min        1601.000000\n",
       "25%        1963.000000\n",
       "50%        1979.000000\n",
       "75%        2005.000000\n",
       "max        2020.000000\n",
       "Name: Year built, dtype: float64"
      ]
     },
     "execution_count": 82,
     "metadata": {},
     "output_type": "execute_result"
    }
   ],
   "source": [
    "data['Year built'].describe()"
   ]
  },
  {
   "cell_type": "code",
   "execution_count": 83,
   "metadata": {},
   "outputs": [],
   "source": [
    "data['Remodeled year'].fillna(data['Remodeled year'].notnull().mean(), inplace=True)\n",
    "data['Remodeled year'] = data['Remodeled year'].astype(int)"
   ]
  },
  {
   "cell_type": "markdown",
   "metadata": {},
   "source": [
    "### Status"
   ]
  },
  {
   "cell_type": "code",
   "execution_count": 84,
   "metadata": {},
   "outputs": [
    {
     "data": {
      "text/plain": [
       "for sale                   0.466281\n",
       "Active                     0.313427\n",
       "For sale                   0.129789\n",
       "foreclosure                0.016927\n",
       "New construction           0.016019\n",
       "                             ...   \n",
       "Coming soon: Nov 8.        0.000003\n",
       "Pending W/Escape Clause    0.000003\n",
       "Coming soon: Dec 27.       0.000003\n",
       "Coming soon: Dec 12.       0.000003\n",
       "Accepting backups          0.000003\n",
       "Name: status, Length: 158, dtype: float64"
      ]
     },
     "execution_count": 84,
     "metadata": {},
     "output_type": "execute_result"
    }
   ],
   "source": [
    "data.status.value_counts(normalize=True)"
   ]
  },
  {
   "cell_type": "code",
   "execution_count": 85,
   "metadata": {},
   "outputs": [],
   "source": [
    "data.status[data.status.str.contains('for sale|active|accepted') == True] = 1"
   ]
  },
  {
   "cell_type": "code",
   "execution_count": 86,
   "metadata": {},
   "outputs": [],
   "source": [
    "data.status[data.status != 1] = 0"
   ]
  },
  {
   "cell_type": "code",
   "execution_count": 87,
   "metadata": {},
   "outputs": [],
   "source": [
    "data.status = data.status.astype(int)"
   ]
  },
  {
   "cell_type": "markdown",
   "metadata": {},
   "source": [
    "### Private Pool"
   ]
  },
  {
   "cell_type": "code",
   "execution_count": 88,
   "metadata": {},
   "outputs": [],
   "source": [
    "data['PrivatePool'] = data['PrivatePool'].str.lower()\n",
    "data['private pool'] = data['private pool'].str.lower()"
   ]
  },
  {
   "cell_type": "code",
   "execution_count": 89,
   "metadata": {},
   "outputs": [],
   "source": [
    "# Replace 'yes' with 1 and unufy \"private pool\" and PrivatePool and replace NA with 0\n",
    "data[['private pool','PrivatePool']] = data[['private pool','PrivatePool']].replace(to_replace=['yes'],value = 1)\n",
    "data['PrivatePool'] = data['PrivatePool'].fillna(data['private pool'])\n",
    "data['PrivatePool'] = data['PrivatePool'].fillna(0)\n",
    "data = data.drop(['private pool'], axis=1)"
   ]
  },
  {
   "cell_type": "code",
   "execution_count": 90,
   "metadata": {},
   "outputs": [
    {
     "data": {
      "text/plain": [
       "0    329885\n",
       "1     44294\n",
       "Name: PrivatePool, dtype: int64"
      ]
     },
     "execution_count": 90,
     "metadata": {},
     "output_type": "execute_result"
    }
   ],
   "source": [
    "data.PrivatePool = data.PrivatePool.astype(int)\n",
    "data.PrivatePool.value_counts()"
   ]
  },
  {
   "cell_type": "code",
   "execution_count": 91,
   "metadata": {},
   "outputs": [
    {
     "data": {
      "text/html": [
       "<div>\n",
       "<style scoped>\n",
       "    .dataframe tbody tr th:only-of-type {\n",
       "        vertical-align: middle;\n",
       "    }\n",
       "\n",
       "    .dataframe tbody tr th {\n",
       "        vertical-align: top;\n",
       "    }\n",
       "\n",
       "    .dataframe thead th {\n",
       "        text-align: right;\n",
       "    }\n",
       "</style>\n",
       "<table border=\"1\" class=\"dataframe\">\n",
       "  <thead>\n",
       "    <tr style=\"text-align: right;\">\n",
       "      <th></th>\n",
       "      <th>status</th>\n",
       "      <th>baths</th>\n",
       "      <th>homeFacts</th>\n",
       "      <th>fireplace</th>\n",
       "      <th>schools</th>\n",
       "      <th>sqft</th>\n",
       "      <th>beds</th>\n",
       "      <th>state</th>\n",
       "      <th>stories</th>\n",
       "      <th>PrivatePool</th>\n",
       "      <th>propertyType</th>\n",
       "      <th>Price</th>\n",
       "      <th>Year built</th>\n",
       "      <th>Remodeled year</th>\n",
       "      <th>Heating</th>\n",
       "      <th>Cooling</th>\n",
       "      <th>Parking</th>\n",
       "      <th>school_rating</th>\n",
       "    </tr>\n",
       "  </thead>\n",
       "  <tbody>\n",
       "    <tr>\n",
       "      <th>0</th>\n",
       "      <td>0</td>\n",
       "      <td>2,000</td>\n",
       "      <td>[{'factValue': '2009', 'factLabel': 'Year buil...</td>\n",
       "      <td>NaN</td>\n",
       "      <td>{'rating': ['8', '6', '4'], 'data': {'Distance...</td>\n",
       "      <td>7.436028</td>\n",
       "      <td>Baths</td>\n",
       "      <td>FL</td>\n",
       "      <td>NaN</td>\n",
       "      <td>0</td>\n",
       "      <td>8</td>\n",
       "      <td>12.736407</td>\n",
       "      <td>2009</td>\n",
       "      <td>2010</td>\n",
       "      <td>Central Air</td>\n",
       "      <td>Has Cooling</td>\n",
       "      <td>NaN</td>\n",
       "      <td>8</td>\n",
       "    </tr>\n",
       "    <tr>\n",
       "      <th>1</th>\n",
       "      <td>1</td>\n",
       "      <td>2 Baths</td>\n",
       "      <td>[{'factValue': '1991', 'factLabel': 'Year buil...</td>\n",
       "      <td>NaN</td>\n",
       "      <td>{'rating': ['8/10', '5/10', '4/10', '3/10', '5...</td>\n",
       "      <td>7.083388</td>\n",
       "      <td>3 Beds</td>\n",
       "      <td>FL</td>\n",
       "      <td>1.0</td>\n",
       "      <td>1</td>\n",
       "      <td>1</td>\n",
       "      <td>12.314927</td>\n",
       "      <td>1991</td>\n",
       "      <td>1991</td>\n",
       "      <td>Forced Air</td>\n",
       "      <td>Central</td>\n",
       "      <td>Carport, Attached Garage</td>\n",
       "      <td>8</td>\n",
       "    </tr>\n",
       "    <tr>\n",
       "      <th>2</th>\n",
       "      <td>1</td>\n",
       "      <td>NaN</td>\n",
       "      <td>[{'factValue': '', 'factLabel': 'Year built'},...</td>\n",
       "      <td>NaN</td>\n",
       "      <td>{'rating': ['9/10', '9/10', '9/10'], 'data': {...</td>\n",
       "      <td>10.996702</td>\n",
       "      <td>NaN</td>\n",
       "      <td>CA</td>\n",
       "      <td>NaN</td>\n",
       "      <td>0</td>\n",
       "      <td>3</td>\n",
       "      <td>14.977098</td>\n",
       "      <td>1979</td>\n",
       "      <td>0</td>\n",
       "      <td>NaN</td>\n",
       "      <td>NaN</td>\n",
       "      <td>NaN</td>\n",
       "      <td>9</td>\n",
       "    </tr>\n",
       "    <tr>\n",
       "      <th>3</th>\n",
       "      <td>0</td>\n",
       "      <td>NaN</td>\n",
       "      <td>[{'factValue': '2006', 'factLabel': 'Year buil...</td>\n",
       "      <td>NaN</td>\n",
       "      <td>{'rating': ['9', '10', 'NR', '6', '5'], 'data'...</td>\n",
       "      <td>9.017362</td>\n",
       "      <td>NaN</td>\n",
       "      <td>FL</td>\n",
       "      <td>NaN</td>\n",
       "      <td>0</td>\n",
       "      <td>8</td>\n",
       "      <td>13.480038</td>\n",
       "      <td>2006</td>\n",
       "      <td>2006</td>\n",
       "      <td>NaN</td>\n",
       "      <td>NaN</td>\n",
       "      <td>NaN</td>\n",
       "      <td>10</td>\n",
       "    </tr>\n",
       "    <tr>\n",
       "      <th>4</th>\n",
       "      <td>1</td>\n",
       "      <td>4 Baths</td>\n",
       "      <td>[{'factValue': '2003', 'factLabel': 'Year buil...</td>\n",
       "      <td>yes</td>\n",
       "      <td>{'rating': ['6/10', '5/10', '3/10'], 'data': {...</td>\n",
       "      <td>8.419580</td>\n",
       "      <td>3 Beds</td>\n",
       "      <td>TX</td>\n",
       "      <td>3.0</td>\n",
       "      <td>1</td>\n",
       "      <td>1</td>\n",
       "      <td>14.018043</td>\n",
       "      <td>2003</td>\n",
       "      <td>2003</td>\n",
       "      <td>Other</td>\n",
       "      <td>Central</td>\n",
       "      <td>Attached Garage</td>\n",
       "      <td>6</td>\n",
       "    </tr>\n",
       "  </tbody>\n",
       "</table>\n",
       "</div>"
      ],
      "text/plain": [
       "   status    baths                                          homeFacts  \\\n",
       "0       0    2,000  [{'factValue': '2009', 'factLabel': 'Year buil...   \n",
       "1       1  2 Baths  [{'factValue': '1991', 'factLabel': 'Year buil...   \n",
       "2       1      NaN  [{'factValue': '', 'factLabel': 'Year built'},...   \n",
       "3       0      NaN  [{'factValue': '2006', 'factLabel': 'Year buil...   \n",
       "4       1  4 Baths  [{'factValue': '2003', 'factLabel': 'Year buil...   \n",
       "\n",
       "  fireplace                                            schools       sqft  \\\n",
       "0       NaN  {'rating': ['8', '6', '4'], 'data': {'Distance...   7.436028   \n",
       "1       NaN  {'rating': ['8/10', '5/10', '4/10', '3/10', '5...   7.083388   \n",
       "2       NaN  {'rating': ['9/10', '9/10', '9/10'], 'data': {...  10.996702   \n",
       "3       NaN  {'rating': ['9', '10', 'NR', '6', '5'], 'data'...   9.017362   \n",
       "4       yes  {'rating': ['6/10', '5/10', '3/10'], 'data': {...   8.419580   \n",
       "\n",
       "     beds state stories  PrivatePool  propertyType      Price  Year built  \\\n",
       "0   Baths    FL     NaN            0             8  12.736407        2009   \n",
       "1  3 Beds    FL     1.0            1             1  12.314927        1991   \n",
       "2     NaN    CA     NaN            0             3  14.977098        1979   \n",
       "3     NaN    FL     NaN            0             8  13.480038        2006   \n",
       "4  3 Beds    TX     3.0            1             1  14.018043        2003   \n",
       "\n",
       "   Remodeled year      Heating      Cooling                   Parking  \\\n",
       "0            2010  Central Air  Has Cooling                       NaN   \n",
       "1            1991   Forced Air      Central  Carport, Attached Garage   \n",
       "2               0          NaN          NaN                       NaN   \n",
       "3            2006          NaN          NaN                       NaN   \n",
       "4            2003        Other      Central           Attached Garage   \n",
       "\n",
       "   school_rating  \n",
       "0              8  \n",
       "1              8  \n",
       "2              9  \n",
       "3             10  \n",
       "4              6  "
      ]
     },
     "execution_count": 91,
     "metadata": {},
     "output_type": "execute_result"
    }
   ],
   "source": [
    "data.head()"
   ]
  },
  {
   "cell_type": "markdown",
   "metadata": {},
   "source": [
    "### Bath"
   ]
  },
  {
   "cell_type": "code",
   "execution_count": 92,
   "metadata": {},
   "outputs": [
    {
     "name": "stdout",
     "output_type": "stream",
     "text": [
      "There are 39.0% missing values\n"
     ]
    }
   ],
   "source": [
    "data.baths = data.baths.str.lower()\n",
    "print(f'There are {round(data.baths.isna().sum() / data.baths.count() * 100, 0)}% missing values')"
   ]
  },
  {
   "cell_type": "code",
   "execution_count": 93,
   "metadata": {},
   "outputs": [],
   "source": [
    "#Leave cells with numbers only for Bath \n",
    "data['baths'] = data.baths.str.findall(r'\\d').str[0]"
   ]
  },
  {
   "cell_type": "code",
   "execution_count": 94,
   "metadata": {},
   "outputs": [],
   "source": [
    "data['baths'][data.baths.isna() == False] = data['baths'][data.baths.isna() == False].astype(int)"
   ]
  },
  {
   "cell_type": "code",
   "execution_count": 95,
   "metadata": {},
   "outputs": [
    {
     "data": {
      "text/plain": [
       "2.0    0.444974\n",
       "3.0    0.271228\n",
       "4.0    0.104047\n",
       "1.0    0.095961\n",
       "5.0    0.037180\n",
       "6.0    0.016546\n",
       "0.0    0.014715\n",
       "7.0    0.008949\n",
       "8.0    0.004439\n",
       "9.0    0.001962\n",
       "Name: baths, dtype: float64"
      ]
     },
     "execution_count": 95,
     "metadata": {},
     "output_type": "execute_result"
    }
   ],
   "source": [
    "data.baths.value_counts(normalize=True)"
   ]
  },
  {
   "cell_type": "code",
   "execution_count": 96,
   "metadata": {},
   "outputs": [],
   "source": [
    "#Group data according to property type and take the average bathrooms for each property type for NA\n",
    "Baths = data[['baths','propertyType']]\n",
    "Baths['baths'] = Baths['baths'][Baths.baths.isna() == False].astype(int)\n",
    "Baths = Baths[Baths.baths.isna() == False].groupby(by='propertyType').mean().reset_index()\n",
    "Baths.baths = Baths.baths.round(decimals=0)\n",
    "data.baths[data.baths.isna() == True] = data[data.baths.isna() == True].merge(Baths, on='propertyType', how='left').baths_y"
   ]
  },
  {
   "cell_type": "code",
   "execution_count": 97,
   "metadata": {},
   "outputs": [
    {
     "name": "stdout",
     "output_type": "stream",
     "text": [
      "<class 'pandas.core.frame.DataFrame'>\n",
      "RangeIndex: 374179 entries, 0 to 374178\n",
      "Data columns (total 18 columns):\n",
      " #   Column          Non-Null Count   Dtype  \n",
      "---  ------          --------------   -----  \n",
      " 0   status          374179 non-null  int32  \n",
      " 1   baths           297802 non-null  object \n",
      " 2   homeFacts       374179 non-null  object \n",
      " 3   fireplace       102310 non-null  object \n",
      " 4   schools         374179 non-null  object \n",
      " 5   sqft            374179 non-null  float64\n",
      " 6   beds            283454 non-null  object \n",
      " 7   state           374178 non-null  object \n",
      " 8   stories         224633 non-null  object \n",
      " 9   PrivatePool     374179 non-null  int32  \n",
      " 10  propertyType    374179 non-null  int64  \n",
      " 11  Price           374179 non-null  float64\n",
      " 12  Year built      374179 non-null  int64  \n",
      " 13  Remodeled year  374179 non-null  int32  \n",
      " 14  Heating         265880 non-null  object \n",
      " 15  Cooling         251443 non-null  object \n",
      " 16  Parking         200308 non-null  object \n",
      " 17  school_rating   374179 non-null  int64  \n",
      "dtypes: float64(2), int32(3), int64(3), object(10)\n",
      "memory usage: 47.1+ MB\n"
     ]
    }
   ],
   "source": [
    "#Group data according to bedrooms and take the average bathrooms for each bedroom number for NA\n",
    "BathsBeds = data[['baths','beds']]\n",
    "BathsBeds['baths'] = BathsBeds['baths'][BathsBeds.baths.isna() == False].astype(int)\n",
    "BathsBeds = BathsBeds[BathsBeds.baths.isna() == False].groupby(by='beds').mean().reset_index()\n",
    "BathsBeds.baths = BathsBeds.baths.round(decimals = 0)\n",
    "data.baths[data.baths.isna() == True] = data[data.baths.isna() == True].merge(BathsBeds, on='beds', how='left').baths_y\n",
    "data.info()"
   ]
  },
  {
   "cell_type": "code",
   "execution_count": 98,
   "metadata": {},
   "outputs": [
    {
     "data": {
      "text/plain": [
       "106802     Bath\n",
       "108409     Bath\n",
       "108490    Baths\n",
       "108544     Bath\n",
       "109022    Baths\n",
       "          ...  \n",
       "372129    Baths\n",
       "373130     Bath\n",
       "373605    Baths\n",
       "373707     Bath\n",
       "373746    Baths\n",
       "Name: beds, Length: 1085, dtype: object"
      ]
     },
     "execution_count": 98,
     "metadata": {},
     "output_type": "execute_result"
    }
   ],
   "source": [
    "#check if some values can be taken from beds column\n",
    "data['beds'][(data.beds.str.contains('Bath')) & (data.beds.isna() == False)&(data.baths.isna() == True)]"
   ]
  },
  {
   "cell_type": "code",
   "execution_count": 99,
   "metadata": {},
   "outputs": [],
   "source": [
    "#beds columns has values that contains baths, replace NA with 1 for bath and 2 for baths\n",
    "data['beds'][(data.beds == 'Bath') & (data.beds.isna() == False) & (data.baths.isna() == True)] = 1\n",
    "data['beds'][(data.beds == 'Baths') & (data.beds.isna() == False) & (data.baths.isna() == True)] = 2\n",
    "data['baths'][(data.beds.str.contains('Bath')) & (data.beds.isna() == False) & (data.baths.isna() == True)] = 1"
   ]
  },
  {
   "cell_type": "code",
   "execution_count": 100,
   "metadata": {},
   "outputs": [],
   "source": [
    "#Group data according to sqft and take the average bathrooms for each area for NA\n",
    "BathsArea = data[['baths','sqft']]\n",
    "BathsArea['baths'] = BathsArea['baths'][BathsArea.baths.isna() == False].astype(int)\n",
    "BathsArea = BathsArea[BathsArea.baths.isna() == False].groupby(by ='sqft').mean().reset_index()\n",
    "BathsArea.baths = BathsArea.baths.round(decimals=0)\n",
    "data.baths[data.baths.isna() == True] = data[data.baths.isna() == True].merge(BathsArea, on='sqft', how='left').baths_y"
   ]
  },
  {
   "cell_type": "code",
   "execution_count": 101,
   "metadata": {},
   "outputs": [],
   "source": [
    "data.baths.fillna(1, inplace=True)\n",
    "data.baths = data.baths.astype(int)"
   ]
  },
  {
   "cell_type": "markdown",
   "metadata": {},
   "source": [
    "### Beds"
   ]
  },
  {
   "cell_type": "code",
   "execution_count": 102,
   "metadata": {},
   "outputs": [
    {
     "name": "stdout",
     "output_type": "stream",
     "text": [
      "There are 25.0% of missing values\n"
     ]
    }
   ],
   "source": [
    "data.beds = data.beds.str.lower()\n",
    "print(f'There are {round(data.beds.isna().sum()/data.baths.count()*100,0)}% of missing values')"
   ]
  },
  {
   "cell_type": "code",
   "execution_count": 103,
   "metadata": {},
   "outputs": [
    {
     "data": {
      "text/plain": [
       "3 beds         0.188218\n",
       "4 beds         0.124810\n",
       "3              0.109599\n",
       "2 beds         0.092725\n",
       "4              0.070725\n",
       "                 ...   \n",
       "39.47 acres    0.000004\n",
       "9.06 acres     0.000004\n",
       "48 beds        0.000004\n",
       "18.23 acres    0.000004\n",
       "7.34 acres     0.000004\n",
       "Name: beds, Length: 562, dtype: float64"
      ]
     },
     "execution_count": 103,
     "metadata": {},
     "output_type": "execute_result"
    }
   ],
   "source": [
    "data.beds.value_counts(normalize=True)"
   ]
  },
  {
   "cell_type": "code",
   "execution_count": 104,
   "metadata": {},
   "outputs": [
    {
     "data": {
      "text/plain": [
       "3.0            0.388997\n",
       "4.0            0.245678\n",
       "2.0            0.114408\n",
       "5.0            0.065254\n",
       "--             0.038962\n",
       "                 ...   \n",
       "6.06 acres     0.000048\n",
       "18.23 acres    0.000048\n",
       "4.59 acres     0.000048\n",
       "6.62 acres     0.000048\n",
       "58.9 acres     0.000048\n",
       "Name: beds, Length: 451, dtype: float64"
      ]
     },
     "execution_count": 104,
     "metadata": {},
     "output_type": "execute_result"
    }
   ],
   "source": [
    "#leave numbers only for Beds\n",
    "data['beds'] = data.beds.str.replace(' beds', '').str.replace(' bd', '')\n",
    "data['beds'] = data.beds.str.replace('baths', '2')\n",
    "data['beds'] = data.beds.str.replace('bath', '1')\n",
    "data.beds[(data.beds.str.contains('\\D') == True) & (data.beds.isna() == False)].value_counts(normalize=True)"
   ]
  },
  {
   "cell_type": "code",
   "execution_count": 105,
   "metadata": {},
   "outputs": [],
   "source": [
    "data['beds'][data.beds.str.contains('sqft|acres|acre| |--') == True] = 0\n"
   ]
  },
  {
   "cell_type": "code",
   "execution_count": 106,
   "metadata": {},
   "outputs": [],
   "source": [
    "data['beds'][data.beds.str.contains('2 bedrooms') == True] = 2\n",
    "data['beds'][data.beds.str.contains('3 or more bedrooms') == True] = 3\n",
    "data['beds'][data.beds.str.contains('based on redfin|-') == True] = 1"
   ]
  },
  {
   "cell_type": "code",
   "execution_count": 107,
   "metadata": {},
   "outputs": [],
   "source": [
    "data['beds'] = data['beds'][(data.beds.isna() == False) & (data.beds != 'none')].astype(float)"
   ]
  },
  {
   "cell_type": "code",
   "execution_count": 108,
   "metadata": {},
   "outputs": [],
   "source": [
    "#Group data according to property type and take the average area for each property type for NA\n",
    "Beds = data[['beds', 'propertyType']]\n",
    "Beds['beds'] = Beds['beds'][(Beds.beds.isna() == False)&(Beds.beds != 'none')].astype(float)\n",
    "Beds=Beds.groupby(by='propertyType').mean().reset_index()\n",
    "Beds.beds = Beds.beds.round(decimals=0)\n",
    "data = data.merge(Beds, on='propertyType', how='left')"
   ]
  },
  {
   "cell_type": "code",
   "execution_count": 109,
   "metadata": {},
   "outputs": [
    {
     "name": "stdout",
     "output_type": "stream",
     "text": [
      "<class 'pandas.core.frame.DataFrame'>\n",
      "Int64Index: 374179 entries, 0 to 374178\n",
      "Data columns (total 18 columns):\n",
      " #   Column          Non-Null Count   Dtype  \n",
      "---  ------          --------------   -----  \n",
      " 0   status          374179 non-null  int32  \n",
      " 1   baths           374179 non-null  int32  \n",
      " 2   homeFacts       374179 non-null  object \n",
      " 3   fireplace       102310 non-null  object \n",
      " 4   schools         374179 non-null  object \n",
      " 5   sqft            374179 non-null  float64\n",
      " 6   beds            374179 non-null  float64\n",
      " 7   state           374178 non-null  object \n",
      " 8   stories         224633 non-null  object \n",
      " 9   PrivatePool     374179 non-null  int32  \n",
      " 10  propertyType    374179 non-null  int64  \n",
      " 11  Price           374179 non-null  float64\n",
      " 12  Year built      374179 non-null  int64  \n",
      " 13  Remodeled year  374179 non-null  int32  \n",
      " 14  Heating         265880 non-null  object \n",
      " 15  Cooling         251443 non-null  object \n",
      " 16  Parking         200308 non-null  object \n",
      " 17  school_rating   374179 non-null  int64  \n",
      "dtypes: float64(3), int32(4), int64(3), object(8)\n",
      "memory usage: 48.5+ MB\n"
     ]
    }
   ],
   "source": [
    "data['beds_x'].fillna(data.beds_y, inplace=True)\n",
    "data['beds_x'][data.beds_x == 'none'] = data.beds_y\n",
    "data.beds_x.fillna(data.beds_x.mean(), inplace=True)\n",
    "data.drop('beds_y', axis = 1, inplace=True)\n",
    "data = data.rename(columns = {'beds_x':'beds'})\n",
    "data.info()"
   ]
  },
  {
   "cell_type": "code",
   "execution_count": 110,
   "metadata": {},
   "outputs": [
    {
     "data": {
      "text/plain": [
       "(-0.145, 14.4]    0.999142\n",
       "(14.4, 28.8]      0.000612\n",
       "(57.6, 72.0]      0.000123\n",
       "(28.8, 43.2]      0.000086\n",
       "(43.2, 57.6]      0.000019\n",
       "(72.0, 86.4]      0.000008\n",
       "(129.6, 144.0]    0.000005\n",
       "(86.4, 100.8]     0.000005\n",
       "(115.2, 129.6]    0.000000\n",
       "(100.8, 115.2]    0.000000\n",
       "Name: beds, dtype: float64"
      ]
     },
     "execution_count": 110,
     "metadata": {},
     "output_type": "execute_result"
    }
   ],
   "source": [
    "data.beds.value_counts(normalize=True, bins=10)"
   ]
  },
  {
   "cell_type": "code",
   "execution_count": 111,
   "metadata": {},
   "outputs": [],
   "source": [
    "data = data.drop(data.beds[data.beds > 15].index)"
   ]
  },
  {
   "cell_type": "code",
   "execution_count": 112,
   "metadata": {},
   "outputs": [
    {
     "name": "stdout",
     "output_type": "stream",
     "text": [
      "<class 'pandas.core.frame.DataFrame'>\n",
      "Int64Index: 373900 entries, 0 to 374178\n",
      "Data columns (total 18 columns):\n",
      " #   Column          Non-Null Count   Dtype  \n",
      "---  ------          --------------   -----  \n",
      " 0   status          373900 non-null  int32  \n",
      " 1   baths           373900 non-null  int32  \n",
      " 2   homeFacts       373900 non-null  object \n",
      " 3   fireplace       102290 non-null  object \n",
      " 4   schools         373900 non-null  object \n",
      " 5   sqft            373900 non-null  float64\n",
      " 6   beds            373900 non-null  float64\n",
      " 7   state           373899 non-null  object \n",
      " 8   stories         224520 non-null  object \n",
      " 9   PrivatePool     373900 non-null  int32  \n",
      " 10  propertyType    373900 non-null  int64  \n",
      " 11  Price           373900 non-null  float64\n",
      " 12  Year built      373900 non-null  int64  \n",
      " 13  Remodeled year  373900 non-null  int32  \n",
      " 14  Heating         265731 non-null  object \n",
      " 15  Cooling         251320 non-null  object \n",
      " 16  Parking         200168 non-null  object \n",
      " 17  school_rating   373900 non-null  int64  \n",
      "dtypes: float64(3), int32(4), int64(3), object(8)\n",
      "memory usage: 48.5+ MB\n"
     ]
    }
   ],
   "source": [
    "data.info()"
   ]
  },
  {
   "cell_type": "markdown",
   "metadata": {},
   "source": [
    "### Create feature baths per bedroom"
   ]
  },
  {
   "cell_type": "code",
   "execution_count": 113,
   "metadata": {},
   "outputs": [],
   "source": [
    "data['baths'][data['baths'] < 1] = 1\n",
    "data['beds'][data['beds'] < 1] = 1\n",
    "data['baths/bed'] = data['beds'] / data['baths']"
   ]
  },
  {
   "cell_type": "code",
   "execution_count": 114,
   "metadata": {},
   "outputs": [],
   "source": [
    "save_data(data)"
   ]
  },
  {
   "cell_type": "markdown",
   "metadata": {},
   "source": [
    "### Fireplace"
   ]
  },
  {
   "cell_type": "code",
   "execution_count": 115,
   "metadata": {},
   "outputs": [
    {
     "name": "stdout",
     "output_type": "stream",
     "text": [
      "<class 'pandas.core.frame.DataFrame'>\n",
      "RangeIndex: 373900 entries, 0 to 373899\n",
      "Data columns (total 19 columns):\n",
      " #   Column          Non-Null Count   Dtype  \n",
      "---  ------          --------------   -----  \n",
      " 0   status          373900 non-null  int64  \n",
      " 1   baths           373900 non-null  int64  \n",
      " 2   homeFacts       373900 non-null  object \n",
      " 3   fireplace       102290 non-null  object \n",
      " 4   schools         373900 non-null  object \n",
      " 5   sqft            373900 non-null  float64\n",
      " 6   beds            373900 non-null  float64\n",
      " 7   state           373899 non-null  object \n",
      " 8   stories         224520 non-null  object \n",
      " 9   PrivatePool     373900 non-null  int64  \n",
      " 10  propertyType    373900 non-null  int64  \n",
      " 11  Price           373900 non-null  float64\n",
      " 12  Year built      373900 non-null  int64  \n",
      " 13  Remodeled year  373900 non-null  int64  \n",
      " 14  Heating         265731 non-null  object \n",
      " 15  Cooling         251320 non-null  object \n",
      " 16  Parking         200168 non-null  object \n",
      " 17  school_rating   373900 non-null  int64  \n",
      " 18  baths/bed       373900 non-null  float64\n",
      "dtypes: float64(4), int64(7), object(8)\n",
      "memory usage: 54.2+ MB\n"
     ]
    }
   ],
   "source": [
    "data = pd.read_csv('dataintermediate.csv')\n",
    "data.info()"
   ]
  },
  {
   "cell_type": "code",
   "execution_count": 116,
   "metadata": {},
   "outputs": [],
   "source": [
    "data['fireplace'] = data['fireplace'].str.lower()\n",
    "data.fireplace[data.fireplace.str.contains('fire|yes|gas|burning|stove|frplc') == True] = 1\n",
    "data.fireplace[data.fireplace.str.contains('no|0 ') == True] = 0\n",
    "data.fireplace[(data.fireplace.str.contains('\\d') == True) & (data.fireplace.str.contains('0') == False)] = 1\n",
    "data.fireplace[data.fireplace != 1] = 0"
   ]
  },
  {
   "cell_type": "code",
   "execution_count": 117,
   "metadata": {},
   "outputs": [
    {
     "name": "stdout",
     "output_type": "stream",
     "text": [
      "<class 'pandas.core.frame.DataFrame'>\n",
      "RangeIndex: 373900 entries, 0 to 373899\n",
      "Data columns (total 19 columns):\n",
      " #   Column          Non-Null Count   Dtype  \n",
      "---  ------          --------------   -----  \n",
      " 0   status          373900 non-null  int64  \n",
      " 1   baths           373900 non-null  int64  \n",
      " 2   homeFacts       373900 non-null  object \n",
      " 3   fireplace       373900 non-null  int32  \n",
      " 4   schools         373900 non-null  object \n",
      " 5   sqft            373900 non-null  float64\n",
      " 6   beds            373900 non-null  float64\n",
      " 7   state           373899 non-null  object \n",
      " 8   stories         224520 non-null  object \n",
      " 9   PrivatePool     373900 non-null  int64  \n",
      " 10  propertyType    373900 non-null  int64  \n",
      " 11  Price           373900 non-null  float64\n",
      " 12  Year built      373900 non-null  int64  \n",
      " 13  Remodeled year  373900 non-null  int64  \n",
      " 14  Heating         265731 non-null  object \n",
      " 15  Cooling         251320 non-null  object \n",
      " 16  Parking         200168 non-null  object \n",
      " 17  school_rating   373900 non-null  int64  \n",
      " 18  baths/bed       373900 non-null  float64\n",
      "dtypes: float64(4), int32(1), int64(7), object(7)\n",
      "memory usage: 52.8+ MB\n"
     ]
    }
   ],
   "source": [
    "data.fireplace = data.fireplace.astype(int)\n",
    "data.info()"
   ]
  },
  {
   "cell_type": "markdown",
   "metadata": {},
   "source": [
    "### Stories"
   ]
  },
  {
   "cell_type": "code",
   "execution_count": 118,
   "metadata": {},
   "outputs": [],
   "source": [
    "data.stories = data.stories.str.lower()"
   ]
  },
  {
   "cell_type": "code",
   "execution_count": 119,
   "metadata": {},
   "outputs": [
    {
     "data": {
      "text/plain": [
       "one                        5816\n",
       "two                        2431\n",
       "three or more               562\n",
       "one story                   404\n",
       "lot                         354\n",
       "                           ... \n",
       "other, two, multi/split       1\n",
       "bedroom - split plan          1\n",
       "double wide                   1\n",
       "tri/multi level               1\n",
       "stories                       1\n",
       "Name: stories, Length: 87, dtype: int64"
      ]
     },
     "execution_count": 119,
     "metadata": {},
     "output_type": "execute_result"
    }
   ],
   "source": [
    "data['st1'] = data.stories.str.findall(r'\\d').str[0]\n",
    "data.stories[(data.st1.isna() == True)&(data.stories.isna() == False)].value_counts()"
   ]
  },
  {
   "cell_type": "code",
   "execution_count": 120,
   "metadata": {},
   "outputs": [],
   "source": [
    "data.stories[data.stories.str.contains('one') == True] = 1\n",
    "data.stories[data.stories.str.contains('two') == True] = 2"
   ]
  },
  {
   "cell_type": "code",
   "execution_count": 121,
   "metadata": {},
   "outputs": [],
   "source": [
    "data.stories = data['st1'][(data.st1.isna() == False) & (data.stories.isna() == False)] "
   ]
  },
  {
   "cell_type": "code",
   "execution_count": 122,
   "metadata": {},
   "outputs": [],
   "source": [
    "data.drop('st1', axis=1, inplace=True)\n",
    "data.dropna(subset=['stories'], axis=0, inplace=True)"
   ]
  },
  {
   "cell_type": "code",
   "execution_count": 123,
   "metadata": {},
   "outputs": [],
   "source": [
    "data.stories = data.stories.astype(int)"
   ]
  },
  {
   "cell_type": "code",
   "execution_count": 124,
   "metadata": {},
   "outputs": [],
   "source": [
    "data['stories'][data.stories < 2] = 1\n",
    "data['stories'][data.stories > 1] = 2"
   ]
  },
  {
   "cell_type": "code",
   "execution_count": 125,
   "metadata": {},
   "outputs": [
    {
     "data": {
      "text/plain": [
       "1    106518\n",
       "2    105919\n",
       "Name: stories, dtype: int64"
      ]
     },
     "execution_count": 125,
     "metadata": {},
     "output_type": "execute_result"
    }
   ],
   "source": [
    "data.stories.value_counts()"
   ]
  },
  {
   "cell_type": "code",
   "execution_count": 126,
   "metadata": {},
   "outputs": [],
   "source": [
    "save_data(data)"
   ]
  },
  {
   "cell_type": "markdown",
   "metadata": {},
   "source": [
    "### Parking"
   ]
  },
  {
   "cell_type": "code",
   "execution_count": 127,
   "metadata": {},
   "outputs": [
    {
     "data": {
      "text/plain": [
       "Attached Garage                                                  55565\n",
       "2 spaces                                                         24192\n",
       "1 space                                                          11285\n",
       "No Data                                                           9492\n",
       "Detached Garage                                                   8909\n",
       "                                                                 ...  \n",
       "2 Car, Assigned, DRVWY, Parking Lot                                  1\n",
       "Assigned, DRVWY, On Street                                           1\n",
       "Parking Space Conveys, Off Site                                      1\n",
       "Boat, Driveway, Guest, Oversized, Parking Pad                        1\n",
       "Electric Door Opener, Side Vehicle Entry, Slab Parking Spaces        1\n",
       "Name: Parking, Length: 2784, dtype: int64"
      ]
     },
     "execution_count": 127,
     "metadata": {},
     "output_type": "execute_result"
    }
   ],
   "source": [
    "data = pd.read_csv('dataintermediate.csv')\n",
    "data.Parking.value_counts()"
   ]
  },
  {
   "cell_type": "code",
   "execution_count": 128,
   "metadata": {},
   "outputs": [],
   "source": [
    "data.Parking[data.Parking.notnull() == True] = data.Parking[data.Parking.notnull() == True].str.lower()\n",
    "data.Parking[(data.Parking.notnull() == True) & (data.Parking.str.contains('no') == True)] = 0\n",
    "data.Parking[(data.Parking.notnull() == True)] = 1"
   ]
  },
  {
   "cell_type": "code",
   "execution_count": 129,
   "metadata": {},
   "outputs": [
    {
     "data": {
      "text/plain": [
       "0         1\n",
       "1         1\n",
       "2         1\n",
       "3         1\n",
       "4         1\n",
       "         ..\n",
       "212432    1\n",
       "212433    1\n",
       "212434    0\n",
       "212435    1\n",
       "212436    1\n",
       "Name: Parking, Length: 212437, dtype: int32"
      ]
     },
     "execution_count": 129,
     "metadata": {},
     "output_type": "execute_result"
    }
   ],
   "source": [
    "data.Parking.fillna(0, inplace=True)\n",
    "data.Parking.astype(int)"
   ]
  },
  {
   "cell_type": "markdown",
   "metadata": {},
   "source": [
    "## Density per state- additional data"
   ]
  },
  {
   "cell_type": "code",
   "execution_count": 130,
   "metadata": {},
   "outputs": [],
   "source": [
    "url = 'https://www.census.gov/data/tables/2010/dec/density-data-text.html'  "
   ]
  },
  {
   "cell_type": "code",
   "execution_count": 131,
   "metadata": {},
   "outputs": [],
   "source": [
    "pd.read_html(url)[0].to_csv('density2010.csv', index=False)\n",
    "density = pd.read_csv('density2010.csv')"
   ]
  },
  {
   "cell_type": "code",
   "execution_count": 132,
   "metadata": {},
   "outputs": [
    {
     "data": {
      "text/html": [
       "<div>\n",
       "<style scoped>\n",
       "    .dataframe tbody tr th:only-of-type {\n",
       "        vertical-align: middle;\n",
       "    }\n",
       "\n",
       "    .dataframe tbody tr th {\n",
       "        vertical-align: top;\n",
       "    }\n",
       "\n",
       "    .dataframe thead th {\n",
       "        text-align: right;\n",
       "    }\n",
       "</style>\n",
       "<table border=\"1\" class=\"dataframe\">\n",
       "  <thead>\n",
       "    <tr style=\"text-align: right;\">\n",
       "      <th></th>\n",
       "      <th>statefull</th>\n",
       "      <th>density</th>\n",
       "    </tr>\n",
       "  </thead>\n",
       "  <tbody>\n",
       "    <tr>\n",
       "      <th>0</th>\n",
       "      <td>Alabama</td>\n",
       "      <td>94.4</td>\n",
       "    </tr>\n",
       "    <tr>\n",
       "      <th>1</th>\n",
       "      <td>Alaska</td>\n",
       "      <td>1.2</td>\n",
       "    </tr>\n",
       "    <tr>\n",
       "      <th>2</th>\n",
       "      <td>Arizona</td>\n",
       "      <td>56.3</td>\n",
       "    </tr>\n",
       "    <tr>\n",
       "      <th>3</th>\n",
       "      <td>Arkansas</td>\n",
       "      <td>56.0</td>\n",
       "    </tr>\n",
       "    <tr>\n",
       "      <th>4</th>\n",
       "      <td>California</td>\n",
       "      <td>239.1</td>\n",
       "    </tr>\n",
       "  </tbody>\n",
       "</table>\n",
       "</div>"
      ],
      "text/plain": [
       "    statefull density\n",
       "0     Alabama    94.4\n",
       "1      Alaska     1.2\n",
       "2     Arizona    56.3\n",
       "3    Arkansas    56.0\n",
       "4  California   239.1"
      ]
     },
     "execution_count": 132,
     "metadata": {},
     "output_type": "execute_result"
    }
   ],
   "source": [
    "density2010 = pd.DataFrame(density.iloc[3::4]['2010'].values, columns=['statefull'])\n",
    "density2010['density'] = density.iloc[5::4]['2010'].values\n",
    "density2010.head()"
   ]
  },
  {
   "cell_type": "code",
   "execution_count": 133,
   "metadata": {},
   "outputs": [
    {
     "data": {
      "text/html": [
       "<div>\n",
       "<style scoped>\n",
       "    .dataframe tbody tr th:only-of-type {\n",
       "        vertical-align: middle;\n",
       "    }\n",
       "\n",
       "    .dataframe tbody tr th {\n",
       "        vertical-align: top;\n",
       "    }\n",
       "\n",
       "    .dataframe thead th {\n",
       "        text-align: right;\n",
       "    }\n",
       "</style>\n",
       "<table border=\"1\" class=\"dataframe\">\n",
       "  <thead>\n",
       "    <tr style=\"text-align: right;\">\n",
       "      <th></th>\n",
       "      <th>Codes:  ISO ISO 3166 codes (2-letter, 3-letter, and 3-digit codes from ISO 3166-1; 2+2-letter codes from ISO 3166-2)  ANSI 2-letter and 2-digit codes from the ANSI standard INCITS 38:2009 (supersedes FIPS 5-2)  USPS 2-letter codes used by the United States Postal Service  USCG 2-letter codes used by the United States Coast Guard (bold red text shows differences between ANSI and USCG) Abbreviations:  GPO Older variable-length official US Government Printing Office abbreviations  AP Abbreviations from the AP Stylebook (bold red text shows differences between GPO and AP)</th>\n",
       "      <th>Codes:  ISO ISO 3166 codes (2-letter, 3-letter, and 3-digit codes from ISO 3166-1; 2+2-letter codes from ISO 3166-2)  ANSI 2-letter and 2-digit codes from the ANSI standard INCITS 38:2009 (supersedes FIPS 5-2)  USPS 2-letter codes used by the United States Postal Service  USCG 2-letter codes used by the United States Coast Guard (bold red text shows differences between ANSI and USCG) Abbreviations:  GPO Older variable-length official US Government Printing Office abbreviations  AP Abbreviations from the AP Stylebook (bold red text shows differences between GPO and AP).3</th>\n",
       "    </tr>\n",
       "  </thead>\n",
       "  <tbody>\n",
       "    <tr>\n",
       "      <th>0</th>\n",
       "      <td>Alabama</td>\n",
       "      <td>AL</td>\n",
       "    </tr>\n",
       "    <tr>\n",
       "      <th>1</th>\n",
       "      <td>Alaska</td>\n",
       "      <td>AK</td>\n",
       "    </tr>\n",
       "    <tr>\n",
       "      <th>2</th>\n",
       "      <td>Arizona</td>\n",
       "      <td>AZ</td>\n",
       "    </tr>\n",
       "    <tr>\n",
       "      <th>3</th>\n",
       "      <td>Arkansas</td>\n",
       "      <td>AR</td>\n",
       "    </tr>\n",
       "    <tr>\n",
       "      <th>4</th>\n",
       "      <td>California</td>\n",
       "      <td>CA</td>\n",
       "    </tr>\n",
       "  </tbody>\n",
       "</table>\n",
       "</div>"
      ],
      "text/plain": [
       "  Codes:  ISO ISO 3166 codes (2-letter, 3-letter, and 3-digit codes from ISO 3166-1; 2+2-letter codes from ISO 3166-2)  ANSI 2-letter and 2-digit codes from the ANSI standard INCITS 38:2009 (supersedes FIPS 5-2)  USPS 2-letter codes used by the United States Postal Service  USCG 2-letter codes used by the United States Coast Guard (bold red text shows differences between ANSI and USCG) Abbreviations:  GPO Older variable-length official US Government Printing Office abbreviations  AP Abbreviations from the AP Stylebook (bold red text shows differences between GPO and AP)  \\\n",
       "0                                            Alabama                                                                                                                                                                                                                                                                                                                                                                                                                                                                                                                                               \n",
       "1                                             Alaska                                                                                                                                                                                                                                                                                                                                                                                                                                                                                                                                               \n",
       "2                                            Arizona                                                                                                                                                                                                                                                                                                                                                                                                                                                                                                                                               \n",
       "3                                           Arkansas                                                                                                                                                                                                                                                                                                                                                                                                                                                                                                                                               \n",
       "4                                         California                                                                                                                                                                                                                                                                                                                                                                                                                                                                                                                                               \n",
       "\n",
       "  Codes:  ISO ISO 3166 codes (2-letter, 3-letter, and 3-digit codes from ISO 3166-1; 2+2-letter codes from ISO 3166-2)  ANSI 2-letter and 2-digit codes from the ANSI standard INCITS 38:2009 (supersedes FIPS 5-2)  USPS 2-letter codes used by the United States Postal Service  USCG 2-letter codes used by the United States Coast Guard (bold red text shows differences between ANSI and USCG) Abbreviations:  GPO Older variable-length official US Government Printing Office abbreviations  AP Abbreviations from the AP Stylebook (bold red text shows differences between GPO and AP).3  \n",
       "0                                                 AL                                                                                                                                                                                                                                                                                                                                                                                                                                                                                                                                                \n",
       "1                                                 AK                                                                                                                                                                                                                                                                                                                                                                                                                                                                                                                                                \n",
       "2                                                 AZ                                                                                                                                                                                                                                                                                                                                                                                                                                                                                                                                                \n",
       "3                                                 AR                                                                                                                                                                                                                                                                                                                                                                                                                                                                                                                                                \n",
       "4                                                 CA                                                                                                                                                                                                                                                                                                                                                                                                                                                                                                                                                "
      ]
     },
     "execution_count": 133,
     "metadata": {},
     "output_type": "execute_result"
    }
   ],
   "source": [
    "url1 = 'https://en.wikipedia.org/wiki/List_of_U.S._state_and_territory_abbreviations'  \n",
    "pd.read_html(url1)[0].iloc[11:, [0,3]].dropna().to_csv('abrv.csv', index=False)\n",
    "stateabrv = pd.read_csv('abrv.csv')\n",
    "stateabrv.head()"
   ]
  },
  {
   "cell_type": "code",
   "execution_count": 134,
   "metadata": {},
   "outputs": [],
   "source": [
    "stateabrv.columns = ['statefull','state']"
   ]
  },
  {
   "cell_type": "code",
   "execution_count": 135,
   "metadata": {},
   "outputs": [
    {
     "data": {
      "text/html": [
       "<div>\n",
       "<style scoped>\n",
       "    .dataframe tbody tr th:only-of-type {\n",
       "        vertical-align: middle;\n",
       "    }\n",
       "\n",
       "    .dataframe tbody tr th {\n",
       "        vertical-align: top;\n",
       "    }\n",
       "\n",
       "    .dataframe thead th {\n",
       "        text-align: right;\n",
       "    }\n",
       "</style>\n",
       "<table border=\"1\" class=\"dataframe\">\n",
       "  <thead>\n",
       "    <tr style=\"text-align: right;\">\n",
       "      <th></th>\n",
       "      <th>statefull</th>\n",
       "      <th>density</th>\n",
       "      <th>state</th>\n",
       "    </tr>\n",
       "  </thead>\n",
       "  <tbody>\n",
       "    <tr>\n",
       "      <th>0</th>\n",
       "      <td>Alabama</td>\n",
       "      <td>94.4</td>\n",
       "      <td>AL</td>\n",
       "    </tr>\n",
       "    <tr>\n",
       "      <th>1</th>\n",
       "      <td>Alaska</td>\n",
       "      <td>1.2</td>\n",
       "      <td>AK</td>\n",
       "    </tr>\n",
       "    <tr>\n",
       "      <th>2</th>\n",
       "      <td>Arizona</td>\n",
       "      <td>56.3</td>\n",
       "      <td>AZ</td>\n",
       "    </tr>\n",
       "    <tr>\n",
       "      <th>3</th>\n",
       "      <td>Arkansas</td>\n",
       "      <td>56.0</td>\n",
       "      <td>AR</td>\n",
       "    </tr>\n",
       "    <tr>\n",
       "      <th>4</th>\n",
       "      <td>California</td>\n",
       "      <td>239.1</td>\n",
       "      <td>CA</td>\n",
       "    </tr>\n",
       "  </tbody>\n",
       "</table>\n",
       "</div>"
      ],
      "text/plain": [
       "    statefull density state\n",
       "0     Alabama    94.4    AL\n",
       "1      Alaska     1.2    AK\n",
       "2     Arizona    56.3    AZ\n",
       "3    Arkansas    56.0    AR\n",
       "4  California   239.1    CA"
      ]
     },
     "execution_count": 135,
     "metadata": {},
     "output_type": "execute_result"
    }
   ],
   "source": [
    "density2010 = density2010.merge(stateabrv, on='statefull', how='left')\n",
    "density2010.head()"
   ]
  },
  {
   "cell_type": "code",
   "execution_count": 136,
   "metadata": {},
   "outputs": [],
   "source": [
    "data.state = data.state.astype(str)"
   ]
  },
  {
   "cell_type": "code",
   "execution_count": 137,
   "metadata": {},
   "outputs": [
    {
     "data": {
      "text/plain": [
       "0         FL\n",
       "1         TX\n",
       "2         IL\n",
       "3         TX\n",
       "4         PA\n",
       "          ..\n",
       "212432    TX\n",
       "212433    FL\n",
       "212434    TX\n",
       "212435    FL\n",
       "212436    TX\n",
       "Name: state, Length: 212437, dtype: object"
      ]
     },
     "execution_count": 137,
     "metadata": {},
     "output_type": "execute_result"
    }
   ],
   "source": [
    "data.state"
   ]
  },
  {
   "cell_type": "code",
   "execution_count": 138,
   "metadata": {},
   "outputs": [],
   "source": [
    "data = data.merge(density2010, on='state', how='left')"
   ]
  },
  {
   "cell_type": "code",
   "execution_count": 147,
   "metadata": {},
   "outputs": [],
   "source": [
    "data.density = data.density.astype(float)\n",
    "data.density = data.density.fillna(data.density.mean())"
   ]
  },
  {
   "cell_type": "code",
   "execution_count": 148,
   "metadata": {},
   "outputs": [],
   "source": [
    "save_data(data)"
   ]
  },
  {
   "cell_type": "code",
   "execution_count": 149,
   "metadata": {},
   "outputs": [
    {
     "name": "stdout",
     "output_type": "stream",
     "text": [
      "<class 'pandas.core.frame.DataFrame'>\n",
      "RangeIndex: 212437 entries, 0 to 212436\n",
      "Data columns (total 21 columns):\n",
      " #   Column          Non-Null Count   Dtype  \n",
      "---  ------          --------------   -----  \n",
      " 0   status          212437 non-null  int64  \n",
      " 1   baths           212437 non-null  int64  \n",
      " 2   homeFacts       212437 non-null  object \n",
      " 3   fireplace       212437 non-null  int64  \n",
      " 4   schools         212437 non-null  object \n",
      " 5   sqft            212437 non-null  float64\n",
      " 6   beds            212437 non-null  float64\n",
      " 7   state           212436 non-null  object \n",
      " 8   stories         212437 non-null  int64  \n",
      " 9   PrivatePool     212437 non-null  int64  \n",
      " 10  propertyType    212437 non-null  int64  \n",
      " 11  Price           212437 non-null  float64\n",
      " 12  Year built      212437 non-null  int64  \n",
      " 13  Remodeled year  212437 non-null  int64  \n",
      " 14  Heating         182931 non-null  object \n",
      " 15  Cooling         172850 non-null  object \n",
      " 16  Parking         212437 non-null  int64  \n",
      " 17  school_rating   212437 non-null  int64  \n",
      " 18  baths/bed       212437 non-null  float64\n",
      " 19  statefull       212436 non-null  object \n",
      " 20  density         212437 non-null  float64\n",
      "dtypes: float64(5), int64(10), object(6)\n",
      "memory usage: 34.0+ MB\n"
     ]
    }
   ],
   "source": [
    "data.info()"
   ]
  },
  {
   "cell_type": "markdown",
   "metadata": {},
   "source": [
    "## Features table"
   ]
  },
  {
   "cell_type": "code",
   "execution_count": 150,
   "metadata": {},
   "outputs": [],
   "source": [
    "data = pd.read_csv('dataintermediate.csv')"
   ]
  },
  {
   "cell_type": "code",
   "execution_count": 151,
   "metadata": {},
   "outputs": [],
   "source": [
    "Features = data[['stories', 'fireplace', 'sqft', 'PrivatePool',\n",
    "                 'Year built', 'Remodeled year', 'baths/bed',\n",
    "                 'Parking', 'school_rating', 'density', 'status', 'propertyType']]\n",
    "target = data.Price"
   ]
  },
  {
   "cell_type": "code",
   "execution_count": 152,
   "metadata": {},
   "outputs": [
    {
     "name": "stdout",
     "output_type": "stream",
     "text": [
      "<class 'pandas.core.frame.DataFrame'>\n",
      "RangeIndex: 212437 entries, 0 to 212436\n",
      "Data columns (total 12 columns):\n",
      " #   Column          Non-Null Count   Dtype  \n",
      "---  ------          --------------   -----  \n",
      " 0   stories         212437 non-null  int64  \n",
      " 1   fireplace       212437 non-null  int64  \n",
      " 2   sqft            212437 non-null  float64\n",
      " 3   PrivatePool     212437 non-null  int64  \n",
      " 4   Year built      212437 non-null  int64  \n",
      " 5   Remodeled year  212437 non-null  int64  \n",
      " 6   baths/bed       212437 non-null  float64\n",
      " 7   Parking         212437 non-null  int64  \n",
      " 8   school_rating   212437 non-null  int64  \n",
      " 9   density         212437 non-null  float64\n",
      " 10  status          212437 non-null  int64  \n",
      " 11  propertyType    212437 non-null  int64  \n",
      "dtypes: float64(3), int64(9)\n",
      "memory usage: 19.4 MB\n"
     ]
    }
   ],
   "source": [
    "Features.info()"
   ]
  },
  {
   "cell_type": "code",
   "execution_count": 153,
   "metadata": {},
   "outputs": [
    {
     "data": {
      "text/plain": [
       "<matplotlib.axes._subplots.AxesSubplot at 0x2d7800846a0>"
      ]
     },
     "execution_count": 153,
     "metadata": {},
     "output_type": "execute_result"
    },
    {
     "data": {
      "image/png": "[encoded data removed]",
      "text/plain": [
       "<Figure size 432x288 with 2 Axes>"
      ]
     },
     "metadata": {
      "needs_background": "light"
     },
     "output_type": "display_data"
    }
   ],
   "source": [
    "sns.heatmap(Features.corr(), annot=True, cmap='coolwarm')\n",
    "#most of the variables have low correlation"
   ]
  },
  {
   "cell_type": "code",
   "execution_count": 154,
   "metadata": {},
   "outputs": [
    {
     "data": {
      "text/plain": [
       "Text(0.5, 0, 'Relative Importance')"
      ]
     },
     "execution_count": 154,
     "metadata": {},
     "output_type": "execute_result"
    },
    {
     "data": {
      "image/png": "[encoded data removed]",
      "text/plain": [
       "<Figure size 432x288 with 1 Axes>"
      ]
     },
     "metadata": {
      "needs_background": "light"
     },
     "output_type": "display_data"
    }
   ],
   "source": [
    "RFR = RandomForestRegressor(max_depth = 10)\n",
    "features=Features.columns[[0,1,2,3,4,5,6,7,8,9,10,11]]\n",
    "RFR.fit(Features, target)\n",
    "importances = RFR.feature_importances_\n",
    "indices = np.argsort(importances)\n",
    "\n",
    "plt.figure(1)\n",
    "plt.title('Feature Importances')\n",
    "plt.barh(range(len(indices)), importances[indices], color='b', align='center')\n",
    "plt.yticks(range(len(indices)), features[indices])\n",
    "plt.xlabel('Relative Importance')"
   ]
  },
  {
   "cell_type": "code",
   "execution_count": 155,
   "metadata": {},
   "outputs": [],
   "source": [
    "Features = data[['sqft', 'Year built', 'baths/bed', 'school_rating', 'density']]"
   ]
  },
  {
   "cell_type": "markdown",
   "metadata": {},
   "source": [
    "# Model"
   ]
  },
  {
   "cell_type": "code",
   "execution_count": 156,
   "metadata": {},
   "outputs": [],
   "source": [
    "scaler = StandardScaler()\n",
    "FeaturesSt = scaler.fit_transform(Features)"
   ]
  },
  {
   "cell_type": "code",
   "execution_count": 157,
   "metadata": {},
   "outputs": [
    {
     "name": "stdout",
     "output_type": "stream",
     "text": [
      "X_train: (169949, 5)\n",
      "X_test: (42488, 5)\n",
      "y_train: (169949,)\n",
      "y_test: (42488,)\n"
     ]
    }
   ],
   "source": [
    "X_train, X_test, y_train, y_test = train_test_split(FeaturesSt, target, random_state=42, test_size=0.2)\n",
    "print('X_train:', X_train.shape)\n",
    "print('X_test:', X_test.shape)\n",
    "print('y_train:', y_train.shape)\n",
    "print('y_test:', y_test.shape)"
   ]
  },
  {
   "cell_type": "code",
   "execution_count": 158,
   "metadata": {},
   "outputs": [],
   "source": [
    "def compute_meta_feature(regr, X_train, X_test, y_train, cv):\n",
    "    \"\"\"\n",
    "    Computes meta-features using the regressor.\n",
    "    \n",
    "    :arg regr: scikit-learn regressor\n",
    "    :args X_train, y_train: training set\n",
    "    :arg X_test: testing set\n",
    "    :arg cv: cross-validation folding\n",
    "    \"\"\"\n",
    "    X_meta_train = np.zeros_like(y_train, dtype = np.float32)\n",
    "    for train_fold_index, predict_fold_index in cv.split(X_train):\n",
    "        X_fold_train, X_fold_predict = X_train[train_fold_index], X_train[predict_fold_index]\n",
    "        y_fold_train = y_train[train_fold_index]\n",
    "        \n",
    "        folded_r = clone(regr)\n",
    "        folded_r.fit(X_fold_train, y_fold_train)\n",
    "        X_meta_train[predict_fold_index] = folded_r.predict(X_fold_predict)\n",
    "    \n",
    "    meta_r = clone(regr)\n",
    "    meta_r.fit(X_train, y_train)\n",
    "    \n",
    "    X_meta_test = meta_r.predict(X_test)\n",
    "    \n",
    "    return X_meta_train, X_meta_test"
   ]
  },
  {
   "cell_type": "code",
   "execution_count": 159,
   "metadata": {},
   "outputs": [],
   "source": [
    "def generate_metafeatures(regrs, X_train, X_test, y_train, cv):\n",
    "    \"\"\"\n",
    "    Generates metafeatures using a list of regressors.\n",
    "    \n",
    "    :arg regrs: list of scikit-learn regressors\n",
    "    :args X_train, y_train: training set\n",
    "    :arg X_test: testing set\n",
    "    :arg cv: cross-validation folding\n",
    "    \"\"\"\n",
    "    features = [\n",
    "        compute_meta_feature(regr, X_train, X_test, y_train, cv)\n",
    "        for regr in tqdm(regrs)\n",
    "    ]\n",
    "    \n",
    "    stacked_features_train = np.vstack([\n",
    "        features_train for features_train, features_test in features\n",
    "    ]).T\n",
    "\n",
    "    stacked_features_test = np.vstack([\n",
    "        features_test for features_train, features_test in features\n",
    "    ]).T\n",
    "    \n",
    "    return stacked_features_train, stacked_features_test"
   ]
  },
  {
   "cell_type": "code",
   "execution_count": 160,
   "metadata": {},
   "outputs": [],
   "source": [
    "LR =  LinearRegression()\n",
    "DTR = DecisionTreeRegressor(max_depth=10, criterion='mae', random_state=42)\n",
    "RFR = RandomForestRegressor(max_depth=20, random_state=42)\n",
    "ABR = AdaBoostRegressor(LR, n_estimators=500, learning_rate=0.8)"
   ]
  },
  {
   "cell_type": "code",
   "execution_count": 161,
   "metadata": {},
   "outputs": [
    {
     "data": {
      "text/plain": [
       "{'normalize': True, 'n_jobs': None, 'fit_intercept': True}"
      ]
     },
     "execution_count": 161,
     "metadata": {},
     "output_type": "execute_result"
    }
   ],
   "source": [
    "#Parameters for LR\n",
    "distributions={\n",
    "    'fit_intercept': [True, False],\n",
    "    'normalize': [True, False],\n",
    "    'n_jobs': [-1, 5, None]\n",
    "}\n",
    "LRP = RandomizedSearchCV(LR, distributions, random_state=0)\n",
    "search = LRP.fit(X_train, y_train)\n",
    "search.best_params_"
   ]
  },
  {
   "cell_type": "code",
   "execution_count": 162,
   "metadata": {},
   "outputs": [],
   "source": [
    "LRnew =  LinearRegression(normalize=True, fit_intercept=True)"
   ]
  },
  {
   "cell_type": "code",
   "execution_count": 163,
   "metadata": {},
   "outputs": [
    {
     "data": {
      "text/plain": [
       "{'random_state': 42,\n",
       " 'min_samples_split': 4,\n",
       " 'min_samples_leaf': 5,\n",
       " 'max_features': 'auto',\n",
       " 'max_depth': 30,\n",
       " 'criterion': 'mse'}"
      ]
     },
     "execution_count": 163,
     "metadata": {},
     "output_type": "execute_result"
    }
   ],
   "source": [
    "#Parameters for DecisionTreeRegressor(DTR)\n",
    "distributions={\n",
    "    'max_depth': [3, 7, 9, 17, 30, None],\n",
    "    'criterion': ['mse', 'friedman_mse'],\n",
    "    'random_state': [0, 42],\n",
    "    'min_samples_split': [2, 4, 7],\n",
    "    'min_samples_leaf': [1, 5],\n",
    "    'max_features': ['auto', 'sqrt', None]\n",
    "}\n",
    "r = RandomizedSearchCV(DTR, distributions, random_state=0)\n",
    "search = r.fit(X_train, y_train)\n",
    "search.best_params_"
   ]
  },
  {
   "cell_type": "code",
   "execution_count": 164,
   "metadata": {},
   "outputs": [],
   "source": [
    "DTRnew = DecisionTreeRegressor(max_depth=30, criterion='mse', random_state=0, min_samples_split=7,\n",
    "                              min_samples_leaf=5, max_features='auto')"
   ]
  },
  {
   "cell_type": "code",
   "execution_count": 165,
   "metadata": {},
   "outputs": [],
   "source": [
    "#Parameters for RandomForestRegressor(RFR)\n",
    "distributions={\n",
    "    'n_estimators': [30, 50, 100, 120],\n",
    "    'criterion': ['mse', 'friedman_mse'],\n",
    "    'max_depth': [5, 10, 15, None],\n",
    "    'bootstrap': [True, False],\n",
    "    'oob_score': [True, False],\n",
    "    'n_jobs': [-1, 10],\n",
    "    'random_state': [0, 10, 42]\n",
    "}\n",
    "r = RandomizedSearchCV(RFR, distributions, random_state=0)\n",
    "search = r.fit(X_train, y_train)\n",
    "DTRnewpar = search.best_params_"
   ]
  },
  {
   "cell_type": "code",
   "execution_count": 166,
   "metadata": {},
   "outputs": [],
   "source": [
    "RFRnew = RandomForestRegressor(random_state=42, oob_score=True, n_jobs=-1, n_estimators=100,\n",
    "                           max_depth=15, criterion='mse', bootstrap=True)"
   ]
  },
  {
   "cell_type": "code",
   "execution_count": 167,
   "metadata": {},
   "outputs": [
    {
     "data": {
      "text/plain": [
       "{'random_state': 0,\n",
       " 'n_estimators': 10,\n",
       " 'loss': 'exponential',\n",
       " 'learning_rate': 0.8,\n",
       " 'base_estimator': None}"
      ]
     },
     "execution_count": 167,
     "metadata": {},
     "output_type": "execute_result"
    }
   ],
   "source": [
    "#Parameters for AdaBoostRegressor(ABR)\n",
    "distributions={\n",
    "    'base_estimator': [LinearRegression(), None],\n",
    "    'n_estimators': [10, 50],\n",
    "    'learning_rate': [0.8, 0.75],\n",
    "    'loss': ['linear', 'square', 'exponential'],\n",
    "    'random_state': [0, 42]\n",
    "}\n",
    "r = RandomizedSearchCV(ABR, distributions, random_state=0)\n",
    "search = r.fit(X_train, y_train)\n",
    "search.best_params_"
   ]
  },
  {
   "cell_type": "code",
   "execution_count": 168,
   "metadata": {},
   "outputs": [],
   "source": [
    "ABRnew = AdaBoostRegressor(base_estimator=None, n_estimators=10, learning_rate=0.8, loss='exponential', random_state=0)"
   ]
  },
  {
   "cell_type": "code",
   "execution_count": 169,
   "metadata": {},
   "outputs": [
    {
     "name": "stderr",
     "output_type": "stream",
     "text": [
      "100%|████████████████████████████████████████████| 4/4 [01:54<00:00, 25.51s/it]\n"
     ]
    }
   ],
   "source": [
    "cv = KFold(n_splits=10, shuffle=True)\n",
    "stacked_features_train, stacked_features_test = generate_metafeatures([LRnew, DTRnew, RFRnew, ABRnew],X_train, \n",
    "                                                                      X_test, y_train.values, cv)"
   ]
  },
  {
   "cell_type": "code",
   "execution_count": 170,
   "metadata": {},
   "outputs": [],
   "source": [
    "total_features_train = np.hstack([X_train, stacked_features_train])\n",
    "total_features_test = np.hstack([X_test, stacked_features_test])"
   ]
  },
  {
   "cell_type": "code",
   "execution_count": 171,
   "metadata": {},
   "outputs": [],
   "source": [
    "GBR = GradientBoostingRegressor()\n",
    "predictor = GBR\n",
    "predictor.fit(stacked_features_train, y_train)\n",
    "y_pred = predictor.predict(stacked_features_test)"
   ]
  },
  {
   "cell_type": "code",
   "execution_count": 172,
   "metadata": {},
   "outputs": [
    {
     "name": "stdout",
     "output_type": "stream",
     "text": [
      "R^2 GB: 0.7068, MAE GB: 0.35, RSME: 0.53\n"
     ]
    }
   ],
   "source": [
    "mae = mean_absolute_error(y_test,y_pred)\n",
    "mse = mean_squared_error(y_test,y_pred)\n",
    "print(f'R^2 GB: {round(predictor.score(stacked_features_test,y_test),4)}, MAE GB: {round(mae,2)}, RSME: {round(np.sqrt(mse),2)}')"
   ]
  },
  {
   "cell_type": "markdown",
   "metadata": {},
   "source": [
    "![title](fin.jpg)"
   ]
  },
  {
   "cell_type": "markdown",
   "metadata": {},
   "source": [
    "During my work the score has inceased from 0.1 at the beginning to what I have now. This is not the best score and probably additional work is required for data and ML. \n",
    "- add more features like the distance from center based on street and additional data of central street in each city, heating, cooling \n",
    "- optimize the model: find the best parameters to reduce time, find the best steking set\n",
    "- increase the NA treatments\n",
    "- increase exceptions treatment\n",
    "- code refactoring and style improvement\n",
    "- Prepare the models to Production\n",
    "- Improve code style according to pep8\n",
    "\n",
    "Is scheduled for the next sprint :)"
   ]
  }
 ],
 "metadata": {
  "celltoolbar": "Raw Cell Format",
  "kernelspec": {
   "display_name": "Python 3",
   "language": "python",
   "name": "python3"
  },
  "language_info": {
   "codemirror_mode": {
    "name": "ipython",
    "version": 3
   },
   "file_extension": ".py",
   "mimetype": "text/x-python",
   "name": "python",
   "nbconvert_exporter": "python",
   "pygments_lexer": "ipython3",
   "version": "3.7.3"
  }
 },
 "nbformat": 4,
 "nbformat_minor": 4
}
