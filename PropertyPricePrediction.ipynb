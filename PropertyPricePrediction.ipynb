{
 "cells": [
  {
   "cell_type": "markdown",
   "metadata": {},
   "source": [
    "# Import packages"
   ]
  },
  {
   "cell_type": "code",
   "execution_count": 1,
   "metadata": {},
   "outputs": [
    {
     "name": "stderr",
     "output_type": "stream",
     "text": [
      "C:\\Users\\dom\\Anaconda3\\lib\\site-packages\\statsmodels\\tools\\_testing.py:19: FutureWarning: pandas.util.testing is deprecated. Use the functions in the public API at pandas.testing instead.\n",
      "  import pandas.util.testing as tm\n"
     ]
    }
   ],
   "source": [
    "import pandas as pd\n",
    "import numpy as np\n",
    "import matplotlib.pyplot as plt\n",
    "import seaborn as sns\n",
    "%matplotlib inline\n",
    "import warnings; warnings.simplefilter('ignore')\n",
    "import ast\n",
    "import re\n",
    "from timeit import default_timer as timer"
   ]
  },
  {
   "cell_type": "markdown",
   "metadata": {},
   "source": [
    "# Functions"
   ]
  },
  {
   "cell_type": "code",
   "execution_count": 2,
   "metadata": {},
   "outputs": [],
   "source": [
    "#Function that writes to csv\n",
    "def saveData(x):\n",
    "    x.to_csv('dataintermediate.csv',index=False)"
   ]
  },
  {
   "cell_type": "markdown",
   "metadata": {},
   "source": [
    "# Data preparation"
   ]
  },
  {
   "cell_type": "markdown",
   "metadata": {},
   "source": [
    "### Read Data and select columns for Model"
   ]
  },
  {
   "cell_type": "code",
   "execution_count": 3,
   "metadata": {},
   "outputs": [
    {
     "name": "stdout",
     "output_type": "stream",
     "text": [
      "<class 'pandas.core.frame.DataFrame'>\n",
      "RangeIndex: 377185 entries, 0 to 377184\n",
      "Data columns (total 18 columns):\n",
      " #   Column        Non-Null Count   Dtype \n",
      "---  ------        --------------   ----- \n",
      " 0   status        337267 non-null  object\n",
      " 1   private pool  4181 non-null    object\n",
      " 2   propertyType  342452 non-null  object\n",
      " 3   street        377183 non-null  object\n",
      " 4   baths         270847 non-null  object\n",
      " 5   homeFacts     377185 non-null  object\n",
      " 6   fireplace     103115 non-null  object\n",
      " 7   city          377151 non-null  object\n",
      " 8   schools       377185 non-null  object\n",
      " 9   sqft          336608 non-null  object\n",
      " 10  zipcode       377185 non-null  object\n",
      " 11  beds          285903 non-null  object\n",
      " 12  state         377185 non-null  object\n",
      " 13  stories       226470 non-null  object\n",
      " 14  mls-id        24942 non-null   object\n",
      " 15  PrivatePool   40311 non-null   object\n",
      " 16  MlsId         310305 non-null  object\n",
      " 17  target        374704 non-null  object\n",
      "dtypes: object(18)\n",
      "memory usage: 51.8+ MB\n"
     ]
    }
   ],
   "source": [
    "df=pd.read_csv('data.csv')\n",
    "df.info()"
   ]
  },
  {
   "cell_type": "code",
   "execution_count": 4,
   "metadata": {},
   "outputs": [],
   "source": [
    "#First I will use most commonsence properties that might influence the property Price\n",
    "data=df[['status','private pool','baths','homeFacts','fireplace','schools','sqft','beds','state','stories','PrivatePool','propertyType','target']]"
   ]
  },
  {
   "cell_type": "code",
   "execution_count": 5,
   "metadata": {},
   "outputs": [
    {
     "name": "stdout",
     "output_type": "stream",
     "text": [
      "<class 'pandas.core.frame.DataFrame'>\n",
      "RangeIndex: 377185 entries, 0 to 377184\n",
      "Data columns (total 13 columns):\n",
      " #   Column        Non-Null Count   Dtype \n",
      "---  ------        --------------   ----- \n",
      " 0   status        337267 non-null  object\n",
      " 1   private pool  4181 non-null    object\n",
      " 2   baths         270847 non-null  object\n",
      " 3   homeFacts     377185 non-null  object\n",
      " 4   fireplace     103115 non-null  object\n",
      " 5   schools       377185 non-null  object\n",
      " 6   sqft          336608 non-null  object\n",
      " 7   beds          285903 non-null  object\n",
      " 8   state         377185 non-null  object\n",
      " 9   stories       226470 non-null  object\n",
      " 10  PrivatePool   40311 non-null   object\n",
      " 11  propertyType  342452 non-null  object\n",
      " 12  target        374704 non-null  object\n",
      "dtypes: object(13)\n",
      "memory usage: 37.4+ MB\n"
     ]
    }
   ],
   "source": [
    "data.info()"
   ]
  },
  {
   "cell_type": "markdown",
   "metadata": {},
   "source": [
    "## HomeFacts"
   ]
  },
  {
   "cell_type": "code",
   "execution_count": 6,
   "metadata": {},
   "outputs": [],
   "source": [
    "data['homeFacts']=data['homeFacts'].apply(lambda x: ast.literal_eval(x)['atAGlanceFacts'])\n"
   ]
  },
  {
   "cell_type": "code",
   "execution_count": 7,
   "metadata": {},
   "outputs": [
    {
     "data": {
      "text/plain": [
       "['Year built',\n",
       " 'Remodeled year',\n",
       " 'Heating',\n",
       " 'Cooling',\n",
       " 'Parking',\n",
       " 'lotsize',\n",
       " 'Price/sqft']"
      ]
     },
     "execution_count": 7,
     "metadata": {},
     "output_type": "execute_result"
    }
   ],
   "source": [
    "#Get Labels for df columns\n",
    "def getdata(x):\n",
    "    Labels=list()\n",
    "    for i in x:\n",
    "        Labels.append(i['factLabel'])\n",
    "    return Labels\n",
    "Labels=getdata(data.homeFacts[1])\n",
    "Labels"
   ]
  },
  {
   "cell_type": "code",
   "execution_count": 8,
   "metadata": {},
   "outputs": [],
   "source": [
    "#Convert dictionaries per row to appropriate columns in df and extract all the values\n",
    "for l in Labels:\n",
    "    data[l]=data['homeFacts'].apply(lambda x: x[Labels.index(l)]['factValue']) "
   ]
  },
  {
   "cell_type": "code",
   "execution_count": 9,
   "metadata": {},
   "outputs": [],
   "source": [
    "saveData(data)"
   ]
  },
  {
   "cell_type": "markdown",
   "metadata": {},
   "source": [
    "## Schools"
   ]
  },
  {
   "cell_type": "code",
   "execution_count": 10,
   "metadata": {},
   "outputs": [],
   "source": [
    "data = pd.read_csv('dataintermediate.csv')\n",
    "data['schools'] = data['schools'].apply(lambda x: ast.literal_eval(x)[0])"
   ]
  },
  {
   "cell_type": "code",
   "execution_count": 11,
   "metadata": {},
   "outputs": [],
   "source": [
    "#Extract rating list to schRating column\n",
    "data['schRating'] = data['schools'].apply(lambda x: [n for n in x['rating'] if n != 'NR']) "
   ]
  },
  {
   "cell_type": "code",
   "execution_count": 12,
   "metadata": {},
   "outputs": [],
   "source": [
    "def findrating(x):\n",
    "    '''Function that makes an order in ratings and takes the maximum'''\n",
    "    l=[0]\n",
    "    for i in x:\n",
    "        if (i.find('/')>-1 and i[:i.find('/')] == 'None') or i == 'NA' or i == '':\n",
    "            l.append(0)\n",
    "        elif i.find('/')>-1:\n",
    "            l.append(int(i[:i.find('/')]))\n",
    "        else:\n",
    "            l.append(int(i))\n",
    "    return max(l)"
   ]
  },
  {
   "cell_type": "code",
   "execution_count": 13,
   "metadata": {},
   "outputs": [],
   "source": [
    "data['schRating'] = data['schRating'].apply(lambda x: findrating(x))"
   ]
  },
  {
   "cell_type": "code",
   "execution_count": 14,
   "metadata": {},
   "outputs": [
    {
     "name": "stdout",
     "output_type": "stream",
     "text": [
      "<class 'pandas.core.frame.DataFrame'>\n",
      "RangeIndex: 377185 entries, 0 to 377184\n",
      "Data columns (total 21 columns):\n",
      " #   Column          Non-Null Count   Dtype  \n",
      "---  ------          --------------   -----  \n",
      " 0   status          337267 non-null  object \n",
      " 1   private pool    4181 non-null    object \n",
      " 2   baths           270847 non-null  object \n",
      " 3   homeFacts       377185 non-null  object \n",
      " 4   fireplace       103115 non-null  object \n",
      " 5   schools         377185 non-null  object \n",
      " 6   sqft            336608 non-null  object \n",
      " 7   beds            285903 non-null  object \n",
      " 8   state           377185 non-null  object \n",
      " 9   stories         226470 non-null  object \n",
      " 10  PrivatePool     40311 non-null   object \n",
      " 11  propertyType    342452 non-null  object \n",
      " 12  target          374704 non-null  object \n",
      " 13  Year built      314811 non-null  object \n",
      " 14  Remodeled year  151075 non-null  float64\n",
      " 15  Heating         267853 non-null  object \n",
      " 16  Cooling         253218 non-null  object \n",
      " 17  Parking         201765 non-null  object \n",
      " 18  lotsize         315730 non-null  object \n",
      " 19  Price/sqft      313447 non-null  object \n",
      " 20  schRating       377185 non-null  int64  \n",
      "dtypes: float64(1), int64(1), object(19)\n",
      "memory usage: 60.4+ MB\n"
     ]
    }
   ],
   "source": [
    "data.info()"
   ]
  },
  {
   "cell_type": "markdown",
   "metadata": {},
   "source": [
    "### Fill nas in sqft with existing lotsize values"
   ]
  },
  {
   "cell_type": "code",
   "execution_count": 15,
   "metadata": {},
   "outputs": [],
   "source": [
    "data.lotsize=data.lotsize.str.lower().str.strip()\n",
    "#Remove all acre substrings and convert the values to float and fill na of sqft with values\n",
    "data.sqft[(data.sqft.isna()==True)&(data.lotsize.str.contains('acre'))]=data.lotsize[(data.sqft.isna()==True)&(data.lotsize.str.contains('acre'))].str.replace(' acres','').str.replace(',','').str.replace(' acre','').astype(float)*43560.04"
   ]
  },
  {
   "cell_type": "code",
   "execution_count": 16,
   "metadata": {},
   "outputs": [],
   "source": [
    "#Remove all sq substrings and convert the values to float and fill na of sqft with values\n",
    "data.sqft[(data.sqft.isna()==True)&(data.lotsize.str.contains('sq'))]=data.lotsize[(data.sqft.isna()==True)&(data.lotsize.str.contains('sq'))].str.replace(' sq. ft.','').str.replace(',','').str.replace(' sqft','').astype(float)*43560.04"
   ]
  },
  {
   "cell_type": "markdown",
   "metadata": {},
   "source": [
    "## Price/sqft"
   ]
  },
  {
   "cell_type": "code",
   "execution_count": 17,
   "metadata": {},
   "outputs": [],
   "source": [
    "data['Price/sqft']=data['Price/sqft'].str.lower()"
   ]
  },
  {
   "cell_type": "code",
   "execution_count": 18,
   "metadata": {},
   "outputs": [],
   "source": [
    "data['Price/sqft']=data['Price/sqft'].str.replace('$',\"\").str.replace('/sqft','').str.replace(' / sq. ft.','').str.replace(',','')\n",
    "data['Price/sqft']=data['Price/sqft'].str.replace('no data','0').str.replace('no info','0').str.replace('contact manager','0')"
   ]
  },
  {
   "cell_type": "code",
   "execution_count": 19,
   "metadata": {},
   "outputs": [],
   "source": [
    "data['Price/sqft'].fillna(0,inplace=True)"
   ]
  },
  {
   "cell_type": "code",
   "execution_count": 20,
   "metadata": {},
   "outputs": [],
   "source": [
    "data['Price/sqft']=data['Price/sqft'].astype(int)"
   ]
  },
  {
   "cell_type": "code",
   "execution_count": 21,
   "metadata": {},
   "outputs": [],
   "source": [
    "data['Price/sqft'][(data['Price/sqft']==0)]=data['Price/sqft'][(data['Price/sqft']>0)].mean()"
   ]
  },
  {
   "cell_type": "markdown",
   "metadata": {},
   "source": [
    "### Price of the Property (target) "
   ]
  },
  {
   "cell_type": "code",
   "execution_count": 22,
   "metadata": {},
   "outputs": [
    {
     "data": {
      "text/plain": [
       "',o/m+$ -'"
      ]
     },
     "execution_count": 22,
     "metadata": {},
     "output_type": "execute_result"
    }
   ],
   "source": [
    "#find symbols that are not numbers to replace\n",
    "symbollist=data.target.str.findall(r'\\D').value_counts().reset_index()['index']\n",
    "s=list()\n",
    "for i in symbollist:\n",
    "    s=s+i\n",
    "s=list(set(s))\n",
    "s=''.join(s)\n",
    "s"
   ]
  },
  {
   "cell_type": "code",
   "execution_count": 23,
   "metadata": {},
   "outputs": [],
   "source": [
    "#Function that First remove \",\",\"+\",\"/mo\" from all string values then If the string value is a range - take the average\n",
    "#Function returns for strings it's numeric value\n",
    "def clean_currency(x):\n",
    "    \"\"\"replace redundent symbols\"\"\"\n",
    "    if isinstance(x, str):\n",
    "        x=x.replace('$','').replace(',','').replace('+','').replace('/mo','')\n",
    "      \n",
    "    #for values that appears as range take the average\n",
    "    if isinstance(x, str) and x.find(' - ')>0:\n",
    "        a=x.find(' - ')\n",
    "        return((float(x[:a])+float(x[a+3:]))/2)  \n",
    "    return(float(x))"
   ]
  },
  {
   "cell_type": "code",
   "execution_count": 24,
   "metadata": {},
   "outputs": [],
   "source": [
    "data['target'] = data['target'].apply(clean_currency)\n",
    "data=data.rename(columns={'target':'Price'})"
   ]
  },
  {
   "cell_type": "code",
   "execution_count": 25,
   "metadata": {},
   "outputs": [
    {
     "name": "stdout",
     "output_type": "stream",
     "text": [
      "<class 'pandas.core.frame.DataFrame'>\n",
      "RangeIndex: 377185 entries, 0 to 377184\n",
      "Data columns (total 21 columns):\n",
      " #   Column          Non-Null Count   Dtype  \n",
      "---  ------          --------------   -----  \n",
      " 0   status          337267 non-null  object \n",
      " 1   private pool    4181 non-null    object \n",
      " 2   baths           270847 non-null  object \n",
      " 3   homeFacts       377185 non-null  object \n",
      " 4   fireplace       103115 non-null  object \n",
      " 5   schools         377185 non-null  object \n",
      " 6   sqft            362944 non-null  object \n",
      " 7   beds            285903 non-null  object \n",
      " 8   state           377185 non-null  object \n",
      " 9   stories         226470 non-null  object \n",
      " 10  PrivatePool     40311 non-null   object \n",
      " 11  propertyType    342452 non-null  object \n",
      " 12  Price           374704 non-null  float64\n",
      " 13  Year built      314811 non-null  object \n",
      " 14  Remodeled year  151075 non-null  float64\n",
      " 15  Heating         267853 non-null  object \n",
      " 16  Cooling         253218 non-null  object \n",
      " 17  Parking         201765 non-null  object \n",
      " 18  lotsize         315730 non-null  object \n",
      " 19  Price/sqft      377185 non-null  float64\n",
      " 20  schRating       377185 non-null  int64  \n",
      "dtypes: float64(3), int64(1), object(17)\n",
      "memory usage: 60.4+ MB\n"
     ]
    }
   ],
   "source": [
    "data.info()"
   ]
  },
  {
   "cell_type": "markdown",
   "metadata": {},
   "source": [
    "## sqft"
   ]
  },
  {
   "cell_type": "code",
   "execution_count": 26,
   "metadata": {},
   "outputs": [],
   "source": [
    "#use Area data for filling NAs for sqft\n",
    "values=data['beds'][data.beds.str.contains('sqft')==True]\n",
    "valuesA=data['beds'][data.beds.str.contains('acres')==True]\n",
    "data['sqft'][data.beds.str.contains('sqft')==True]=values\n",
    "data['sqft'][data.beds.str.contains('acres')==True]=valuesA\n",
    "data[['beds','sqft']][(data.beds.str.contains('sqft|acres')==True)]\n",
    "data['beds'][data.beds.str.contains('sqft|arcres')==True]='None'"
   ]
  },
  {
   "cell_type": "code",
   "execution_count": 27,
   "metadata": {},
   "outputs": [],
   "source": [
    "data.sqft[data.sqft.str.contains(' sqft|,')==True]=data.sqft[data.sqft.str.contains(' sqft|,')==True].str.replace(' sqft','').str.replace(',','')\n",
    "data.sqft[data.sqft.str.contains('acre')==True]=data.sqft[data.sqft.str.contains('acre')==True].str.replace(' acres','').astype(float)*43560.04\n",
    "data.sqft[(data.sqft.str.contains('\\D')==True)&(data.sqft.isna()==False)]=data.sqft[(data.sqft.str.contains('\\D')==True)&(data.sqft.isna()==False)].str.replace('\\D','')\n"
   ]
  },
  {
   "cell_type": "code",
   "execution_count": 28,
   "metadata": {},
   "outputs": [],
   "source": [
    "#fill blank with 0 of non blank\n",
    "data.sqft[(data.sqft.isna()==False)&(data.sqft=='')]=0\n",
    "data.sqft[(data.sqft.isna()==False)]=data.sqft[(data.sqft.isna()==False)].astype(float)"
   ]
  },
  {
   "cell_type": "code",
   "execution_count": 29,
   "metadata": {},
   "outputs": [
    {
     "data": {
      "text/plain": [
       "(-82616057.984, 8261605899.308]       0.999983\n",
       "(8261605899.308, 16523211797.616]     0.000008\n",
       "(74354453085.772, 82616058984.08]     0.000003\n",
       "(24784817695.924, 33046423594.232]    0.000003\n",
       "(16523211797.616, 24784817695.924]    0.000003\n",
       "(66092847187.464, 74354453085.772]    0.000000\n",
       "(57831241289.156, 66092847187.464]    0.000000\n",
       "(49569635390.848, 57831241289.156]    0.000000\n",
       "(41308029492.54, 49569635390.848]     0.000000\n",
       "(33046423594.232, 41308029492.54]     0.000000\n",
       "Name: sqft, dtype: float64"
      ]
     },
     "execution_count": 29,
     "metadata": {},
     "output_type": "execute_result"
    }
   ],
   "source": [
    "data.sqft[data.sqft>0].value_counts(normalize=True,bins=10)"
   ]
  },
  {
   "cell_type": "code",
   "execution_count": 30,
   "metadata": {},
   "outputs": [],
   "source": [
    "#Group data according to property type and take the average area for each property type for NA\n",
    "Area=data[['sqft','propertyType']]\n",
    "Area['sqft']=Area['sqft'][Area.sqft.isna()==False].astype(float)\n",
    "Area=Area[Area.sqft.isna()==False].groupby(by='propertyType').mean().reset_index()\n",
    "Area.sqft=Area.sqft.round(decimals=0)\n",
    "data.sqft[data.sqft.isna()==True]=data[data.sqft.isna()==True].merge(Area, on='propertyType', how='left').sqft_y\n"
   ]
  },
  {
   "cell_type": "markdown",
   "metadata": {},
   "source": [
    "### Use Price, sqft and Price/sqft to fill na's"
   ]
  },
  {
   "cell_type": "code",
   "execution_count": 31,
   "metadata": {},
   "outputs": [],
   "source": [
    "#replace sqft nas with [Price]/[Price/sqft]\n",
    "data1=data[['Price/sqft','sqft','Price']][(data.sqft.isna()==True)&(data['Price/sqft'].isna()==False)&(data.Price.isna()==False)&(data['Price/sqft']!='none')]\n",
    "data1.sqft=data1.Price/data1['Price/sqft']\n",
    "data['sqft'].iloc[data1.index]=data1.sqft"
   ]
  },
  {
   "cell_type": "code",
   "execution_count": 32,
   "metadata": {},
   "outputs": [
    {
     "name": "stdout",
     "output_type": "stream",
     "text": [
      "<class 'pandas.core.frame.DataFrame'>\n",
      "RangeIndex: 377185 entries, 0 to 377184\n",
      "Data columns (total 21 columns):\n",
      " #   Column          Non-Null Count   Dtype  \n",
      "---  ------          --------------   -----  \n",
      " 0   status          337267 non-null  object \n",
      " 1   private pool    4181 non-null    object \n",
      " 2   baths           270847 non-null  object \n",
      " 3   homeFacts       377185 non-null  object \n",
      " 4   fireplace       103115 non-null  object \n",
      " 5   schools         377185 non-null  object \n",
      " 6   sqft            377065 non-null  object \n",
      " 7   beds            285903 non-null  object \n",
      " 8   state           377185 non-null  object \n",
      " 9   stories         226470 non-null  object \n",
      " 10  PrivatePool     40311 non-null   object \n",
      " 11  propertyType    342452 non-null  object \n",
      " 12  Price           377065 non-null  object \n",
      " 13  Year built      314811 non-null  object \n",
      " 14  Remodeled year  151075 non-null  float64\n",
      " 15  Heating         267853 non-null  object \n",
      " 16  Cooling         253218 non-null  object \n",
      " 17  Parking         201765 non-null  object \n",
      " 18  lotsize         315730 non-null  object \n",
      " 19  Price/sqft      377185 non-null  float64\n",
      " 20  schRating       377185 non-null  int64  \n",
      "dtypes: float64(2), int64(1), object(18)\n",
      "memory usage: 60.4+ MB\n"
     ]
    }
   ],
   "source": [
    "#replace Price nas with [sqft]*[Price/sqft]\n",
    "data1=data[['Price/sqft','sqft','Price']][((data.Price.isna()==True)&data.sqft.isna()==False)&(data['Price/sqft'].isna()==False)&(data['Price/sqft']!='none')]\n",
    "data1.Price=data1.sqft*data1['Price/sqft']\n",
    "data['Price'].iloc[data1.index]=data1.Price\n",
    "data.info()"
   ]
  },
  {
   "cell_type": "code",
   "execution_count": 33,
   "metadata": {},
   "outputs": [],
   "source": [
    "data.drop(['Price/sqft','lotsize'],axis=1,inplace=True)"
   ]
  },
  {
   "cell_type": "markdown",
   "metadata": {},
   "source": [
    "### Get rid of the rows where Price and sqft is NA and normalizing"
   ]
  },
  {
   "cell_type": "code",
   "execution_count": 34,
   "metadata": {},
   "outputs": [],
   "source": [
    "data.dropna(subset=['sqft'],axis=0,inplace=True)\n",
    "data.dropna(subset=['Price'],axis=0,inplace=True)"
   ]
  },
  {
   "cell_type": "code",
   "execution_count": 35,
   "metadata": {},
   "outputs": [],
   "source": [
    "data.sqft=data.sqft.astype(float)\n",
    "data.Price=data.Price.astype(float)"
   ]
  },
  {
   "cell_type": "code",
   "execution_count": 36,
   "metadata": {},
   "outputs": [
    {
     "data": {
      "text/plain": [
       "(-39511741630.596, 3951174163059.548]       0.999984\n",
       "(3951174163059.548, 7902348326119.096]      0.000008\n",
       "(35560567467535.93, 39511741630595.48]      0.000003\n",
       "(11853522489178.645, 15804696652238.191]    0.000003\n",
       "(7902348326119.096, 11853522489178.645]     0.000003\n",
       "(31609393304476.383, 35560567467535.93]     0.000000\n",
       "(27658219141416.836, 31609393304476.383]    0.000000\n",
       "(23707044978357.29, 27658219141416.836]     0.000000\n",
       "(19755870815297.74, 23707044978357.29]      0.000000\n",
       "(15804696652238.191, 19755870815297.74]     0.000000\n",
       "Name: Price, dtype: float64"
      ]
     },
     "execution_count": 36,
     "metadata": {},
     "output_type": "execute_result"
    }
   ],
   "source": [
    "#price distribution\n",
    "data.Price.value_counts(normalize=True,bins=10)"
   ]
  },
  {
   "cell_type": "code",
   "execution_count": 37,
   "metadata": {},
   "outputs": [
    {
     "data": {
      "text/plain": [
       "<matplotlib.axes._subplots.AxesSubplot at 0x1b80040a080>"
      ]
     },
     "execution_count": 37,
     "metadata": {},
     "output_type": "execute_result"
    },
    {
     "data": {
      "image/png": "[encoded data removed]",
      "text/plain": [
       "<Figure size 432x288 with 1 Axes>"
      ]
     },
     "metadata": {
      "needs_background": "light"
     },
     "output_type": "display_data"
    }
   ],
   "source": [
    "sns.distplot(np.log(data.Price[(data.Price >0)&(data.Price <=34500126672.528)]))"
   ]
  },
  {
   "cell_type": "code",
   "execution_count": 38,
   "metadata": {},
   "outputs": [],
   "source": [
    "#get rid of exceptions data\n",
    "data.drop(data.Price[(data.Price <=0)|(data.Price >34500126672.528)].index,axis=0,inplace=True)"
   ]
  },
  {
   "cell_type": "code",
   "execution_count": 39,
   "metadata": {},
   "outputs": [],
   "source": [
    "#normalizing Price\n",
    "data.Price=np.log(data.Price)"
   ]
  },
  {
   "cell_type": "code",
   "execution_count": 40,
   "metadata": {},
   "outputs": [
    {
     "data": {
      "text/plain": [
       "(-473933.234, 23696661.762]       0.997948\n",
       "(47393323.522, 71089985.282]      0.000732\n",
       "(23696661.762, 47393323.522]      0.000531\n",
       "(331753264.641, 355449926.401]    0.000085\n",
       "(260663279.361, 284359941.121]    0.000079\n",
       "(71089985.282, 94786647.042]      0.000071\n",
       "(284359941.121, 308056602.881]    0.000065\n",
       "(213269955.841, 236966617.601]    0.000065\n",
       "(379146588.16, 402843249.92]      0.000059\n",
       "(308056602.881, 331753264.641]    0.000057\n",
       "(355449926.401, 379146588.16]     0.000048\n",
       "(426539911.68, 450236573.44]      0.000037\n",
       "(189573294.081, 213269955.841]    0.000037\n",
       "(402843249.92, 426539911.68]      0.000037\n",
       "(450236573.44, 473933235.2]       0.000037\n",
       "(236966617.601, 260663279.361]    0.000028\n",
       "(142179970.561, 165876632.321]    0.000025\n",
       "(165876632.321, 189573294.081]    0.000020\n",
       "(118483308.802, 142179970.561]    0.000020\n",
       "(94786647.042, 118483308.802]     0.000020\n",
       "Name: sqft, dtype: float64"
      ]
     },
     "execution_count": 40,
     "metadata": {},
     "output_type": "execute_result"
    }
   ],
   "source": [
    "#sqft distribution\n",
    "data.sqft.value_counts(normalize=True,bins=20)"
   ]
  },
  {
   "cell_type": "code",
   "execution_count": 41,
   "metadata": {},
   "outputs": [
    {
     "data": {
      "text/plain": [
       "(-473933.234, 473933.237]         0.994231\n",
       "(473933.237, 947866.472]          0.001775\n",
       "(947866.472, 1421799.708]         0.000529\n",
       "(1421799.708, 1895732.943]        0.000379\n",
       "(1895732.943, 2369666.178]        0.000206\n",
       "                                    ...   \n",
       "(225118286.721, 225592219.956]    0.000000\n",
       "(224644353.486, 225118286.721]    0.000000\n",
       "(224170420.251, 224644353.486]    0.000000\n",
       "(223696487.016, 224170420.251]    0.000000\n",
       "(236492684.366, 236966617.601]    0.000000\n",
       "Name: sqft, Length: 1000, dtype: float64"
      ]
     },
     "execution_count": 41,
     "metadata": {},
     "output_type": "execute_result"
    }
   ],
   "source": [
    "data.sqft.value_counts(bins=1000,normalize=True)"
   ]
  },
  {
   "cell_type": "code",
   "execution_count": 42,
   "metadata": {},
   "outputs": [
    {
     "data": {
      "text/plain": [
       "<matplotlib.axes._subplots.AxesSubplot at 0x1b7c0514dd8>"
      ]
     },
     "execution_count": 42,
     "metadata": {},
     "output_type": "execute_result"
    },
    {
     "data": {
      "image/png": "[encoded data removed]",
      "text/plain": [
       "<Figure size 432x288 with 1 Axes>"
      ]
     },
     "metadata": {
      "needs_background": "light"
     },
     "output_type": "display_data"
    }
   ],
   "source": [
    "sns.distplot(np.log(data.sqft[(data.sqft >0)&(data.sqft <=47393323.522)]))"
   ]
  },
  {
   "cell_type": "code",
   "execution_count": 43,
   "metadata": {},
   "outputs": [],
   "source": [
    "#get rid of exceptions data\n",
    "data.sqft[(data.Price <=0)|(data.Price >=47393323.522)]=data.sqft[(data.Price >0)&(data.Price <=47393323.522)].mean()\n"
   ]
  },
  {
   "cell_type": "code",
   "execution_count": 44,
   "metadata": {},
   "outputs": [
    {
     "data": {
      "text/plain": [
       "<matplotlib.axes._subplots.AxesSubplot at 0x1b7c06104a8>"
      ]
     },
     "execution_count": 44,
     "metadata": {},
     "output_type": "execute_result"
    },
    {
     "data": {
      "image/png": "[encoded data removed]",
      "text/plain": [
       "<Figure size 432x288 with 1 Axes>"
      ]
     },
     "metadata": {
      "needs_background": "light"
     },
     "output_type": "display_data"
    }
   ],
   "source": [
    "#normalizing sqft\n",
    "data.sqft=np.log(data.sqft)\n",
    "sns.distplot(data.sqft)"
   ]
  },
  {
   "cell_type": "code",
   "execution_count": 45,
   "metadata": {},
   "outputs": [],
   "source": [
    "#data.to_csv('dataintermediate.csv',index=False)\n",
    "saveData(data)"
   ]
  },
  {
   "cell_type": "code",
   "execution_count": 46,
   "metadata": {},
   "outputs": [],
   "source": [
    "data=pd.read_csv('dataintermediate.csv')"
   ]
  },
  {
   "cell_type": "markdown",
   "metadata": {},
   "source": [
    "## Year built and remodeled"
   ]
  },
  {
   "cell_type": "code",
   "execution_count": 47,
   "metadata": {},
   "outputs": [
    {
     "name": "stdout",
     "output_type": "stream",
     "text": [
      "<class 'pandas.core.frame.DataFrame'>\n",
      "RangeIndex: 353793 entries, 0 to 353792\n",
      "Data columns (total 19 columns):\n",
      " #   Column          Non-Null Count   Dtype  \n",
      "---  ------          --------------   -----  \n",
      " 0   status          314341 non-null  object \n",
      " 1   private pool    4158 non-null    object \n",
      " 2   baths           264713 non-null  object \n",
      " 3   homeFacts       353793 non-null  object \n",
      " 4   fireplace       102439 non-null  object \n",
      " 5   schools         353793 non-null  object \n",
      " 6   sqft            353793 non-null  float64\n",
      " 7   beds            282307 non-null  object \n",
      " 8   state           353793 non-null  object \n",
      " 9   stories         224600 non-null  object \n",
      " 10  PrivatePool     40180 non-null   object \n",
      " 11  propertyType    322608 non-null  object \n",
      " 12  Price           353793 non-null  float64\n",
      " 13  Year built      310247 non-null  object \n",
      " 14  Remodeled year  150047 non-null  float64\n",
      " 15  Heating         263671 non-null  object \n",
      " 16  Cooling         250819 non-null  object \n",
      " 17  Parking         199611 non-null  object \n",
      " 18  schRating       353793 non-null  int64  \n",
      "dtypes: float64(3), int64(1), object(15)\n",
      "memory usage: 51.3+ MB\n"
     ]
    }
   ],
   "source": [
    "data=pd.read_csv('dataintermediate.csv')\n",
    "data.info()"
   ]
  },
  {
   "cell_type": "code",
   "execution_count": 48,
   "metadata": {},
   "outputs": [],
   "source": [
    "#put indexes of str and num values in to variables\n",
    "stri=data['Year built'][data['Year built'].str.contains('\\D')==True].index\n",
    "numi=data['Year built'][data['Year built'].str.contains('\\D')==False].index"
   ]
  },
  {
   "cell_type": "code",
   "execution_count": 49,
   "metadata": {},
   "outputs": [],
   "source": [
    "#replace exeptions where there is no sence (smaller than 0 or bigger than 2020) by No Data\n",
    "iyearexp=data['Year built'].iloc[numi].astype('int64')[(data['Year built'].iloc[numi].astype('int64')<0)|(data['Year built'].iloc[numi].astype('int64')>2020)].index\n",
    "data['Year built'].iloc[iyearexp]='No Data'\n",
    "numi=data['Year built'][data['Year built'].str.contains('\\D')==False].index\n",
    "stri=data['Year built'][data['Year built'].str.contains('\\D')==True].index"
   ]
  },
  {
   "cell_type": "code",
   "execution_count": 50,
   "metadata": {},
   "outputs": [
    {
     "data": {
      "image/png": "[encoded data removed]",
      "text/plain": [
       "<Figure size 432x288 with 1 Axes>"
      ]
     },
     "metadata": {
      "needs_background": "light"
     },
     "output_type": "display_data"
    }
   ],
   "source": [
    "#Check if there are more exeptions\n",
    "sns.boxplot(data['Year built'].iloc[numi].astype('int64'), color='yellow');"
   ]
  },
  {
   "cell_type": "code",
   "execution_count": 51,
   "metadata": {},
   "outputs": [],
   "source": [
    "#Drop more exeptions values that smaller than 1500 -> update number indexes value\n",
    "iyearexp=data['Year built'].iloc[numi].astype('int64')[(data['Year built'].iloc[numi].astype('int64')<1500)|(data['Year built'].iloc[numi].astype('int64')>2020)].index\n",
    "data['Year built'].iloc[iyearexp]='No Data'\n",
    "numi=data['Year built'][data['Year built'].str.contains('\\D')==False].index\n",
    "stri=data['Year built'][data['Year built'].str.contains('\\D')==True].index"
   ]
  },
  {
   "cell_type": "code",
   "execution_count": 52,
   "metadata": {},
   "outputs": [
    {
     "data": {
      "image/png": "[encoded data removed]",
      "text/plain": [
       "<Figure size 432x288 with 1 Axes>"
      ]
     },
     "metadata": {
      "needs_background": "light"
     },
     "output_type": "display_data"
    }
   ],
   "source": [
    "sns.boxplot(data['Year built'].iloc[numi].astype('int64'), color='yellow');"
   ]
  },
  {
   "cell_type": "code",
   "execution_count": 53,
   "metadata": {},
   "outputs": [],
   "source": [
    "#convert numeric data to integer\n",
    "data['Year built'].iloc[numi]=data['Year built'].iloc[numi].astype(int)"
   ]
  },
  {
   "cell_type": "code",
   "execution_count": 54,
   "metadata": {},
   "outputs": [
    {
     "data": {
      "text/plain": [
       "(1988.0, 2020.0]      0.470829\n",
       "(1956.0, 1988.0]      0.281677\n",
       "(1924.0, 1956.0]      0.168855\n",
       "(1892.0, 1924.0]      0.070955\n",
       "(1860.0, 1892.0]      0.006526\n",
       "(1828.0, 1860.0]      0.000841\n",
       "(1796.0, 1828.0]      0.000262\n",
       "(1764.0, 1796.0]      0.000032\n",
       "(1732.0, 1764.0]      0.000013\n",
       "(1699.679, 1732.0]    0.000010\n",
       "Name: Year built, dtype: float64"
      ]
     },
     "execution_count": 54,
     "metadata": {},
     "output_type": "execute_result"
    }
   ],
   "source": [
    "data['Year built'].iloc[numi].value_counts(normalize=True,bins=10)"
   ]
  },
  {
   "cell_type": "code",
   "execution_count": 55,
   "metadata": {},
   "outputs": [],
   "source": [
    "#replace string data to mean of numeric data\n",
    "data['Year built'].iloc[stri]=int(round(data['Year built'].iloc[numi].mean(),0))"
   ]
  },
  {
   "cell_type": "code",
   "execution_count": 56,
   "metadata": {},
   "outputs": [],
   "source": [
    "#fill nas with the mean of numeric values\n",
    "data['Year built'].fillna(int(round(data['Year built'].iloc[numi].mean(),0)),inplace=True)"
   ]
  },
  {
   "cell_type": "code",
   "execution_count": 57,
   "metadata": {},
   "outputs": [
    {
     "data": {
      "text/plain": [
       "count    353793.000000\n",
       "mean       1979.409525\n",
       "std          31.304869\n",
       "min        1700.000000\n",
       "25%        1961.000000\n",
       "50%        1979.000000\n",
       "75%        2005.000000\n",
       "max        2020.000000\n",
       "Name: Year built, dtype: float64"
      ]
     },
     "execution_count": 57,
     "metadata": {},
     "output_type": "execute_result"
    }
   ],
   "source": [
    "data['Year built'].describe()"
   ]
  },
  {
   "cell_type": "code",
   "execution_count": 58,
   "metadata": {},
   "outputs": [],
   "source": [
    "data['Remodeled year'].fillna(data['Remodeled year'].notnull().mean(),inplace=True)\n",
    "data['Remodeled year']=data['Remodeled year'].astype(int)"
   ]
  },
  {
   "cell_type": "markdown",
   "metadata": {},
   "source": [
    "### Status"
   ]
  },
  {
   "cell_type": "code",
   "execution_count": 59,
   "metadata": {},
   "outputs": [
    {
     "data": {
      "text/plain": [
       "for sale                   0.478989\n",
       "Active                     0.288212\n",
       "For sale                   0.136374\n",
       "foreclosure                0.020016\n",
       "New construction           0.017192\n",
       "                             ...   \n",
       "Conting Accpt Backups      0.000003\n",
       "Lease/Purchase             0.000003\n",
       "Pending W/Escape Clause    0.000003\n",
       "Under Contract W/ Bckp     0.000003\n",
       "Sold: $285,000             0.000003\n",
       "Name: status, Length: 155, dtype: float64"
      ]
     },
     "execution_count": 59,
     "metadata": {},
     "output_type": "execute_result"
    }
   ],
   "source": [
    "data.status.value_counts(normalize=True)"
   ]
  },
  {
   "cell_type": "code",
   "execution_count": 60,
   "metadata": {},
   "outputs": [],
   "source": [
    "data.status[data.status.str.contains('for sale|active|accepted')==True]=1"
   ]
  },
  {
   "cell_type": "code",
   "execution_count": 61,
   "metadata": {},
   "outputs": [],
   "source": [
    "data.status[data.status!=1]=0"
   ]
  },
  {
   "cell_type": "code",
   "execution_count": 62,
   "metadata": {},
   "outputs": [],
   "source": [
    "data.status=data.status.astype(int)"
   ]
  },
  {
   "cell_type": "markdown",
   "metadata": {},
   "source": [
    "### Private Pool"
   ]
  },
  {
   "cell_type": "code",
   "execution_count": 63,
   "metadata": {},
   "outputs": [],
   "source": [
    "data['PrivatePool']=data['PrivatePool'].str.lower()\n",
    "data['private pool']=data['private pool'].str.lower()"
   ]
  },
  {
   "cell_type": "code",
   "execution_count": 64,
   "metadata": {},
   "outputs": [],
   "source": [
    "# Replace 'yes' with 1 and unufy \"private pool\" and PrivatePool and replace NA with 0\n",
    "data[['private pool','PrivatePool']]=data[['private pool','PrivatePool']].replace(to_replace=['yes'],value=1)\n",
    "data['PrivatePool']=data['PrivatePool'].fillna(data['private pool'])\n",
    "data['PrivatePool']=data['PrivatePool'].fillna(0)\n",
    "data=data.drop(['private pool'],axis=1)"
   ]
  },
  {
   "cell_type": "code",
   "execution_count": 65,
   "metadata": {},
   "outputs": [
    {
     "data": {
      "text/plain": [
       "0    309455\n",
       "1     44338\n",
       "Name: PrivatePool, dtype: int64"
      ]
     },
     "execution_count": 65,
     "metadata": {},
     "output_type": "execute_result"
    }
   ],
   "source": [
    "data.PrivatePool=data.PrivatePool.astype(int)\n",
    "data.PrivatePool.value_counts()"
   ]
  },
  {
   "cell_type": "code",
   "execution_count": 66,
   "metadata": {},
   "outputs": [
    {
     "data": {
      "text/html": [
       "<div>\n",
       "<style scoped>\n",
       "    .dataframe tbody tr th:only-of-type {\n",
       "        vertical-align: middle;\n",
       "    }\n",
       "\n",
       "    .dataframe tbody tr th {\n",
       "        vertical-align: top;\n",
       "    }\n",
       "\n",
       "    .dataframe thead th {\n",
       "        text-align: right;\n",
       "    }\n",
       "</style>\n",
       "<table border=\"1\" class=\"dataframe\">\n",
       "  <thead>\n",
       "    <tr style=\"text-align: right;\">\n",
       "      <th></th>\n",
       "      <th>status</th>\n",
       "      <th>baths</th>\n",
       "      <th>homeFacts</th>\n",
       "      <th>fireplace</th>\n",
       "      <th>schools</th>\n",
       "      <th>sqft</th>\n",
       "      <th>beds</th>\n",
       "      <th>state</th>\n",
       "      <th>stories</th>\n",
       "      <th>PrivatePool</th>\n",
       "      <th>propertyType</th>\n",
       "      <th>Price</th>\n",
       "      <th>Year built</th>\n",
       "      <th>Remodeled year</th>\n",
       "      <th>Heating</th>\n",
       "      <th>Cooling</th>\n",
       "      <th>Parking</th>\n",
       "      <th>schRating</th>\n",
       "    </tr>\n",
       "  </thead>\n",
       "  <tbody>\n",
       "    <tr>\n",
       "      <th>0</th>\n",
       "      <td>0</td>\n",
       "      <td>3.5</td>\n",
       "      <td>[{'factValue': '2019', 'factLabel': 'Year buil...</td>\n",
       "      <td>Gas Logs</td>\n",
       "      <td>{'rating': ['4', '4', '7', 'NR', '4', '7', 'NR...</td>\n",
       "      <td>7.972466</td>\n",
       "      <td>4</td>\n",
       "      <td>NC</td>\n",
       "      <td>NaN</td>\n",
       "      <td>0</td>\n",
       "      <td>Single Family Home</td>\n",
       "      <td>12.942279</td>\n",
       "      <td>2019</td>\n",
       "      <td>0</td>\n",
       "      <td>Central A/C, Heat Pump</td>\n",
       "      <td>NaN</td>\n",
       "      <td>NaN</td>\n",
       "      <td>7</td>\n",
       "    </tr>\n",
       "    <tr>\n",
       "      <th>1</th>\n",
       "      <td>1</td>\n",
       "      <td>3 Baths</td>\n",
       "      <td>[{'factValue': '2019', 'factLabel': 'Year buil...</td>\n",
       "      <td>NaN</td>\n",
       "      <td>{'rating': ['4/10', 'None/10', '4/10'], 'data'...</td>\n",
       "      <td>7.574045</td>\n",
       "      <td>3 Beds</td>\n",
       "      <td>WA</td>\n",
       "      <td>2.0</td>\n",
       "      <td>0</td>\n",
       "      <td>single-family home</td>\n",
       "      <td>12.642949</td>\n",
       "      <td>2019</td>\n",
       "      <td>0</td>\n",
       "      <td>NaN</td>\n",
       "      <td>NaN</td>\n",
       "      <td>NaN</td>\n",
       "      <td>4</td>\n",
       "    </tr>\n",
       "    <tr>\n",
       "      <th>2</th>\n",
       "      <td>1</td>\n",
       "      <td>2 Baths</td>\n",
       "      <td>[{'factValue': '1961', 'factLabel': 'Year buil...</td>\n",
       "      <td>yes</td>\n",
       "      <td>{'rating': ['8/10', '4/10', '8/10'], 'data': {...</td>\n",
       "      <td>8.006368</td>\n",
       "      <td>3 Beds</td>\n",
       "      <td>CA</td>\n",
       "      <td>1.0</td>\n",
       "      <td>1</td>\n",
       "      <td>single-family home</td>\n",
       "      <td>14.878496</td>\n",
       "      <td>1961</td>\n",
       "      <td>1967</td>\n",
       "      <td>Forced Air</td>\n",
       "      <td>Central</td>\n",
       "      <td>Attached Garage</td>\n",
       "      <td>8</td>\n",
       "    </tr>\n",
       "    <tr>\n",
       "      <th>3</th>\n",
       "      <td>1</td>\n",
       "      <td>8 Baths</td>\n",
       "      <td>[{'factValue': '2006', 'factLabel': 'Year buil...</td>\n",
       "      <td>yes</td>\n",
       "      <td>{'rating': ['9/10', '9/10', '10/10', '9/10'], ...</td>\n",
       "      <td>8.772920</td>\n",
       "      <td>5 Beds</td>\n",
       "      <td>TX</td>\n",
       "      <td>3.0</td>\n",
       "      <td>0</td>\n",
       "      <td>single-family home</td>\n",
       "      <td>14.689122</td>\n",
       "      <td>2006</td>\n",
       "      <td>2006</td>\n",
       "      <td>Forced Air</td>\n",
       "      <td>Central</td>\n",
       "      <td>Detached Garage</td>\n",
       "      <td>10</td>\n",
       "    </tr>\n",
       "    <tr>\n",
       "      <th>4</th>\n",
       "      <td>1</td>\n",
       "      <td>NaN</td>\n",
       "      <td>[{'factValue': '1920', 'factLabel': 'Year buil...</td>\n",
       "      <td>NaN</td>\n",
       "      <td>{'rating': [], 'data': {'Distance': [], 'Grade...</td>\n",
       "      <td>6.799056</td>\n",
       "      <td>2 Beds</td>\n",
       "      <td>PA</td>\n",
       "      <td>2.0</td>\n",
       "      <td>0</td>\n",
       "      <td>townhouse</td>\n",
       "      <td>12.250094</td>\n",
       "      <td>1920</td>\n",
       "      <td>0</td>\n",
       "      <td>Forced Air</td>\n",
       "      <td>Central</td>\n",
       "      <td>NaN</td>\n",
       "      <td>0</td>\n",
       "    </tr>\n",
       "  </tbody>\n",
       "</table>\n",
       "</div>"
      ],
      "text/plain": [
       "   status    baths                                          homeFacts  \\\n",
       "0       0      3.5  [{'factValue': '2019', 'factLabel': 'Year buil...   \n",
       "1       1  3 Baths  [{'factValue': '2019', 'factLabel': 'Year buil...   \n",
       "2       1  2 Baths  [{'factValue': '1961', 'factLabel': 'Year buil...   \n",
       "3       1  8 Baths  [{'factValue': '2006', 'factLabel': 'Year buil...   \n",
       "4       1      NaN  [{'factValue': '1920', 'factLabel': 'Year buil...   \n",
       "\n",
       "  fireplace                                            schools      sqft  \\\n",
       "0  Gas Logs  {'rating': ['4', '4', '7', 'NR', '4', '7', 'NR...  7.972466   \n",
       "1       NaN  {'rating': ['4/10', 'None/10', '4/10'], 'data'...  7.574045   \n",
       "2       yes  {'rating': ['8/10', '4/10', '8/10'], 'data': {...  8.006368   \n",
       "3       yes  {'rating': ['9/10', '9/10', '10/10', '9/10'], ...  8.772920   \n",
       "4       NaN  {'rating': [], 'data': {'Distance': [], 'Grade...  6.799056   \n",
       "\n",
       "     beds state stories  PrivatePool        propertyType      Price  \\\n",
       "0       4    NC     NaN            0  Single Family Home  12.942279   \n",
       "1  3 Beds    WA     2.0            0  single-family home  12.642949   \n",
       "2  3 Beds    CA     1.0            1  single-family home  14.878496   \n",
       "3  5 Beds    TX     3.0            0  single-family home  14.689122   \n",
       "4  2 Beds    PA     2.0            0           townhouse  12.250094   \n",
       "\n",
       "   Year built  Remodeled year                 Heating  Cooling  \\\n",
       "0        2019               0  Central A/C, Heat Pump      NaN   \n",
       "1        2019               0                     NaN      NaN   \n",
       "2        1961            1967              Forced Air  Central   \n",
       "3        2006            2006              Forced Air  Central   \n",
       "4        1920               0              Forced Air  Central   \n",
       "\n",
       "           Parking  schRating  \n",
       "0              NaN          7  \n",
       "1              NaN          4  \n",
       "2  Attached Garage          8  \n",
       "3  Detached Garage         10  \n",
       "4              NaN          0  "
      ]
     },
     "execution_count": 66,
     "metadata": {},
     "output_type": "execute_result"
    }
   ],
   "source": [
    "data.head()"
   ]
  },
  {
   "cell_type": "markdown",
   "metadata": {},
   "source": [
    "### Bath"
   ]
  },
  {
   "cell_type": "code",
   "execution_count": 67,
   "metadata": {},
   "outputs": [
    {
     "name": "stdout",
     "output_type": "stream",
     "text": [
      "There are 34.0% missing values\n"
     ]
    }
   ],
   "source": [
    "data.baths=data.baths.str.lower()\n",
    "print(f'There are {round(data.baths.isna().sum()/data.baths.count()*100,0)}% missing values')"
   ]
  },
  {
   "cell_type": "code",
   "execution_count": 68,
   "metadata": {},
   "outputs": [],
   "source": [
    "#Leave cells with numbers only for Bath \n",
    "data['baths']=data.baths.str.findall(r'\\d').str[0]"
   ]
  },
  {
   "cell_type": "code",
   "execution_count": 69,
   "metadata": {},
   "outputs": [],
   "source": [
    "data['baths'][data.baths.isna()==False]=data['baths'][data.baths.isna()==False].astype(int)"
   ]
  },
  {
   "cell_type": "code",
   "execution_count": 70,
   "metadata": {},
   "outputs": [
    {
     "data": {
      "text/plain": [
       "2.0    0.452464\n",
       "3.0    0.275137\n",
       "4.0    0.105239\n",
       "1.0    0.096765\n",
       "5.0    0.037628\n",
       "6.0    0.016898\n",
       "7.0    0.009013\n",
       "8.0    0.004470\n",
       "9.0    0.002070\n",
       "0.0    0.000315\n",
       "Name: baths, dtype: float64"
      ]
     },
     "execution_count": 70,
     "metadata": {},
     "output_type": "execute_result"
    }
   ],
   "source": [
    "data.baths.value_counts(normalize=True)"
   ]
  },
  {
   "cell_type": "code",
   "execution_count": 71,
   "metadata": {},
   "outputs": [
    {
     "data": {
      "text/html": [
       "<div>\n",
       "<style scoped>\n",
       "    .dataframe tbody tr th:only-of-type {\n",
       "        vertical-align: middle;\n",
       "    }\n",
       "\n",
       "    .dataframe tbody tr th {\n",
       "        vertical-align: top;\n",
       "    }\n",
       "\n",
       "    .dataframe thead th {\n",
       "        text-align: right;\n",
       "    }\n",
       "</style>\n",
       "<table border=\"1\" class=\"dataframe\">\n",
       "  <thead>\n",
       "    <tr style=\"text-align: right;\">\n",
       "      <th></th>\n",
       "      <th>status</th>\n",
       "      <th>baths</th>\n",
       "      <th>homeFacts</th>\n",
       "      <th>fireplace</th>\n",
       "      <th>schools</th>\n",
       "      <th>sqft</th>\n",
       "      <th>beds</th>\n",
       "      <th>state</th>\n",
       "      <th>stories</th>\n",
       "      <th>PrivatePool</th>\n",
       "      <th>propertyType</th>\n",
       "      <th>Price</th>\n",
       "      <th>Year built</th>\n",
       "      <th>Remodeled year</th>\n",
       "      <th>Heating</th>\n",
       "      <th>Cooling</th>\n",
       "      <th>Parking</th>\n",
       "      <th>schRating</th>\n",
       "    </tr>\n",
       "  </thead>\n",
       "  <tbody>\n",
       "    <tr>\n",
       "      <th>0</th>\n",
       "      <td>0</td>\n",
       "      <td>3</td>\n",
       "      <td>[{'factValue': '2019', 'factLabel': 'Year buil...</td>\n",
       "      <td>Gas Logs</td>\n",
       "      <td>{'rating': ['4', '4', '7', 'NR', '4', '7', 'NR...</td>\n",
       "      <td>7.972466</td>\n",
       "      <td>4</td>\n",
       "      <td>NC</td>\n",
       "      <td>NaN</td>\n",
       "      <td>0</td>\n",
       "      <td>Single Family Home</td>\n",
       "      <td>12.942279</td>\n",
       "      <td>2019</td>\n",
       "      <td>0</td>\n",
       "      <td>Central A/C, Heat Pump</td>\n",
       "      <td>NaN</td>\n",
       "      <td>NaN</td>\n",
       "      <td>7</td>\n",
       "    </tr>\n",
       "    <tr>\n",
       "      <th>1</th>\n",
       "      <td>1</td>\n",
       "      <td>3</td>\n",
       "      <td>[{'factValue': '2019', 'factLabel': 'Year buil...</td>\n",
       "      <td>NaN</td>\n",
       "      <td>{'rating': ['4/10', 'None/10', '4/10'], 'data'...</td>\n",
       "      <td>7.574045</td>\n",
       "      <td>3 Beds</td>\n",
       "      <td>WA</td>\n",
       "      <td>2.0</td>\n",
       "      <td>0</td>\n",
       "      <td>single-family home</td>\n",
       "      <td>12.642949</td>\n",
       "      <td>2019</td>\n",
       "      <td>0</td>\n",
       "      <td>NaN</td>\n",
       "      <td>NaN</td>\n",
       "      <td>NaN</td>\n",
       "      <td>4</td>\n",
       "    </tr>\n",
       "    <tr>\n",
       "      <th>2</th>\n",
       "      <td>1</td>\n",
       "      <td>2</td>\n",
       "      <td>[{'factValue': '1961', 'factLabel': 'Year buil...</td>\n",
       "      <td>yes</td>\n",
       "      <td>{'rating': ['8/10', '4/10', '8/10'], 'data': {...</td>\n",
       "      <td>8.006368</td>\n",
       "      <td>3 Beds</td>\n",
       "      <td>CA</td>\n",
       "      <td>1.0</td>\n",
       "      <td>1</td>\n",
       "      <td>single-family home</td>\n",
       "      <td>14.878496</td>\n",
       "      <td>1961</td>\n",
       "      <td>1967</td>\n",
       "      <td>Forced Air</td>\n",
       "      <td>Central</td>\n",
       "      <td>Attached Garage</td>\n",
       "      <td>8</td>\n",
       "    </tr>\n",
       "    <tr>\n",
       "      <th>3</th>\n",
       "      <td>1</td>\n",
       "      <td>8</td>\n",
       "      <td>[{'factValue': '2006', 'factLabel': 'Year buil...</td>\n",
       "      <td>yes</td>\n",
       "      <td>{'rating': ['9/10', '9/10', '10/10', '9/10'], ...</td>\n",
       "      <td>8.772920</td>\n",
       "      <td>5 Beds</td>\n",
       "      <td>TX</td>\n",
       "      <td>3.0</td>\n",
       "      <td>0</td>\n",
       "      <td>single-family home</td>\n",
       "      <td>14.689122</td>\n",
       "      <td>2006</td>\n",
       "      <td>2006</td>\n",
       "      <td>Forced Air</td>\n",
       "      <td>Central</td>\n",
       "      <td>Detached Garage</td>\n",
       "      <td>10</td>\n",
       "    </tr>\n",
       "    <tr>\n",
       "      <th>4</th>\n",
       "      <td>1</td>\n",
       "      <td>3</td>\n",
       "      <td>[{'factValue': '1920', 'factLabel': 'Year buil...</td>\n",
       "      <td>NaN</td>\n",
       "      <td>{'rating': [], 'data': {'Distance': [], 'Grade...</td>\n",
       "      <td>6.799056</td>\n",
       "      <td>2 Beds</td>\n",
       "      <td>PA</td>\n",
       "      <td>2.0</td>\n",
       "      <td>0</td>\n",
       "      <td>townhouse</td>\n",
       "      <td>12.250094</td>\n",
       "      <td>1920</td>\n",
       "      <td>0</td>\n",
       "      <td>Forced Air</td>\n",
       "      <td>Central</td>\n",
       "      <td>NaN</td>\n",
       "      <td>0</td>\n",
       "    </tr>\n",
       "  </tbody>\n",
       "</table>\n",
       "</div>"
      ],
      "text/plain": [
       "   status baths                                          homeFacts fireplace  \\\n",
       "0       0     3  [{'factValue': '2019', 'factLabel': 'Year buil...  Gas Logs   \n",
       "1       1     3  [{'factValue': '2019', 'factLabel': 'Year buil...       NaN   \n",
       "2       1     2  [{'factValue': '1961', 'factLabel': 'Year buil...       yes   \n",
       "3       1     8  [{'factValue': '2006', 'factLabel': 'Year buil...       yes   \n",
       "4       1     3  [{'factValue': '1920', 'factLabel': 'Year buil...       NaN   \n",
       "\n",
       "                                             schools      sqft    beds state  \\\n",
       "0  {'rating': ['4', '4', '7', 'NR', '4', '7', 'NR...  7.972466       4    NC   \n",
       "1  {'rating': ['4/10', 'None/10', '4/10'], 'data'...  7.574045  3 Beds    WA   \n",
       "2  {'rating': ['8/10', '4/10', '8/10'], 'data': {...  8.006368  3 Beds    CA   \n",
       "3  {'rating': ['9/10', '9/10', '10/10', '9/10'], ...  8.772920  5 Beds    TX   \n",
       "4  {'rating': [], 'data': {'Distance': [], 'Grade...  6.799056  2 Beds    PA   \n",
       "\n",
       "  stories  PrivatePool        propertyType      Price  Year built  \\\n",
       "0     NaN            0  Single Family Home  12.942279        2019   \n",
       "1     2.0            0  single-family home  12.642949        2019   \n",
       "2     1.0            1  single-family home  14.878496        1961   \n",
       "3     3.0            0  single-family home  14.689122        2006   \n",
       "4     2.0            0           townhouse  12.250094        1920   \n",
       "\n",
       "   Remodeled year                 Heating  Cooling          Parking  schRating  \n",
       "0               0  Central A/C, Heat Pump      NaN              NaN          7  \n",
       "1               0                     NaN      NaN              NaN          4  \n",
       "2            1967              Forced Air  Central  Attached Garage          8  \n",
       "3            2006              Forced Air  Central  Detached Garage         10  \n",
       "4               0              Forced Air  Central              NaN          0  "
      ]
     },
     "execution_count": 71,
     "metadata": {},
     "output_type": "execute_result"
    }
   ],
   "source": [
    "#Group data according to property type and take the average bathrooms for each property type for NA\n",
    "Baths=data[['baths','propertyType']]\n",
    "Baths['baths']=Baths['baths'][Baths.baths.isna()==False].astype(int)\n",
    "Baths=Baths[Baths.baths.isna()==False].groupby(by='propertyType').mean().reset_index()\n",
    "Baths.baths=Baths.baths.round(decimals=0)\n",
    "data.baths[data.baths.isna()==True]=data[data.baths.isna()==True].merge(Baths, on='propertyType', how='left').baths_y\n",
    "data.head()"
   ]
  },
  {
   "cell_type": "code",
   "execution_count": 72,
   "metadata": {},
   "outputs": [
    {
     "name": "stdout",
     "output_type": "stream",
     "text": [
      "<class 'pandas.core.frame.DataFrame'>\n",
      "RangeIndex: 353793 entries, 0 to 353792\n",
      "Data columns (total 18 columns):\n",
      " #   Column          Non-Null Count   Dtype  \n",
      "---  ------          --------------   -----  \n",
      " 0   status          353793 non-null  int32  \n",
      " 1   baths           280806 non-null  object \n",
      " 2   homeFacts       353793 non-null  object \n",
      " 3   fireplace       102439 non-null  object \n",
      " 4   schools         353793 non-null  object \n",
      " 5   sqft            353793 non-null  float64\n",
      " 6   beds            282307 non-null  object \n",
      " 7   state           353793 non-null  object \n",
      " 8   stories         224600 non-null  object \n",
      " 9   PrivatePool     353793 non-null  int32  \n",
      " 10  propertyType    322608 non-null  object \n",
      " 11  Price           353793 non-null  float64\n",
      " 12  Year built      353793 non-null  int64  \n",
      " 13  Remodeled year  353793 non-null  int32  \n",
      " 14  Heating         263671 non-null  object \n",
      " 15  Cooling         250819 non-null  object \n",
      " 16  Parking         199611 non-null  object \n",
      " 17  schRating       353793 non-null  int64  \n",
      "dtypes: float64(2), int32(3), int64(2), object(11)\n",
      "memory usage: 44.5+ MB\n"
     ]
    }
   ],
   "source": [
    "#Group data according to bedrooms and take the average bathrooms for each bedroom number for NA\n",
    "BathsBeds=data[['baths','beds']]\n",
    "BathsBeds['baths']=BathsBeds['baths'][BathsBeds.baths.isna()==False].astype(int)\n",
    "BathsBeds=BathsBeds[BathsBeds.baths.isna()==False].groupby(by='beds').mean().reset_index()\n",
    "BathsBeds.baths=BathsBeds.baths.round(decimals=0)\n",
    "data.baths[data.baths.isna()==True]=data[data.baths.isna()==True].merge(BathsBeds, on='beds', how='left').baths_y\n",
    "data.info()\n"
   ]
  },
  {
   "cell_type": "code",
   "execution_count": 73,
   "metadata": {},
   "outputs": [
    {
     "data": {
      "text/plain": [
       "114        Bath\n",
       "923       Baths\n",
       "1290      Baths\n",
       "1401       Bath\n",
       "2126      Baths\n",
       "          ...  \n",
       "352961    Baths\n",
       "353116     Bath\n",
       "353120    Baths\n",
       "353278    Baths\n",
       "353394     Bath\n",
       "Name: beds, Length: 1204, dtype: object"
      ]
     },
     "execution_count": 73,
     "metadata": {},
     "output_type": "execute_result"
    }
   ],
   "source": [
    "#check if some values can be taken from beds column\n",
    "data['beds'][(data.beds.str.contains('Bath'))&(data.beds.isna()==False)&(data.baths.isna()==True)]"
   ]
  },
  {
   "cell_type": "code",
   "execution_count": 74,
   "metadata": {},
   "outputs": [],
   "source": [
    "#beds columns has values that contains baths, replace NA with 1 for bath and 2 for baths\n",
    "data['beds'][(data.beds=='Bath')&(data.beds.isna()==False)&(data.baths.isna()==True)]=1\n",
    "data['beds'][(data.beds=='Baths')&(data.beds.isna()==False)&(data.baths.isna()==True)]=2\n",
    "data['baths'][(data.beds.str.contains('Bath'))&(data.beds.isna()==False)&(data.baths.isna()==True)]=1"
   ]
  },
  {
   "cell_type": "code",
   "execution_count": 75,
   "metadata": {},
   "outputs": [
    {
     "name": "stdout",
     "output_type": "stream",
     "text": [
      "<class 'pandas.core.frame.DataFrame'>\n",
      "RangeIndex: 353793 entries, 0 to 353792\n",
      "Data columns (total 18 columns):\n",
      " #   Column          Non-Null Count   Dtype  \n",
      "---  ------          --------------   -----  \n",
      " 0   status          353793 non-null  int32  \n",
      " 1   baths           284751 non-null  object \n",
      " 2   homeFacts       353793 non-null  object \n",
      " 3   fireplace       102439 non-null  object \n",
      " 4   schools         353793 non-null  object \n",
      " 5   sqft            353793 non-null  float64\n",
      " 6   beds            282307 non-null  object \n",
      " 7   state           353793 non-null  object \n",
      " 8   stories         224600 non-null  object \n",
      " 9   PrivatePool     353793 non-null  int32  \n",
      " 10  propertyType    322608 non-null  object \n",
      " 11  Price           353793 non-null  float64\n",
      " 12  Year built      353793 non-null  int64  \n",
      " 13  Remodeled year  353793 non-null  int32  \n",
      " 14  Heating         263671 non-null  object \n",
      " 15  Cooling         250819 non-null  object \n",
      " 16  Parking         199611 non-null  object \n",
      " 17  schRating       353793 non-null  int64  \n",
      "dtypes: float64(2), int32(3), int64(2), object(11)\n",
      "memory usage: 44.5+ MB\n"
     ]
    }
   ],
   "source": [
    "#Group data according to sqft and take the average bathrooms for each area for NA\n",
    "BathsArea=data[['baths','sqft']]\n",
    "BathsArea['baths']=BathsArea['baths'][BathsArea.baths.isna()==False].astype(int)\n",
    "BathsArea=BathsArea[BathsArea.baths.isna()==False].groupby(by='sqft').mean().reset_index()\n",
    "BathsArea.baths=BathsArea.baths.round(decimals=0)\n",
    "data.baths[data.baths.isna()==True]=data[data.baths.isna()==True].merge(BathsArea, on='sqft', how='left').baths_y"
   ]
  },
  {
   "cell_type": "code",
   "execution_count": 76,
   "metadata": {},
   "outputs": [],
   "source": [
    "data.baths.fillna(1,inplace=True)\n",
    "data.baths=data.baths.astype(int)"
   ]
  },
  {
   "cell_type": "markdown",
   "metadata": {},
   "source": [
    "### Beds"
   ]
  },
  {
   "cell_type": "code",
   "execution_count": 78,
   "metadata": {},
   "outputs": [
    {
     "name": "stdout",
     "output_type": "stream",
     "text": [
      "There are 21.0% of missing values\n"
     ]
    }
   ],
   "source": [
    "data.beds=data.beds.str.lower()\n",
    "print(f'There are {round(data.beds.isna().sum()/data.baths.count()*100,0)}% of missing values')"
   ]
  },
  {
   "cell_type": "code",
   "execution_count": 79,
   "metadata": {},
   "outputs": [
    {
     "data": {
      "text/plain": [
       "3 beds         0.189795\n",
       "4 beds         0.125616\n",
       "3              0.110981\n",
       "2 beds         0.093564\n",
       "4              0.070835\n",
       "                 ...   \n",
       "33 beds        0.000004\n",
       "7.82 acres     0.000004\n",
       "23.72 acres    0.000004\n",
       "5.3 acres      0.000004\n",
       "10.32 acres    0.000004\n",
       "Name: beds, Length: 587, dtype: float64"
      ]
     },
     "execution_count": 79,
     "metadata": {},
     "output_type": "execute_result"
    }
   ],
   "source": [
    "data.beds.value_counts(normalize=True)"
   ]
  },
  {
   "cell_type": "code",
   "execution_count": 80,
   "metadata": {},
   "outputs": [
    {
     "data": {
      "text/plain": [
       "3.0           0.363398\n",
       "4.0           0.235644\n",
       "2.0           0.107752\n",
       "none          0.061665\n",
       "5.0           0.061526\n",
       "                ...   \n",
       "8.55 acres    0.000046\n",
       "26.5 acres    0.000046\n",
       "4.57 acres    0.000046\n",
       "3.48 acres    0.000046\n",
       "10.7 acres    0.000046\n",
       "Name: beds, Length: 473, dtype: float64"
      ]
     },
     "execution_count": 80,
     "metadata": {},
     "output_type": "execute_result"
    }
   ],
   "source": [
    "#leave numbers only for Beds\n",
    "data['beds']=data.beds.str.replace(' beds','').str.replace(' bd','')\n",
    "data['beds']=data.beds.str.replace('baths','2')\n",
    "data['beds']=data.beds.str.replace('bath','1')\n",
    "data.beds[(data.beds.str.contains('\\D')==True)&(data.beds.isna()==False)].value_counts(normalize=True)"
   ]
  },
  {
   "cell_type": "code",
   "execution_count": 81,
   "metadata": {},
   "outputs": [],
   "source": [
    "data['beds'][data.beds.str.contains('sqft|acres|acre| |--')==True]=0\n"
   ]
  },
  {
   "cell_type": "code",
   "execution_count": 82,
   "metadata": {},
   "outputs": [],
   "source": [
    "data['beds'][data.beds.str.contains('2 bedrooms')==True]=2\n",
    "data['beds'][data.beds.str.contains('3 or more bedrooms')==True]=3\n",
    "data['beds'][data.beds.str.contains('based on redfin|-')==True]=1"
   ]
  },
  {
   "cell_type": "code",
   "execution_count": 83,
   "metadata": {},
   "outputs": [],
   "source": [
    "data['beds']=data['beds'][(data.beds.isna()==False)&(data.beds!='none')].astype(float)"
   ]
  },
  {
   "cell_type": "code",
   "execution_count": 84,
   "metadata": {},
   "outputs": [],
   "source": [
    "#Group data according to property type and take the average area for each property type for NA\n",
    "Beds=data[['beds','propertyType']]\n",
    "Beds['beds']=Beds['beds'][(Beds.beds.isna()==False)&(Beds.beds!='none')].astype(float)\n",
    "Beds=Beds.groupby(by='propertyType').mean().reset_index()\n",
    "Beds.beds=Beds.beds.round(decimals=0)\n",
    "data=data.merge(Beds, on='propertyType', how='left')"
   ]
  },
  {
   "cell_type": "code",
   "execution_count": 85,
   "metadata": {},
   "outputs": [
    {
     "name": "stdout",
     "output_type": "stream",
     "text": [
      "<class 'pandas.core.frame.DataFrame'>\n",
      "Int64Index: 353793 entries, 0 to 353792\n",
      "Data columns (total 18 columns):\n",
      " #   Column          Non-Null Count   Dtype  \n",
      "---  ------          --------------   -----  \n",
      " 0   status          353793 non-null  int32  \n",
      " 1   baths           353793 non-null  int32  \n",
      " 2   homeFacts       353793 non-null  object \n",
      " 3   fireplace       102439 non-null  object \n",
      " 4   schools         353793 non-null  object \n",
      " 5   sqft            353793 non-null  float64\n",
      " 6   beds            353793 non-null  float64\n",
      " 7   state           353793 non-null  object \n",
      " 8   stories         224600 non-null  object \n",
      " 9   PrivatePool     353793 non-null  int32  \n",
      " 10  propertyType    322608 non-null  object \n",
      " 11  Price           353793 non-null  float64\n",
      " 12  Year built      353793 non-null  int64  \n",
      " 13  Remodeled year  353793 non-null  int32  \n",
      " 14  Heating         263671 non-null  object \n",
      " 15  Cooling         250819 non-null  object \n",
      " 16  Parking         199611 non-null  object \n",
      " 17  schRating       353793 non-null  int64  \n",
      "dtypes: float64(3), int32(4), int64(2), object(9)\n",
      "memory usage: 45.9+ MB\n"
     ]
    }
   ],
   "source": [
    "data['beds_x'].fillna(data.beds_y,inplace=True)\n",
    "data['beds_x'][data.beds_x=='none']=data.beds_y\n",
    "data.beds_x.fillna(data.beds_x.mean(),inplace=True)\n",
    "data.drop('beds_y',axis=1,inplace=True)\n",
    "data=data.rename(columns={'beds_x':'beds'})\n",
    "data.info()"
   ]
  },
  {
   "cell_type": "code",
   "execution_count": 86,
   "metadata": {},
   "outputs": [
    {
     "data": {
      "text/plain": [
       "(-0.145, 14.4]    0.999073\n",
       "(14.4, 28.8]      0.000681\n",
       "(57.6, 72.0]      0.000107\n",
       "(28.8, 43.2]      0.000088\n",
       "(43.2, 57.6]      0.000031\n",
       "(72.0, 86.4]      0.000011\n",
       "(86.4, 100.8]     0.000006\n",
       "(129.6, 144.0]    0.000003\n",
       "(115.2, 129.6]    0.000000\n",
       "(100.8, 115.2]    0.000000\n",
       "Name: beds, dtype: float64"
      ]
     },
     "execution_count": 86,
     "metadata": {},
     "output_type": "execute_result"
    }
   ],
   "source": [
    "data.beds.value_counts(normalize=True,bins=10)"
   ]
  },
  {
   "cell_type": "code",
   "execution_count": 87,
   "metadata": {},
   "outputs": [],
   "source": [
    "data=data.drop(data.beds[data.beds>15].index)"
   ]
  },
  {
   "cell_type": "code",
   "execution_count": 88,
   "metadata": {},
   "outputs": [
    {
     "name": "stdout",
     "output_type": "stream",
     "text": [
      "<class 'pandas.core.frame.DataFrame'>\n",
      "Int64Index: 353498 entries, 0 to 353792\n",
      "Data columns (total 18 columns):\n",
      " #   Column          Non-Null Count   Dtype  \n",
      "---  ------          --------------   -----  \n",
      " 0   status          353498 non-null  int32  \n",
      " 1   baths           353498 non-null  int32  \n",
      " 2   homeFacts       353498 non-null  object \n",
      " 3   fireplace       102408 non-null  object \n",
      " 4   schools         353498 non-null  object \n",
      " 5   sqft            353498 non-null  float64\n",
      " 6   beds            353498 non-null  float64\n",
      " 7   state           353498 non-null  object \n",
      " 8   stories         224465 non-null  object \n",
      " 9   PrivatePool     353498 non-null  int32  \n",
      " 10  propertyType    322313 non-null  object \n",
      " 11  Price           353498 non-null  float64\n",
      " 12  Year built      353498 non-null  int64  \n",
      " 13  Remodeled year  353498 non-null  int32  \n",
      " 14  Heating         263500 non-null  object \n",
      " 15  Cooling         250681 non-null  object \n",
      " 16  Parking         199449 non-null  object \n",
      " 17  schRating       353498 non-null  int64  \n",
      "dtypes: float64(3), int32(4), int64(2), object(9)\n",
      "memory usage: 45.8+ MB\n"
     ]
    }
   ],
   "source": [
    "data.info()"
   ]
  },
  {
   "cell_type": "markdown",
   "metadata": {},
   "source": [
    "### Create feature baths per bedroom"
   ]
  },
  {
   "cell_type": "code",
   "execution_count": 89,
   "metadata": {},
   "outputs": [],
   "source": [
    "data['baths'][data['baths']<1]=1\n",
    "data['beds'][data['beds']<1]=1\n",
    "data['baths/bed']=data['beds']/data['baths']"
   ]
  },
  {
   "cell_type": "code",
   "execution_count": 90,
   "metadata": {},
   "outputs": [],
   "source": [
    "#data.to_csv('dataintermediate.csv',index=False)\n",
    "saveData(data)"
   ]
  },
  {
   "cell_type": "markdown",
   "metadata": {},
   "source": [
    "### Fireplace"
   ]
  },
  {
   "cell_type": "code",
   "execution_count": 91,
   "metadata": {},
   "outputs": [
    {
     "name": "stdout",
     "output_type": "stream",
     "text": [
      "<class 'pandas.core.frame.DataFrame'>\n",
      "RangeIndex: 353498 entries, 0 to 353497\n",
      "Data columns (total 19 columns):\n",
      " #   Column          Non-Null Count   Dtype  \n",
      "---  ------          --------------   -----  \n",
      " 0   status          353498 non-null  int64  \n",
      " 1   baths           353498 non-null  int64  \n",
      " 2   homeFacts       353498 non-null  object \n",
      " 3   fireplace       102408 non-null  object \n",
      " 4   schools         353498 non-null  object \n",
      " 5   sqft            353498 non-null  float64\n",
      " 6   beds            353498 non-null  float64\n",
      " 7   state           353498 non-null  object \n",
      " 8   stories         224465 non-null  object \n",
      " 9   PrivatePool     353498 non-null  int64  \n",
      " 10  propertyType    322313 non-null  object \n",
      " 11  Price           353498 non-null  float64\n",
      " 12  Year built      353498 non-null  int64  \n",
      " 13  Remodeled year  353498 non-null  int64  \n",
      " 14  Heating         263500 non-null  object \n",
      " 15  Cooling         250681 non-null  object \n",
      " 16  Parking         199449 non-null  object \n",
      " 17  schRating       353498 non-null  int64  \n",
      " 18  baths/bed       353498 non-null  float64\n",
      "dtypes: float64(4), int64(6), object(9)\n",
      "memory usage: 51.2+ MB\n"
     ]
    }
   ],
   "source": [
    "data=pd.read_csv('dataintermediate.csv')\n",
    "data.info()"
   ]
  },
  {
   "cell_type": "code",
   "execution_count": 92,
   "metadata": {},
   "outputs": [],
   "source": [
    "data['fireplace']=data['fireplace'].str.lower()\n",
    "data.fireplace[data.fireplace.str.contains('fire|yes|gas|burning|stove|frplc')==True]=1\n",
    "data.fireplace[data.fireplace.str.contains('no|0 ')==True]=0\n",
    "data.fireplace[(data.fireplace.str.contains('\\d')==True)&(data.fireplace.str.contains('0')==False)]=1\n",
    "data.fireplace[data.fireplace!=1]=0"
   ]
  },
  {
   "cell_type": "code",
   "execution_count": 93,
   "metadata": {},
   "outputs": [
    {
     "name": "stdout",
     "output_type": "stream",
     "text": [
      "<class 'pandas.core.frame.DataFrame'>\n",
      "RangeIndex: 353498 entries, 0 to 353497\n",
      "Data columns (total 19 columns):\n",
      " #   Column          Non-Null Count   Dtype  \n",
      "---  ------          --------------   -----  \n",
      " 0   status          353498 non-null  int64  \n",
      " 1   baths           353498 non-null  int64  \n",
      " 2   homeFacts       353498 non-null  object \n",
      " 3   fireplace       353498 non-null  int32  \n",
      " 4   schools         353498 non-null  object \n",
      " 5   sqft            353498 non-null  float64\n",
      " 6   beds            353498 non-null  float64\n",
      " 7   state           353498 non-null  object \n",
      " 8   stories         224465 non-null  object \n",
      " 9   PrivatePool     353498 non-null  int64  \n",
      " 10  propertyType    322313 non-null  object \n",
      " 11  Price           353498 non-null  float64\n",
      " 12  Year built      353498 non-null  int64  \n",
      " 13  Remodeled year  353498 non-null  int64  \n",
      " 14  Heating         263500 non-null  object \n",
      " 15  Cooling         250681 non-null  object \n",
      " 16  Parking         199449 non-null  object \n",
      " 17  schRating       353498 non-null  int64  \n",
      " 18  baths/bed       353498 non-null  float64\n",
      "dtypes: float64(4), int32(1), int64(6), object(8)\n",
      "memory usage: 49.9+ MB\n"
     ]
    }
   ],
   "source": [
    "data.fireplace=data.fireplace.astype(int)\n",
    "data.info()"
   ]
  },
  {
   "cell_type": "markdown",
   "metadata": {},
   "source": [
    "### Stories"
   ]
  },
  {
   "cell_type": "code",
   "execution_count": 94,
   "metadata": {},
   "outputs": [],
   "source": [
    "data.stories=data.stories.str.lower()"
   ]
  },
  {
   "cell_type": "code",
   "execution_count": 95,
   "metadata": {},
   "outputs": [
    {
     "data": {
      "text/plain": [
       "one                   5751\n",
       "two                   2487\n",
       "three or more          567\n",
       "one story              394\n",
       "townhouse              325\n",
       "                      ... \n",
       "hillside                 1\n",
       "two, three or more       1\n",
       "multi/split, two         1\n",
       "patio home               1\n",
       "log home                 1\n",
       "Name: stories, Length: 91, dtype: int64"
      ]
     },
     "execution_count": 95,
     "metadata": {},
     "output_type": "execute_result"
    }
   ],
   "source": [
    "data['st1']=data.stories.str.findall(r'\\d').str[0]\n",
    "data.stories[(data.st1.isna()==True)&(data.stories.isna()==False)].value_counts()"
   ]
  },
  {
   "cell_type": "code",
   "execution_count": 96,
   "metadata": {},
   "outputs": [],
   "source": [
    "data.stories[data.stories.str.contains('one')==True]=1\n",
    "data.stories[data.stories.str.contains('two')==True]=2"
   ]
  },
  {
   "cell_type": "code",
   "execution_count": 97,
   "metadata": {},
   "outputs": [],
   "source": [
    "data.stories=data['st1'][(data.st1.isna()==False)&(data.stories.isna()==False)]"
   ]
  },
  {
   "cell_type": "code",
   "execution_count": 98,
   "metadata": {},
   "outputs": [],
   "source": [
    "data.drop('st1',axis=1,inplace=True)\n",
    "data.dropna(subset=['stories'],axis=0,inplace=True)"
   ]
  },
  {
   "cell_type": "code",
   "execution_count": 99,
   "metadata": {},
   "outputs": [],
   "source": [
    "data.stories=data.stories.astype(int)"
   ]
  },
  {
   "cell_type": "code",
   "execution_count": 100,
   "metadata": {},
   "outputs": [],
   "source": [
    "data['stories'][data.stories<2]=1\n",
    "data['stories'][data.stories>1]=2"
   ]
  },
  {
   "cell_type": "code",
   "execution_count": 101,
   "metadata": {},
   "outputs": [
    {
     "data": {
      "text/plain": [
       "1    107080\n",
       "2    105958\n",
       "Name: stories, dtype: int64"
      ]
     },
     "execution_count": 101,
     "metadata": {},
     "output_type": "execute_result"
    }
   ],
   "source": [
    "data.stories.value_counts()"
   ]
  },
  {
   "cell_type": "code",
   "execution_count": 102,
   "metadata": {},
   "outputs": [],
   "source": [
    "saveData(data)"
   ]
  },
  {
   "cell_type": "markdown",
   "metadata": {},
   "source": [
    "### Parking"
   ]
  },
  {
   "cell_type": "code",
   "execution_count": 103,
   "metadata": {},
   "outputs": [
    {
     "data": {
      "text/plain": [
       "Attached Garage                                                                                      55637\n",
       "2 spaces                                                                                             24462\n",
       "1 space                                                                                              11388\n",
       "No Data                                                                                               9630\n",
       "Detached Garage                                                                                       8946\n",
       "                                                                                                     ...  \n",
       "Attached Garage, Back Load Garage, Driveway, Garage - 3 Car, Garage Door Opener, Keypad Entry            1\n",
       "Attached, Facing Side, Garage Door Opener, Guest Parking Avail, RV Attached, Uncov Prkng Spc (2+)        1\n",
       "Gravel Driveway, Concrete Driveway                                                                       1\n",
       "Boat, Circular Driveway, Driveway, Garage Door Opener, Garage Faces Side, Oversized                      1\n",
       "Enclosed Garage                                                                                          1\n",
       "Name: Parking, Length: 2729, dtype: int64"
      ]
     },
     "execution_count": 103,
     "metadata": {},
     "output_type": "execute_result"
    }
   ],
   "source": [
    "data=pd.read_csv('dataintermediate.csv')\n",
    "data.Parking.value_counts()"
   ]
  },
  {
   "cell_type": "code",
   "execution_count": 104,
   "metadata": {},
   "outputs": [],
   "source": [
    "data.Parking[data.Parking.notnull()==True]=data.Parking[data.Parking.notnull()==True].str.lower()\n",
    "data.Parking[(data.Parking.notnull()==True)&(data.Parking.str.contains('no')==True)]=0\n",
    "data.Parking[(data.Parking.notnull()==True)]=1\n"
   ]
  },
  {
   "cell_type": "code",
   "execution_count": 105,
   "metadata": {},
   "outputs": [
    {
     "data": {
      "text/plain": [
       "0         0\n",
       "1         1\n",
       "2         1\n",
       "3         0\n",
       "4         1\n",
       "         ..\n",
       "213033    1\n",
       "213034    1\n",
       "213035    1\n",
       "213036    1\n",
       "213037    1\n",
       "Name: Parking, Length: 213038, dtype: int32"
      ]
     },
     "execution_count": 105,
     "metadata": {},
     "output_type": "execute_result"
    }
   ],
   "source": [
    "data.Parking.fillna(0,inplace=True)\n",
    "data.Parking.astype(int)"
   ]
  },
  {
   "cell_type": "markdown",
   "metadata": {},
   "source": [
    "## Density per state- additional data"
   ]
  },
  {
   "cell_type": "code",
   "execution_count": 106,
   "metadata": {},
   "outputs": [],
   "source": [
    "url = 'https://www.census.gov/data/tables/2010/dec/density-data-text.html'  "
   ]
  },
  {
   "cell_type": "code",
   "execution_count": 107,
   "metadata": {},
   "outputs": [],
   "source": [
    "pd.read_html(url)[0].to_csv('density2010.csv',index=False)\n",
    "density=pd.read_csv('density2010.csv')"
   ]
  },
  {
   "cell_type": "code",
   "execution_count": 108,
   "metadata": {},
   "outputs": [
    {
     "data": {
      "text/html": [
       "<div>\n",
       "<style scoped>\n",
       "    .dataframe tbody tr th:only-of-type {\n",
       "        vertical-align: middle;\n",
       "    }\n",
       "\n",
       "    .dataframe tbody tr th {\n",
       "        vertical-align: top;\n",
       "    }\n",
       "\n",
       "    .dataframe thead th {\n",
       "        text-align: right;\n",
       "    }\n",
       "</style>\n",
       "<table border=\"1\" class=\"dataframe\">\n",
       "  <thead>\n",
       "    <tr style=\"text-align: right;\">\n",
       "      <th></th>\n",
       "      <th>statefull</th>\n",
       "      <th>density</th>\n",
       "    </tr>\n",
       "  </thead>\n",
       "  <tbody>\n",
       "    <tr>\n",
       "      <th>0</th>\n",
       "      <td>Alabama</td>\n",
       "      <td>94.4</td>\n",
       "    </tr>\n",
       "    <tr>\n",
       "      <th>1</th>\n",
       "      <td>Alaska</td>\n",
       "      <td>1.2</td>\n",
       "    </tr>\n",
       "    <tr>\n",
       "      <th>2</th>\n",
       "      <td>Arizona</td>\n",
       "      <td>56.3</td>\n",
       "    </tr>\n",
       "    <tr>\n",
       "      <th>3</th>\n",
       "      <td>Arkansas</td>\n",
       "      <td>56.0</td>\n",
       "    </tr>\n",
       "    <tr>\n",
       "      <th>4</th>\n",
       "      <td>California</td>\n",
       "      <td>239.1</td>\n",
       "    </tr>\n",
       "  </tbody>\n",
       "</table>\n",
       "</div>"
      ],
      "text/plain": [
       "    statefull density\n",
       "0     Alabama    94.4\n",
       "1      Alaska     1.2\n",
       "2     Arizona    56.3\n",
       "3    Arkansas    56.0\n",
       "4  California   239.1"
      ]
     },
     "execution_count": 108,
     "metadata": {},
     "output_type": "execute_result"
    }
   ],
   "source": [
    "density2010=pd.DataFrame(density.iloc[3::4]['2010'].values,columns=['statefull'])\n",
    "density2010['density']=density.iloc[5::4]['2010'].values\n",
    "density2010.head()"
   ]
  },
  {
   "cell_type": "code",
   "execution_count": 109,
   "metadata": {},
   "outputs": [
    {
     "data": {
      "text/html": [
       "<div>\n",
       "<style scoped>\n",
       "    .dataframe tbody tr th:only-of-type {\n",
       "        vertical-align: middle;\n",
       "    }\n",
       "\n",
       "    .dataframe tbody tr th {\n",
       "        vertical-align: top;\n",
       "    }\n",
       "\n",
       "    .dataframe thead th {\n",
       "        text-align: right;\n",
       "    }\n",
       "</style>\n",
       "<table border=\"1\" class=\"dataframe\">\n",
       "  <thead>\n",
       "    <tr style=\"text-align: right;\">\n",
       "      <th></th>\n",
       "      <th>Codes:  ISO ISO 3166 codes (2-letter, 3-letter, and 3-digit codes from ISO 3166-1; 2+2-letter codes from ISO 3166-2)  ANSI 2-letter and 2-digit codes from the ANSI standard INCITS 38:2009 (supersedes FIPS 5-2)  USPS 2-letter codes used by the United States Postal Service  USCG 2-letter codes used by the United States Coast Guard (bold red text shows differences between ANSI and USCG) Abbreviations:  GPO Older variable-length official US Government Printing Office abbreviations  AP Abbreviations from the AP Stylebook (bold red text shows differences between GPO and AP)</th>\n",
       "      <th>Codes:  ISO ISO 3166 codes (2-letter, 3-letter, and 3-digit codes from ISO 3166-1; 2+2-letter codes from ISO 3166-2)  ANSI 2-letter and 2-digit codes from the ANSI standard INCITS 38:2009 (supersedes FIPS 5-2)  USPS 2-letter codes used by the United States Postal Service  USCG 2-letter codes used by the United States Coast Guard (bold red text shows differences between ANSI and USCG) Abbreviations:  GPO Older variable-length official US Government Printing Office abbreviations  AP Abbreviations from the AP Stylebook (bold red text shows differences between GPO and AP).3</th>\n",
       "    </tr>\n",
       "  </thead>\n",
       "  <tbody>\n",
       "    <tr>\n",
       "      <th>0</th>\n",
       "      <td>Alabama</td>\n",
       "      <td>AL</td>\n",
       "    </tr>\n",
       "    <tr>\n",
       "      <th>1</th>\n",
       "      <td>Alaska</td>\n",
       "      <td>AK</td>\n",
       "    </tr>\n",
       "    <tr>\n",
       "      <th>2</th>\n",
       "      <td>Arizona</td>\n",
       "      <td>AZ</td>\n",
       "    </tr>\n",
       "    <tr>\n",
       "      <th>3</th>\n",
       "      <td>Arkansas</td>\n",
       "      <td>AR</td>\n",
       "    </tr>\n",
       "    <tr>\n",
       "      <th>4</th>\n",
       "      <td>California</td>\n",
       "      <td>CA</td>\n",
       "    </tr>\n",
       "  </tbody>\n",
       "</table>\n",
       "</div>"
      ],
      "text/plain": [
       "  Codes:  ISO ISO 3166 codes (2-letter, 3-letter, and 3-digit codes from ISO 3166-1; 2+2-letter codes from ISO 3166-2)  ANSI 2-letter and 2-digit codes from the ANSI standard INCITS 38:2009 (supersedes FIPS 5-2)  USPS 2-letter codes used by the United States Postal Service  USCG 2-letter codes used by the United States Coast Guard (bold red text shows differences between ANSI and USCG) Abbreviations:  GPO Older variable-length official US Government Printing Office abbreviations  AP Abbreviations from the AP Stylebook (bold red text shows differences between GPO and AP)  \\\n",
       "0                                            Alabama                                                                                                                                                                                                                                                                                                                                                                                                                                                                                                                                               \n",
       "1                                             Alaska                                                                                                                                                                                                                                                                                                                                                                                                                                                                                                                                               \n",
       "2                                            Arizona                                                                                                                                                                                                                                                                                                                                                                                                                                                                                                                                               \n",
       "3                                           Arkansas                                                                                                                                                                                                                                                                                                                                                                                                                                                                                                                                               \n",
       "4                                         California                                                                                                                                                                                                                                                                                                                                                                                                                                                                                                                                               \n",
       "\n",
       "  Codes:  ISO ISO 3166 codes (2-letter, 3-letter, and 3-digit codes from ISO 3166-1; 2+2-letter codes from ISO 3166-2)  ANSI 2-letter and 2-digit codes from the ANSI standard INCITS 38:2009 (supersedes FIPS 5-2)  USPS 2-letter codes used by the United States Postal Service  USCG 2-letter codes used by the United States Coast Guard (bold red text shows differences between ANSI and USCG) Abbreviations:  GPO Older variable-length official US Government Printing Office abbreviations  AP Abbreviations from the AP Stylebook (bold red text shows differences between GPO and AP).3  \n",
       "0                                                 AL                                                                                                                                                                                                                                                                                                                                                                                                                                                                                                                                                \n",
       "1                                                 AK                                                                                                                                                                                                                                                                                                                                                                                                                                                                                                                                                \n",
       "2                                                 AZ                                                                                                                                                                                                                                                                                                                                                                                                                                                                                                                                                \n",
       "3                                                 AR                                                                                                                                                                                                                                                                                                                                                                                                                                                                                                                                                \n",
       "4                                                 CA                                                                                                                                                                                                                                                                                                                                                                                                                                                                                                                                                "
      ]
     },
     "execution_count": 109,
     "metadata": {},
     "output_type": "execute_result"
    }
   ],
   "source": [
    "url1 = 'https://en.wikipedia.org/wiki/List_of_U.S._state_and_territory_abbreviations'  \n",
    "pd.read_html(url1)[0].iloc[11:,[0,3]].dropna().to_csv('abrv.csv',index=False)\n",
    "stateabrv=pd.read_csv('abrv.csv')\n",
    "stateabrv.head()"
   ]
  },
  {
   "cell_type": "code",
   "execution_count": 110,
   "metadata": {},
   "outputs": [],
   "source": [
    "stateabrv.columns=['statefull','state']"
   ]
  },
  {
   "cell_type": "code",
   "execution_count": 111,
   "metadata": {},
   "outputs": [
    {
     "data": {
      "text/html": [
       "<div>\n",
       "<style scoped>\n",
       "    .dataframe tbody tr th:only-of-type {\n",
       "        vertical-align: middle;\n",
       "    }\n",
       "\n",
       "    .dataframe tbody tr th {\n",
       "        vertical-align: top;\n",
       "    }\n",
       "\n",
       "    .dataframe thead th {\n",
       "        text-align: right;\n",
       "    }\n",
       "</style>\n",
       "<table border=\"1\" class=\"dataframe\">\n",
       "  <thead>\n",
       "    <tr style=\"text-align: right;\">\n",
       "      <th></th>\n",
       "      <th>statefull</th>\n",
       "      <th>density</th>\n",
       "      <th>state</th>\n",
       "    </tr>\n",
       "  </thead>\n",
       "  <tbody>\n",
       "    <tr>\n",
       "      <th>0</th>\n",
       "      <td>Alabama</td>\n",
       "      <td>94.4</td>\n",
       "      <td>AL</td>\n",
       "    </tr>\n",
       "    <tr>\n",
       "      <th>1</th>\n",
       "      <td>Alaska</td>\n",
       "      <td>1.2</td>\n",
       "      <td>AK</td>\n",
       "    </tr>\n",
       "    <tr>\n",
       "      <th>2</th>\n",
       "      <td>Arizona</td>\n",
       "      <td>56.3</td>\n",
       "      <td>AZ</td>\n",
       "    </tr>\n",
       "    <tr>\n",
       "      <th>3</th>\n",
       "      <td>Arkansas</td>\n",
       "      <td>56.0</td>\n",
       "      <td>AR</td>\n",
       "    </tr>\n",
       "    <tr>\n",
       "      <th>4</th>\n",
       "      <td>California</td>\n",
       "      <td>239.1</td>\n",
       "      <td>CA</td>\n",
       "    </tr>\n",
       "  </tbody>\n",
       "</table>\n",
       "</div>"
      ],
      "text/plain": [
       "    statefull density state\n",
       "0     Alabama    94.4    AL\n",
       "1      Alaska     1.2    AK\n",
       "2     Arizona    56.3    AZ\n",
       "3    Arkansas    56.0    AR\n",
       "4  California   239.1    CA"
      ]
     },
     "execution_count": 111,
     "metadata": {},
     "output_type": "execute_result"
    }
   ],
   "source": [
    "density2010=density2010.merge(stateabrv, on='statefull', how='left')\n",
    "density2010.head()"
   ]
  },
  {
   "cell_type": "code",
   "execution_count": 112,
   "metadata": {},
   "outputs": [],
   "source": [
    "data.state=data.state.astype(str)"
   ]
  },
  {
   "cell_type": "code",
   "execution_count": 113,
   "metadata": {},
   "outputs": [
    {
     "data": {
      "text/plain": [
       "0         WA\n",
       "1         CA\n",
       "2         TX\n",
       "3         PA\n",
       "4         TX\n",
       "          ..\n",
       "213033    DC\n",
       "213034    FL\n",
       "213035    IL\n",
       "213036    NY\n",
       "213037    TX\n",
       "Name: state, Length: 213038, dtype: object"
      ]
     },
     "execution_count": 113,
     "metadata": {},
     "output_type": "execute_result"
    }
   ],
   "source": [
    "data.state"
   ]
  },
  {
   "cell_type": "code",
   "execution_count": 114,
   "metadata": {},
   "outputs": [],
   "source": [
    "data=data.merge(density2010, on='state', how='left')"
   ]
  },
  {
   "cell_type": "code",
   "execution_count": 115,
   "metadata": {},
   "outputs": [],
   "source": [
    "data.density=data.density.astype(float)"
   ]
  },
  {
   "cell_type": "markdown",
   "metadata": {},
   "source": [
    "## Features table"
   ]
  },
  {
   "cell_type": "code",
   "execution_count": 116,
   "metadata": {},
   "outputs": [],
   "source": [
    "Features=data[['stories','fireplace','sqft','PrivatePool','Year built','Remodeled year','baths/bed','Parking','schRating','density','status']]\n",
    "target=data.Price"
   ]
  },
  {
   "cell_type": "code",
   "execution_count": 117,
   "metadata": {},
   "outputs": [
    {
     "name": "stdout",
     "output_type": "stream",
     "text": [
      "<class 'pandas.core.frame.DataFrame'>\n",
      "Int64Index: 213038 entries, 0 to 213037\n",
      "Data columns (total 11 columns):\n",
      " #   Column          Non-Null Count   Dtype  \n",
      "---  ------          --------------   -----  \n",
      " 0   stories         213038 non-null  int64  \n",
      " 1   fireplace       213038 non-null  int64  \n",
      " 2   sqft            213038 non-null  float64\n",
      " 3   PrivatePool     213038 non-null  int64  \n",
      " 4   Year built      213038 non-null  int64  \n",
      " 5   Remodeled year  213038 non-null  int64  \n",
      " 6   baths/bed       213038 non-null  float64\n",
      " 7   Parking         213038 non-null  int64  \n",
      " 8   schRating       213038 non-null  int64  \n",
      " 9   density         213038 non-null  float64\n",
      " 10  status          213038 non-null  int64  \n",
      "dtypes: float64(3), int64(8)\n",
      "memory usage: 19.5 MB\n"
     ]
    }
   ],
   "source": [
    "Features.info()"
   ]
  },
  {
   "cell_type": "code",
   "execution_count": 118,
   "metadata": {},
   "outputs": [
    {
     "data": {
      "text/plain": [
       "<matplotlib.axes._subplots.AxesSubplot at 0x1b7bec27dd8>"
      ]
     },
     "execution_count": 118,
     "metadata": {},
     "output_type": "execute_result"
    },
    {
     "data": {
      "image/png": "[encoded data removed]",
      "text/plain": [
       "<Figure size 432x288 with 2 Axes>"
      ]
     },
     "metadata": {
      "needs_background": "light"
     },
     "output_type": "display_data"
    }
   ],
   "source": [
    "sns.heatmap(Features.corr(), annot=True, cmap='coolwarm')\n",
    "#most of the variables have low correlation"
   ]
  },
  {
   "cell_type": "markdown",
   "metadata": {},
   "source": [
    "# Model"
   ]
  },
  {
   "cell_type": "code",
   "execution_count": 119,
   "metadata": {},
   "outputs": [],
   "source": [
    "import numpy as np\n",
    "from sklearn.metrics import mean_absolute_error,mean_squared_error\n",
    "from sklearn.linear_model import LinearRegression\n",
    "from sklearn.ensemble import GradientBoostingRegressor,RandomForestRegressor,AdaBoostRegressor\n",
    "from sklearn.model_selection import train_test_split,KFold\n",
    "from sklearn.preprocessing import StandardScaler\n",
    "from sklearn.tree import DecisionTreeRegressor\n",
    "from tqdm import tqdm\n",
    "from sklearn.base import clone\n"
   ]
  },
  {
   "cell_type": "code",
   "execution_count": 120,
   "metadata": {},
   "outputs": [],
   "source": [
    "scaler = StandardScaler()\n",
    "FeaturesSt=scaler.fit_transform(Features)"
   ]
  },
  {
   "cell_type": "code",
   "execution_count": 121,
   "metadata": {},
   "outputs": [
    {
     "name": "stdout",
     "output_type": "stream",
     "text": [
      "X_train: (106519, 11)\n",
      "X_test: (106519, 11)\n",
      "y_train: (106519,)\n",
      "y_test: (106519,)\n"
     ]
    }
   ],
   "source": [
    "X_train, X_test, y_train, y_test = train_test_split(FeaturesSt, target, test_size=0.5)\n",
    "print('X_train:', X_train.shape)\n",
    "print('X_test:', X_test.shape)\n",
    "print('y_train:', y_train.shape)\n",
    "print('y_test:', y_test.shape)"
   ]
  },
  {
   "cell_type": "code",
   "execution_count": 122,
   "metadata": {},
   "outputs": [],
   "source": [
    "def compute_meta_feature(regr, X_train, X_test, y_train, cv):\n",
    "    \"\"\"\n",
    "    Computes meta-features using the regressor.\n",
    "    \n",
    "    :arg regr: scikit-learn regressor\n",
    "    :args X_train, y_train: training set\n",
    "    :arg X_test: testing set\n",
    "    :arg cv: cross-validation folding\n",
    "    \"\"\"\n",
    "    X_meta_train = np.zeros_like(y_train, dtype=np.float32)\n",
    "    for train_fold_index, predict_fold_index in cv.split(X_train):\n",
    "        X_fold_train, X_fold_predict = X_train[train_fold_index], X_train[predict_fold_index]\n",
    "        y_fold_train = y_train[train_fold_index]\n",
    "        \n",
    "        folded_r = clone(regr)\n",
    "        folded_r.fit(X_fold_train, y_fold_train)\n",
    "        X_meta_train[predict_fold_index] = folded_r.predict(X_fold_predict)\n",
    "    \n",
    "    meta_r = clone(regr)\n",
    "    meta_r.fit(X_train, y_train)\n",
    "    \n",
    "    X_meta_test = meta_r.predict(X_test)\n",
    "    \n",
    "    return X_meta_train, X_meta_test"
   ]
  },
  {
   "cell_type": "code",
   "execution_count": 123,
   "metadata": {},
   "outputs": [],
   "source": [
    "def generate_metafeatures(regrs, X_train, X_test, y_train, cv):\n",
    "    \"\"\"\n",
    "    Generates metafeatures using a list of regressors.\n",
    "    \n",
    "    :arg regrs: list of scikit-learn regressors\n",
    "    :args X_train, y_train: training set\n",
    "    :arg X_test: testing set\n",
    "    :arg cv: cross-validation folding\n",
    "    \"\"\"\n",
    "    features = [\n",
    "        compute_meta_feature(regr, X_train, X_test, y_train, cv)\n",
    "        for regr in tqdm(regrs)\n",
    "    ]\n",
    "    \n",
    "    stacked_features_train = np.vstack([\n",
    "        features_train for features_train, features_test in features\n",
    "    ]).T\n",
    "\n",
    "    stacked_features_test = np.vstack([\n",
    "        features_test for features_train, features_test in features\n",
    "    ]).T\n",
    "    \n",
    "    return stacked_features_train, stacked_features_test"
   ]
  },
  {
   "cell_type": "code",
   "execution_count": 124,
   "metadata": {},
   "outputs": [],
   "source": [
    "LR =  LinearRegression()\n",
    "DTR = DecisionTreeRegressor(max_depth=30)\n",
    "ABR = AdaBoostRegressor(LR, learning_rate=0.8)\n",
    "RFR = RandomForestRegressor(max_depth=30)\n",
    "GBR = GradientBoostingRegressor(n_estimators=200, learning_rate=0.3)"
   ]
  },
  {
   "cell_type": "code",
   "execution_count": 125,
   "metadata": {},
   "outputs": [
    {
     "name": "stderr",
     "output_type": "stream",
     "text": [
      "100%|████████████████████████████████████████| 4/4 [1:39:23<00:00, 1424.99s/it]\n"
     ]
    }
   ],
   "source": [
    "cv = KFold(n_splits=100, shuffle=True)\n",
    "stacked_features_train, stacked_features_test = generate_metafeatures([DTR,ABR,RFR,GBR],X_train, X_test, y_train.values, cv)"
   ]
  },
  {
   "cell_type": "code",
   "execution_count": 126,
   "metadata": {},
   "outputs": [],
   "source": [
    "total_features_train = np.hstack([X_train, stacked_features_train])\n",
    "total_features_test = np.hstack([X_test, stacked_features_test])"
   ]
  },
  {
   "cell_type": "code",
   "execution_count": 127,
   "metadata": {},
   "outputs": [],
   "source": [
    "predictor = LinearRegression()\n",
    "predictor.fit(total_features_train, y_train)\n",
    "y_pred=predictor.predict(total_features_test)"
   ]
  },
  {
   "cell_type": "code",
   "execution_count": 128,
   "metadata": {},
   "outputs": [
    {
     "name": "stdout",
     "output_type": "stream",
     "text": [
      "R^2 GB: 0.7385, MAE GB: 0.35, RSME: 0.52\n"
     ]
    }
   ],
   "source": [
    "mae=mean_absolute_error(y_test,y_pred)\n",
    "mse=mean_squared_error(y_test,y_pred)\n",
    "print(f'R^2 GB: {round(predictor.score(total_features_test,y_test),4)}, MAE GB: {round(mae,2)}, RSME: {round(np.sqrt(mse),2)}')"
   ]
  },
  {
   "cell_type": "markdown",
   "metadata": {},
   "source": [
    "During my work the score has inceased from 0.1 at the beginning to what I have now. This is not the best score and probably additional work is required for data and ML. \n",
    "- add more features the distance from center based on street and additional data of central street in each city, heating, cooling \n",
    "- optimize parameters for basic algorithms\n",
    "- increase the NA treatments\n",
    "- increase exceptions treatment\n",
    "- code refactoring and style improvement\n",
    "- Prepare the models to Production\n",
    "\n",
    "But this is scheduled for the next sprint :)\n"
   ]
  },
  {
   "cell_type": "code",
   "execution_count": null,
   "metadata": {},
   "outputs": [],
   "source": []
  }
 ],
 "metadata": {
  "celltoolbar": "Raw Cell Format",
  "kernelspec": {
   "display_name": "Python 3",
   "language": "python",
   "name": "python3"
  },
  "language_info": {
   "codemirror_mode": {
    "name": "ipython",
    "version": 3
   },
   "file_extension": ".py",
   "mimetype": "text/x-python",
   "name": "python",
   "nbconvert_exporter": "python",
   "pygments_lexer": "ipython3",
   "version": "3.7.3"
  }
 },
 "nbformat": 4,
 "nbformat_minor": 4
}
