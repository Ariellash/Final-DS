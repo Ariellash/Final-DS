{
 "cells": [
  {
   "cell_type": "markdown",
   "metadata": {},
   "source": [
    "# Import packages"
   ]
  },
  {
   "cell_type": "code",
   "execution_count": 1,
   "metadata": {},
   "outputs": [],
   "source": [
    "import pandas as pd\n",
    "import numpy as np\n",
    "import matplotlib.pyplot as plt\n",
    "import seaborn as sns\n",
    "%matplotlib inline\n",
    "import warnings; warnings.simplefilter('ignore')\n",
    "import ast\n",
    "import re\n",
    "from timeit import default_timer as timer\n",
    "import random\n",
    "import numpy as np"
   ]
  },
  {
   "cell_type": "markdown",
   "metadata": {},
   "source": [
    "# Functions"
   ]
  },
  {
   "cell_type": "code",
   "execution_count": 2,
   "metadata": {},
   "outputs": [],
   "source": [
    "#Function that writes to csv\n",
    "def save_data(x):\n",
    "    x.to_csv('ready_data.csv', index=False)"
   ]
  },
  {
   "cell_type": "markdown",
   "metadata": {},
   "source": [
    "# Data preparation"
   ]
  },
  {
   "cell_type": "markdown",
   "metadata": {},
   "source": [
    "### Read Data and select columns for Model"
   ]
  },
  {
   "cell_type": "code",
   "execution_count": 3,
   "metadata": {},
   "outputs": [
    {
     "name": "stdout",
     "output_type": "stream",
     "text": [
      "<class 'pandas.core.frame.DataFrame'>\n",
      "RangeIndex: 377185 entries, 0 to 377184\n",
      "Data columns (total 18 columns):\n",
      " #   Column        Non-Null Count   Dtype \n",
      "---  ------        --------------   ----- \n",
      " 0   status        337267 non-null  object\n",
      " 1   private pool  4181 non-null    object\n",
      " 2   propertyType  342452 non-null  object\n",
      " 3   street        377183 non-null  object\n",
      " 4   baths         270847 non-null  object\n",
      " 5   homeFacts     377185 non-null  object\n",
      " 6   fireplace     103115 non-null  object\n",
      " 7   city          377151 non-null  object\n",
      " 8   schools       377185 non-null  object\n",
      " 9   sqft          336608 non-null  object\n",
      " 10  zipcode       377185 non-null  object\n",
      " 11  beds          285903 non-null  object\n",
      " 12  state         377185 non-null  object\n",
      " 13  stories       226470 non-null  object\n",
      " 14  mls-id        24942 non-null   object\n",
      " 15  PrivatePool   40311 non-null   object\n",
      " 16  MlsId         310305 non-null  object\n",
      " 17  target        374704 non-null  object\n",
      "dtypes: object(18)\n",
      "memory usage: 51.8+ MB\n"
     ]
    }
   ],
   "source": [
    "df = pd.read_csv('data.csv')\n",
    "df.info()"
   ]
  },
  {
   "cell_type": "markdown",
   "metadata": {},
   "source": [
    "#### If to drop all NAs from data frame then there will be an empty table. So some work is required per each column separately"
   ]
  },
  {
   "cell_type": "code",
   "execution_count": 4,
   "metadata": {},
   "outputs": [],
   "source": [
    "#First I will use most commonsence properties that might influence the property Price\n",
    "data = df[['status', 'private pool', 'baths',\n",
    "           'homeFacts', 'fireplace', 'schools',\n",
    "           'sqft', 'beds', 'state', 'stories',\n",
    "           'PrivatePool', 'propertyType', 'target']]"
   ]
  },
  {
   "cell_type": "markdown",
   "metadata": {},
   "source": [
    "### Property type"
   ]
  },
  {
   "cell_type": "code",
   "execution_count": 5,
   "metadata": {},
   "outputs": [],
   "source": [
    "data.propertyType = data.propertyType.fillna('0')\n",
    "data.propertyType = data.propertyType.str.lower()"
   ]
  },
  {
   "cell_type": "code",
   "execution_count": 6,
   "metadata": {},
   "outputs": [],
   "source": [
    "data.propertyType[data.propertyType.str.contains('single')] = '1'\n",
    "data.propertyType[data.propertyType.str.contains('condo')] = '2'\n",
    "data.propertyType[data.propertyType.str.contains('land')] = '3'\n",
    "data.propertyType[data.propertyType.str.contains('townhouse')] = '4'\n",
    "data.propertyType[data.propertyType.str.contains('multi')] = '5'\n",
    "data.propertyType[data.propertyType.str.contains('traditional')] = '6'\n",
    "data.propertyType[data.propertyType.str.contains('coop')] = '7'\n",
    "data.propertyType[data.propertyType.str.contains('\\D')] = '8'"
   ]
  },
  {
   "cell_type": "code",
   "execution_count": 7,
   "metadata": {},
   "outputs": [
    {
     "data": {
      "text/plain": [
       "Series([], Name: propertyType, dtype: float64)"
      ]
     },
     "execution_count": 7,
     "metadata": {},
     "output_type": "execute_result"
    }
   ],
   "source": [
    "data.propertyType[data.propertyType.str.contains('\\D')].value_counts(normalize=True)"
   ]
  },
  {
   "cell_type": "code",
   "execution_count": 8,
   "metadata": {},
   "outputs": [
    {
     "data": {
      "text/plain": [
       "1    0.504917\n",
       "2    0.135809\n",
       "0    0.092085\n",
       "3    0.083497\n",
       "8    0.071180\n",
       "4    0.049238\n",
       "5    0.033175\n",
       "6    0.020022\n",
       "7    0.010077\n",
       "Name: propertyType, dtype: float64"
      ]
     },
     "execution_count": 8,
     "metadata": {},
     "output_type": "execute_result"
    }
   ],
   "source": [
    "data.propertyType.value_counts(normalize=True)"
   ]
  },
  {
   "cell_type": "code",
   "execution_count": 9,
   "metadata": {},
   "outputs": [],
   "source": [
    "data.propertyType = data.propertyType.astype(int)"
   ]
  },
  {
   "cell_type": "markdown",
   "metadata": {},
   "source": [
    "### Price of the Property (target) "
   ]
  },
  {
   "cell_type": "code",
   "execution_count": 10,
   "metadata": {},
   "outputs": [],
   "source": [
    "data.target.fillna(0, inplace=True)"
   ]
  },
  {
   "cell_type": "code",
   "execution_count": 11,
   "metadata": {},
   "outputs": [
    {
     "data": {
      "text/plain": [
       "0           $418,000\n",
       "1           $310,000\n",
       "2         $2,895,000\n",
       "3         $2,395,000\n",
       "4             $5,000\n",
       "             ...    \n",
       "377180    $1,249,000\n",
       "377181      $674,999\n",
       "377182      $528,000\n",
       "377183       $34,500\n",
       "377184      $204,900\n",
       "Name: target, Length: 377185, dtype: object"
      ]
     },
     "execution_count": 11,
     "metadata": {},
     "output_type": "execute_result"
    }
   ],
   "source": [
    "data.target"
   ]
  },
  {
   "cell_type": "code",
   "execution_count": 12,
   "metadata": {},
   "outputs": [
    {
     "name": "stdout",
     "output_type": "stream",
     "text": [
      "Next symbols are to be replaced $ -+,o/m\n"
     ]
    }
   ],
   "source": [
    "#find symbols that are not numbers to replace\n",
    "symbollist = data.target.str.findall(r'\\D').value_counts().reset_index()['index']\n",
    "s = list()\n",
    "for i in symbollist:\n",
    "    s = s + i\n",
    "s = list(set(s))\n",
    "s = ''.join(s)\n",
    "print(f'Next symbols are to be replaced {s}')"
   ]
  },
  {
   "cell_type": "code",
   "execution_count": 13,
   "metadata": {},
   "outputs": [],
   "source": [
    "#Function that First remove \",\",\"+\",\"/mo\" from all string values then If the string value is a range - take the average\n",
    "#Function returns for strings it's numeric value\n",
    "def clean_currency(x):\n",
    "    \"\"\"replace redundent symbols\"\"\"\n",
    "    if isinstance(x, str):\n",
    "        x = x.replace('$', '').replace(',', '').replace('+', '').replace('/mo', '')\n",
    "      \n",
    "    #for values that appears as range take the average\n",
    "    if isinstance(x, str) and x.find(' - ') > 0:\n",
    "        a = x.find(' - ')\n",
    "        return((float(x[:a]) + float(x[a + 3:]))/2)  \n",
    "    return(float(x))"
   ]
  },
  {
   "cell_type": "code",
   "execution_count": 14,
   "metadata": {},
   "outputs": [],
   "source": [
    "data['target'] = data['target'].apply(clean_currency)\n",
    "data = data.rename(columns={'target':'Price'})"
   ]
  },
  {
   "cell_type": "code",
   "execution_count": 15,
   "metadata": {},
   "outputs": [],
   "source": [
    "data.Price = data.Price.astype(float)"
   ]
  },
  {
   "cell_type": "code",
   "execution_count": 16,
   "metadata": {},
   "outputs": [
    {
     "name": "stdout",
     "output_type": "stream",
     "text": [
      "There is 0.66% of missing values in Price\n"
     ]
    }
   ],
   "source": [
    "print(f'There is {round(data.Price[data.Price == 0].count() / len(data.Price) * 100, 2)}% of missing values in Price')"
   ]
  },
  {
   "cell_type": "markdown",
   "metadata": {},
   "source": [
    "## Before dropping I will try to reduce the amount on NAs by other columns"
   ]
  },
  {
   "cell_type": "markdown",
   "metadata": {},
   "source": [
    "## HomeFacts"
   ]
  },
  {
   "cell_type": "code",
   "execution_count": 17,
   "metadata": {},
   "outputs": [],
   "source": [
    "data['homeFacts'] = data['homeFacts'].apply(lambda x: ast.literal_eval(x)['atAGlanceFacts'])"
   ]
  },
  {
   "cell_type": "code",
   "execution_count": 18,
   "metadata": {},
   "outputs": [
    {
     "data": {
      "text/plain": [
       "['Year built',\n",
       " 'Remodeled year',\n",
       " 'Heating',\n",
       " 'Cooling',\n",
       " 'Parking',\n",
       " 'lotsize',\n",
       " 'Price/sqft']"
      ]
     },
     "execution_count": 18,
     "metadata": {},
     "output_type": "execute_result"
    }
   ],
   "source": [
    "#Get Labels for df columns\n",
    "\n",
    "def getdata(x):\n",
    "    labels = list()\n",
    "    for i in x:\n",
    "        labels.append(i['factLabel'])\n",
    "    return labels\n",
    "\n",
    "labels = getdata(data.homeFacts[1])\n",
    "labels"
   ]
  },
  {
   "cell_type": "code",
   "execution_count": 19,
   "metadata": {},
   "outputs": [],
   "source": [
    "#Convert dictionaries per row to appropriate columns in df and extract all the values\n",
    "for l in labels:\n",
    "    data[l] = data['homeFacts'].apply(lambda x: x[labels.index(l)]['factValue']) "
   ]
  },
  {
   "cell_type": "code",
   "execution_count": 20,
   "metadata": {},
   "outputs": [],
   "source": [
    "save_data(data)"
   ]
  },
  {
   "cell_type": "markdown",
   "metadata": {},
   "source": [
    "### Lotsize"
   ]
  },
  {
   "cell_type": "code",
   "execution_count": 21,
   "metadata": {},
   "outputs": [],
   "source": [
    "data = pd.read_csv('ready_data.csv')"
   ]
  },
  {
   "cell_type": "code",
   "execution_count": 22,
   "metadata": {},
   "outputs": [
    {
     "data": {
      "text/plain": [
       "'1.73 acres'"
      ]
     },
     "execution_count": 22,
     "metadata": {},
     "output_type": "execute_result"
    }
   ],
   "source": [
    "data.lotsize.iloc[10]"
   ]
  },
  {
   "cell_type": "code",
   "execution_count": 23,
   "metadata": {},
   "outputs": [],
   "source": [
    "# change strings to lower case and fill NAs and blanks with 0\n",
    "data.lotsize = data.lotsize.str.lower().str.strip()\n",
    "data.lotsize.fillna('0',inplace = True)"
   ]
  },
  {
   "cell_type": "code",
   "execution_count": 24,
   "metadata": {},
   "outputs": [],
   "source": [
    "#create 2 lists of indexes , for values that contains \"acre\" and \"sq\" substrings\n",
    "sq_index = data.lotsize[data.lotsize.str.contains('sq') == True].index\n",
    "acre_index = data.lotsize[data.lotsize.str.contains('acre') == True].index"
   ]
  },
  {
   "cell_type": "code",
   "execution_count": 25,
   "metadata": {},
   "outputs": [],
   "source": [
    "#Remove all literals from values that contain \"sq\"\n",
    "data.lotsize.iloc[sq_index]=data.lotsize.iloc[sq_index].str.replace(r'\\D','')"
   ]
  },
  {
   "cell_type": "code",
   "execution_count": 26,
   "metadata": {},
   "outputs": [],
   "source": [
    "#Remove all literals from values that contain \"acre\" convert to float and convert to sqft\n",
    "data.lotsize.iloc[acre_index] = round(data.lotsize.iloc[acre_index].str.replace('[a-z, ]','').astype(float) * 43560.04, 0)"
   ]
  },
  {
   "cell_type": "code",
   "execution_count": 27,
   "metadata": {},
   "outputs": [],
   "source": [
    "#Take care of other literals too and blank values\n",
    "other_index=data.lotsize[data.lotsize.str.contains('—|[a-z]') == True].index\n",
    "data.lotsize.iloc[other_index] = '0'\n",
    "other_index=data.lotsize[data.lotsize.str.contains(',') == True].index\n",
    "data.lotsize.iloc[other_index] = data.lotsize.iloc[other_index].str.replace(',','')\n",
    "data.lotsize[data.lotsize == ''] = 0"
   ]
  },
  {
   "cell_type": "code",
   "execution_count": 28,
   "metadata": {},
   "outputs": [],
   "source": [
    "data.lotsize=data.lotsize.astype(float)"
   ]
  },
  {
   "cell_type": "code",
   "execution_count": 29,
   "metadata": {},
   "outputs": [],
   "source": [
    "save_data(data)"
   ]
  },
  {
   "cell_type": "markdown",
   "metadata": {},
   "source": [
    "## Price/sqft"
   ]
  },
  {
   "cell_type": "code",
   "execution_count": 30,
   "metadata": {},
   "outputs": [],
   "source": [
    "data = pd.read_csv('ready_data.csv')"
   ]
  },
  {
   "cell_type": "code",
   "execution_count": 31,
   "metadata": {},
   "outputs": [],
   "source": [
    "data['Price/sqft'] = data['Price/sqft'].str.lower()"
   ]
  },
  {
   "cell_type": "code",
   "execution_count": 32,
   "metadata": {},
   "outputs": [],
   "source": [
    "#Get rid of strings near numbers\n",
    "blank_list = ['$', '/sqft', ' / sq. ft.', ',']\n",
    "for v in blank_list:\n",
    "    data['Price/sqft'] = data['Price/sqft'].str.replace(v,'')"
   ]
  },
  {
   "cell_type": "code",
   "execution_count": 33,
   "metadata": {},
   "outputs": [],
   "source": [
    "#Replace strings that mean no value to 0\n",
    "zero_list = ['no data', 'no info', 'contact manager']\n",
    "for v in zero_list:\n",
    "    data['Price/sqft'] = data['Price/sqft'].str.replace(v,'0')    "
   ]
  },
  {
   "cell_type": "code",
   "execution_count": 34,
   "metadata": {},
   "outputs": [],
   "source": [
    "data['Price/sqft'].fillna(0,inplace=True)"
   ]
  },
  {
   "cell_type": "code",
   "execution_count": 35,
   "metadata": {},
   "outputs": [],
   "source": [
    "data['Price/sqft'] = data['Price/sqft'].astype(int)"
   ]
  },
  {
   "cell_type": "markdown",
   "metadata": {},
   "source": [
    "## sqft"
   ]
  },
  {
   "cell_type": "code",
   "execution_count": 36,
   "metadata": {},
   "outputs": [],
   "source": [
    "data.sqft=data.sqft.str.replace('\\D','')"
   ]
  },
  {
   "cell_type": "markdown",
   "metadata": {},
   "source": [
    "Before dropping Na's from sqft column I will retrieve information from Price/sqft, Price, lotsize, beds, baths"
   ]
  },
  {
   "cell_type": "code",
   "execution_count": 37,
   "metadata": {},
   "outputs": [],
   "source": [
    "data.sqft = data.sqft.fillna(0)\n",
    "data.sqft[data.sqft == ''] = 0\n",
    "data.sqft = data.sqft.astype(float)\n",
    "data.sqft[data.sqft < 0] = 0"
   ]
  },
  {
   "cell_type": "code",
   "execution_count": 38,
   "metadata": {},
   "outputs": [
    {
     "name": "stdout",
     "output_type": "stream",
     "text": [
      "There is 14.12% of missing values in sqft\n"
     ]
    }
   ],
   "source": [
    "print(f'There is {round((data.sqft[data.sqft == 0].count()) / len(data.sqft) * 100, 2)}% of missing values in sqft')"
   ]
  },
  {
   "cell_type": "code",
   "execution_count": 39,
   "metadata": {},
   "outputs": [],
   "source": [
    "#use values from beds that points on area measurement data for filling 0 for sqft\n",
    "values = data['beds'][(data.beds.str.contains('sqft') == True) & (data.sqft == 0)].str.replace('\\D', '')\n",
    "values.drop(labels = values[values == ''].index, inplace = True)\n",
    "values=values.astype(float)\n",
    "valuesA = data['beds'][(data.beds.str.contains('acres') == True) & (data.sqft == 0)]\n",
    "valuesA = round(valuesA.str.replace('[a-z]', '').astype(float) * 43560.04, 2) \n",
    "data['sqft'].iloc[values.index] = values\n",
    "data['sqft'].iloc[valuesA.index] = valuesA"
   ]
  },
  {
   "cell_type": "code",
   "execution_count": 40,
   "metadata": {},
   "outputs": [],
   "source": [
    "data['beds'][data.beds.str.contains('sqft|arcres') == True] = 0"
   ]
  },
  {
   "cell_type": "code",
   "execution_count": 41,
   "metadata": {},
   "outputs": [
    {
     "name": "stdout",
     "output_type": "stream",
     "text": [
      "There is 13.34% of missing values in sqft\n"
     ]
    }
   ],
   "source": [
    "print(f'There is {round((data.sqft[data.sqft == 0].count()) / len(data.sqft) * 100, 2)}% of missing values in sqft')"
   ]
  },
  {
   "cell_type": "code",
   "execution_count": 42,
   "metadata": {},
   "outputs": [],
   "source": [
    "#Fill NAs of sqft with values from lotsize\n",
    "data.sqft[data.sqft == 0] = data.lotsize[data.sqft == 0]"
   ]
  },
  {
   "cell_type": "code",
   "execution_count": 43,
   "metadata": {},
   "outputs": [
    {
     "name": "stdout",
     "output_type": "stream",
     "text": [
      "There is 3.26% of missing values in sqft\n"
     ]
    }
   ],
   "source": [
    "print(f'There is {round((data.sqft[data.sqft == 0].count()) / len(data.sqft) * 100, 2)}% of missing values in sqft')"
   ]
  },
  {
   "cell_type": "code",
   "execution_count": 44,
   "metadata": {},
   "outputs": [
    {
     "name": "stdout",
     "output_type": "stream",
     "text": [
      "There is 357 values Price/sqft and Price that can be used for sqft missing values\n"
     ]
    }
   ],
   "source": [
    "data1=data[['Price/sqft','sqft','Price']][(data.sqft == 0) & (data.Price != 0) & (data['Price/sqft'] != 0)]\n",
    "print(f'There is {len(data1)} values Price/sqft and Price that can be used for sqft missing values')"
   ]
  },
  {
   "cell_type": "code",
   "execution_count": 45,
   "metadata": {},
   "outputs": [],
   "source": [
    "#replace missing values of sqft with [Price]/[Price/sqft]\n",
    "data1.sqft = data1.Price / data1['Price/sqft']"
   ]
  },
  {
   "cell_type": "code",
   "execution_count": 46,
   "metadata": {},
   "outputs": [],
   "source": [
    "data.sqft.iloc[data1.index] = data1.sqft"
   ]
  },
  {
   "cell_type": "code",
   "execution_count": 47,
   "metadata": {},
   "outputs": [
    {
     "name": "stdout",
     "output_type": "stream",
     "text": [
      "There is 3.16% of missing values in sqft\n"
     ]
    }
   ],
   "source": [
    "print(f'There is {round((data.sqft[data.sqft == 0].count()) / len(data.sqft) * 100, 2)}% of missing values in sqft')"
   ]
  },
  {
   "cell_type": "markdown",
   "metadata": {},
   "source": [
    "Before taking the mean for missing values, I'll drop the exceptences"
   ]
  },
  {
   "cell_type": "code",
   "execution_count": 48,
   "metadata": {},
   "outputs": [
    {
     "data": {
      "text/plain": [
       "count    3.771850e+05\n",
       "mean     3.994776e+04\n",
       "std      5.032015e+06\n",
       "min      0.000000e+00\n",
       "25%      1.300000e+03\n",
       "50%      1.939000e+03\n",
       "75%      3.048000e+03\n",
       "max      2.147484e+09\n",
       "Name: sqft, dtype: float64"
      ]
     },
     "execution_count": 48,
     "metadata": {},
     "output_type": "execute_result"
    }
   ],
   "source": [
    "data.sqft.describe()"
   ]
  },
  {
   "cell_type": "code",
   "execution_count": 49,
   "metadata": {},
   "outputs": [
    {
     "data": {
      "text/plain": [
       "(-2147483.648, 214748364.7]     0.999979\n",
       "(214748364.7, 429496729.4]      0.000008\n",
       "(429496729.4, 644245094.1]      0.000005\n",
       "(1932735282.3, 2147483647.0]    0.000003\n",
       "(1717986917.6, 1932735282.3]    0.000003\n",
       "(644245094.1, 858993458.8]      0.000003\n",
       "(1503238552.9, 1717986917.6]    0.000000\n",
       "(1288490188.2, 1503238552.9]    0.000000\n",
       "(1073741823.5, 1288490188.2]    0.000000\n",
       "(858993458.8, 1073741823.5]     0.000000\n",
       "Name: sqft, dtype: float64"
      ]
     },
     "execution_count": 49,
     "metadata": {},
     "output_type": "execute_result"
    }
   ],
   "source": [
    "#sqft distribution\n",
    "data.sqft.value_counts(normalize=True, bins=10)"
   ]
  },
  {
   "cell_type": "code",
   "execution_count": 50,
   "metadata": {},
   "outputs": [],
   "source": [
    "data.drop(data.sqft[data.sqft > 214748364.7].index, inplace = True)"
   ]
  },
  {
   "cell_type": "code",
   "execution_count": 51,
   "metadata": {},
   "outputs": [],
   "source": [
    "#Group data according to property type and take the average area for each property type for NA\n",
    "area = data[['sqft','propertyType']][data.sqft != 0].groupby(by='propertyType').mean().reset_index()\n",
    "area\n",
    "area.sqft = area.sqft.round(decimals=0)\n",
    "data.sqft[data.sqft == 0] = data[data.sqft == 0].merge(area, on='propertyType', how='left').sqft_y"
   ]
  },
  {
   "cell_type": "code",
   "execution_count": 52,
   "metadata": {},
   "outputs": [],
   "source": [
    "data.sqft.fillna(0, inplace = True)"
   ]
  },
  {
   "cell_type": "markdown",
   "metadata": {},
   "source": [
    "### Use sqft and Price/sqft to fill Price na's"
   ]
  },
  {
   "cell_type": "code",
   "execution_count": 53,
   "metadata": {},
   "outputs": [
    {
     "name": "stdout",
     "output_type": "stream",
     "text": [
      "There is 0.08% of missing values in Price\n"
     ]
    }
   ],
   "source": [
    "#replace Price missing values with [sqft]*[Price/sqft]\n",
    "data2 = data[['Price/sqft','sqft','Price']][(data.Price == 0) & (data.sqft != 0) & (data['Price/sqft'] != 0)]\n",
    "data2.Price = data2.sqft * data2['Price/sqft']\n",
    "data['Price'].iloc[data2.index] = data2.Price\n",
    "print(f'There is {round(data.Price.isna().sum() / len(data.Price) * 100, 2)}% of missing values in Price')"
   ]
  },
  {
   "cell_type": "code",
   "execution_count": 54,
   "metadata": {},
   "outputs": [],
   "source": [
    "data.drop(['Price/sqft','lotsize'], axis=1, inplace=True)"
   ]
  },
  {
   "cell_type": "markdown",
   "metadata": {},
   "source": [
    "### Replace the rest missing values in Price and sqft to mean and normalizing"
   ]
  },
  {
   "cell_type": "code",
   "execution_count": 55,
   "metadata": {},
   "outputs": [],
   "source": [
    "data.Price[data.Price == 0] = data.Price[data.Price != 0].mean()\n",
    "data.Price.fillna(data.Price[data.Price.isna() == False].mean(), inplace=True)\n",
    "data.sqft[data.sqft == 0] = data.sqft[data.sqft != 0].mean()"
   ]
  },
  {
   "cell_type": "code",
   "execution_count": 56,
   "metadata": {},
   "outputs": [
    {
     "data": {
      "text/plain": [
       "(-194999.0, 19500000.9]       0.998624\n",
       "(19500000.9, 39000000.8]      0.001053\n",
       "(39000000.8, 58500000.7]      0.000209\n",
       "(58500000.7, 78000000.6]      0.000074\n",
       "(97500000.5, 117000000.4]     0.000013\n",
       "(78000000.6, 97500000.5]      0.000013\n",
       "(156000000.2, 175500000.1]    0.000005\n",
       "(175500000.1, 195000000.0]    0.000003\n",
       "(136500000.3, 156000000.2]    0.000003\n",
       "(117000000.4, 136500000.3]    0.000003\n",
       "Name: Price, dtype: float64"
      ]
     },
     "execution_count": 56,
     "metadata": {},
     "output_type": "execute_result"
    }
   ],
   "source": [
    "#price distribution\n",
    "data.Price.value_counts(normalize=True, bins=10)"
   ]
  },
  {
   "cell_type": "code",
   "execution_count": 57,
   "metadata": {},
   "outputs": [
    {
     "data": {
      "text/plain": [
       "<matplotlib.axes._subplots.AxesSubplot at 0x23ba9dcf280>"
      ]
     },
     "execution_count": 57,
     "metadata": {},
     "output_type": "execute_result"
    },
    {
     "data": {
      "image/png": "[encoded data removed]",
      "text/plain": [
       "<Figure size 432x288 with 1 Axes>"
      ]
     },
     "metadata": {
      "needs_background": "light"
     },
     "output_type": "display_data"
    }
   ],
   "source": [
    "sns.distplot(np.log(data.Price[(data.Price > 0) & (data.Price <= 19500000.9)]))"
   ]
  },
  {
   "cell_type": "code",
   "execution_count": 58,
   "metadata": {},
   "outputs": [],
   "source": [
    "#get rid of exceptions data\n",
    "data.drop(data.Price[(data.Price <= 0) | (data.Price > 19500000.9)].index, axis=0 , inplace=True)"
   ]
  },
  {
   "cell_type": "code",
   "execution_count": 59,
   "metadata": {},
   "outputs": [],
   "source": [
    "#normalizing Price\n",
    "data.Price = np.log(data.Price)"
   ]
  },
  {
   "cell_type": "code",
   "execution_count": 60,
   "metadata": {},
   "outputs": [
    {
     "data": {
      "text/plain": [
       "<matplotlib.axes._subplots.AxesSubplot at 0x23b9fda8430>"
      ]
     },
     "execution_count": 60,
     "metadata": {},
     "output_type": "execute_result"
    },
    {
     "data": {
      "image/png": "[encoded data removed]",
      "text/plain": [
       "<Figure size 432x288 with 1 Axes>"
      ]
     },
     "metadata": {
      "needs_background": "light"
     },
     "output_type": "display_data"
    }
   ],
   "source": [
    "sns.distplot(np.log(data.sqft))"
   ]
  },
  {
   "cell_type": "code",
   "execution_count": 61,
   "metadata": {},
   "outputs": [],
   "source": [
    "#normalizing sqft\n",
    "data.sqft = np.log(data.sqft)"
   ]
  },
  {
   "cell_type": "code",
   "execution_count": 62,
   "metadata": {},
   "outputs": [],
   "source": [
    "save_data(data)"
   ]
  },
  {
   "cell_type": "markdown",
   "metadata": {},
   "source": [
    "## Schools"
   ]
  },
  {
   "cell_type": "code",
   "execution_count": 63,
   "metadata": {},
   "outputs": [],
   "source": [
    "data = pd.read_csv('ready_data.csv')\n",
    "data['schools'] = data['schools'].apply(lambda x: ast.literal_eval(x)[0])"
   ]
  },
  {
   "cell_type": "code",
   "execution_count": 64,
   "metadata": {},
   "outputs": [],
   "source": [
    "#Extract rating list to school_rating column\n",
    "data['school_rating'] = data['schools'].apply(lambda x: [n for n in x['rating'] if n != 'NR']) "
   ]
  },
  {
   "cell_type": "code",
   "execution_count": 65,
   "metadata": {},
   "outputs": [],
   "source": [
    "def find_rating(x):\n",
    "    '''Function that makes an order in ratings and takes the maximum'''\n",
    "    l = [0]\n",
    "    for i in x:\n",
    "        if (i.find('/') > -1 and i[:i.find('/')] == 'None') or i == 'NA' or i == '':\n",
    "            l.append(0)\n",
    "        elif i.find('/') > -1:\n",
    "            l.append(int(i[:i.find('/')]))\n",
    "        else:\n",
    "            l.append(int(i))\n",
    "    return max(l)"
   ]
  },
  {
   "cell_type": "code",
   "execution_count": 66,
   "metadata": {},
   "outputs": [],
   "source": [
    "data['school_rating'] = data['school_rating'].apply(lambda x: find_rating(x))"
   ]
  },
  {
   "cell_type": "code",
   "execution_count": 67,
   "metadata": {},
   "outputs": [],
   "source": [
    "save_data(data)"
   ]
  },
  {
   "cell_type": "markdown",
   "metadata": {},
   "source": [
    "## Year built and remodeled"
   ]
  },
  {
   "cell_type": "code",
   "execution_count": 68,
   "metadata": {},
   "outputs": [
    {
     "name": "stdout",
     "output_type": "stream",
     "text": [
      "<class 'pandas.core.frame.DataFrame'>\n",
      "RangeIndex: 376658 entries, 0 to 376657\n",
      "Data columns (total 19 columns):\n",
      " #   Column          Non-Null Count   Dtype  \n",
      "---  ------          --------------   -----  \n",
      " 0   status          336780 non-null  object \n",
      " 1   private pool    4178 non-null    object \n",
      " 2   baths           270456 non-null  object \n",
      " 3   homeFacts       376658 non-null  object \n",
      " 4   fireplace       102920 non-null  object \n",
      " 5   schools         376658 non-null  object \n",
      " 6   sqft            376658 non-null  float64\n",
      " 7   beds            285492 non-null  object \n",
      " 8   state           376658 non-null  object \n",
      " 9   stories         226226 non-null  object \n",
      " 10  PrivatePool     40104 non-null   object \n",
      " 11  propertyType    376658 non-null  int64  \n",
      " 12  Price           376658 non-null  float64\n",
      " 13  Year built      314388 non-null  object \n",
      " 14  Remodeled year  150906 non-null  float64\n",
      " 15  Heating         267553 non-null  object \n",
      " 16  Cooling         252875 non-null  object \n",
      " 17  Parking         201496 non-null  object \n",
      " 18  school_rating   376658 non-null  int64  \n",
      "dtypes: float64(3), int64(2), object(14)\n",
      "memory usage: 54.6+ MB\n"
     ]
    }
   ],
   "source": [
    "data = pd.read_csv('ready_data.csv')\n",
    "data.info()"
   ]
  },
  {
   "cell_type": "code",
   "execution_count": 69,
   "metadata": {},
   "outputs": [],
   "source": [
    "#put indexes of str and num values in to variables\n",
    "stri = data['Year built'][data['Year built'].str.contains('\\D') == True].index\n",
    "numi = data['Year built'][data['Year built'].str.contains('\\D') == False].index"
   ]
  },
  {
   "cell_type": "code",
   "execution_count": 70,
   "metadata": {},
   "outputs": [],
   "source": [
    "#replace exeptions where there is no sence (smaller than 0 or bigger than 2020) by No Data\n",
    "iyearexp = data['Year built'].iloc[numi].astype('int64')\n",
    "iyearexp = iyearexp[(data['Year built'].iloc[numi].astype('int64') < 0)\n",
    "                    | (data['Year built'].iloc[numi].astype('int64') > 2020)].index\n",
    "data['Year built'].iloc[iyearexp] = 'No Data'\n",
    "numi=data['Year built'][data['Year built'].str.contains('\\D') == False].index\n",
    "stri=data['Year built'][data['Year built'].str.contains('\\D') == True].index"
   ]
  },
  {
   "cell_type": "code",
   "execution_count": 71,
   "metadata": {},
   "outputs": [
    {
     "data": {
      "image/png": "[encoded data removed]",
      "text/plain": [
       "<Figure size 432x288 with 1 Axes>"
      ]
     },
     "metadata": {
      "needs_background": "light"
     },
     "output_type": "display_data"
    }
   ],
   "source": [
    "#Check if there are more exeptions\n",
    "sns.boxplot(data['Year built'].iloc[numi].astype('int64'), color = 'yellow');"
   ]
  },
  {
   "cell_type": "code",
   "execution_count": 72,
   "metadata": {},
   "outputs": [],
   "source": [
    "#Drop more exeptions values that smaller than 1500 -> update number indexes value\n",
    "iyearexp=data['Year built'].iloc[numi].astype('int64')\n",
    "iyearexp = iyearexp[(data['Year built'].iloc[numi].astype('int64') < 1500)\n",
    "                    | (data['Year built'].iloc[numi].astype('int64') > 2020)].index\n",
    "data['Year built'].iloc[iyearexp] = 'No Data'\n",
    "numi=data['Year built'][data['Year built'].str.contains('\\D') == False].index\n",
    "stri=data['Year built'][data['Year built'].str.contains('\\D') == True].index"
   ]
  },
  {
   "cell_type": "code",
   "execution_count": 73,
   "metadata": {},
   "outputs": [
    {
     "data": {
      "image/png": "[encoded data removed]",
      "text/plain": [
       "<Figure size 432x288 with 1 Axes>"
      ]
     },
     "metadata": {
      "needs_background": "light"
     },
     "output_type": "display_data"
    }
   ],
   "source": [
    "sns.boxplot(data['Year built'].iloc[numi].astype('int64'), color='yellow');"
   ]
  },
  {
   "cell_type": "code",
   "execution_count": 74,
   "metadata": {},
   "outputs": [],
   "source": [
    "#convert numeric data to integer\n",
    "data['Year built'].iloc[numi] = data['Year built'].iloc[numi].astype(int)"
   ]
  },
  {
   "cell_type": "code",
   "execution_count": 75,
   "metadata": {},
   "outputs": [
    {
     "data": {
      "text/plain": [
       "(1988.0, 2020.0]      0.468478\n",
       "(1956.0, 1988.0]      0.281294\n",
       "(1924.0, 1956.0]      0.170183\n",
       "(1892.0, 1924.0]      0.072140\n",
       "(1860.0, 1892.0]      0.006742\n",
       "(1828.0, 1860.0]      0.000837\n",
       "(1796.0, 1828.0]      0.000271\n",
       "(1764.0, 1796.0]      0.000032\n",
       "(1732.0, 1764.0]      0.000013\n",
       "(1699.679, 1732.0]    0.000010\n",
       "Name: Year built, dtype: float64"
      ]
     },
     "execution_count": 75,
     "metadata": {},
     "output_type": "execute_result"
    }
   ],
   "source": [
    "data['Year built'].iloc[numi].value_counts(normalize=True, bins=10)"
   ]
  },
  {
   "cell_type": "code",
   "execution_count": 76,
   "metadata": {},
   "outputs": [],
   "source": [
    "#replace string data to mean of numeric data\n",
    "data['Year built'].iloc[stri] = int(round(data['Year built'].iloc[numi].mean(),0))"
   ]
  },
  {
   "cell_type": "code",
   "execution_count": 77,
   "metadata": {},
   "outputs": [],
   "source": [
    "#fill nas with the mean of numeric values\n",
    "data['Year built'].fillna(int(round(data['Year built'].iloc[numi].mean(),0)), inplace=True)"
   ]
  },
  {
   "cell_type": "code",
   "execution_count": 78,
   "metadata": {},
   "outputs": [
    {
     "data": {
      "text/plain": [
       "count    376658.000000\n",
       "mean       1979.204230\n",
       "std          30.637637\n",
       "min        1700.000000\n",
       "25%        1963.000000\n",
       "50%        1979.000000\n",
       "75%        2005.000000\n",
       "max        2020.000000\n",
       "Name: Year built, dtype: float64"
      ]
     },
     "execution_count": 78,
     "metadata": {},
     "output_type": "execute_result"
    }
   ],
   "source": [
    "data['Year built'].describe()"
   ]
  },
  {
   "cell_type": "code",
   "execution_count": 79,
   "metadata": {},
   "outputs": [],
   "source": [
    "data['Remodeled year'].fillna(data['Remodeled year'].notnull().mean(), inplace=True)\n",
    "data['Remodeled year'] = data['Remodeled year'].astype(int)"
   ]
  },
  {
   "cell_type": "markdown",
   "metadata": {},
   "source": [
    "### Status"
   ]
  },
  {
   "cell_type": "code",
   "execution_count": 80,
   "metadata": {},
   "outputs": [
    {
     "data": {
      "text/plain": [
       "for sale                   0.462860\n",
       "Active                     0.312005\n",
       "For sale                   0.128677\n",
       "foreclosure                0.019081\n",
       "New construction           0.016245\n",
       "                             ...   \n",
       "Pending W/Escape Clause    0.000003\n",
       "Coming soon: Oct 24.       0.000003\n",
       "Coming soon: Dec 1.        0.000003\n",
       "Sold: $15,000              0.000003\n",
       "Coming soon: Nov 23.       0.000003\n",
       "Name: status, Length: 159, dtype: float64"
      ]
     },
     "execution_count": 80,
     "metadata": {},
     "output_type": "execute_result"
    }
   ],
   "source": [
    "data.status.value_counts(normalize=True)"
   ]
  },
  {
   "cell_type": "code",
   "execution_count": 81,
   "metadata": {},
   "outputs": [],
   "source": [
    "data.status[data.status.str.contains('for sale|active|accepted') == True] = 1"
   ]
  },
  {
   "cell_type": "code",
   "execution_count": 82,
   "metadata": {},
   "outputs": [],
   "source": [
    "data.status[data.status != 1] = 0"
   ]
  },
  {
   "cell_type": "code",
   "execution_count": 83,
   "metadata": {},
   "outputs": [],
   "source": [
    "data.status = data.status.astype(int)"
   ]
  },
  {
   "cell_type": "markdown",
   "metadata": {},
   "source": [
    "### Private Pool"
   ]
  },
  {
   "cell_type": "code",
   "execution_count": 84,
   "metadata": {},
   "outputs": [],
   "source": [
    "data['PrivatePool'] = data['PrivatePool'].str.lower()\n",
    "data['private pool'] = data['private pool'].str.lower()"
   ]
  },
  {
   "cell_type": "code",
   "execution_count": 85,
   "metadata": {},
   "outputs": [],
   "source": [
    "# Replace 'yes' with 1 and unufy \"private pool\" and PrivatePool and replace NA with 0\n",
    "data[['private pool','PrivatePool']] = data[['private pool','PrivatePool']].replace(to_replace=['yes'],value = 1)\n",
    "data['PrivatePool'] = data['PrivatePool'].fillna(data['private pool'])\n",
    "data['PrivatePool'] = data['PrivatePool'].fillna(0)\n",
    "data = data.drop(['private pool'], axis=1)"
   ]
  },
  {
   "cell_type": "code",
   "execution_count": 86,
   "metadata": {},
   "outputs": [
    {
     "data": {
      "text/plain": [
       "0    332376\n",
       "1     44282\n",
       "Name: PrivatePool, dtype: int64"
      ]
     },
     "execution_count": 86,
     "metadata": {},
     "output_type": "execute_result"
    }
   ],
   "source": [
    "data.PrivatePool = data.PrivatePool.astype(int)\n",
    "data.PrivatePool.value_counts()"
   ]
  },
  {
   "cell_type": "code",
   "execution_count": 87,
   "metadata": {},
   "outputs": [
    {
     "data": {
      "text/html": [
       "<div>\n",
       "<style scoped>\n",
       "    .dataframe tbody tr th:only-of-type {\n",
       "        vertical-align: middle;\n",
       "    }\n",
       "\n",
       "    .dataframe tbody tr th {\n",
       "        vertical-align: top;\n",
       "    }\n",
       "\n",
       "    .dataframe thead th {\n",
       "        text-align: right;\n",
       "    }\n",
       "</style>\n",
       "<table border=\"1\" class=\"dataframe\">\n",
       "  <thead>\n",
       "    <tr style=\"text-align: right;\">\n",
       "      <th></th>\n",
       "      <th>status</th>\n",
       "      <th>baths</th>\n",
       "      <th>homeFacts</th>\n",
       "      <th>fireplace</th>\n",
       "      <th>schools</th>\n",
       "      <th>sqft</th>\n",
       "      <th>beds</th>\n",
       "      <th>state</th>\n",
       "      <th>stories</th>\n",
       "      <th>PrivatePool</th>\n",
       "      <th>propertyType</th>\n",
       "      <th>Price</th>\n",
       "      <th>Year built</th>\n",
       "      <th>Remodeled year</th>\n",
       "      <th>Heating</th>\n",
       "      <th>Cooling</th>\n",
       "      <th>Parking</th>\n",
       "      <th>school_rating</th>\n",
       "    </tr>\n",
       "  </thead>\n",
       "  <tbody>\n",
       "    <tr>\n",
       "      <th>0</th>\n",
       "      <td>0</td>\n",
       "      <td>3.5</td>\n",
       "      <td>[{'factValue': '2019', 'factLabel': 'Year buil...</td>\n",
       "      <td>Gas Logs</td>\n",
       "      <td>{'rating': ['4', '4', '7', 'NR', '4', '7', 'NR...</td>\n",
       "      <td>7.972466</td>\n",
       "      <td>4</td>\n",
       "      <td>NC</td>\n",
       "      <td>NaN</td>\n",
       "      <td>0</td>\n",
       "      <td>1</td>\n",
       "      <td>12.943237</td>\n",
       "      <td>2019</td>\n",
       "      <td>0</td>\n",
       "      <td>Central A/C, Heat Pump</td>\n",
       "      <td>NaN</td>\n",
       "      <td>NaN</td>\n",
       "      <td>7</td>\n",
       "    </tr>\n",
       "    <tr>\n",
       "      <th>1</th>\n",
       "      <td>1</td>\n",
       "      <td>3 Baths</td>\n",
       "      <td>[{'factValue': '2019', 'factLabel': 'Year buil...</td>\n",
       "      <td>NaN</td>\n",
       "      <td>{'rating': ['4/10', 'None/10', '4/10'], 'data'...</td>\n",
       "      <td>7.574045</td>\n",
       "      <td>3 Beds</td>\n",
       "      <td>WA</td>\n",
       "      <td>2.0</td>\n",
       "      <td>0</td>\n",
       "      <td>1</td>\n",
       "      <td>12.644328</td>\n",
       "      <td>2019</td>\n",
       "      <td>0</td>\n",
       "      <td>NaN</td>\n",
       "      <td>NaN</td>\n",
       "      <td>NaN</td>\n",
       "      <td>4</td>\n",
       "    </tr>\n",
       "    <tr>\n",
       "      <th>2</th>\n",
       "      <td>1</td>\n",
       "      <td>2 Baths</td>\n",
       "      <td>[{'factValue': '1961', 'factLabel': 'Year buil...</td>\n",
       "      <td>yes</td>\n",
       "      <td>{'rating': ['8/10', '4/10', '8/10'], 'data': {...</td>\n",
       "      <td>8.006368</td>\n",
       "      <td>3 Beds</td>\n",
       "      <td>CA</td>\n",
       "      <td>1.0</td>\n",
       "      <td>1</td>\n",
       "      <td>1</td>\n",
       "      <td>14.878496</td>\n",
       "      <td>1961</td>\n",
       "      <td>1967</td>\n",
       "      <td>Forced Air</td>\n",
       "      <td>Central</td>\n",
       "      <td>Attached Garage</td>\n",
       "      <td>8</td>\n",
       "    </tr>\n",
       "    <tr>\n",
       "      <th>3</th>\n",
       "      <td>1</td>\n",
       "      <td>8 Baths</td>\n",
       "      <td>[{'factValue': '2006', 'factLabel': 'Year buil...</td>\n",
       "      <td>yes</td>\n",
       "      <td>{'rating': ['9/10', '9/10', '10/10', '9/10'], ...</td>\n",
       "      <td>8.772920</td>\n",
       "      <td>5 Beds</td>\n",
       "      <td>TX</td>\n",
       "      <td>3.0</td>\n",
       "      <td>0</td>\n",
       "      <td>1</td>\n",
       "      <td>14.688894</td>\n",
       "      <td>2006</td>\n",
       "      <td>2006</td>\n",
       "      <td>Forced Air</td>\n",
       "      <td>Central</td>\n",
       "      <td>Detached Garage</td>\n",
       "      <td>10</td>\n",
       "    </tr>\n",
       "    <tr>\n",
       "      <th>4</th>\n",
       "      <td>1</td>\n",
       "      <td>NaN</td>\n",
       "      <td>[{'factValue': '', 'factLabel': 'Year built'},...</td>\n",
       "      <td>NaN</td>\n",
       "      <td>{'rating': ['4/10', '5/10', '5/10'], 'data': {...</td>\n",
       "      <td>9.212239</td>\n",
       "      <td>NaN</td>\n",
       "      <td>FL</td>\n",
       "      <td>NaN</td>\n",
       "      <td>0</td>\n",
       "      <td>3</td>\n",
       "      <td>8.517193</td>\n",
       "      <td>1979</td>\n",
       "      <td>0</td>\n",
       "      <td>NaN</td>\n",
       "      <td>NaN</td>\n",
       "      <td>NaN</td>\n",
       "      <td>5</td>\n",
       "    </tr>\n",
       "  </tbody>\n",
       "</table>\n",
       "</div>"
      ],
      "text/plain": [
       "   status    baths                                          homeFacts  \\\n",
       "0       0      3.5  [{'factValue': '2019', 'factLabel': 'Year buil...   \n",
       "1       1  3 Baths  [{'factValue': '2019', 'factLabel': 'Year buil...   \n",
       "2       1  2 Baths  [{'factValue': '1961', 'factLabel': 'Year buil...   \n",
       "3       1  8 Baths  [{'factValue': '2006', 'factLabel': 'Year buil...   \n",
       "4       1      NaN  [{'factValue': '', 'factLabel': 'Year built'},...   \n",
       "\n",
       "  fireplace                                            schools      sqft  \\\n",
       "0  Gas Logs  {'rating': ['4', '4', '7', 'NR', '4', '7', 'NR...  7.972466   \n",
       "1       NaN  {'rating': ['4/10', 'None/10', '4/10'], 'data'...  7.574045   \n",
       "2       yes  {'rating': ['8/10', '4/10', '8/10'], 'data': {...  8.006368   \n",
       "3       yes  {'rating': ['9/10', '9/10', '10/10', '9/10'], ...  8.772920   \n",
       "4       NaN  {'rating': ['4/10', '5/10', '5/10'], 'data': {...  9.212239   \n",
       "\n",
       "     beds state stories  PrivatePool  propertyType      Price  Year built  \\\n",
       "0       4    NC     NaN            0             1  12.943237        2019   \n",
       "1  3 Beds    WA     2.0            0             1  12.644328        2019   \n",
       "2  3 Beds    CA     1.0            1             1  14.878496        1961   \n",
       "3  5 Beds    TX     3.0            0             1  14.688894        2006   \n",
       "4     NaN    FL     NaN            0             3   8.517193        1979   \n",
       "\n",
       "   Remodeled year                 Heating  Cooling          Parking  \\\n",
       "0               0  Central A/C, Heat Pump      NaN              NaN   \n",
       "1               0                     NaN      NaN              NaN   \n",
       "2            1967              Forced Air  Central  Attached Garage   \n",
       "3            2006              Forced Air  Central  Detached Garage   \n",
       "4               0                     NaN      NaN              NaN   \n",
       "\n",
       "   school_rating  \n",
       "0              7  \n",
       "1              4  \n",
       "2              8  \n",
       "3             10  \n",
       "4              5  "
      ]
     },
     "execution_count": 87,
     "metadata": {},
     "output_type": "execute_result"
    }
   ],
   "source": [
    "data.head()"
   ]
  },
  {
   "cell_type": "markdown",
   "metadata": {},
   "source": [
    "### Bath"
   ]
  },
  {
   "cell_type": "code",
   "execution_count": 88,
   "metadata": {},
   "outputs": [
    {
     "name": "stdout",
     "output_type": "stream",
     "text": [
      "There are 39.0% missing values\n"
     ]
    }
   ],
   "source": [
    "data.baths = data.baths.str.lower()\n",
    "print(f'There are {round(data.baths.isna().sum() / data.baths.count() * 100, 0)}% missing values')"
   ]
  },
  {
   "cell_type": "code",
   "execution_count": 89,
   "metadata": {},
   "outputs": [],
   "source": [
    "#Leave cells with numbers only for Bath \n",
    "data['baths'] = data.baths.str.findall(r'\\d').str[0]"
   ]
  },
  {
   "cell_type": "code",
   "execution_count": 90,
   "metadata": {},
   "outputs": [],
   "source": [
    "data['baths'][data.baths.isna() == False] = data['baths'][data.baths.isna() == False].astype(int)"
   ]
  },
  {
   "cell_type": "code",
   "execution_count": 91,
   "metadata": {},
   "outputs": [
    {
     "data": {
      "text/plain": [
       "2.0    0.445732\n",
       "3.0    0.270990\n",
       "4.0    0.103669\n",
       "1.0    0.096649\n",
       "5.0    0.036931\n",
       "6.0    0.016556\n",
       "0.0    0.014567\n",
       "7.0    0.008737\n",
       "8.0    0.004276\n",
       "9.0    0.001892\n",
       "Name: baths, dtype: float64"
      ]
     },
     "execution_count": 91,
     "metadata": {},
     "output_type": "execute_result"
    }
   ],
   "source": [
    "data.baths.value_counts(normalize=True)"
   ]
  },
  {
   "cell_type": "code",
   "execution_count": 92,
   "metadata": {},
   "outputs": [],
   "source": [
    "#Group data according to property type and take the average bathrooms for each property type for NA\n",
    "Baths = data[['baths','propertyType']]\n",
    "Baths['baths'] = Baths['baths'][Baths.baths.isna() == False].astype(int)\n",
    "Baths = Baths[Baths.baths.isna() == False].groupby(by='propertyType').mean().reset_index()\n",
    "Baths.baths = Baths.baths.round(decimals=0)\n",
    "data.baths[data.baths.isna() == True] = data[data.baths.isna() == True].merge(Baths, on='propertyType', how='left').baths_y"
   ]
  },
  {
   "cell_type": "code",
   "execution_count": 93,
   "metadata": {},
   "outputs": [
    {
     "name": "stdout",
     "output_type": "stream",
     "text": [
      "<class 'pandas.core.frame.DataFrame'>\n",
      "RangeIndex: 376658 entries, 0 to 376657\n",
      "Data columns (total 18 columns):\n",
      " #   Column          Non-Null Count   Dtype  \n",
      "---  ------          --------------   -----  \n",
      " 0   status          376658 non-null  int32  \n",
      " 1   baths           299659 non-null  object \n",
      " 2   homeFacts       376658 non-null  object \n",
      " 3   fireplace       102920 non-null  object \n",
      " 4   schools         376658 non-null  object \n",
      " 5   sqft            376658 non-null  float64\n",
      " 6   beds            285492 non-null  object \n",
      " 7   state           376658 non-null  object \n",
      " 8   stories         226226 non-null  object \n",
      " 9   PrivatePool     376658 non-null  int32  \n",
      " 10  propertyType    376658 non-null  int64  \n",
      " 11  Price           376658 non-null  float64\n",
      " 12  Year built      376658 non-null  int64  \n",
      " 13  Remodeled year  376658 non-null  int32  \n",
      " 14  Heating         267553 non-null  object \n",
      " 15  Cooling         252875 non-null  object \n",
      " 16  Parking         201496 non-null  object \n",
      " 17  school_rating   376658 non-null  int64  \n",
      "dtypes: float64(2), int32(3), int64(3), object(10)\n",
      "memory usage: 47.4+ MB\n"
     ]
    }
   ],
   "source": [
    "#Group data according to bedrooms and take the average bathrooms for each bedroom number for NA\n",
    "BathsBeds = data[['baths','beds']]\n",
    "BathsBeds['baths'] = BathsBeds['baths'][BathsBeds.baths.isna() == False].astype(int)\n",
    "BathsBeds = BathsBeds[BathsBeds.baths.isna() == False].groupby(by='beds').mean().reset_index()\n",
    "BathsBeds.baths = BathsBeds.baths.round(decimals = 0)\n",
    "data.baths[data.baths.isna() == True] = data[data.baths.isna() == True].merge(BathsBeds, on='beds', how='left').baths_y\n",
    "data.info()"
   ]
  },
  {
   "cell_type": "code",
   "execution_count": 94,
   "metadata": {},
   "outputs": [
    {
     "data": {
      "text/plain": [
       "107899    Baths\n",
       "108413    Baths\n",
       "108708    Baths\n",
       "108772    Baths\n",
       "109008    Baths\n",
       "          ...  \n",
       "375772    Baths\n",
       "375934     Bath\n",
       "375938    Baths\n",
       "376106    Baths\n",
       "376227     Bath\n",
       "Name: beds, Length: 1057, dtype: object"
      ]
     },
     "execution_count": 94,
     "metadata": {},
     "output_type": "execute_result"
    }
   ],
   "source": [
    "#check if some values can be taken from beds column\n",
    "data['beds'][(data.beds.str.contains('Bath')) & (data.beds.isna() == False)&(data.baths.isna() == True)]"
   ]
  },
  {
   "cell_type": "code",
   "execution_count": 95,
   "metadata": {},
   "outputs": [],
   "source": [
    "#beds columns has values that contains baths, replace NA with 1 for bath and 2 for baths\n",
    "data['beds'][(data.beds == 'Bath') & (data.beds.isna() == False) & (data.baths.isna() == True)] = 1\n",
    "data['beds'][(data.beds == 'Baths') & (data.beds.isna() == False) & (data.baths.isna() == True)] = 2\n",
    "data['baths'][(data.beds.str.contains('Bath')) & (data.beds.isna() == False) & (data.baths.isna() == True)] = 1"
   ]
  },
  {
   "cell_type": "code",
   "execution_count": 96,
   "metadata": {},
   "outputs": [],
   "source": [
    "#Group data according to sqft and take the average bathrooms for each area for NA\n",
    "BathsArea = data[['baths','sqft']]\n",
    "BathsArea['baths'] = BathsArea['baths'][BathsArea.baths.isna() == False].astype(int)\n",
    "BathsArea = BathsArea[BathsArea.baths.isna() == False].groupby(by ='sqft').mean().reset_index()\n",
    "BathsArea.baths = BathsArea.baths.round(decimals=0)\n",
    "data.baths[data.baths.isna() == True] = data[data.baths.isna() == True].merge(BathsArea, on='sqft', how='left').baths_y"
   ]
  },
  {
   "cell_type": "code",
   "execution_count": 97,
   "metadata": {},
   "outputs": [],
   "source": [
    "data.baths.fillna(1, inplace=True)\n",
    "data.baths = data.baths.astype(int)"
   ]
  },
  {
   "cell_type": "markdown",
   "metadata": {},
   "source": [
    "### Beds"
   ]
  },
  {
   "cell_type": "code",
   "execution_count": 98,
   "metadata": {},
   "outputs": [
    {
     "name": "stdout",
     "output_type": "stream",
     "text": [
      "There are 24.0% of missing values\n"
     ]
    }
   ],
   "source": [
    "data.beds = data.beds.str.lower()\n",
    "print(f'There are {round(data.beds.isna().sum()/data.baths.count()*100,0)}% of missing values')"
   ]
  },
  {
   "cell_type": "code",
   "execution_count": 99,
   "metadata": {},
   "outputs": [
    {
     "data": {
      "text/plain": [
       "3 beds        0.187892\n",
       "4 beds        0.124388\n",
       "3             0.110403\n",
       "2 beds        0.092666\n",
       "4             0.070342\n",
       "                ...   \n",
       "5.79 acres    0.000004\n",
       "106 acres     0.000004\n",
       "2.58 acres    0.000004\n",
       "3.09 acres    0.000004\n",
       "13.0          0.000004\n",
       "Name: beds, Length: 589, dtype: float64"
      ]
     },
     "execution_count": 99,
     "metadata": {},
     "output_type": "execute_result"
    }
   ],
   "source": [
    "data.beds.value_counts(normalize=True)"
   ]
  },
  {
   "cell_type": "code",
   "execution_count": 100,
   "metadata": {},
   "outputs": [
    {
     "data": {
      "text/plain": [
       "3.0           0.379131\n",
       "4.0           0.245207\n",
       "2.0           0.113908\n",
       "5.0           0.064314\n",
       "--            0.047344\n",
       "                ...   \n",
       "38 acres      0.000047\n",
       "2.99 acres    0.000047\n",
       "2.45 acres    0.000047\n",
       "2.39 acres    0.000047\n",
       "4.73 acres    0.000047\n",
       "Name: beds, Length: 479, dtype: float64"
      ]
     },
     "execution_count": 100,
     "metadata": {},
     "output_type": "execute_result"
    }
   ],
   "source": [
    "#leave numbers only for Beds\n",
    "data['beds'] = data.beds.str.replace(' beds', '').str.replace(' bd', '')\n",
    "data['beds'] = data.beds.str.replace('baths', '2')\n",
    "data['beds'] = data.beds.str.replace('bath', '1')\n",
    "data.beds[(data.beds.str.contains('\\D') == True) & (data.beds.isna() == False)].value_counts(normalize=True)"
   ]
  },
  {
   "cell_type": "code",
   "execution_count": 101,
   "metadata": {},
   "outputs": [],
   "source": [
    "data['beds'][data.beds.str.contains('sqft|acres|acre| |--') == True] = 0\n"
   ]
  },
  {
   "cell_type": "code",
   "execution_count": 102,
   "metadata": {},
   "outputs": [],
   "source": [
    "data['beds'][data.beds.str.contains('2 bedrooms') == True] = 2\n",
    "data['beds'][data.beds.str.contains('3 or more bedrooms') == True] = 3\n",
    "data['beds'][data.beds.str.contains('based on redfin|-') == True] = 1"
   ]
  },
  {
   "cell_type": "code",
   "execution_count": 103,
   "metadata": {},
   "outputs": [],
   "source": [
    "data['beds'] = data['beds'][(data.beds.isna() == False) & (data.beds != 'none')].astype(float)"
   ]
  },
  {
   "cell_type": "code",
   "execution_count": 104,
   "metadata": {},
   "outputs": [],
   "source": [
    "#Group data according to property type and take the average area for each property type for NA\n",
    "Beds = data[['beds', 'propertyType']]\n",
    "Beds['beds'] = Beds['beds'][(Beds.beds.isna() == False)&(Beds.beds != 'none')].astype(float)\n",
    "Beds=Beds.groupby(by='propertyType').mean().reset_index()\n",
    "Beds.beds = Beds.beds.round(decimals=0)\n",
    "data = data.merge(Beds, on='propertyType', how='left')"
   ]
  },
  {
   "cell_type": "code",
   "execution_count": 105,
   "metadata": {},
   "outputs": [
    {
     "name": "stdout",
     "output_type": "stream",
     "text": [
      "<class 'pandas.core.frame.DataFrame'>\n",
      "Int64Index: 376658 entries, 0 to 376657\n",
      "Data columns (total 18 columns):\n",
      " #   Column          Non-Null Count   Dtype  \n",
      "---  ------          --------------   -----  \n",
      " 0   status          376658 non-null  int32  \n",
      " 1   baths           376658 non-null  int32  \n",
      " 2   homeFacts       376658 non-null  object \n",
      " 3   fireplace       102920 non-null  object \n",
      " 4   schools         376658 non-null  object \n",
      " 5   sqft            376658 non-null  float64\n",
      " 6   beds            376658 non-null  float64\n",
      " 7   state           376658 non-null  object \n",
      " 8   stories         226226 non-null  object \n",
      " 9   PrivatePool     376658 non-null  int32  \n",
      " 10  propertyType    376658 non-null  int64  \n",
      " 11  Price           376658 non-null  float64\n",
      " 12  Year built      376658 non-null  int64  \n",
      " 13  Remodeled year  376658 non-null  int32  \n",
      " 14  Heating         267553 non-null  object \n",
      " 15  Cooling         252875 non-null  object \n",
      " 16  Parking         201496 non-null  object \n",
      " 17  school_rating   376658 non-null  int64  \n",
      "dtypes: float64(3), int32(4), int64(3), object(8)\n",
      "memory usage: 48.9+ MB\n"
     ]
    }
   ],
   "source": [
    "data['beds_x'].fillna(data.beds_y, inplace=True)\n",
    "data['beds_x'][data.beds_x == 'none'] = data.beds_y\n",
    "data.beds_x.fillna(data.beds_x.mean(), inplace=True)\n",
    "data.drop('beds_y', axis = 1, inplace=True)\n",
    "data = data.rename(columns = {'beds_x':'beds'})\n",
    "data.info()"
   ]
  },
  {
   "cell_type": "code",
   "execution_count": 106,
   "metadata": {},
   "outputs": [
    {
     "data": {
      "text/plain": [
       "(-0.145, 14.4]    0.999116\n",
       "(14.4, 28.8]      0.000637\n",
       "(57.6, 72.0]      0.000117\n",
       "(28.8, 43.2]      0.000090\n",
       "(43.2, 57.6]      0.000029\n",
       "(72.0, 86.4]      0.000005\n",
       "(129.6, 144.0]    0.000003\n",
       "(86.4, 100.8]     0.000003\n",
       "(115.2, 129.6]    0.000000\n",
       "(100.8, 115.2]    0.000000\n",
       "Name: beds, dtype: float64"
      ]
     },
     "execution_count": 106,
     "metadata": {},
     "output_type": "execute_result"
    }
   ],
   "source": [
    "data.beds.value_counts(normalize=True, bins=10)"
   ]
  },
  {
   "cell_type": "code",
   "execution_count": 107,
   "metadata": {},
   "outputs": [],
   "source": [
    "data = data.drop(data.beds[data.beds > 15].index)"
   ]
  },
  {
   "cell_type": "code",
   "execution_count": 108,
   "metadata": {},
   "outputs": [
    {
     "name": "stdout",
     "output_type": "stream",
     "text": [
      "<class 'pandas.core.frame.DataFrame'>\n",
      "Int64Index: 376358 entries, 0 to 376657\n",
      "Data columns (total 18 columns):\n",
      " #   Column          Non-Null Count   Dtype  \n",
      "---  ------          --------------   -----  \n",
      " 0   status          376358 non-null  int32  \n",
      " 1   baths           376358 non-null  int32  \n",
      " 2   homeFacts       376358 non-null  object \n",
      " 3   fireplace       102895 non-null  object \n",
      " 4   schools         376358 non-null  object \n",
      " 5   sqft            376358 non-null  float64\n",
      " 6   beds            376358 non-null  float64\n",
      " 7   state           376358 non-null  object \n",
      " 8   stories         226090 non-null  object \n",
      " 9   PrivatePool     376358 non-null  int32  \n",
      " 10  propertyType    376358 non-null  int64  \n",
      " 11  Price           376358 non-null  float64\n",
      " 12  Year built      376358 non-null  int64  \n",
      " 13  Remodeled year  376358 non-null  int32  \n",
      " 14  Heating         267383 non-null  object \n",
      " 15  Cooling         252739 non-null  object \n",
      " 16  Parking         201335 non-null  object \n",
      " 17  school_rating   376358 non-null  int64  \n",
      "dtypes: float64(3), int32(4), int64(3), object(8)\n",
      "memory usage: 48.8+ MB\n"
     ]
    }
   ],
   "source": [
    "data.info()"
   ]
  },
  {
   "cell_type": "markdown",
   "metadata": {},
   "source": [
    "### Create feature baths per bedroom"
   ]
  },
  {
   "cell_type": "code",
   "execution_count": 109,
   "metadata": {},
   "outputs": [],
   "source": [
    "data['baths'][data['baths'] < 1] = 1\n",
    "data['beds'][data['beds'] < 1] = 1\n",
    "data['baths/bed'] = data['beds'] / data['baths']"
   ]
  },
  {
   "cell_type": "code",
   "execution_count": 110,
   "metadata": {},
   "outputs": [],
   "source": [
    "save_data(data)"
   ]
  },
  {
   "cell_type": "markdown",
   "metadata": {},
   "source": [
    "### Fireplace"
   ]
  },
  {
   "cell_type": "code",
   "execution_count": 111,
   "metadata": {},
   "outputs": [
    {
     "name": "stdout",
     "output_type": "stream",
     "text": [
      "<class 'pandas.core.frame.DataFrame'>\n",
      "RangeIndex: 376358 entries, 0 to 376357\n",
      "Data columns (total 19 columns):\n",
      " #   Column          Non-Null Count   Dtype  \n",
      "---  ------          --------------   -----  \n",
      " 0   status          376358 non-null  int64  \n",
      " 1   baths           376358 non-null  int64  \n",
      " 2   homeFacts       376358 non-null  object \n",
      " 3   fireplace       102895 non-null  object \n",
      " 4   schools         376358 non-null  object \n",
      " 5   sqft            376358 non-null  float64\n",
      " 6   beds            376358 non-null  float64\n",
      " 7   state           376358 non-null  object \n",
      " 8   stories         226090 non-null  object \n",
      " 9   PrivatePool     376358 non-null  int64  \n",
      " 10  propertyType    376358 non-null  int64  \n",
      " 11  Price           376358 non-null  float64\n",
      " 12  Year built      376358 non-null  int64  \n",
      " 13  Remodeled year  376358 non-null  int64  \n",
      " 14  Heating         267383 non-null  object \n",
      " 15  Cooling         252739 non-null  object \n",
      " 16  Parking         201335 non-null  object \n",
      " 17  school_rating   376358 non-null  int64  \n",
      " 18  baths/bed       376358 non-null  float64\n",
      "dtypes: float64(4), int64(7), object(8)\n",
      "memory usage: 54.6+ MB\n"
     ]
    }
   ],
   "source": [
    "data = pd.read_csv('ready_data.csv')\n",
    "data.info()"
   ]
  },
  {
   "cell_type": "code",
   "execution_count": 112,
   "metadata": {},
   "outputs": [],
   "source": [
    "data['fireplace'] = data['fireplace'].str.lower()\n",
    "data.fireplace[data.fireplace.str.contains('fire|yes|gas|burning|stove|frplc') == True] = 1\n",
    "data.fireplace[data.fireplace.str.contains('no|0 ') == True] = 0\n",
    "data.fireplace[(data.fireplace.str.contains('\\d') == True) & (data.fireplace.str.contains('0') == False)] = 1\n",
    "data.fireplace[data.fireplace != 1] = 0"
   ]
  },
  {
   "cell_type": "code",
   "execution_count": 113,
   "metadata": {},
   "outputs": [
    {
     "name": "stdout",
     "output_type": "stream",
     "text": [
      "<class 'pandas.core.frame.DataFrame'>\n",
      "RangeIndex: 376358 entries, 0 to 376357\n",
      "Data columns (total 19 columns):\n",
      " #   Column          Non-Null Count   Dtype  \n",
      "---  ------          --------------   -----  \n",
      " 0   status          376358 non-null  int64  \n",
      " 1   baths           376358 non-null  int64  \n",
      " 2   homeFacts       376358 non-null  object \n",
      " 3   fireplace       376358 non-null  int32  \n",
      " 4   schools         376358 non-null  object \n",
      " 5   sqft            376358 non-null  float64\n",
      " 6   beds            376358 non-null  float64\n",
      " 7   state           376358 non-null  object \n",
      " 8   stories         226090 non-null  object \n",
      " 9   PrivatePool     376358 non-null  int64  \n",
      " 10  propertyType    376358 non-null  int64  \n",
      " 11  Price           376358 non-null  float64\n",
      " 12  Year built      376358 non-null  int64  \n",
      " 13  Remodeled year  376358 non-null  int64  \n",
      " 14  Heating         267383 non-null  object \n",
      " 15  Cooling         252739 non-null  object \n",
      " 16  Parking         201335 non-null  object \n",
      " 17  school_rating   376358 non-null  int64  \n",
      " 18  baths/bed       376358 non-null  float64\n",
      "dtypes: float64(4), int32(1), int64(7), object(7)\n",
      "memory usage: 53.1+ MB\n"
     ]
    }
   ],
   "source": [
    "data.fireplace = data.fireplace.astype(int)\n",
    "data.info()"
   ]
  },
  {
   "cell_type": "markdown",
   "metadata": {},
   "source": [
    "### Stories"
   ]
  },
  {
   "cell_type": "code",
   "execution_count": 114,
   "metadata": {},
   "outputs": [],
   "source": [
    "data.stories = data.stories.str.lower()"
   ]
  },
  {
   "cell_type": "code",
   "execution_count": 115,
   "metadata": {},
   "outputs": [
    {
     "data": {
      "text/plain": [
       "one                      5758\n",
       "two                      2494\n",
       "three or more             566\n",
       "one story                 395\n",
       "lot                       365\n",
       "                         ... \n",
       "chalet                      1\n",
       "patio home                  1\n",
       "log home                    1\n",
       "one, two, multi/split       1\n",
       "multi/split, two            1\n",
       "Name: stories, Length: 96, dtype: int64"
      ]
     },
     "execution_count": 115,
     "metadata": {},
     "output_type": "execute_result"
    }
   ],
   "source": [
    "data['st1'] = data.stories.str.findall(r'\\d').str[0]\n",
    "data.stories[(data.st1.isna() == True)&(data.stories.isna() == False)].value_counts()"
   ]
  },
  {
   "cell_type": "code",
   "execution_count": 116,
   "metadata": {},
   "outputs": [],
   "source": [
    "data.stories[data.stories.str.contains('one') == True] = 1\n",
    "data.stories[data.stories.str.contains('two') == True] = 2"
   ]
  },
  {
   "cell_type": "code",
   "execution_count": 117,
   "metadata": {},
   "outputs": [],
   "source": [
    "data.stories = data['st1'][(data.st1.isna() == False) & (data.stories.isna() == False)] "
   ]
  },
  {
   "cell_type": "code",
   "execution_count": 118,
   "metadata": {},
   "outputs": [],
   "source": [
    "data.drop('st1', axis=1, inplace=True)\n",
    "data.dropna(subset=['stories'], axis=0, inplace=True)"
   ]
  },
  {
   "cell_type": "code",
   "execution_count": 119,
   "metadata": {},
   "outputs": [],
   "source": [
    "data.stories = data.stories.astype(int)"
   ]
  },
  {
   "cell_type": "code",
   "execution_count": 120,
   "metadata": {},
   "outputs": [],
   "source": [
    "data['stories'][data.stories < 2] = 1\n",
    "data['stories'][data.stories > 1] = 2"
   ]
  },
  {
   "cell_type": "code",
   "execution_count": 121,
   "metadata": {},
   "outputs": [
    {
     "data": {
      "text/plain": [
       "1    107631\n",
       "2    106391\n",
       "Name: stories, dtype: int64"
      ]
     },
     "execution_count": 121,
     "metadata": {},
     "output_type": "execute_result"
    }
   ],
   "source": [
    "data.stories.value_counts()"
   ]
  },
  {
   "cell_type": "code",
   "execution_count": 122,
   "metadata": {},
   "outputs": [],
   "source": [
    "save_data(data)"
   ]
  },
  {
   "cell_type": "markdown",
   "metadata": {},
   "source": [
    "### Parking"
   ]
  },
  {
   "cell_type": "code",
   "execution_count": 123,
   "metadata": {},
   "outputs": [
    {
     "data": {
      "text/plain": [
       "Attached Garage                                                                             55674\n",
       "2 spaces                                                                                    24478\n",
       "1 space                                                                                     11409\n",
       "No Data                                                                                      9708\n",
       "Detached Garage                                                                              8984\n",
       "                                                                                            ...  \n",
       "Keypad Entry, On-Street Parking                                                                 1\n",
       "AGGRE, DRVWY, GRAVL                                                                             1\n",
       "Detached, Electric Door Opener                                                                  1\n",
       "Back Load Garage, Detached Garage, Garage - 2 Car, Garage Door Opener, On-Street Parking        1\n",
       "Oversized Drive                                                                                 1\n",
       "Name: Parking, Length: 2786, dtype: int64"
      ]
     },
     "execution_count": 123,
     "metadata": {},
     "output_type": "execute_result"
    }
   ],
   "source": [
    "data = pd.read_csv('ready_data.csv')\n",
    "data.Parking.value_counts()"
   ]
  },
  {
   "cell_type": "code",
   "execution_count": 124,
   "metadata": {},
   "outputs": [],
   "source": [
    "data.Parking[data.Parking.notnull() == True] = data.Parking[data.Parking.notnull() == True].str.lower()\n",
    "data.Parking[(data.Parking.notnull() == True) & (data.Parking.str.contains('no') == True)] = 0\n",
    "data.Parking[(data.Parking.notnull() == True)] = 1"
   ]
  },
  {
   "cell_type": "code",
   "execution_count": 125,
   "metadata": {},
   "outputs": [
    {
     "data": {
      "text/plain": [
       "0         0\n",
       "1         1\n",
       "2         1\n",
       "3         0\n",
       "4         1\n",
       "         ..\n",
       "214017    1\n",
       "214018    1\n",
       "214019    1\n",
       "214020    1\n",
       "214021    1\n",
       "Name: Parking, Length: 214022, dtype: int32"
      ]
     },
     "execution_count": 125,
     "metadata": {},
     "output_type": "execute_result"
    }
   ],
   "source": [
    "data.Parking.fillna(0, inplace=True)\n",
    "data.Parking.astype(int)"
   ]
  },
  {
   "cell_type": "markdown",
   "metadata": {},
   "source": [
    "## Density per state- additional data"
   ]
  },
  {
   "cell_type": "code",
   "execution_count": 126,
   "metadata": {},
   "outputs": [],
   "source": [
    "url = 'https://www.census.gov/data/tables/2010/dec/density-data-text.html'  "
   ]
  },
  {
   "cell_type": "code",
   "execution_count": 127,
   "metadata": {},
   "outputs": [],
   "source": [
    "pd.read_html(url)[0].to_csv('density2010.csv', index=False)\n",
    "density = pd.read_csv('density2010.csv')"
   ]
  },
  {
   "cell_type": "code",
   "execution_count": 128,
   "metadata": {},
   "outputs": [
    {
     "data": {
      "text/html": [
       "<div>\n",
       "<style scoped>\n",
       "    .dataframe tbody tr th:only-of-type {\n",
       "        vertical-align: middle;\n",
       "    }\n",
       "\n",
       "    .dataframe tbody tr th {\n",
       "        vertical-align: top;\n",
       "    }\n",
       "\n",
       "    .dataframe thead th {\n",
       "        text-align: right;\n",
       "    }\n",
       "</style>\n",
       "<table border=\"1\" class=\"dataframe\">\n",
       "  <thead>\n",
       "    <tr style=\"text-align: right;\">\n",
       "      <th></th>\n",
       "      <th>statefull</th>\n",
       "      <th>density</th>\n",
       "    </tr>\n",
       "  </thead>\n",
       "  <tbody>\n",
       "    <tr>\n",
       "      <th>0</th>\n",
       "      <td>Alabama</td>\n",
       "      <td>94.4</td>\n",
       "    </tr>\n",
       "    <tr>\n",
       "      <th>1</th>\n",
       "      <td>Alaska</td>\n",
       "      <td>1.2</td>\n",
       "    </tr>\n",
       "    <tr>\n",
       "      <th>2</th>\n",
       "      <td>Arizona</td>\n",
       "      <td>56.3</td>\n",
       "    </tr>\n",
       "    <tr>\n",
       "      <th>3</th>\n",
       "      <td>Arkansas</td>\n",
       "      <td>56.0</td>\n",
       "    </tr>\n",
       "    <tr>\n",
       "      <th>4</th>\n",
       "      <td>California</td>\n",
       "      <td>239.1</td>\n",
       "    </tr>\n",
       "  </tbody>\n",
       "</table>\n",
       "</div>"
      ],
      "text/plain": [
       "    statefull density\n",
       "0     Alabama    94.4\n",
       "1      Alaska     1.2\n",
       "2     Arizona    56.3\n",
       "3    Arkansas    56.0\n",
       "4  California   239.1"
      ]
     },
     "execution_count": 128,
     "metadata": {},
     "output_type": "execute_result"
    }
   ],
   "source": [
    "density2010 = pd.DataFrame(density.iloc[3::4]['2010'].values, columns=['statefull'])\n",
    "density2010['density'] = density.iloc[5::4]['2010'].values\n",
    "density2010.head()"
   ]
  },
  {
   "cell_type": "code",
   "execution_count": 129,
   "metadata": {},
   "outputs": [
    {
     "data": {
      "text/html": [
       "<div>\n",
       "<style scoped>\n",
       "    .dataframe tbody tr th:only-of-type {\n",
       "        vertical-align: middle;\n",
       "    }\n",
       "\n",
       "    .dataframe tbody tr th {\n",
       "        vertical-align: top;\n",
       "    }\n",
       "\n",
       "    .dataframe thead th {\n",
       "        text-align: right;\n",
       "    }\n",
       "</style>\n",
       "<table border=\"1\" class=\"dataframe\">\n",
       "  <thead>\n",
       "    <tr style=\"text-align: right;\">\n",
       "      <th></th>\n",
       "      <th>Codes:  ISO ISO 3166 codes (2-letter, 3-letter, and 3-digit codes from ISO 3166-1; 2+2-letter codes from ISO 3166-2)  ANSI 2-letter and 2-digit codes from the ANSI standard INCITS 38:2009 (supersedes FIPS 5-2)  USPS 2-letter codes used by the United States Postal Service  USCG 2-letter codes used by the United States Coast Guard (bold red text shows differences between ANSI and USCG) Abbreviations:  GPO Older variable-length official US Government Printing Office abbreviations  AP Abbreviations from the AP Stylebook (bold red text shows differences between GPO and AP)</th>\n",
       "      <th>Codes:  ISO ISO 3166 codes (2-letter, 3-letter, and 3-digit codes from ISO 3166-1; 2+2-letter codes from ISO 3166-2)  ANSI 2-letter and 2-digit codes from the ANSI standard INCITS 38:2009 (supersedes FIPS 5-2)  USPS 2-letter codes used by the United States Postal Service  USCG 2-letter codes used by the United States Coast Guard (bold red text shows differences between ANSI and USCG) Abbreviations:  GPO Older variable-length official US Government Printing Office abbreviations  AP Abbreviations from the AP Stylebook (bold red text shows differences between GPO and AP).3</th>\n",
       "    </tr>\n",
       "  </thead>\n",
       "  <tbody>\n",
       "    <tr>\n",
       "      <th>0</th>\n",
       "      <td>Alabama</td>\n",
       "      <td>AL</td>\n",
       "    </tr>\n",
       "    <tr>\n",
       "      <th>1</th>\n",
       "      <td>Alaska</td>\n",
       "      <td>AK</td>\n",
       "    </tr>\n",
       "    <tr>\n",
       "      <th>2</th>\n",
       "      <td>Arizona</td>\n",
       "      <td>AZ</td>\n",
       "    </tr>\n",
       "    <tr>\n",
       "      <th>3</th>\n",
       "      <td>Arkansas</td>\n",
       "      <td>AR</td>\n",
       "    </tr>\n",
       "    <tr>\n",
       "      <th>4</th>\n",
       "      <td>California</td>\n",
       "      <td>CA</td>\n",
       "    </tr>\n",
       "  </tbody>\n",
       "</table>\n",
       "</div>"
      ],
      "text/plain": [
       "  Codes:  ISO ISO 3166 codes (2-letter, 3-letter, and 3-digit codes from ISO 3166-1; 2+2-letter codes from ISO 3166-2)  ANSI 2-letter and 2-digit codes from the ANSI standard INCITS 38:2009 (supersedes FIPS 5-2)  USPS 2-letter codes used by the United States Postal Service  USCG 2-letter codes used by the United States Coast Guard (bold red text shows differences between ANSI and USCG) Abbreviations:  GPO Older variable-length official US Government Printing Office abbreviations  AP Abbreviations from the AP Stylebook (bold red text shows differences between GPO and AP)  \\\n",
       "0                                            Alabama                                                                                                                                                                                                                                                                                                                                                                                                                                                                                                                                               \n",
       "1                                             Alaska                                                                                                                                                                                                                                                                                                                                                                                                                                                                                                                                               \n",
       "2                                            Arizona                                                                                                                                                                                                                                                                                                                                                                                                                                                                                                                                               \n",
       "3                                           Arkansas                                                                                                                                                                                                                                                                                                                                                                                                                                                                                                                                               \n",
       "4                                         California                                                                                                                                                                                                                                                                                                                                                                                                                                                                                                                                               \n",
       "\n",
       "  Codes:  ISO ISO 3166 codes (2-letter, 3-letter, and 3-digit codes from ISO 3166-1; 2+2-letter codes from ISO 3166-2)  ANSI 2-letter and 2-digit codes from the ANSI standard INCITS 38:2009 (supersedes FIPS 5-2)  USPS 2-letter codes used by the United States Postal Service  USCG 2-letter codes used by the United States Coast Guard (bold red text shows differences between ANSI and USCG) Abbreviations:  GPO Older variable-length official US Government Printing Office abbreviations  AP Abbreviations from the AP Stylebook (bold red text shows differences between GPO and AP).3  \n",
       "0                                                 AL                                                                                                                                                                                                                                                                                                                                                                                                                                                                                                                                                \n",
       "1                                                 AK                                                                                                                                                                                                                                                                                                                                                                                                                                                                                                                                                \n",
       "2                                                 AZ                                                                                                                                                                                                                                                                                                                                                                                                                                                                                                                                                \n",
       "3                                                 AR                                                                                                                                                                                                                                                                                                                                                                                                                                                                                                                                                \n",
       "4                                                 CA                                                                                                                                                                                                                                                                                                                                                                                                                                                                                                                                                "
      ]
     },
     "execution_count": 129,
     "metadata": {},
     "output_type": "execute_result"
    }
   ],
   "source": [
    "url1 = 'https://en.wikipedia.org/wiki/List_of_U.S._state_and_territory_abbreviations'  \n",
    "pd.read_html(url1)[0].iloc[11:, [0,3]].dropna().to_csv('abrv.csv', index=False)\n",
    "stateabrv = pd.read_csv('abrv.csv')\n",
    "stateabrv.head()"
   ]
  },
  {
   "cell_type": "code",
   "execution_count": 130,
   "metadata": {},
   "outputs": [],
   "source": [
    "stateabrv.columns = ['statefull','state']"
   ]
  },
  {
   "cell_type": "code",
   "execution_count": 131,
   "metadata": {},
   "outputs": [
    {
     "data": {
      "text/html": [
       "<div>\n",
       "<style scoped>\n",
       "    .dataframe tbody tr th:only-of-type {\n",
       "        vertical-align: middle;\n",
       "    }\n",
       "\n",
       "    .dataframe tbody tr th {\n",
       "        vertical-align: top;\n",
       "    }\n",
       "\n",
       "    .dataframe thead th {\n",
       "        text-align: right;\n",
       "    }\n",
       "</style>\n",
       "<table border=\"1\" class=\"dataframe\">\n",
       "  <thead>\n",
       "    <tr style=\"text-align: right;\">\n",
       "      <th></th>\n",
       "      <th>statefull</th>\n",
       "      <th>density</th>\n",
       "      <th>state</th>\n",
       "    </tr>\n",
       "  </thead>\n",
       "  <tbody>\n",
       "    <tr>\n",
       "      <th>0</th>\n",
       "      <td>Alabama</td>\n",
       "      <td>94.4</td>\n",
       "      <td>AL</td>\n",
       "    </tr>\n",
       "    <tr>\n",
       "      <th>1</th>\n",
       "      <td>Alaska</td>\n",
       "      <td>1.2</td>\n",
       "      <td>AK</td>\n",
       "    </tr>\n",
       "    <tr>\n",
       "      <th>2</th>\n",
       "      <td>Arizona</td>\n",
       "      <td>56.3</td>\n",
       "      <td>AZ</td>\n",
       "    </tr>\n",
       "    <tr>\n",
       "      <th>3</th>\n",
       "      <td>Arkansas</td>\n",
       "      <td>56.0</td>\n",
       "      <td>AR</td>\n",
       "    </tr>\n",
       "    <tr>\n",
       "      <th>4</th>\n",
       "      <td>California</td>\n",
       "      <td>239.1</td>\n",
       "      <td>CA</td>\n",
       "    </tr>\n",
       "  </tbody>\n",
       "</table>\n",
       "</div>"
      ],
      "text/plain": [
       "    statefull density state\n",
       "0     Alabama    94.4    AL\n",
       "1      Alaska     1.2    AK\n",
       "2     Arizona    56.3    AZ\n",
       "3    Arkansas    56.0    AR\n",
       "4  California   239.1    CA"
      ]
     },
     "execution_count": 131,
     "metadata": {},
     "output_type": "execute_result"
    }
   ],
   "source": [
    "density2010 = density2010.merge(stateabrv, on='statefull', how='left')\n",
    "density2010.head()"
   ]
  },
  {
   "cell_type": "code",
   "execution_count": 132,
   "metadata": {},
   "outputs": [],
   "source": [
    "data.state = data.state.astype(str)"
   ]
  },
  {
   "cell_type": "code",
   "execution_count": 133,
   "metadata": {},
   "outputs": [
    {
     "data": {
      "text/plain": [
       "0         WA\n",
       "1         CA\n",
       "2         TX\n",
       "3         PA\n",
       "4         TX\n",
       "          ..\n",
       "214017    DC\n",
       "214018    FL\n",
       "214019    IL\n",
       "214020    NY\n",
       "214021    TX\n",
       "Name: state, Length: 214022, dtype: object"
      ]
     },
     "execution_count": 133,
     "metadata": {},
     "output_type": "execute_result"
    }
   ],
   "source": [
    "data.state"
   ]
  },
  {
   "cell_type": "code",
   "execution_count": 134,
   "metadata": {},
   "outputs": [],
   "source": [
    "data = data.merge(density2010, on='state', how='left')"
   ]
  },
  {
   "cell_type": "code",
   "execution_count": 135,
   "metadata": {},
   "outputs": [],
   "source": [
    "data.density = data.density.astype(float)\n",
    "data.density = data.density.fillna(data.density.mean())"
   ]
  },
  {
   "cell_type": "code",
   "execution_count": 136,
   "metadata": {},
   "outputs": [],
   "source": [
    "save_data(data)"
   ]
  },
  {
   "cell_type": "code",
   "execution_count": 137,
   "metadata": {},
   "outputs": [
    {
     "name": "stdout",
     "output_type": "stream",
     "text": [
      "<class 'pandas.core.frame.DataFrame'>\n",
      "Int64Index: 214022 entries, 0 to 214021\n",
      "Data columns (total 21 columns):\n",
      " #   Column          Non-Null Count   Dtype  \n",
      "---  ------          --------------   -----  \n",
      " 0   status          214022 non-null  int64  \n",
      " 1   baths           214022 non-null  int64  \n",
      " 2   homeFacts       214022 non-null  object \n",
      " 3   fireplace       214022 non-null  int64  \n",
      " 4   schools         214022 non-null  object \n",
      " 5   sqft            214022 non-null  float64\n",
      " 6   beds            214022 non-null  float64\n",
      " 7   state           214022 non-null  object \n",
      " 8   stories         214022 non-null  int64  \n",
      " 9   PrivatePool     214022 non-null  int64  \n",
      " 10  propertyType    214022 non-null  int64  \n",
      " 11  Price           214022 non-null  float64\n",
      " 12  Year built      214022 non-null  int64  \n",
      " 13  Remodeled year  214022 non-null  int64  \n",
      " 14  Heating         184239 non-null  object \n",
      " 15  Cooling         174038 non-null  object \n",
      " 16  Parking         214022 non-null  int64  \n",
      " 17  school_rating   214022 non-null  int64  \n",
      " 18  baths/bed       214022 non-null  float64\n",
      " 19  statefull       214022 non-null  object \n",
      " 20  density         214022 non-null  float64\n",
      "dtypes: float64(5), int64(10), object(6)\n",
      "memory usage: 35.9+ MB\n"
     ]
    }
   ],
   "source": [
    "data.info()"
   ]
  }
 ],
 "metadata": {
  "celltoolbar": "Raw Cell Format",
  "kernelspec": {
   "display_name": "Python 3",
   "language": "python",
   "name": "python3"
  },
  "language_info": {
   "codemirror_mode": {
    "name": "ipython",
    "version": 3
   },
   "file_extension": ".py",
   "mimetype": "text/x-python",
   "name": "python",
   "nbconvert_exporter": "python",
   "pygments_lexer": "ipython3",
   "version": "3.8.3"
  }
 },
 "nbformat": 4,
 "nbformat_minor": 4
}
