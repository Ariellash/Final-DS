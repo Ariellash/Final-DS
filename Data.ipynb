{
 "cells": [
  {
   "cell_type": "markdown",
   "metadata": {},
   "source": [
    "# Import packages"
   ]
  },
  {
   "cell_type": "code",
   "execution_count": 1,
   "metadata": {},
   "outputs": [
    {
     "name": "stderr",
     "output_type": "stream",
     "text": [
      "C:\\Users\\dom\\Anaconda3\\lib\\site-packages\\statsmodels\\tools\\_testing.py:19: FutureWarning: pandas.util.testing is deprecated. Use the functions in the public API at pandas.testing instead.\n",
      "  import pandas.util.testing as tm\n"
     ]
    }
   ],
   "source": [
    "import pandas as pd\n",
    "import numpy as np\n",
    "import matplotlib.pyplot as plt\n",
    "import seaborn as sns\n",
    "%matplotlib inline\n",
    "import warnings; warnings.simplefilter('ignore')\n",
    "import ast\n",
    "import re\n",
    "from sklearn.preprocessing import MinMaxScaler\n",
    "from timeit import default_timer as timer"
   ]
  },
  {
   "cell_type": "markdown",
   "metadata": {},
   "source": [
    "# Functions"
   ]
  },
  {
   "cell_type": "code",
   "execution_count": 2,
   "metadata": {},
   "outputs": [],
   "source": [
    "#Function that writes to csv\n",
    "def saveData(x):\n",
    "    x.to_csv('dataintermediate.csv',index=False)"
   ]
  },
  {
   "cell_type": "code",
   "execution_count": 3,
   "metadata": {},
   "outputs": [],
   "source": [
    "#find any of specific substrings \n",
    "def substringExists(x,strlist):\n",
    "    \"\"\"if any of folling values appears return 1\"\"\"\n",
    "    if any(re.findall('|'.join(strlist),x)):\n",
    "        return 1\n",
    "    return x"
   ]
  },
  {
   "cell_type": "markdown",
   "metadata": {},
   "source": [
    "# Data preparation"
   ]
  },
  {
   "cell_type": "markdown",
   "metadata": {},
   "source": [
    "### Read Data and select columns for Model"
   ]
  },
  {
   "cell_type": "code",
   "execution_count": 4,
   "metadata": {},
   "outputs": [
    {
     "name": "stdout",
     "output_type": "stream",
     "text": [
      "<class 'pandas.core.frame.DataFrame'>\n",
      "RangeIndex: 377185 entries, 0 to 377184\n",
      "Data columns (total 18 columns):\n",
      " #   Column        Non-Null Count   Dtype \n",
      "---  ------        --------------   ----- \n",
      " 0   status        337267 non-null  object\n",
      " 1   private pool  4181 non-null    object\n",
      " 2   propertyType  342452 non-null  object\n",
      " 3   street        377183 non-null  object\n",
      " 4   baths         270847 non-null  object\n",
      " 5   homeFacts     377185 non-null  object\n",
      " 6   fireplace     103115 non-null  object\n",
      " 7   city          377151 non-null  object\n",
      " 8   schools       377185 non-null  object\n",
      " 9   sqft          336608 non-null  object\n",
      " 10  zipcode       377185 non-null  object\n",
      " 11  beds          285903 non-null  object\n",
      " 12  state         377185 non-null  object\n",
      " 13  stories       226470 non-null  object\n",
      " 14  mls-id        24942 non-null   object\n",
      " 15  PrivatePool   40311 non-null   object\n",
      " 16  MlsId         310305 non-null  object\n",
      " 17  target        374704 non-null  object\n",
      "dtypes: object(18)\n",
      "memory usage: 51.8+ MB\n"
     ]
    }
   ],
   "source": [
    "df=pd.read_csv('data.csv')\n",
    "df.info()"
   ]
  },
  {
   "cell_type": "code",
   "execution_count": 5,
   "metadata": {},
   "outputs": [],
   "source": [
    "#First I will use most commonsence properties that might influence the property Price\n",
    "data=df[['status','private pool','baths','homeFacts','fireplace','sqft','beds','state','stories','PrivatePool','propertyType','target']]"
   ]
  },
  {
   "cell_type": "code",
   "execution_count": 6,
   "metadata": {},
   "outputs": [
    {
     "name": "stdout",
     "output_type": "stream",
     "text": [
      "<class 'pandas.core.frame.DataFrame'>\n",
      "RangeIndex: 377185 entries, 0 to 377184\n",
      "Data columns (total 12 columns):\n",
      " #   Column        Non-Null Count   Dtype \n",
      "---  ------        --------------   ----- \n",
      " 0   status        337267 non-null  object\n",
      " 1   private pool  4181 non-null    object\n",
      " 2   baths         270847 non-null  object\n",
      " 3   homeFacts     377185 non-null  object\n",
      " 4   fireplace     103115 non-null  object\n",
      " 5   sqft          336608 non-null  object\n",
      " 6   beds          285903 non-null  object\n",
      " 7   state         377185 non-null  object\n",
      " 8   stories       226470 non-null  object\n",
      " 9   PrivatePool   40311 non-null   object\n",
      " 10  propertyType  342452 non-null  object\n",
      " 11  target        374704 non-null  object\n",
      "dtypes: object(12)\n",
      "memory usage: 34.5+ MB\n"
     ]
    }
   ],
   "source": [
    "data.info()"
   ]
  },
  {
   "cell_type": "markdown",
   "metadata": {},
   "source": [
    "## HomeFacts"
   ]
  },
  {
   "cell_type": "code",
   "execution_count": 7,
   "metadata": {},
   "outputs": [],
   "source": [
    "data['homeFacts']=data['homeFacts'].apply(lambda x: ast.literal_eval(x)['atAGlanceFacts'])\n"
   ]
  },
  {
   "cell_type": "code",
   "execution_count": 8,
   "metadata": {},
   "outputs": [
    {
     "data": {
      "text/plain": [
       "['Year built',\n",
       " 'Remodeled year',\n",
       " 'Heating',\n",
       " 'Cooling',\n",
       " 'Parking',\n",
       " 'lotsize',\n",
       " 'Price/sqft']"
      ]
     },
     "execution_count": 8,
     "metadata": {},
     "output_type": "execute_result"
    }
   ],
   "source": [
    "#Get Labels for df columns\n",
    "def getdata(x):\n",
    "    Labels=list()\n",
    "    for i in x:\n",
    "        Labels.append(i['factLabel'])\n",
    "    return Labels\n",
    "Labels=getdata(data.homeFacts[1])\n",
    "Labels"
   ]
  },
  {
   "cell_type": "code",
   "execution_count": 9,
   "metadata": {},
   "outputs": [],
   "source": [
    "#Convert dictionaries per row to appropriate columns in df and extract all the values\n",
    "for l in Labels:\n",
    "    data[l]=data['homeFacts'].apply(lambda x: x[Labels.index(l)]['factValue']) "
   ]
  },
  {
   "cell_type": "markdown",
   "metadata": {},
   "source": [
    "### Fill nas in sqft with existing lotsize values"
   ]
  },
  {
   "cell_type": "code",
   "execution_count": 10,
   "metadata": {},
   "outputs": [],
   "source": [
    "data.lotsize=data.lotsize.str.lower().str.strip()\n",
    "#Remove all acre substrings and convert the values to float and fill na of sqft with values\n",
    "data.sqft[(data.sqft.isna()==True)&(data.lotsize.str.contains('acre'))]=data.lotsize[(data.sqft.isna()==True)&(data.lotsize.str.contains('acre'))].str.replace(' acres','').str.replace(',','').str.replace(' acre','').astype(float)*43560.04"
   ]
  },
  {
   "cell_type": "code",
   "execution_count": 11,
   "metadata": {},
   "outputs": [],
   "source": [
    "#Remove all sq substrings and convert the values to float and fill na of sqft with values\n",
    "data.sqft[(data.sqft.isna()==True)&(data.lotsize.str.contains('sq'))]=data.lotsize[(data.sqft.isna()==True)&(data.lotsize.str.contains('sq'))].str.replace(' sq. ft.','').str.replace(',','').str.replace(' sqft','').astype(float)*43560.04"
   ]
  },
  {
   "cell_type": "markdown",
   "metadata": {},
   "source": [
    "## Price/sqft"
   ]
  },
  {
   "cell_type": "code",
   "execution_count": 12,
   "metadata": {},
   "outputs": [],
   "source": [
    "data['Price/sqft']=data['Price/sqft'].str.lower()"
   ]
  },
  {
   "cell_type": "code",
   "execution_count": 13,
   "metadata": {},
   "outputs": [],
   "source": [
    "data['Price/sqft'][(data['Price/sqft'].str.contains('$')==True)&(data['Price/sqft'].isna()==False)]=data['Price/sqft'][(data['Price/sqft'].str.contains('$')==True)&(data['Price/sqft'].isna()==False)].str.replace('$','')\n",
    "data['Price/sqft'][(data['Price/sqft'].str.contains('sq')==True)&(data['Price/sqft'].isna()==False)]=data['Price/sqft'][(data['Price/sqft'].str.contains('sq')==True)&(data['Price/sqft'].isna()==False)].str.replace('/sqft','').str.replace(' / sq. ft.','')\n",
    "data['Price/sqft'][(data['Price/sqft'].str.contains('no')==True)&(data['Price/sqft'].isna()==False)]=data['Price/sqft'][(data['Price/sqft'].str.contains('no')==True)&(data['Price/sqft'].isna()==False)].str.replace('no data','none').str.replace('no info','none')\n",
    "data['Price/sqft'][(data['Price/sqft'].str.contains(',')==True)&(data['Price/sqft'].isna()==False)]=data['Price/sqft'][(data['Price/sqft'].str.contains(',')==True)&(data['Price/sqft'].isna()==False)].str.replace(',','')\n",
    "data['Price/sqft'][(data['Price/sqft'].str.contains('contact manager')==True)&(data['Price/sqft'].isna()==False)]=data['Price/sqft'][(data['Price/sqft'].str.contains('contact manager')==True)&(data['Price/sqft'].isna()==False)].str.replace('contact manager','none')\n",
    "data['Price/sqft'][(data['Price/sqft']=='')&(data['Price/sqft'].isna()==False)]='none'"
   ]
  },
  {
   "cell_type": "code",
   "execution_count": 14,
   "metadata": {},
   "outputs": [
    {
     "data": {
      "text/plain": [
       "0          144\n",
       "1          159\n",
       "2          965\n",
       "3          371\n",
       "4         None\n",
       "          ... \n",
       "377180     311\n",
       "377181     337\n",
       "377182     458\n",
       "377183    None\n",
       "377184     140\n",
       "Name: Price/sqft, Length: 377185, dtype: object"
      ]
     },
     "execution_count": 14,
     "metadata": {},
     "output_type": "execute_result"
    }
   ],
   "source": [
    "data['Price/sqft'][(data['Price/sqft']!='none')&(data['Price/sqft'].isna()==False)]=data['Price/sqft'][(data['Price/sqft']!='none')&(data['Price/sqft'].isna()==False)].astype(float)\n",
    "data['Price/sqft']"
   ]
  },
  {
   "cell_type": "markdown",
   "metadata": {},
   "source": [
    "### Price of the Property (target) "
   ]
  },
  {
   "cell_type": "code",
   "execution_count": 15,
   "metadata": {},
   "outputs": [
    {
     "data": {
      "text/plain": [
       "'o-/ ,m+$'"
      ]
     },
     "execution_count": 15,
     "metadata": {},
     "output_type": "execute_result"
    }
   ],
   "source": [
    "#find symbols that are not numbers to replace\n",
    "\n",
    "symbollist=data.target.str.findall(r'\\D').value_counts().reset_index()['index']\n",
    "s=list()\n",
    "for i in symbollist:\n",
    "    s=s+i\n",
    "s=list(set(s))\n",
    "s=''.join(s)\n",
    "s"
   ]
  },
  {
   "cell_type": "code",
   "execution_count": 16,
   "metadata": {},
   "outputs": [],
   "source": [
    "#Function that First remove \",\",\"+\",\"/mo\" from all string values then If the string value is a range - take the average\n",
    "#Function returns for strings it's numeric value\n",
    "def clean_currency(x):\n",
    "    \"\"\"replace redundent symbols\"\"\"\n",
    "    if isinstance(x, str):\n",
    "        x=x.replace('$','').replace(',','').replace('+','').replace('/mo','')\n",
    "      \n",
    "    #for values that appears as range take the average\n",
    "    if isinstance(x, str) and x.find(' - ')>0:\n",
    "        a=x.find(' - ')\n",
    "        return((float(x[:a])+float(x[a+3:]))/2)  \n",
    "    return(float(x))"
   ]
  },
  {
   "cell_type": "code",
   "execution_count": 17,
   "metadata": {},
   "outputs": [],
   "source": [
    "data['target'] = data['target'].apply(clean_currency)\n",
    "data=data.rename(columns={'target':'Price'})"
   ]
  },
  {
   "cell_type": "code",
   "execution_count": 18,
   "metadata": {},
   "outputs": [
    {
     "name": "stdout",
     "output_type": "stream",
     "text": [
      "<class 'pandas.core.frame.DataFrame'>\n",
      "RangeIndex: 377185 entries, 0 to 377184\n",
      "Data columns (total 19 columns):\n",
      " #   Column          Non-Null Count   Dtype  \n",
      "---  ------          --------------   -----  \n",
      " 0   status          337267 non-null  object \n",
      " 1   private pool    4181 non-null    object \n",
      " 2   baths           270847 non-null  object \n",
      " 3   homeFacts       377185 non-null  object \n",
      " 4   fireplace       103115 non-null  object \n",
      " 5   sqft            362944 non-null  object \n",
      " 6   beds            285903 non-null  object \n",
      " 7   state           377185 non-null  object \n",
      " 8   stories         226470 non-null  object \n",
      " 9   PrivatePool     40311 non-null   object \n",
      " 10  propertyType    342452 non-null  object \n",
      " 11  Price           374704 non-null  float64\n",
      " 12  Year built      373572 non-null  object \n",
      " 13  Remodeled year  350616 non-null  object \n",
      " 14  Heating         373652 non-null  object \n",
      " 15  Cooling         373652 non-null  object \n",
      " 16  Parking         373652 non-null  object \n",
      " 17  lotsize         348797 non-null  object \n",
      " 18  Price/sqft      318632 non-null  object \n",
      "dtypes: float64(1), object(18)\n",
      "memory usage: 54.7+ MB\n"
     ]
    }
   ],
   "source": [
    "data.info()"
   ]
  },
  {
   "cell_type": "markdown",
   "metadata": {},
   "source": [
    "## sqft"
   ]
  },
  {
   "cell_type": "code",
   "execution_count": 19,
   "metadata": {},
   "outputs": [],
   "source": [
    "#use Area data for filling NAs for sqft\n",
    "values=data['beds'][data.beds.str.contains('sqft')==True]\n",
    "valuesA=data['beds'][data.beds.str.contains('acres')==True]\n",
    "data['sqft'][data.beds.str.contains('sqft')==True]=values\n",
    "data['sqft'][data.beds.str.contains('acres')==True]=valuesA\n",
    "data[['beds','sqft']][(data.beds.str.contains('sqft|acres')==True)]\n",
    "data['beds'][data.beds.str.contains('sqft|arcres')==True]='None'"
   ]
  },
  {
   "cell_type": "code",
   "execution_count": 20,
   "metadata": {},
   "outputs": [],
   "source": [
    "data.sqft[data.sqft.str.contains(' sqft|,')==True]=data.sqft[data.sqft.str.contains(' sqft|,')==True].str.replace(' sqft','').str.replace(',','')\n",
    "data.sqft[data.sqft.str.contains('acre')==True]=data.sqft[data.sqft.str.contains('acre')==True].str.replace(' acres','').astype(float)*43560.04\n",
    "data.sqft[(data.sqft.str.contains('\\D')==True)&(data.sqft.isna()==False)]=data.sqft[(data.sqft.str.contains('\\D')==True)&(data.sqft.isna()==False)].str.replace('\\D','')\n",
    "#fill blank with mean of non blank\n",
    "data.sqft[(data.sqft.isna()==False)&(data.sqft=='')]=data.sqft[(data.sqft.isna()==False)&(data.sqft!='')].astype(float).mean()\n",
    "data.sqft[(data.sqft.isna()==False)]=data.sqft[(data.sqft.isna()==False)].astype(float)"
   ]
  },
  {
   "cell_type": "code",
   "execution_count": 21,
   "metadata": {},
   "outputs": [],
   "source": [
    "#Group data according to property type and take the average area for each property type for NA\n",
    "Area=data[['sqft','propertyType']]\n",
    "Area['sqft']=Area['sqft'][Area.sqft.isna()==False].astype(float)\n",
    "Area=Area[Area.sqft.isna()==False].groupby(by='propertyType').mean().reset_index()\n",
    "Area.sqft=Area.sqft.round(decimals=0)\n",
    "data.sqft[data.sqft.isna()==True]=data[data.sqft.isna()==True].merge(Area, on='propertyType', how='left').sqft_y\n"
   ]
  },
  {
   "cell_type": "markdown",
   "metadata": {},
   "source": [
    "### Use Price, sqft and Price/sqft to fill na's"
   ]
  },
  {
   "cell_type": "code",
   "execution_count": 22,
   "metadata": {},
   "outputs": [],
   "source": [
    "#replace sqft nas with [Price]/[Price/sqft]\n",
    "data1=data[['Price/sqft','sqft','Price']][(data.sqft.isna()==True)&(data['Price/sqft'].isna()==False)&(data.Price.isna()==False)&(data['Price/sqft']!='none')]\n",
    "data1.sqft=data1.Price/data1['Price/sqft']\n",
    "data['sqft'].iloc[data1.index]=data1.sqft"
   ]
  },
  {
   "cell_type": "code",
   "execution_count": 23,
   "metadata": {},
   "outputs": [
    {
     "name": "stdout",
     "output_type": "stream",
     "text": [
      "<class 'pandas.core.frame.DataFrame'>\n",
      "RangeIndex: 377185 entries, 0 to 377184\n",
      "Data columns (total 19 columns):\n",
      " #   Column          Non-Null Count   Dtype \n",
      "---  ------          --------------   ----- \n",
      " 0   status          337267 non-null  object\n",
      " 1   private pool    4181 non-null    object\n",
      " 2   baths           270847 non-null  object\n",
      " 3   homeFacts       377185 non-null  object\n",
      " 4   fireplace       103115 non-null  object\n",
      " 5   sqft            366397 non-null  object\n",
      " 6   beds            285903 non-null  object\n",
      " 7   state           377185 non-null  object\n",
      " 8   stories         226470 non-null  object\n",
      " 9   PrivatePool     40311 non-null   object\n",
      " 10  propertyType    342452 non-null  object\n",
      " 11  Price           375054 non-null  object\n",
      " 12  Year built      373572 non-null  object\n",
      " 13  Remodeled year  350616 non-null  object\n",
      " 14  Heating         373652 non-null  object\n",
      " 15  Cooling         373652 non-null  object\n",
      " 16  Parking         373652 non-null  object\n",
      " 17  lotsize         348797 non-null  object\n",
      " 18  Price/sqft      318632 non-null  object\n",
      "dtypes: object(19)\n",
      "memory usage: 54.7+ MB\n"
     ]
    }
   ],
   "source": [
    "#replace Price nas with [sqft]*[Price/sqft]\n",
    "data1=data[['Price/sqft','sqft','Price']][((data.Price.isna()==True)&data.sqft.isna()==False)&(data['Price/sqft'].isna()==False)&(data['Price/sqft']!='none')]\n",
    "data1.Price=data1.sqft*data1['Price/sqft']\n",
    "data['Price'].iloc[data1.index]=data1.Price\n",
    "data.info()"
   ]
  },
  {
   "cell_type": "code",
   "execution_count": 24,
   "metadata": {},
   "outputs": [],
   "source": [
    "data.drop(['Price/sqft','lotsize'],axis=1,inplace=True)"
   ]
  },
  {
   "cell_type": "markdown",
   "metadata": {},
   "source": [
    "### Get rid of the rows where Price and sqft is NA"
   ]
  },
  {
   "cell_type": "code",
   "execution_count": 25,
   "metadata": {},
   "outputs": [],
   "source": [
    "data.dropna(subset=['sqft'],axis=0,inplace=True)\n",
    "data.dropna(subset=['Price'],axis=0,inplace=True)"
   ]
  },
  {
   "cell_type": "code",
   "execution_count": 26,
   "metadata": {},
   "outputs": [],
   "source": [
    "data.sqft=data.sqft.astype(float)\n",
    "data.Price=data.Price.astype(float)"
   ]
  },
  {
   "cell_type": "code",
   "execution_count": 27,
   "metadata": {},
   "outputs": [
    {
     "name": "stdout",
     "output_type": "stream",
     "text": [
      "<class 'pandas.core.frame.DataFrame'>\n",
      "Int64Index: 364386 entries, 0 to 377184\n",
      "Data columns (total 17 columns):\n",
      " #   Column          Non-Null Count   Dtype  \n",
      "---  ------          --------------   -----  \n",
      " 0   status          325156 non-null  object \n",
      " 1   private pool    4151 non-null    object \n",
      " 2   baths           267791 non-null  object \n",
      " 3   homeFacts       364386 non-null  object \n",
      " 4   fireplace       102413 non-null  object \n",
      " 5   sqft            364386 non-null  float64\n",
      " 6   beds            281456 non-null  object \n",
      " 7   state           364386 non-null  object \n",
      " 8   stories         224449 non-null  object \n",
      " 9   PrivatePool     40004 non-null   object \n",
      " 10  propertyType    337418 non-null  object \n",
      " 11  Price           364386 non-null  float64\n",
      " 12  Year built      360884 non-null  object \n",
      " 13  Remodeled year  338198 non-null  object \n",
      " 14  Heating         360960 non-null  object \n",
      " 15  Cooling         360960 non-null  object \n",
      " 16  Parking         360960 non-null  object \n",
      "dtypes: float64(2), object(15)\n",
      "memory usage: 50.0+ MB\n"
     ]
    }
   ],
   "source": [
    "data.info()"
   ]
  },
  {
   "cell_type": "code",
   "execution_count": 28,
   "metadata": {},
   "outputs": [],
   "source": [
    "#data.to_csv('dataintermediate.csv',index=False)\n",
    "saveData(data)"
   ]
  },
  {
   "cell_type": "code",
   "execution_count": 29,
   "metadata": {},
   "outputs": [
    {
     "data": {
      "text/plain": [
       "status                                                     for sale\n",
       "private pool                                                    NaN\n",
       "baths                                                           NaN\n",
       "homeFacts         [{'factValue': '', 'factLabel': 'Year built'},...\n",
       "fireplace                                                       NaN\n",
       "sqft                                                    4.36428e+08\n",
       "beds                                                            NaN\n",
       "state                                                            FL\n",
       "stories                                                         NaN\n",
       "PrivatePool                                                     NaN\n",
       "propertyType                                               lot/land\n",
       "Price                                                          5000\n",
       "Year built                                                      NaN\n",
       "Remodeled year                                                  NaN\n",
       "Heating                                                         NaN\n",
       "Cooling                                                         NaN\n",
       "Parking                                                         NaN\n",
       "Name: 4, dtype: object"
      ]
     },
     "execution_count": 29,
     "metadata": {},
     "output_type": "execute_result"
    }
   ],
   "source": [
    "data=pd.read_csv('dataintermediate.csv')\n",
    "data.iloc[4]"
   ]
  },
  {
   "cell_type": "markdown",
   "metadata": {},
   "source": [
    "## Year built and remodeled"
   ]
  },
  {
   "cell_type": "code",
   "execution_count": 30,
   "metadata": {},
   "outputs": [
    {
     "name": "stdout",
     "output_type": "stream",
     "text": [
      "<class 'pandas.core.frame.DataFrame'>\n",
      "RangeIndex: 364386 entries, 0 to 364385\n",
      "Data columns (total 17 columns):\n",
      " #   Column          Non-Null Count   Dtype  \n",
      "---  ------          --------------   -----  \n",
      " 0   status          325156 non-null  object \n",
      " 1   private pool    4151 non-null    object \n",
      " 2   baths           267791 non-null  object \n",
      " 3   homeFacts       364386 non-null  object \n",
      " 4   fireplace       102413 non-null  object \n",
      " 5   sqft            364386 non-null  float64\n",
      " 6   beds            281456 non-null  object \n",
      " 7   state           364386 non-null  object \n",
      " 8   stories         224449 non-null  object \n",
      " 9   PrivatePool     40004 non-null   object \n",
      " 10  propertyType    337418 non-null  object \n",
      " 11  Price           364386 non-null  float64\n",
      " 12  Year built      310492 non-null  object \n",
      " 13  Remodeled year  149361 non-null  float64\n",
      " 14  Heating         264567 non-null  object \n",
      " 15  Cooling         250334 non-null  object \n",
      " 16  Parking         199711 non-null  object \n",
      "dtypes: float64(3), object(14)\n",
      "memory usage: 47.3+ MB\n"
     ]
    }
   ],
   "source": [
    "data=pd.read_csv('dataintermediate.csv')\n",
    "data.info()"
   ]
  },
  {
   "cell_type": "code",
   "execution_count": 31,
   "metadata": {},
   "outputs": [],
   "source": [
    "#put indexes of str and num values in to variables\n",
    "stri=data['Year built'][data['Year built'].str.contains('\\D')==True].index\n",
    "numi=data['Year built'][data['Year built'].str.contains('\\D')==False].index"
   ]
  },
  {
   "cell_type": "code",
   "execution_count": 32,
   "metadata": {},
   "outputs": [],
   "source": [
    "#replace exeptions where there is no sence (smaller than 0 or bigger than 2020) by No Data\n",
    "iyearexp=data['Year built'].iloc[numi].astype('int64')[(data['Year built'].iloc[numi].astype('int64')<0)|(data['Year built'].iloc[numi].astype('int64')>2020)].index\n",
    "data['Year built'].iloc[iyearexp]='No Data'\n",
    "numi=data['Year built'][data['Year built'].str.contains('\\D')==False].index\n",
    "stri=data['Year built'][data['Year built'].str.contains('\\D')==True].index"
   ]
  },
  {
   "cell_type": "code",
   "execution_count": 33,
   "metadata": {},
   "outputs": [
    {
     "data": {
      "image/png": "[encoded data removed]",
      "text/plain": [
       "<Figure size 432x288 with 1 Axes>"
      ]
     },
     "metadata": {
      "needs_background": "light"
     },
     "output_type": "display_data"
    }
   ],
   "source": [
    "#Check if there are more exeptions\n",
    "sns.boxplot(data['Year built'].iloc[numi].astype('int64'), color='yellow');"
   ]
  },
  {
   "cell_type": "code",
   "execution_count": 34,
   "metadata": {},
   "outputs": [],
   "source": [
    "#Drop more exeptions values that smaller than 1500 -> update number indexes value\n",
    "iyearexp=data['Year built'].iloc[numi].astype('int64')[(data['Year built'].iloc[numi].astype('int64')<1500)|(data['Year built'].iloc[numi].astype('int64')>2020)].index\n",
    "data['Year built'].iloc[iyearexp]='No Data'\n",
    "numi=data['Year built'][data['Year built'].str.contains('\\D')==False].index\n",
    "stri=data['Year built'][data['Year built'].str.contains('\\D')==True].index"
   ]
  },
  {
   "cell_type": "code",
   "execution_count": 35,
   "metadata": {},
   "outputs": [
    {
     "data": {
      "image/png": "[encoded data removed]",
      "text/plain": [
       "<Figure size 432x288 with 1 Axes>"
      ]
     },
     "metadata": {
      "needs_background": "light"
     },
     "output_type": "display_data"
    }
   ],
   "source": [
    "sns.boxplot(data['Year built'].iloc[numi].astype('int64'), color='yellow');"
   ]
  },
  {
   "cell_type": "code",
   "execution_count": 36,
   "metadata": {},
   "outputs": [],
   "source": [
    "#convert numeric data to integer\n",
    "data['Year built'].iloc[numi]=data['Year built'].iloc[numi].astype(int)"
   ]
  },
  {
   "cell_type": "code",
   "execution_count": 37,
   "metadata": {},
   "outputs": [],
   "source": [
    "#replace string data to mean of numeric data\n",
    "data['Year built'].iloc[stri]=int(round(data['Year built'].iloc[numi].mean(),0))"
   ]
  },
  {
   "cell_type": "code",
   "execution_count": 38,
   "metadata": {},
   "outputs": [],
   "source": [
    "#fill nas with the mean of numeric values\n",
    "data['Year built'].fillna(int(round(data['Year built'].iloc[numi].mean(),0)),inplace=True)"
   ]
  },
  {
   "cell_type": "code",
   "execution_count": 39,
   "metadata": {},
   "outputs": [
    {
     "data": {
      "text/plain": [
       "count    364386.000000\n",
       "mean       1979.280332\n",
       "std          30.923218\n",
       "min        1700.000000\n",
       "25%        1962.000000\n",
       "50%        1979.000000\n",
       "75%        2005.000000\n",
       "max        2020.000000\n",
       "Name: Year built, dtype: float64"
      ]
     },
     "execution_count": 39,
     "metadata": {},
     "output_type": "execute_result"
    }
   ],
   "source": [
    "data['Year built'].describe()"
   ]
  },
  {
   "cell_type": "code",
   "execution_count": 40,
   "metadata": {},
   "outputs": [],
   "source": [
    "data['Remodeled year'].fillna(data['Remodeled year'].notnull().mean(),inplace=True)\n",
    "data['Remodeled year']=data['Remodeled year'].astype(int)"
   ]
  },
  {
   "cell_type": "markdown",
   "metadata": {},
   "source": [
    "### Status"
   ]
  },
  {
   "cell_type": "code",
   "execution_count": 41,
   "metadata": {},
   "outputs": [
    {
     "data": {
      "text/html": [
       "<div>\n",
       "<style scoped>\n",
       "    .dataframe tbody tr th:only-of-type {\n",
       "        vertical-align: middle;\n",
       "    }\n",
       "\n",
       "    .dataframe tbody tr th {\n",
       "        vertical-align: top;\n",
       "    }\n",
       "\n",
       "    .dataframe thead th {\n",
       "        text-align: right;\n",
       "    }\n",
       "</style>\n",
       "<table border=\"1\" class=\"dataframe\">\n",
       "  <thead>\n",
       "    <tr style=\"text-align: right;\">\n",
       "      <th></th>\n",
       "      <th>index</th>\n",
       "      <th>status</th>\n",
       "    </tr>\n",
       "  </thead>\n",
       "  <tbody>\n",
       "    <tr>\n",
       "      <th>0</th>\n",
       "      <td>for sale</td>\n",
       "      <td>0.607195</td>\n",
       "    </tr>\n",
       "    <tr>\n",
       "      <th>1</th>\n",
       "      <td>active</td>\n",
       "      <td>0.298552</td>\n",
       "    </tr>\n",
       "    <tr>\n",
       "      <th>2</th>\n",
       "      <td>foreclosure</td>\n",
       "      <td>0.018330</td>\n",
       "    </tr>\n",
       "    <tr>\n",
       "      <th>3</th>\n",
       "      <td>new construction</td>\n",
       "      <td>0.016783</td>\n",
       "    </tr>\n",
       "    <tr>\n",
       "      <th>4</th>\n",
       "      <td>pending</td>\n",
       "      <td>0.014756</td>\n",
       "    </tr>\n",
       "    <tr>\n",
       "      <th>...</th>\n",
       "      <td>...</td>\n",
       "      <td>...</td>\n",
       "    </tr>\n",
       "    <tr>\n",
       "      <th>145</th>\n",
       "      <td>pending - backup offer requested</td>\n",
       "      <td>0.000003</td>\n",
       "    </tr>\n",
       "    <tr>\n",
       "      <th>146</th>\n",
       "      <td>under contract w/ bckp</td>\n",
       "      <td>0.000003</td>\n",
       "    </tr>\n",
       "    <tr>\n",
       "      <th>147</th>\n",
       "      <td>coming soon: dec 12.</td>\n",
       "      <td>0.000003</td>\n",
       "    </tr>\n",
       "    <tr>\n",
       "      <th>148</th>\n",
       "      <td>pending bring backup</td>\n",
       "      <td>0.000003</td>\n",
       "    </tr>\n",
       "    <tr>\n",
       "      <th>149</th>\n",
       "      <td>coming soon: nov 25.</td>\n",
       "      <td>0.000003</td>\n",
       "    </tr>\n",
       "  </tbody>\n",
       "</table>\n",
       "<p>150 rows × 2 columns</p>\n",
       "</div>"
      ],
      "text/plain": [
       "                                index    status\n",
       "0                            for sale  0.607195\n",
       "1                              active  0.298552\n",
       "2                         foreclosure  0.018330\n",
       "3                    new construction  0.016783\n",
       "4                             pending  0.014756\n",
       "..                                ...       ...\n",
       "145  pending - backup offer requested  0.000003\n",
       "146            under contract w/ bckp  0.000003\n",
       "147              coming soon: dec 12.  0.000003\n",
       "148              pending bring backup  0.000003\n",
       "149              coming soon: nov 25.  0.000003\n",
       "\n",
       "[150 rows x 2 columns]"
      ]
     },
     "execution_count": 41,
     "metadata": {},
     "output_type": "execute_result"
    }
   ],
   "source": [
    "data.status=data.status.str.lower()\n",
    "status=data.status\n",
    "status=status.value_counts(normalize=True).reset_index()\n",
    "status\n",
    "#according to next summary I would use only for sale, active, accepted for status(that are 91% of overall amount), the rest will be dropped"
   ]
  },
  {
   "cell_type": "code",
   "execution_count": 42,
   "metadata": {},
   "outputs": [
    {
     "data": {
      "text/html": [
       "<div>\n",
       "<style scoped>\n",
       "    .dataframe tbody tr th:only-of-type {\n",
       "        vertical-align: middle;\n",
       "    }\n",
       "\n",
       "    .dataframe tbody tr th {\n",
       "        vertical-align: top;\n",
       "    }\n",
       "\n",
       "    .dataframe thead th {\n",
       "        text-align: right;\n",
       "    }\n",
       "</style>\n",
       "<table border=\"1\" class=\"dataframe\">\n",
       "  <thead>\n",
       "    <tr style=\"text-align: right;\">\n",
       "      <th></th>\n",
       "      <th>newStatus</th>\n",
       "      <th>status</th>\n",
       "    </tr>\n",
       "  </thead>\n",
       "  <tbody>\n",
       "    <tr>\n",
       "      <th>0</th>\n",
       "      <td>1</td>\n",
       "      <td>0.909902</td>\n",
       "    </tr>\n",
       "    <tr>\n",
       "      <th>1</th>\n",
       "      <td>/ auction</td>\n",
       "      <td>0.002454</td>\n",
       "    </tr>\n",
       "    <tr>\n",
       "      <th>2</th>\n",
       "      <td>accepting backups</td>\n",
       "      <td>0.000006</td>\n",
       "    </tr>\n",
       "    <tr>\n",
       "      <th>3</th>\n",
       "      <td>apartment for rent</td>\n",
       "      <td>0.000022</td>\n",
       "    </tr>\n",
       "    <tr>\n",
       "      <th>4</th>\n",
       "      <td>auction</td>\n",
       "      <td>0.001489</td>\n",
       "    </tr>\n",
       "    <tr>\n",
       "      <th>...</th>\n",
       "      <td>...</td>\n",
       "      <td>...</td>\n",
       "    </tr>\n",
       "    <tr>\n",
       "      <th>128</th>\n",
       "      <td>under contract - show</td>\n",
       "      <td>0.000028</td>\n",
       "    </tr>\n",
       "    <tr>\n",
       "      <th>129</th>\n",
       "      <td>under contract backups</td>\n",
       "      <td>0.000775</td>\n",
       "    </tr>\n",
       "    <tr>\n",
       "      <th>130</th>\n",
       "      <td>under contract show</td>\n",
       "      <td>0.003638</td>\n",
       "    </tr>\n",
       "    <tr>\n",
       "      <th>131</th>\n",
       "      <td>under contract taking back up offers</td>\n",
       "      <td>0.000003</td>\n",
       "    </tr>\n",
       "    <tr>\n",
       "      <th>132</th>\n",
       "      <td>under contract w/ bckp</td>\n",
       "      <td>0.000003</td>\n",
       "    </tr>\n",
       "  </tbody>\n",
       "</table>\n",
       "<p>133 rows × 2 columns</p>\n",
       "</div>"
      ],
      "text/plain": [
       "                                newStatus    status\n",
       "0                                       1  0.909902\n",
       "1                               / auction  0.002454\n",
       "2                       accepting backups  0.000006\n",
       "3                      apartment for rent  0.000022\n",
       "4                                 auction  0.001489\n",
       "..                                    ...       ...\n",
       "128                 under contract - show  0.000028\n",
       "129                under contract backups  0.000775\n",
       "130                   under contract show  0.003638\n",
       "131  under contract taking back up offers  0.000003\n",
       "132                under contract w/ bckp  0.000003\n",
       "\n",
       "[133 rows x 2 columns]"
      ]
     },
     "execution_count": 42,
     "metadata": {},
     "output_type": "execute_result"
    }
   ],
   "source": [
    "strlist=['for sale','active','accepted']\n",
    "status['newStatus']=status['index'].apply(lambda x: substringExists(x,strlist))\n",
    "nstatus=status.groupby('newStatus').sum().reset_index()\n",
    "nstatus"
   ]
  },
  {
   "cell_type": "code",
   "execution_count": 43,
   "metadata": {},
   "outputs": [
    {
     "data": {
      "text/plain": [
       "['foreclosure',\n",
       " 'new construction',\n",
       " 'pending',\n",
       " 'pre-foreclosure',\n",
       " 'p',\n",
       " 'pre-foreclosure / auction',\n",
       " 'under contract show',\n",
       " ' / auction',\n",
       " 'under contract   showing',\n",
       " 'under contract',\n",
       " 'new',\n",
       " 'contingent',\n",
       " 'price change',\n",
       " 'auction',\n",
       " 'for rent',\n",
       " 'foreclosed',\n",
       " 'recently sold',\n",
       " 'under contract backups',\n",
       " 'contingent finance and inspection',\n",
       " 'pending continue to show',\n",
       " 'back on market',\n",
       " 'option pending',\n",
       " 'contingent show',\n",
       " 'pending taking backups',\n",
       " 'option contract',\n",
       " 'pending with contingencies',\n",
       " 'c',\n",
       " 'contract p',\n",
       " 'pi',\n",
       " 'p pending sale',\n",
       " 'due diligence period',\n",
       " 'contract contingent on buyer sale',\n",
       " 'listing extended',\n",
       " 'c continue show',\n",
       " 'pending - taking backups',\n",
       " 'closed',\n",
       " 'offer pending signature',\n",
       " 'pending inspection',\n",
       " 'contingent take backup',\n",
       " 'contingent   show',\n",
       " 'pending in',\n",
       " 'contingent escape',\n",
       " 'u under contract',\n",
       " 'pending w/insp finance',\n",
       " 'coming soon: nov 29.',\n",
       " 'contingency contract',\n",
       " 'under contract - show',\n",
       " 'ct insp - inspection contingency',\n",
       " 'coming soon: dec 6.',\n",
       " 'pending ab',\n",
       " 'apartment for rent',\n",
       " 'coming soon: dec 5.',\n",
       " 'condo for rent',\n",
       " 'coming soon: dec 4.',\n",
       " 'backup contract',\n",
       " 'ct',\n",
       " 'pending   continue to show   financing',\n",
       " 'coming soon: dec 13.',\n",
       " 'contingency 48 hr (+/ )',\n",
       " 'coming soon: nov 27.',\n",
       " 'contingent lien holder release',\n",
       " 'pending offer approval',\n",
       " 'coming soon: dec 10.',\n",
       " 'coming soon: nov 19.',\n",
       " 'coming soon: dec 3.',\n",
       " 'coming soon: nov 30.',\n",
       " 'coming soon: nov 28.',\n",
       " 'coming soon: dec 7.',\n",
       " 'pf',\n",
       " 'pending fe',\n",
       " 'coming soon: dec 2.',\n",
       " 'coming soon: dec 14.',\n",
       " 'contingent   release',\n",
       " 'coming soon: dec 9.',\n",
       " 'pending   continue to show',\n",
       " 'lease/purchase pending',\n",
       " 'pending - continue to show',\n",
       " 'coming soon: dec 24.',\n",
       " 'coming soon: nov 22.',\n",
       " 'uc continue to show',\n",
       " 'contingent   foreclosure',\n",
       " 'coming soon: dec 16.',\n",
       " 'contingent - financing',\n",
       " 'pending w/ cont.',\n",
       " 'coming soon: nov 21.',\n",
       " 're activated',\n",
       " 'ps',\n",
       " 'pending sale',\n",
       " 'coming soon: dec 18.',\n",
       " 'coming soon: dec 20.',\n",
       " 'accepting backups',\n",
       " 'coming soon: oct 30.',\n",
       " 'coming soon: nov 13.',\n",
       " 'coming soon: dec 11.',\n",
       " 'pending (do not show)',\n",
       " 'under contract - no show',\n",
       " 'reactivated',\n",
       " 'coming soon: nov 14.',\n",
       " 'coming soon: nov 5.',\n",
       " 'coming soon: dec 1.',\n",
       " 'pending backups wanted',\n",
       " 'pending, continue to show',\n",
       " 'contingent   no show',\n",
       " 'contingent - sale of home',\n",
       " 'sold: $15,000',\n",
       " 'coming soon: nov 12.',\n",
       " 'pending w/escape clause',\n",
       " 'pending sh',\n",
       " 'coming soon: nov 23.',\n",
       " 'contract',\n",
       " 'coming soon: nov 11.',\n",
       " 'coming soon: nov 17.',\n",
       " 'coming soon: oct 21.',\n",
       " 'coming soon: dec 23.',\n",
       " 'coming soon: nov 26.',\n",
       " 'coming soon: dec 15.',\n",
       " 'coming soon: nov 8.',\n",
       " 'coming soon: dec 25.',\n",
       " 'conditional contract',\n",
       " 'conting accpt backups',\n",
       " 'coming soon: oct 24.',\n",
       " 'coming soon: dec 27.',\n",
       " 'under contract taking back up offers',\n",
       " 'coming soon: oct 29.',\n",
       " 'lease/purchase',\n",
       " 'pending take backups',\n",
       " 'pending w/backup wanted',\n",
       " 'pending - backup offer requested',\n",
       " 'under contract w/ bckp',\n",
       " 'coming soon: dec 12.',\n",
       " 'pending bring backup',\n",
       " 'coming soon: nov 25.']"
      ]
     },
     "execution_count": 43,
     "metadata": {},
     "output_type": "execute_result"
    }
   ],
   "source": [
    "#create list of statuses that are not relevant and then drop them from df\n",
    "nstatus=status[status['newStatus']!=1]['newStatus']\n",
    "nstatus.tolist()"
   ]
  },
  {
   "cell_type": "code",
   "execution_count": 44,
   "metadata": {},
   "outputs": [
    {
     "data": {
      "text/html": [
       "<div>\n",
       "<style scoped>\n",
       "    .dataframe tbody tr th:only-of-type {\n",
       "        vertical-align: middle;\n",
       "    }\n",
       "\n",
       "    .dataframe tbody tr th {\n",
       "        vertical-align: top;\n",
       "    }\n",
       "\n",
       "    .dataframe thead th {\n",
       "        text-align: right;\n",
       "    }\n",
       "</style>\n",
       "<table border=\"1\" class=\"dataframe\">\n",
       "  <thead>\n",
       "    <tr style=\"text-align: right;\">\n",
       "      <th></th>\n",
       "      <th>private pool</th>\n",
       "      <th>baths</th>\n",
       "      <th>homeFacts</th>\n",
       "      <th>fireplace</th>\n",
       "      <th>sqft</th>\n",
       "      <th>beds</th>\n",
       "      <th>state</th>\n",
       "      <th>stories</th>\n",
       "      <th>PrivatePool</th>\n",
       "      <th>propertyType</th>\n",
       "      <th>Price</th>\n",
       "      <th>Year built</th>\n",
       "      <th>Remodeled year</th>\n",
       "      <th>Heating</th>\n",
       "      <th>Cooling</th>\n",
       "      <th>Parking</th>\n",
       "    </tr>\n",
       "  </thead>\n",
       "  <tbody>\n",
       "    <tr>\n",
       "      <th>0</th>\n",
       "      <td>NaN</td>\n",
       "      <td>3.5</td>\n",
       "      <td>[{'factValue': '2019', 'factLabel': 'Year buil...</td>\n",
       "      <td>Gas Logs</td>\n",
       "      <td>2.900000e+03</td>\n",
       "      <td>4</td>\n",
       "      <td>NC</td>\n",
       "      <td>NaN</td>\n",
       "      <td>NaN</td>\n",
       "      <td>Single Family Home</td>\n",
       "      <td>417600.0</td>\n",
       "      <td>2019</td>\n",
       "      <td>0</td>\n",
       "      <td>Central A/C, Heat Pump</td>\n",
       "      <td>NaN</td>\n",
       "      <td>NaN</td>\n",
       "    </tr>\n",
       "    <tr>\n",
       "      <th>1</th>\n",
       "      <td>NaN</td>\n",
       "      <td>3 Baths</td>\n",
       "      <td>[{'factValue': '2019', 'factLabel': 'Year buil...</td>\n",
       "      <td>NaN</td>\n",
       "      <td>1.947000e+03</td>\n",
       "      <td>3 Beds</td>\n",
       "      <td>WA</td>\n",
       "      <td>2.0</td>\n",
       "      <td>NaN</td>\n",
       "      <td>single-family home</td>\n",
       "      <td>309573.0</td>\n",
       "      <td>2019</td>\n",
       "      <td>0</td>\n",
       "      <td>NaN</td>\n",
       "      <td>NaN</td>\n",
       "      <td>NaN</td>\n",
       "    </tr>\n",
       "    <tr>\n",
       "      <th>2</th>\n",
       "      <td>NaN</td>\n",
       "      <td>2 Baths</td>\n",
       "      <td>[{'factValue': '1961', 'factLabel': 'Year buil...</td>\n",
       "      <td>yes</td>\n",
       "      <td>3.000000e+03</td>\n",
       "      <td>3 Beds</td>\n",
       "      <td>CA</td>\n",
       "      <td>1.0</td>\n",
       "      <td>yes</td>\n",
       "      <td>single-family home</td>\n",
       "      <td>2895000.0</td>\n",
       "      <td>1961</td>\n",
       "      <td>1967</td>\n",
       "      <td>Forced Air</td>\n",
       "      <td>Central</td>\n",
       "      <td>Attached Garage</td>\n",
       "    </tr>\n",
       "    <tr>\n",
       "      <th>3</th>\n",
       "      <td>NaN</td>\n",
       "      <td>8 Baths</td>\n",
       "      <td>[{'factValue': '2006', 'factLabel': 'Year buil...</td>\n",
       "      <td>yes</td>\n",
       "      <td>6.457000e+03</td>\n",
       "      <td>5 Beds</td>\n",
       "      <td>TX</td>\n",
       "      <td>3.0</td>\n",
       "      <td>NaN</td>\n",
       "      <td>single-family home</td>\n",
       "      <td>2395547.0</td>\n",
       "      <td>2006</td>\n",
       "      <td>2006</td>\n",
       "      <td>Forced Air</td>\n",
       "      <td>Central</td>\n",
       "      <td>Detached Garage</td>\n",
       "    </tr>\n",
       "    <tr>\n",
       "      <th>4</th>\n",
       "      <td>NaN</td>\n",
       "      <td>NaN</td>\n",
       "      <td>[{'factValue': '', 'factLabel': 'Year built'},...</td>\n",
       "      <td>NaN</td>\n",
       "      <td>4.364280e+08</td>\n",
       "      <td>NaN</td>\n",
       "      <td>FL</td>\n",
       "      <td>NaN</td>\n",
       "      <td>NaN</td>\n",
       "      <td>lot/land</td>\n",
       "      <td>5000.0</td>\n",
       "      <td>1979</td>\n",
       "      <td>0</td>\n",
       "      <td>NaN</td>\n",
       "      <td>NaN</td>\n",
       "      <td>NaN</td>\n",
       "    </tr>\n",
       "    <tr>\n",
       "      <th>...</th>\n",
       "      <td>...</td>\n",
       "      <td>...</td>\n",
       "      <td>...</td>\n",
       "      <td>...</td>\n",
       "      <td>...</td>\n",
       "      <td>...</td>\n",
       "      <td>...</td>\n",
       "      <td>...</td>\n",
       "      <td>...</td>\n",
       "      <td>...</td>\n",
       "      <td>...</td>\n",
       "      <td>...</td>\n",
       "      <td>...</td>\n",
       "      <td>...</td>\n",
       "      <td>...</td>\n",
       "      <td>...</td>\n",
       "    </tr>\n",
       "    <tr>\n",
       "      <th>335085</th>\n",
       "      <td>NaN</td>\n",
       "      <td>6.0</td>\n",
       "      <td>[{'factValue': '1990', 'factLabel': 'Year buil...</td>\n",
       "      <td>NaN</td>\n",
       "      <td>4.017000e+03</td>\n",
       "      <td>5</td>\n",
       "      <td>FL</td>\n",
       "      <td>0.0</td>\n",
       "      <td>Yes</td>\n",
       "      <td>Single Family</td>\n",
       "      <td>1249287.0</td>\n",
       "      <td>1990</td>\n",
       "      <td>1990</td>\n",
       "      <td>Other</td>\n",
       "      <td>Central</td>\n",
       "      <td>2 spaces</td>\n",
       "    </tr>\n",
       "    <tr>\n",
       "      <th>335086</th>\n",
       "      <td>NaN</td>\n",
       "      <td>3 Baths</td>\n",
       "      <td>[{'factValue': '1924', 'factLabel': 'Year buil...</td>\n",
       "      <td>NaN</td>\n",
       "      <td>2.000000e+03</td>\n",
       "      <td>3 Beds</td>\n",
       "      <td>IL</td>\n",
       "      <td>9.0</td>\n",
       "      <td>NaN</td>\n",
       "      <td>condo</td>\n",
       "      <td>674000.0</td>\n",
       "      <td>1924</td>\n",
       "      <td>0</td>\n",
       "      <td>Radiant</td>\n",
       "      <td>NaN</td>\n",
       "      <td>None</td>\n",
       "    </tr>\n",
       "    <tr>\n",
       "      <th>335087</th>\n",
       "      <td>NaN</td>\n",
       "      <td>3 Baths</td>\n",
       "      <td>[{'factValue': '1950', 'factLabel': 'Year buil...</td>\n",
       "      <td>NaN</td>\n",
       "      <td>1.152000e+03</td>\n",
       "      <td>3 Beds</td>\n",
       "      <td>NY</td>\n",
       "      <td>2</td>\n",
       "      <td>NaN</td>\n",
       "      <td>single-family home</td>\n",
       "      <td>527616.0</td>\n",
       "      <td>1950</td>\n",
       "      <td>1950</td>\n",
       "      <td>Other</td>\n",
       "      <td>NaN</td>\n",
       "      <td>2</td>\n",
       "    </tr>\n",
       "    <tr>\n",
       "      <th>335088</th>\n",
       "      <td>NaN</td>\n",
       "      <td>NaN</td>\n",
       "      <td>[{'factValue': None, 'factLabel': 'Year built'...</td>\n",
       "      <td>NaN</td>\n",
       "      <td>8.479000e+03</td>\n",
       "      <td>None</td>\n",
       "      <td>TX</td>\n",
       "      <td>NaN</td>\n",
       "      <td>NaN</td>\n",
       "      <td>NaN</td>\n",
       "      <td>34500.0</td>\n",
       "      <td>1979</td>\n",
       "      <td>0</td>\n",
       "      <td>NaN</td>\n",
       "      <td>NaN</td>\n",
       "      <td>NaN</td>\n",
       "    </tr>\n",
       "    <tr>\n",
       "      <th>335089</th>\n",
       "      <td>NaN</td>\n",
       "      <td>2.0</td>\n",
       "      <td>[{'factValue': '2019', 'factLabel': 'Year buil...</td>\n",
       "      <td>Not Applicable</td>\n",
       "      <td>1.462000e+03</td>\n",
       "      <td>3</td>\n",
       "      <td>TX</td>\n",
       "      <td>1.0</td>\n",
       "      <td>NaN</td>\n",
       "      <td>Single Family</td>\n",
       "      <td>204680.0</td>\n",
       "      <td>2019</td>\n",
       "      <td>0</td>\n",
       "      <td>Electric</td>\n",
       "      <td>Central</td>\n",
       "      <td>No Data</td>\n",
       "    </tr>\n",
       "  </tbody>\n",
       "</table>\n",
       "<p>335090 rows × 16 columns</p>\n",
       "</div>"
      ],
      "text/plain": [
       "       private pool    baths  \\\n",
       "0               NaN      3.5   \n",
       "1               NaN  3 Baths   \n",
       "2               NaN  2 Baths   \n",
       "3               NaN  8 Baths   \n",
       "4               NaN      NaN   \n",
       "...             ...      ...   \n",
       "335085          NaN      6.0   \n",
       "335086          NaN  3 Baths   \n",
       "335087          NaN  3 Baths   \n",
       "335088          NaN      NaN   \n",
       "335089          NaN      2.0   \n",
       "\n",
       "                                                homeFacts       fireplace  \\\n",
       "0       [{'factValue': '2019', 'factLabel': 'Year buil...        Gas Logs   \n",
       "1       [{'factValue': '2019', 'factLabel': 'Year buil...             NaN   \n",
       "2       [{'factValue': '1961', 'factLabel': 'Year buil...             yes   \n",
       "3       [{'factValue': '2006', 'factLabel': 'Year buil...             yes   \n",
       "4       [{'factValue': '', 'factLabel': 'Year built'},...             NaN   \n",
       "...                                                   ...             ...   \n",
       "335085  [{'factValue': '1990', 'factLabel': 'Year buil...             NaN   \n",
       "335086  [{'factValue': '1924', 'factLabel': 'Year buil...             NaN   \n",
       "335087  [{'factValue': '1950', 'factLabel': 'Year buil...             NaN   \n",
       "335088  [{'factValue': None, 'factLabel': 'Year built'...             NaN   \n",
       "335089  [{'factValue': '2019', 'factLabel': 'Year buil...  Not Applicable   \n",
       "\n",
       "                sqft    beds state stories PrivatePool        propertyType  \\\n",
       "0       2.900000e+03       4    NC     NaN         NaN  Single Family Home   \n",
       "1       1.947000e+03  3 Beds    WA     2.0         NaN  single-family home   \n",
       "2       3.000000e+03  3 Beds    CA     1.0         yes  single-family home   \n",
       "3       6.457000e+03  5 Beds    TX     3.0         NaN  single-family home   \n",
       "4       4.364280e+08     NaN    FL     NaN         NaN            lot/land   \n",
       "...              ...     ...   ...     ...         ...                 ...   \n",
       "335085  4.017000e+03       5    FL     0.0         Yes       Single Family   \n",
       "335086  2.000000e+03  3 Beds    IL     9.0         NaN               condo   \n",
       "335087  1.152000e+03  3 Beds    NY       2         NaN  single-family home   \n",
       "335088  8.479000e+03    None    TX     NaN         NaN                 NaN   \n",
       "335089  1.462000e+03       3    TX     1.0         NaN       Single Family   \n",
       "\n",
       "            Price  Year built  Remodeled year                 Heating  \\\n",
       "0        417600.0        2019               0  Central A/C, Heat Pump   \n",
       "1        309573.0        2019               0                     NaN   \n",
       "2       2895000.0        1961            1967              Forced Air   \n",
       "3       2395547.0        2006            2006              Forced Air   \n",
       "4          5000.0        1979               0                     NaN   \n",
       "...           ...         ...             ...                     ...   \n",
       "335085  1249287.0        1990            1990                   Other   \n",
       "335086   674000.0        1924               0                 Radiant   \n",
       "335087   527616.0        1950            1950                   Other   \n",
       "335088    34500.0        1979               0                     NaN   \n",
       "335089   204680.0        2019               0                Electric   \n",
       "\n",
       "        Cooling          Parking  \n",
       "0           NaN              NaN  \n",
       "1           NaN              NaN  \n",
       "2       Central  Attached Garage  \n",
       "3       Central  Detached Garage  \n",
       "4           NaN              NaN  \n",
       "...         ...              ...  \n",
       "335085  Central         2 spaces  \n",
       "335086      NaN             None  \n",
       "335087      NaN                2  \n",
       "335088      NaN              NaN  \n",
       "335089  Central          No Data  \n",
       "\n",
       "[335090 rows x 16 columns]"
      ]
     },
     "execution_count": 44,
     "metadata": {},
     "output_type": "execute_result"
    }
   ],
   "source": [
    "data.drop(data[data['status'].isin(nstatus)==True].index.values.tolist(),inplace=True)\n",
    "data=data.reset_index()\n",
    "data.drop(['index'],axis=1,inplace=True)\n",
    "data.drop(['status'],axis=1,inplace=True)\n",
    "data"
   ]
  },
  {
   "cell_type": "markdown",
   "metadata": {},
   "source": [
    "### Private Pool"
   ]
  },
  {
   "cell_type": "code",
   "execution_count": 45,
   "metadata": {},
   "outputs": [],
   "source": [
    "data['PrivatePool']=data['PrivatePool'].str.lower()\n",
    "data['private pool']=data['private pool'].str.lower()"
   ]
  },
  {
   "cell_type": "code",
   "execution_count": 46,
   "metadata": {},
   "outputs": [],
   "source": [
    "# Replace 'yes' with 1 and unufy \"private pool\" and PrivatePool and replace NA with 0\n",
    "data[['private pool','PrivatePool']]=data[['private pool','PrivatePool']].replace(to_replace=['yes'],value=1)\n",
    "data['PrivatePool']=data['PrivatePool'].fillna(data['private pool'])\n",
    "data['PrivatePool']=data['PrivatePool'].fillna(0)\n",
    "data=data.drop(['private pool'],axis=1)\n"
   ]
  },
  {
   "cell_type": "code",
   "execution_count": 47,
   "metadata": {},
   "outputs": [
    {
     "data": {
      "text/plain": [
       "0    292269\n",
       "1     42821\n",
       "Name: PrivatePool, dtype: int64"
      ]
     },
     "execution_count": 47,
     "metadata": {},
     "output_type": "execute_result"
    }
   ],
   "source": [
    "data.PrivatePool=data.PrivatePool.astype(int)\n",
    "data.PrivatePool.value_counts()"
   ]
  },
  {
   "cell_type": "code",
   "execution_count": 48,
   "metadata": {},
   "outputs": [
    {
     "data": {
      "text/html": [
       "<div>\n",
       "<style scoped>\n",
       "    .dataframe tbody tr th:only-of-type {\n",
       "        vertical-align: middle;\n",
       "    }\n",
       "\n",
       "    .dataframe tbody tr th {\n",
       "        vertical-align: top;\n",
       "    }\n",
       "\n",
       "    .dataframe thead th {\n",
       "        text-align: right;\n",
       "    }\n",
       "</style>\n",
       "<table border=\"1\" class=\"dataframe\">\n",
       "  <thead>\n",
       "    <tr style=\"text-align: right;\">\n",
       "      <th></th>\n",
       "      <th>baths</th>\n",
       "      <th>homeFacts</th>\n",
       "      <th>fireplace</th>\n",
       "      <th>sqft</th>\n",
       "      <th>beds</th>\n",
       "      <th>state</th>\n",
       "      <th>stories</th>\n",
       "      <th>PrivatePool</th>\n",
       "      <th>propertyType</th>\n",
       "      <th>Price</th>\n",
       "      <th>Year built</th>\n",
       "      <th>Remodeled year</th>\n",
       "      <th>Heating</th>\n",
       "      <th>Cooling</th>\n",
       "      <th>Parking</th>\n",
       "    </tr>\n",
       "  </thead>\n",
       "  <tbody>\n",
       "    <tr>\n",
       "      <th>0</th>\n",
       "      <td>3.5</td>\n",
       "      <td>[{'factValue': '2019', 'factLabel': 'Year buil...</td>\n",
       "      <td>Gas Logs</td>\n",
       "      <td>2.900000e+03</td>\n",
       "      <td>4</td>\n",
       "      <td>NC</td>\n",
       "      <td>NaN</td>\n",
       "      <td>0</td>\n",
       "      <td>Single Family Home</td>\n",
       "      <td>417600.0</td>\n",
       "      <td>2019</td>\n",
       "      <td>0</td>\n",
       "      <td>Central A/C, Heat Pump</td>\n",
       "      <td>NaN</td>\n",
       "      <td>NaN</td>\n",
       "    </tr>\n",
       "    <tr>\n",
       "      <th>1</th>\n",
       "      <td>3 Baths</td>\n",
       "      <td>[{'factValue': '2019', 'factLabel': 'Year buil...</td>\n",
       "      <td>NaN</td>\n",
       "      <td>1.947000e+03</td>\n",
       "      <td>3 Beds</td>\n",
       "      <td>WA</td>\n",
       "      <td>2.0</td>\n",
       "      <td>0</td>\n",
       "      <td>single-family home</td>\n",
       "      <td>309573.0</td>\n",
       "      <td>2019</td>\n",
       "      <td>0</td>\n",
       "      <td>NaN</td>\n",
       "      <td>NaN</td>\n",
       "      <td>NaN</td>\n",
       "    </tr>\n",
       "    <tr>\n",
       "      <th>2</th>\n",
       "      <td>2 Baths</td>\n",
       "      <td>[{'factValue': '1961', 'factLabel': 'Year buil...</td>\n",
       "      <td>yes</td>\n",
       "      <td>3.000000e+03</td>\n",
       "      <td>3 Beds</td>\n",
       "      <td>CA</td>\n",
       "      <td>1.0</td>\n",
       "      <td>1</td>\n",
       "      <td>single-family home</td>\n",
       "      <td>2895000.0</td>\n",
       "      <td>1961</td>\n",
       "      <td>1967</td>\n",
       "      <td>Forced Air</td>\n",
       "      <td>Central</td>\n",
       "      <td>Attached Garage</td>\n",
       "    </tr>\n",
       "    <tr>\n",
       "      <th>3</th>\n",
       "      <td>8 Baths</td>\n",
       "      <td>[{'factValue': '2006', 'factLabel': 'Year buil...</td>\n",
       "      <td>yes</td>\n",
       "      <td>6.457000e+03</td>\n",
       "      <td>5 Beds</td>\n",
       "      <td>TX</td>\n",
       "      <td>3.0</td>\n",
       "      <td>0</td>\n",
       "      <td>single-family home</td>\n",
       "      <td>2395547.0</td>\n",
       "      <td>2006</td>\n",
       "      <td>2006</td>\n",
       "      <td>Forced Air</td>\n",
       "      <td>Central</td>\n",
       "      <td>Detached Garage</td>\n",
       "    </tr>\n",
       "    <tr>\n",
       "      <th>4</th>\n",
       "      <td>NaN</td>\n",
       "      <td>[{'factValue': '', 'factLabel': 'Year built'},...</td>\n",
       "      <td>NaN</td>\n",
       "      <td>4.364280e+08</td>\n",
       "      <td>NaN</td>\n",
       "      <td>FL</td>\n",
       "      <td>NaN</td>\n",
       "      <td>0</td>\n",
       "      <td>lot/land</td>\n",
       "      <td>5000.0</td>\n",
       "      <td>1979</td>\n",
       "      <td>0</td>\n",
       "      <td>NaN</td>\n",
       "      <td>NaN</td>\n",
       "      <td>NaN</td>\n",
       "    </tr>\n",
       "  </tbody>\n",
       "</table>\n",
       "</div>"
      ],
      "text/plain": [
       "     baths                                          homeFacts fireplace  \\\n",
       "0      3.5  [{'factValue': '2019', 'factLabel': 'Year buil...  Gas Logs   \n",
       "1  3 Baths  [{'factValue': '2019', 'factLabel': 'Year buil...       NaN   \n",
       "2  2 Baths  [{'factValue': '1961', 'factLabel': 'Year buil...       yes   \n",
       "3  8 Baths  [{'factValue': '2006', 'factLabel': 'Year buil...       yes   \n",
       "4      NaN  [{'factValue': '', 'factLabel': 'Year built'},...       NaN   \n",
       "\n",
       "           sqft    beds state stories  PrivatePool        propertyType  \\\n",
       "0  2.900000e+03       4    NC     NaN            0  Single Family Home   \n",
       "1  1.947000e+03  3 Beds    WA     2.0            0  single-family home   \n",
       "2  3.000000e+03  3 Beds    CA     1.0            1  single-family home   \n",
       "3  6.457000e+03  5 Beds    TX     3.0            0  single-family home   \n",
       "4  4.364280e+08     NaN    FL     NaN            0            lot/land   \n",
       "\n",
       "       Price  Year built  Remodeled year                 Heating  Cooling  \\\n",
       "0   417600.0        2019               0  Central A/C, Heat Pump      NaN   \n",
       "1   309573.0        2019               0                     NaN      NaN   \n",
       "2  2895000.0        1961            1967              Forced Air  Central   \n",
       "3  2395547.0        2006            2006              Forced Air  Central   \n",
       "4     5000.0        1979               0                     NaN      NaN   \n",
       "\n",
       "           Parking  \n",
       "0              NaN  \n",
       "1              NaN  \n",
       "2  Attached Garage  \n",
       "3  Detached Garage  \n",
       "4              NaN  "
      ]
     },
     "execution_count": 48,
     "metadata": {},
     "output_type": "execute_result"
    }
   ],
   "source": [
    "data.head()"
   ]
  },
  {
   "cell_type": "markdown",
   "metadata": {},
   "source": [
    "### Bath"
   ]
  },
  {
   "cell_type": "code",
   "execution_count": 49,
   "metadata": {},
   "outputs": [
    {
     "name": "stdout",
     "output_type": "stream",
     "text": [
      "There are 38.0% missing values\n"
     ]
    }
   ],
   "source": [
    "data.baths=data.baths.str.lower()\n",
    "print(f'There are {round(data.baths.isna().sum()/data.baths.count()*100,0)}% missing values')"
   ]
  },
  {
   "cell_type": "code",
   "execution_count": 50,
   "metadata": {},
   "outputs": [],
   "source": [
    "#Leave cells with numbers only for Bath \n",
    "data['baths']=data.baths.str.findall(r'\\d').str[0]"
   ]
  },
  {
   "cell_type": "code",
   "execution_count": 51,
   "metadata": {},
   "outputs": [],
   "source": [
    "data['baths'][data.baths.isna()==False]=data['baths'][data.baths.isna()==False].astype(int)"
   ]
  },
  {
   "cell_type": "code",
   "execution_count": 52,
   "metadata": {},
   "outputs": [
    {
     "data": {
      "text/plain": [
       "2.0    0.437647\n",
       "3.0    0.274363\n",
       "4.0    0.106996\n",
       "1.0    0.093295\n",
       "5.0    0.038813\n",
       "6.0    0.017565\n",
       "0.0    0.014929\n",
       "7.0    0.009527\n",
       "8.0    0.004650\n",
       "9.0    0.002215\n",
       "Name: baths, dtype: float64"
      ]
     },
     "execution_count": 52,
     "metadata": {},
     "output_type": "execute_result"
    }
   ],
   "source": [
    "data.baths.value_counts(normalize=True)"
   ]
  },
  {
   "cell_type": "code",
   "execution_count": 53,
   "metadata": {},
   "outputs": [
    {
     "data": {
      "text/html": [
       "<div>\n",
       "<style scoped>\n",
       "    .dataframe tbody tr th:only-of-type {\n",
       "        vertical-align: middle;\n",
       "    }\n",
       "\n",
       "    .dataframe tbody tr th {\n",
       "        vertical-align: top;\n",
       "    }\n",
       "\n",
       "    .dataframe thead th {\n",
       "        text-align: right;\n",
       "    }\n",
       "</style>\n",
       "<table border=\"1\" class=\"dataframe\">\n",
       "  <thead>\n",
       "    <tr style=\"text-align: right;\">\n",
       "      <th></th>\n",
       "      <th>baths</th>\n",
       "      <th>homeFacts</th>\n",
       "      <th>fireplace</th>\n",
       "      <th>sqft</th>\n",
       "      <th>beds</th>\n",
       "      <th>state</th>\n",
       "      <th>stories</th>\n",
       "      <th>PrivatePool</th>\n",
       "      <th>propertyType</th>\n",
       "      <th>Price</th>\n",
       "      <th>Year built</th>\n",
       "      <th>Remodeled year</th>\n",
       "      <th>Heating</th>\n",
       "      <th>Cooling</th>\n",
       "      <th>Parking</th>\n",
       "    </tr>\n",
       "  </thead>\n",
       "  <tbody>\n",
       "    <tr>\n",
       "      <th>0</th>\n",
       "      <td>3</td>\n",
       "      <td>[{'factValue': '2019', 'factLabel': 'Year buil...</td>\n",
       "      <td>Gas Logs</td>\n",
       "      <td>2.900000e+03</td>\n",
       "      <td>4</td>\n",
       "      <td>NC</td>\n",
       "      <td>NaN</td>\n",
       "      <td>0</td>\n",
       "      <td>Single Family Home</td>\n",
       "      <td>417600.0</td>\n",
       "      <td>2019</td>\n",
       "      <td>0</td>\n",
       "      <td>Central A/C, Heat Pump</td>\n",
       "      <td>NaN</td>\n",
       "      <td>NaN</td>\n",
       "    </tr>\n",
       "    <tr>\n",
       "      <th>1</th>\n",
       "      <td>3</td>\n",
       "      <td>[{'factValue': '2019', 'factLabel': 'Year buil...</td>\n",
       "      <td>NaN</td>\n",
       "      <td>1.947000e+03</td>\n",
       "      <td>3 Beds</td>\n",
       "      <td>WA</td>\n",
       "      <td>2.0</td>\n",
       "      <td>0</td>\n",
       "      <td>single-family home</td>\n",
       "      <td>309573.0</td>\n",
       "      <td>2019</td>\n",
       "      <td>0</td>\n",
       "      <td>NaN</td>\n",
       "      <td>NaN</td>\n",
       "      <td>NaN</td>\n",
       "    </tr>\n",
       "    <tr>\n",
       "      <th>2</th>\n",
       "      <td>2</td>\n",
       "      <td>[{'factValue': '1961', 'factLabel': 'Year buil...</td>\n",
       "      <td>yes</td>\n",
       "      <td>3.000000e+03</td>\n",
       "      <td>3 Beds</td>\n",
       "      <td>CA</td>\n",
       "      <td>1.0</td>\n",
       "      <td>1</td>\n",
       "      <td>single-family home</td>\n",
       "      <td>2895000.0</td>\n",
       "      <td>1961</td>\n",
       "      <td>1967</td>\n",
       "      <td>Forced Air</td>\n",
       "      <td>Central</td>\n",
       "      <td>Attached Garage</td>\n",
       "    </tr>\n",
       "    <tr>\n",
       "      <th>3</th>\n",
       "      <td>8</td>\n",
       "      <td>[{'factValue': '2006', 'factLabel': 'Year buil...</td>\n",
       "      <td>yes</td>\n",
       "      <td>6.457000e+03</td>\n",
       "      <td>5 Beds</td>\n",
       "      <td>TX</td>\n",
       "      <td>3.0</td>\n",
       "      <td>0</td>\n",
       "      <td>single-family home</td>\n",
       "      <td>2395547.0</td>\n",
       "      <td>2006</td>\n",
       "      <td>2006</td>\n",
       "      <td>Forced Air</td>\n",
       "      <td>Central</td>\n",
       "      <td>Detached Garage</td>\n",
       "    </tr>\n",
       "    <tr>\n",
       "      <th>4</th>\n",
       "      <td>2</td>\n",
       "      <td>[{'factValue': '', 'factLabel': 'Year built'},...</td>\n",
       "      <td>NaN</td>\n",
       "      <td>4.364280e+08</td>\n",
       "      <td>NaN</td>\n",
       "      <td>FL</td>\n",
       "      <td>NaN</td>\n",
       "      <td>0</td>\n",
       "      <td>lot/land</td>\n",
       "      <td>5000.0</td>\n",
       "      <td>1979</td>\n",
       "      <td>0</td>\n",
       "      <td>NaN</td>\n",
       "      <td>NaN</td>\n",
       "      <td>NaN</td>\n",
       "    </tr>\n",
       "    <tr>\n",
       "      <th>...</th>\n",
       "      <td>...</td>\n",
       "      <td>...</td>\n",
       "      <td>...</td>\n",
       "      <td>...</td>\n",
       "      <td>...</td>\n",
       "      <td>...</td>\n",
       "      <td>...</td>\n",
       "      <td>...</td>\n",
       "      <td>...</td>\n",
       "      <td>...</td>\n",
       "      <td>...</td>\n",
       "      <td>...</td>\n",
       "      <td>...</td>\n",
       "      <td>...</td>\n",
       "      <td>...</td>\n",
       "    </tr>\n",
       "    <tr>\n",
       "      <th>335085</th>\n",
       "      <td>6</td>\n",
       "      <td>[{'factValue': '1990', 'factLabel': 'Year buil...</td>\n",
       "      <td>NaN</td>\n",
       "      <td>4.017000e+03</td>\n",
       "      <td>5</td>\n",
       "      <td>FL</td>\n",
       "      <td>0.0</td>\n",
       "      <td>1</td>\n",
       "      <td>Single Family</td>\n",
       "      <td>1249287.0</td>\n",
       "      <td>1990</td>\n",
       "      <td>1990</td>\n",
       "      <td>Other</td>\n",
       "      <td>Central</td>\n",
       "      <td>2 spaces</td>\n",
       "    </tr>\n",
       "    <tr>\n",
       "      <th>335086</th>\n",
       "      <td>3</td>\n",
       "      <td>[{'factValue': '1924', 'factLabel': 'Year buil...</td>\n",
       "      <td>NaN</td>\n",
       "      <td>2.000000e+03</td>\n",
       "      <td>3 Beds</td>\n",
       "      <td>IL</td>\n",
       "      <td>9.0</td>\n",
       "      <td>0</td>\n",
       "      <td>condo</td>\n",
       "      <td>674000.0</td>\n",
       "      <td>1924</td>\n",
       "      <td>0</td>\n",
       "      <td>Radiant</td>\n",
       "      <td>NaN</td>\n",
       "      <td>None</td>\n",
       "    </tr>\n",
       "    <tr>\n",
       "      <th>335087</th>\n",
       "      <td>3</td>\n",
       "      <td>[{'factValue': '1950', 'factLabel': 'Year buil...</td>\n",
       "      <td>NaN</td>\n",
       "      <td>1.152000e+03</td>\n",
       "      <td>3 Beds</td>\n",
       "      <td>NY</td>\n",
       "      <td>2</td>\n",
       "      <td>0</td>\n",
       "      <td>single-family home</td>\n",
       "      <td>527616.0</td>\n",
       "      <td>1950</td>\n",
       "      <td>1950</td>\n",
       "      <td>Other</td>\n",
       "      <td>NaN</td>\n",
       "      <td>2</td>\n",
       "    </tr>\n",
       "    <tr>\n",
       "      <th>335088</th>\n",
       "      <td>NaN</td>\n",
       "      <td>[{'factValue': None, 'factLabel': 'Year built'...</td>\n",
       "      <td>NaN</td>\n",
       "      <td>8.479000e+03</td>\n",
       "      <td>None</td>\n",
       "      <td>TX</td>\n",
       "      <td>NaN</td>\n",
       "      <td>0</td>\n",
       "      <td>NaN</td>\n",
       "      <td>34500.0</td>\n",
       "      <td>1979</td>\n",
       "      <td>0</td>\n",
       "      <td>NaN</td>\n",
       "      <td>NaN</td>\n",
       "      <td>NaN</td>\n",
       "    </tr>\n",
       "    <tr>\n",
       "      <th>335089</th>\n",
       "      <td>2</td>\n",
       "      <td>[{'factValue': '2019', 'factLabel': 'Year buil...</td>\n",
       "      <td>Not Applicable</td>\n",
       "      <td>1.462000e+03</td>\n",
       "      <td>3</td>\n",
       "      <td>TX</td>\n",
       "      <td>1.0</td>\n",
       "      <td>0</td>\n",
       "      <td>Single Family</td>\n",
       "      <td>204680.0</td>\n",
       "      <td>2019</td>\n",
       "      <td>0</td>\n",
       "      <td>Electric</td>\n",
       "      <td>Central</td>\n",
       "      <td>No Data</td>\n",
       "    </tr>\n",
       "  </tbody>\n",
       "</table>\n",
       "<p>335090 rows × 15 columns</p>\n",
       "</div>"
      ],
      "text/plain": [
       "       baths                                          homeFacts  \\\n",
       "0          3  [{'factValue': '2019', 'factLabel': 'Year buil...   \n",
       "1          3  [{'factValue': '2019', 'factLabel': 'Year buil...   \n",
       "2          2  [{'factValue': '1961', 'factLabel': 'Year buil...   \n",
       "3          8  [{'factValue': '2006', 'factLabel': 'Year buil...   \n",
       "4          2  [{'factValue': '', 'factLabel': 'Year built'},...   \n",
       "...      ...                                                ...   \n",
       "335085     6  [{'factValue': '1990', 'factLabel': 'Year buil...   \n",
       "335086     3  [{'factValue': '1924', 'factLabel': 'Year buil...   \n",
       "335087     3  [{'factValue': '1950', 'factLabel': 'Year buil...   \n",
       "335088   NaN  [{'factValue': None, 'factLabel': 'Year built'...   \n",
       "335089     2  [{'factValue': '2019', 'factLabel': 'Year buil...   \n",
       "\n",
       "             fireplace          sqft    beds state stories  PrivatePool  \\\n",
       "0             Gas Logs  2.900000e+03       4    NC     NaN            0   \n",
       "1                  NaN  1.947000e+03  3 Beds    WA     2.0            0   \n",
       "2                  yes  3.000000e+03  3 Beds    CA     1.0            1   \n",
       "3                  yes  6.457000e+03  5 Beds    TX     3.0            0   \n",
       "4                  NaN  4.364280e+08     NaN    FL     NaN            0   \n",
       "...                ...           ...     ...   ...     ...          ...   \n",
       "335085             NaN  4.017000e+03       5    FL     0.0            1   \n",
       "335086             NaN  2.000000e+03  3 Beds    IL     9.0            0   \n",
       "335087             NaN  1.152000e+03  3 Beds    NY       2            0   \n",
       "335088             NaN  8.479000e+03    None    TX     NaN            0   \n",
       "335089  Not Applicable  1.462000e+03       3    TX     1.0            0   \n",
       "\n",
       "              propertyType      Price  Year built  Remodeled year  \\\n",
       "0       Single Family Home   417600.0        2019               0   \n",
       "1       single-family home   309573.0        2019               0   \n",
       "2       single-family home  2895000.0        1961            1967   \n",
       "3       single-family home  2395547.0        2006            2006   \n",
       "4                 lot/land     5000.0        1979               0   \n",
       "...                    ...        ...         ...             ...   \n",
       "335085       Single Family  1249287.0        1990            1990   \n",
       "335086               condo   674000.0        1924               0   \n",
       "335087  single-family home   527616.0        1950            1950   \n",
       "335088                 NaN    34500.0        1979               0   \n",
       "335089       Single Family   204680.0        2019               0   \n",
       "\n",
       "                       Heating  Cooling          Parking  \n",
       "0       Central A/C, Heat Pump      NaN              NaN  \n",
       "1                          NaN      NaN              NaN  \n",
       "2                   Forced Air  Central  Attached Garage  \n",
       "3                   Forced Air  Central  Detached Garage  \n",
       "4                          NaN      NaN              NaN  \n",
       "...                        ...      ...              ...  \n",
       "335085                   Other  Central         2 spaces  \n",
       "335086                 Radiant      NaN             None  \n",
       "335087                   Other      NaN                2  \n",
       "335088                     NaN      NaN              NaN  \n",
       "335089                Electric  Central          No Data  \n",
       "\n",
       "[335090 rows x 15 columns]"
      ]
     },
     "execution_count": 53,
     "metadata": {},
     "output_type": "execute_result"
    }
   ],
   "source": [
    "#Group data according to property type and take the average bathrooms for each property type for NA\n",
    "Baths=data[['baths','propertyType']]\n",
    "Baths['baths']=Baths['baths'][Baths.baths.isna()==False].astype(int)\n",
    "Baths=Baths[Baths.baths.isna()==False].groupby(by='propertyType').mean().reset_index()\n",
    "Baths.baths=Baths.baths.round(decimals=0)\n",
    "data.baths[data.baths.isna()==True]=data[data.baths.isna()==True].merge(Baths, on='propertyType', how='left').baths_y\n",
    "data"
   ]
  },
  {
   "cell_type": "code",
   "execution_count": 54,
   "metadata": {},
   "outputs": [
    {
     "name": "stdout",
     "output_type": "stream",
     "text": [
      "<class 'pandas.core.frame.DataFrame'>\n",
      "RangeIndex: 335090 entries, 0 to 335089\n",
      "Data columns (total 15 columns):\n",
      " #   Column          Non-Null Count   Dtype  \n",
      "---  ------          --------------   -----  \n",
      " 0   baths           262393 non-null  object \n",
      " 1   homeFacts       335090 non-null  object \n",
      " 2   fireplace       93537 non-null   object \n",
      " 3   sqft            335090 non-null  float64\n",
      " 4   beds            254585 non-null  object \n",
      " 5   state           335090 non-null  object \n",
      " 6   stories         204724 non-null  object \n",
      " 7   PrivatePool     335090 non-null  int32  \n",
      " 8   propertyType    308389 non-null  object \n",
      " 9   Price           335090 non-null  float64\n",
      " 10  Year built      335090 non-null  int64  \n",
      " 11  Remodeled year  335090 non-null  int32  \n",
      " 12  Heating         243415 non-null  object \n",
      " 13  Cooling         231854 non-null  object \n",
      " 14  Parking         181781 non-null  object \n",
      "dtypes: float64(2), int32(2), int64(1), object(10)\n",
      "memory usage: 35.8+ MB\n"
     ]
    }
   ],
   "source": [
    "#Group data according to bedrooms and take the average bathrooms for each bedroom number for NA\n",
    "BathsBeds=data[['baths','beds']]\n",
    "BathsBeds['baths']=BathsBeds['baths'][BathsBeds.baths.isna()==False].astype(int)\n",
    "BathsBeds=BathsBeds[BathsBeds.baths.isna()==False].groupby(by='beds').mean().reset_index()\n",
    "BathsBeds.baths=BathsBeds.baths.round(decimals=0)\n",
    "data.baths[data.baths.isna()==True]=data[data.baths.isna()==True].merge(BathsBeds, on='beds', how='left').baths_y\n",
    "data.info()\n"
   ]
  },
  {
   "cell_type": "code",
   "execution_count": 55,
   "metadata": {},
   "outputs": [
    {
     "data": {
      "text/plain": [
       "107        Bath\n",
       "197        Bath\n",
       "791       Baths\n",
       "2023      Baths\n",
       "2260       Bath\n",
       "          ...  \n",
       "333570    Baths\n",
       "333772    Baths\n",
       "334311    Baths\n",
       "334452    Baths\n",
       "334602    Baths\n",
       "Name: beds, Length: 877, dtype: object"
      ]
     },
     "execution_count": 55,
     "metadata": {},
     "output_type": "execute_result"
    }
   ],
   "source": [
    "#check if some values can be taken from beds column\n",
    "data['beds'][(data.beds.str.contains('Bath'))&(data.beds.isna()==False)&(data.baths.isna()==True)]"
   ]
  },
  {
   "cell_type": "code",
   "execution_count": 56,
   "metadata": {},
   "outputs": [],
   "source": [
    "#beds columns has values that contains baths, replace NA with 1 for bath and 2 for baths\n",
    "data['beds'][(data.beds=='Bath')&(data.beds.isna()==False)&(data.baths.isna()==True)]=1\n",
    "data['beds'][(data.beds=='Baths')&(data.beds.isna()==False)&(data.baths.isna()==True)]=2\n",
    "data['baths'][(data.beds.str.contains('Bath'))&(data.beds.isna()==False)&(data.baths.isna()==True)]=1"
   ]
  },
  {
   "cell_type": "code",
   "execution_count": 57,
   "metadata": {},
   "outputs": [
    {
     "name": "stdout",
     "output_type": "stream",
     "text": [
      "<class 'pandas.core.frame.DataFrame'>\n",
      "RangeIndex: 335090 entries, 0 to 335089\n",
      "Data columns (total 15 columns):\n",
      " #   Column          Non-Null Count   Dtype  \n",
      "---  ------          --------------   -----  \n",
      " 0   baths           266208 non-null  object \n",
      " 1   homeFacts       335090 non-null  object \n",
      " 2   fireplace       93537 non-null   object \n",
      " 3   sqft            335090 non-null  float64\n",
      " 4   beds            254585 non-null  object \n",
      " 5   state           335090 non-null  object \n",
      " 6   stories         204724 non-null  object \n",
      " 7   PrivatePool     335090 non-null  int32  \n",
      " 8   propertyType    308389 non-null  object \n",
      " 9   Price           335090 non-null  float64\n",
      " 10  Year built      335090 non-null  int64  \n",
      " 11  Remodeled year  335090 non-null  int32  \n",
      " 12  Heating         243415 non-null  object \n",
      " 13  Cooling         231854 non-null  object \n",
      " 14  Parking         181781 non-null  object \n",
      "dtypes: float64(2), int32(2), int64(1), object(10)\n",
      "memory usage: 35.8+ MB\n"
     ]
    }
   ],
   "source": [
    "#Group data according to sqft and take the average bathrooms for each area for NA\n",
    "BathsArea=data[['baths','sqft']]\n",
    "BathsArea['baths']=BathsArea['baths'][BathsArea.baths.isna()==False].astype(int)\n",
    "BathsArea=BathsArea[BathsArea.baths.isna()==False].groupby(by='sqft').mean().reset_index()\n",
    "BathsArea.baths=BathsArea.baths.round(decimals=0)\n",
    "data.baths[data.baths.isna()==True]=data[data.baths.isna()==True].merge(BathsArea, on='sqft', how='left').baths_y\n",
    "data.info()\n"
   ]
  },
  {
   "cell_type": "code",
   "execution_count": 58,
   "metadata": {},
   "outputs": [],
   "source": [
    "data.baths.fillna(1,inplace=True)\n",
    "data.baths=data.baths.astype(int)"
   ]
  },
  {
   "cell_type": "code",
   "execution_count": 59,
   "metadata": {},
   "outputs": [
    {
     "name": "stdout",
     "output_type": "stream",
     "text": [
      "<class 'pandas.core.frame.DataFrame'>\n",
      "RangeIndex: 335090 entries, 0 to 335089\n",
      "Data columns (total 15 columns):\n",
      " #   Column          Non-Null Count   Dtype  \n",
      "---  ------          --------------   -----  \n",
      " 0   baths           335090 non-null  int32  \n",
      " 1   homeFacts       335090 non-null  object \n",
      " 2   fireplace       93537 non-null   object \n",
      " 3   sqft            335090 non-null  float64\n",
      " 4   beds            254585 non-null  object \n",
      " 5   state           335090 non-null  object \n",
      " 6   stories         204724 non-null  object \n",
      " 7   PrivatePool     335090 non-null  int32  \n",
      " 8   propertyType    308389 non-null  object \n",
      " 9   Price           335090 non-null  float64\n",
      " 10  Year built      335090 non-null  int64  \n",
      " 11  Remodeled year  335090 non-null  int32  \n",
      " 12  Heating         243415 non-null  object \n",
      " 13  Cooling         231854 non-null  object \n",
      " 14  Parking         181781 non-null  object \n",
      "dtypes: float64(2), int32(3), int64(1), object(9)\n",
      "memory usage: 34.5+ MB\n"
     ]
    }
   ],
   "source": [
    "data.info()"
   ]
  },
  {
   "cell_type": "markdown",
   "metadata": {},
   "source": [
    "### Beds"
   ]
  },
  {
   "cell_type": "code",
   "execution_count": 60,
   "metadata": {},
   "outputs": [
    {
     "name": "stdout",
     "output_type": "stream",
     "text": [
      "There are 24.0% of missing values\n"
     ]
    }
   ],
   "source": [
    "data.beds=data.beds.str.lower()\n",
    "print(f'There are {round(data.beds.isna().sum()/data.baths.count()*100,0)}% of missing values')"
   ]
  },
  {
   "cell_type": "code",
   "execution_count": 61,
   "metadata": {},
   "outputs": [
    {
     "data": {
      "text/plain": [
       "3 beds          0.196966\n",
       "4 beds          0.133453\n",
       "3               0.108303\n",
       "2 beds          0.097377\n",
       "4               0.069771\n",
       "                  ...   \n",
       "48 beds         0.000004\n",
       "2.15 acres      0.000004\n",
       "100.17 acres    0.000004\n",
       "10.32 acres     0.000004\n",
       "5.17 acres      0.000004\n",
       "Name: beds, Length: 581, dtype: float64"
      ]
     },
     "execution_count": 61,
     "metadata": {},
     "output_type": "execute_result"
    }
   ],
   "source": [
    "data.beds.value_counts(normalize=True)"
   ]
  },
  {
   "cell_type": "code",
   "execution_count": 62,
   "metadata": {},
   "outputs": [
    {
     "data": {
      "text/plain": [
       "3.0           0.342497\n",
       "4.0           0.231355\n",
       "2.0           0.105375\n",
       "none          0.075364\n",
       "5.0           0.062206\n",
       "                ...   \n",
       "4.45 acres    0.000056\n",
       "5.79 acres    0.000056\n",
       "2.44 acres    0.000056\n",
       "3.56 acres    0.000056\n",
       "9.97 acres    0.000056\n",
       "Name: beds, Length: 469, dtype: float64"
      ]
     },
     "execution_count": 62,
     "metadata": {},
     "output_type": "execute_result"
    }
   ],
   "source": [
    "#leave numbers only for Beds\n",
    "data['beds']=data.beds.str.replace(' beds','').str.replace(' bd','')\n",
    "data['beds']=data.beds.str.replace('baths','2')\n",
    "data['beds']=data.beds.str.replace('bath','1')\n",
    "data.beds[(data.beds.str.contains('\\D')==True)&(data.beds.isna()==False)].value_counts(normalize=True)"
   ]
  },
  {
   "cell_type": "code",
   "execution_count": 63,
   "metadata": {},
   "outputs": [],
   "source": [
    "data['beds'][data.beds.str.contains('sqft|acres|acre| |--')==True]=0\n"
   ]
  },
  {
   "cell_type": "code",
   "execution_count": 64,
   "metadata": {},
   "outputs": [],
   "source": [
    "data['beds'][data.beds.str.contains('2 bedrooms')==True]=2\n",
    "data['beds'][data.beds.str.contains('3 or more bedrooms')==True]=3\n",
    "data['beds'][data.beds.str.contains('based on redfin')==True]=1"
   ]
  },
  {
   "cell_type": "code",
   "execution_count": 65,
   "metadata": {},
   "outputs": [],
   "source": [
    "data['beds']=data['beds'][(data.beds.isna()==False)&(data.beds!='none')].astype(float)\n"
   ]
  },
  {
   "cell_type": "code",
   "execution_count": 66,
   "metadata": {},
   "outputs": [],
   "source": [
    "#Group data according to property type and take the average area for each property type for NA\n",
    "Beds=data[['beds','propertyType']]\n",
    "Beds['beds']=Beds['beds'][(Beds.beds.isna()==False)&(Beds.beds!='none')].astype(float)\n",
    "Beds=Beds.groupby(by='propertyType').mean().reset_index()\n",
    "Beds.beds=Beds.beds.round(decimals=0)\n",
    "data=data.merge(Beds, on='propertyType', how='left')"
   ]
  },
  {
   "cell_type": "code",
   "execution_count": 67,
   "metadata": {},
   "outputs": [
    {
     "name": "stdout",
     "output_type": "stream",
     "text": [
      "<class 'pandas.core.frame.DataFrame'>\n",
      "Int64Index: 335090 entries, 0 to 335089\n",
      "Data columns (total 15 columns):\n",
      " #   Column          Non-Null Count   Dtype  \n",
      "---  ------          --------------   -----  \n",
      " 0   baths           335090 non-null  int32  \n",
      " 1   homeFacts       335090 non-null  object \n",
      " 2   fireplace       93537 non-null   object \n",
      " 3   sqft            335090 non-null  float64\n",
      " 4   beds            335090 non-null  float64\n",
      " 5   state           335090 non-null  object \n",
      " 6   stories         204724 non-null  object \n",
      " 7   PrivatePool     335090 non-null  int32  \n",
      " 8   propertyType    308389 non-null  object \n",
      " 9   Price           335090 non-null  float64\n",
      " 10  Year built      335090 non-null  int64  \n",
      " 11  Remodeled year  335090 non-null  int32  \n",
      " 12  Heating         243415 non-null  object \n",
      " 13  Cooling         231854 non-null  object \n",
      " 14  Parking         181781 non-null  object \n",
      "dtypes: float64(3), int32(3), int64(1), object(8)\n",
      "memory usage: 37.1+ MB\n"
     ]
    }
   ],
   "source": [
    "data['beds_x'].fillna(data.beds_y,inplace=True)\n",
    "data['beds_x'][data.beds_x=='none']=data.beds_y\n",
    "data.beds_x.fillna(data.beds_x.mean(),inplace=True)\n",
    "data.drop('beds_y',axis=1,inplace=True)\n",
    "data=data.rename(columns={'beds_x':'beds'})\n",
    "data.info()"
   ]
  },
  {
   "cell_type": "code",
   "execution_count": 68,
   "metadata": {},
   "outputs": [
    {
     "data": {
      "text/plain": [
       "(-0.145, 14.4]    0.999045\n",
       "(14.4, 28.8]      0.000677\n",
       "(57.6, 72.0]      0.000131\n",
       "(28.8, 43.2]      0.000093\n",
       "(43.2, 57.6]      0.000033\n",
       "(72.0, 86.4]      0.000012\n",
       "(86.4, 100.8]     0.000006\n",
       "(129.6, 144.0]    0.000003\n",
       "(115.2, 129.6]    0.000000\n",
       "(100.8, 115.2]    0.000000\n",
       "Name: beds, dtype: float64"
      ]
     },
     "execution_count": 68,
     "metadata": {},
     "output_type": "execute_result"
    }
   ],
   "source": [
    "data.beds.value_counts(normalize=True,bins=10)"
   ]
  },
  {
   "cell_type": "code",
   "execution_count": 69,
   "metadata": {},
   "outputs": [],
   "source": [
    "data=data.drop(data.beds[data.beds>15].index)"
   ]
  },
  {
   "cell_type": "code",
   "execution_count": 70,
   "metadata": {},
   "outputs": [
    {
     "name": "stdout",
     "output_type": "stream",
     "text": [
      "<class 'pandas.core.frame.DataFrame'>\n",
      "Int64Index: 334802 entries, 0 to 335089\n",
      "Data columns (total 15 columns):\n",
      " #   Column          Non-Null Count   Dtype  \n",
      "---  ------          --------------   -----  \n",
      " 0   baths           334802 non-null  int32  \n",
      " 1   homeFacts       334802 non-null  object \n",
      " 2   fireplace       93508 non-null   object \n",
      " 3   sqft            334802 non-null  float64\n",
      " 4   beds            334802 non-null  float64\n",
      " 5   state           334802 non-null  object \n",
      " 6   stories         204593 non-null  object \n",
      " 7   PrivatePool     334802 non-null  int32  \n",
      " 8   propertyType    308101 non-null  object \n",
      " 9   Price           334802 non-null  float64\n",
      " 10  Year built      334802 non-null  int64  \n",
      " 11  Remodeled year  334802 non-null  int32  \n",
      " 12  Heating         243252 non-null  object \n",
      " 13  Cooling         231721 non-null  object \n",
      " 14  Parking         181626 non-null  object \n",
      "dtypes: float64(3), int32(3), int64(1), object(8)\n",
      "memory usage: 37.0+ MB\n"
     ]
    }
   ],
   "source": [
    "data.info()"
   ]
  },
  {
   "cell_type": "markdown",
   "metadata": {},
   "source": [
    "### Create feature baths per bedroom"
   ]
  },
  {
   "cell_type": "code",
   "execution_count": 71,
   "metadata": {},
   "outputs": [],
   "source": [
    "data['baths'][data['baths']<1]=1\n",
    "data['beds'][data['beds']<1]=1\n",
    "data['baths/bed']=data['beds']/data['baths']"
   ]
  },
  {
   "cell_type": "code",
   "execution_count": 72,
   "metadata": {},
   "outputs": [],
   "source": [
    "#data.to_csv('dataintermediate.csv',index=False)\n",
    "saveData(data)"
   ]
  },
  {
   "cell_type": "markdown",
   "metadata": {},
   "source": [
    "### Fireplace"
   ]
  },
  {
   "cell_type": "code",
   "execution_count": 73,
   "metadata": {},
   "outputs": [
    {
     "name": "stdout",
     "output_type": "stream",
     "text": [
      "<class 'pandas.core.frame.DataFrame'>\n",
      "RangeIndex: 334802 entries, 0 to 334801\n",
      "Data columns (total 16 columns):\n",
      " #   Column          Non-Null Count   Dtype  \n",
      "---  ------          --------------   -----  \n",
      " 0   baths           334802 non-null  int64  \n",
      " 1   homeFacts       334802 non-null  object \n",
      " 2   fireplace       93508 non-null   object \n",
      " 3   sqft            334802 non-null  float64\n",
      " 4   beds            334802 non-null  float64\n",
      " 5   state           334802 non-null  object \n",
      " 6   stories         204593 non-null  object \n",
      " 7   PrivatePool     334802 non-null  int64  \n",
      " 8   propertyType    308101 non-null  object \n",
      " 9   Price           334802 non-null  float64\n",
      " 10  Year built      334802 non-null  int64  \n",
      " 11  Remodeled year  334802 non-null  int64  \n",
      " 12  Heating         243252 non-null  object \n",
      " 13  Cooling         231721 non-null  object \n",
      " 14  Parking         181626 non-null  object \n",
      " 15  baths/bed       334802 non-null  float64\n",
      "dtypes: float64(4), int64(4), object(8)\n",
      "memory usage: 40.9+ MB\n"
     ]
    }
   ],
   "source": [
    "data=pd.read_csv('dataintermediate.csv')\n",
    "data.info()"
   ]
  },
  {
   "cell_type": "code",
   "execution_count": 74,
   "metadata": {},
   "outputs": [],
   "source": [
    "data['fireplace']=data['fireplace'].str.lower()\n",
    "data.fireplace[data.fireplace.str.contains('fire|yes|gas|burning|stove|frplc')==True]=1\n",
    "data.fireplace[data.fireplace.str.contains('no|0 ')==True]=0\n",
    "data.fireplace[(data.fireplace.str.contains('\\d')==True)&(data.fireplace.str.contains('0')==False)]=1\n",
    "data.fireplace[data.fireplace!=1]=0"
   ]
  },
  {
   "cell_type": "code",
   "execution_count": 75,
   "metadata": {},
   "outputs": [
    {
     "name": "stdout",
     "output_type": "stream",
     "text": [
      "<class 'pandas.core.frame.DataFrame'>\n",
      "RangeIndex: 334802 entries, 0 to 334801\n",
      "Data columns (total 16 columns):\n",
      " #   Column          Non-Null Count   Dtype  \n",
      "---  ------          --------------   -----  \n",
      " 0   baths           334802 non-null  int64  \n",
      " 1   homeFacts       334802 non-null  object \n",
      " 2   fireplace       334802 non-null  int32  \n",
      " 3   sqft            334802 non-null  float64\n",
      " 4   beds            334802 non-null  float64\n",
      " 5   state           334802 non-null  object \n",
      " 6   stories         204593 non-null  object \n",
      " 7   PrivatePool     334802 non-null  int64  \n",
      " 8   propertyType    308101 non-null  object \n",
      " 9   Price           334802 non-null  float64\n",
      " 10  Year built      334802 non-null  int64  \n",
      " 11  Remodeled year  334802 non-null  int64  \n",
      " 12  Heating         243252 non-null  object \n",
      " 13  Cooling         231721 non-null  object \n",
      " 14  Parking         181626 non-null  object \n",
      " 15  baths/bed       334802 non-null  float64\n",
      "dtypes: float64(4), int32(1), int64(4), object(7)\n",
      "memory usage: 39.6+ MB\n"
     ]
    }
   ],
   "source": [
    "data.fireplace=data.fireplace.astype(int)\n",
    "data.info()"
   ]
  },
  {
   "cell_type": "markdown",
   "metadata": {},
   "source": [
    "### Stories"
   ]
  },
  {
   "cell_type": "code",
   "execution_count": 76,
   "metadata": {},
   "outputs": [],
   "source": [
    "data.stories=data.stories.str.lower()"
   ]
  },
  {
   "cell_type": "code",
   "execution_count": 77,
   "metadata": {},
   "outputs": [
    {
     "data": {
      "text/plain": [
       "one                               5462\n",
       "two                               2426\n",
       "three or more                      542\n",
       "lot                                303\n",
       "one story                          297\n",
       "                                  ... \n",
       "split foyer, tri-level               1\n",
       "log                                  1\n",
       "ground level, split level, two       1\n",
       "detached                             1\n",
       "multi/split, two                     1\n",
       "Name: stories, Length: 92, dtype: int64"
      ]
     },
     "execution_count": 77,
     "metadata": {},
     "output_type": "execute_result"
    }
   ],
   "source": [
    "data['st1']=data.stories.str.findall(r'\\d').str[0]\n",
    "#data.stories=data.stories[data.st1.isna()==False]\n",
    "data.stories[(data.st1.isna()==True)&(data.stories.isna()==False)].value_counts()\n",
    "#data.stories.value_counts()"
   ]
  },
  {
   "cell_type": "code",
   "execution_count": 78,
   "metadata": {},
   "outputs": [],
   "source": [
    "data.stories[data.stories.str.contains('one')==True]=1\n",
    "data.stories[data.stories.str.contains('two')==True]=2"
   ]
  },
  {
   "cell_type": "code",
   "execution_count": 79,
   "metadata": {},
   "outputs": [],
   "source": [
    "data.stories=data['st1'][(data.st1.isna()==False)&(data.stories.isna()==False)]"
   ]
  },
  {
   "cell_type": "code",
   "execution_count": 80,
   "metadata": {},
   "outputs": [],
   "source": [
    "data.drop('st1',axis=1,inplace=True)\n",
    "data.dropna(subset=['stories'],axis=0,inplace=True)"
   ]
  },
  {
   "cell_type": "code",
   "execution_count": 81,
   "metadata": {},
   "outputs": [],
   "source": [
    "data.stories=data.stories.astype(int)"
   ]
  },
  {
   "cell_type": "code",
   "execution_count": 82,
   "metadata": {},
   "outputs": [],
   "source": [
    "data['stories'][data.stories<2]=1\n",
    "data['stories'][data.stories>1]=2"
   ]
  },
  {
   "cell_type": "code",
   "execution_count": 83,
   "metadata": {},
   "outputs": [
    {
     "data": {
      "text/plain": [
       "2    97259\n",
       "1    96403\n",
       "Name: stories, dtype: int64"
      ]
     },
     "execution_count": 83,
     "metadata": {},
     "output_type": "execute_result"
    }
   ],
   "source": [
    "data.stories.value_counts()"
   ]
  },
  {
   "cell_type": "code",
   "execution_count": 84,
   "metadata": {},
   "outputs": [
    {
     "name": "stdout",
     "output_type": "stream",
     "text": [
      "<class 'pandas.core.frame.DataFrame'>\n",
      "RangeIndex: 193662 entries, 0 to 193661\n",
      "Data columns (total 16 columns):\n",
      " #   Column          Non-Null Count   Dtype  \n",
      "---  ------          --------------   -----  \n",
      " 0   baths           193662 non-null  int64  \n",
      " 1   homeFacts       193662 non-null  object \n",
      " 2   fireplace       193662 non-null  int64  \n",
      " 3   sqft            193662 non-null  float64\n",
      " 4   beds            193662 non-null  float64\n",
      " 5   state           193662 non-null  object \n",
      " 6   stories         193662 non-null  int64  \n",
      " 7   PrivatePool     193662 non-null  int64  \n",
      " 8   propertyType    190660 non-null  object \n",
      " 9   Price           193662 non-null  float64\n",
      " 10  Year built      193662 non-null  int64  \n",
      " 11  Remodeled year  193662 non-null  int64  \n",
      " 12  Heating         167589 non-null  object \n",
      " 13  Cooling         159159 non-null  object \n",
      " 14  Parking         142454 non-null  object \n",
      " 15  baths/bed       193662 non-null  float64\n",
      "dtypes: float64(4), int64(6), object(6)\n",
      "memory usage: 23.6+ MB\n"
     ]
    }
   ],
   "source": [
    "#data.to_csv('dataintermediate.csv',index=False)\n",
    "saveData(data)\n",
    "data=pd.read_csv('dataintermediate.csv')\n",
    "data.info()"
   ]
  },
  {
   "cell_type": "markdown",
   "metadata": {},
   "source": [
    "### Parking"
   ]
  },
  {
   "cell_type": "code",
   "execution_count": null,
   "metadata": {},
   "outputs": [],
   "source": []
  },
  {
   "cell_type": "markdown",
   "metadata": {},
   "source": [
    "## Features table"
   ]
  },
  {
   "cell_type": "code",
   "execution_count": 85,
   "metadata": {},
   "outputs": [],
   "source": [
    "Features=data[['stories','fireplace','sqft','PrivatePool','Year built','Remodeled year','baths/bed']]\n",
    "target=data.Price"
   ]
  },
  {
   "cell_type": "code",
   "execution_count": 86,
   "metadata": {},
   "outputs": [
    {
     "data": {
      "text/plain": [
       "<matplotlib.axes._subplots.AxesSubplot at 0x1cb068e87f0>"
      ]
     },
     "execution_count": 86,
     "metadata": {},
     "output_type": "execute_result"
    },
    {
     "data": {
      "image/png": "[encoded data removed]",
      "text/plain": [
       "<Figure size 432x288 with 2 Axes>"
      ]
     },
     "metadata": {
      "needs_background": "light"
     },
     "output_type": "display_data"
    }
   ],
   "source": [
    "sns.heatmap(Features.corr(), annot=True, cmap='coolwarm')"
   ]
  },
  {
   "cell_type": "markdown",
   "metadata": {},
   "source": [
    "# Model"
   ]
  },
  {
   "cell_type": "code",
   "execution_count": 87,
   "metadata": {},
   "outputs": [],
   "source": [
    "import numpy as np\n",
    "from sklearn.metrics import mean_squared_error\n",
    "from sklearn.linear_model import LinearRegression\n",
    "from sklearn.ensemble import GradientBoostingRegressor\n",
    "from sklearn.model_selection import train_test_split\n",
    "from sklearn.preprocessing import StandardScaler"
   ]
  },
  {
   "cell_type": "code",
   "execution_count": 88,
   "metadata": {},
   "outputs": [],
   "source": [
    "scaler = StandardScaler()\n",
    "FeaturesSt=scaler.fit_transform(Features)"
   ]
  },
  {
   "cell_type": "code",
   "execution_count": 89,
   "metadata": {},
   "outputs": [
    {
     "name": "stdout",
     "output_type": "stream",
     "text": [
      "X_train: (154929, 7)\n",
      "X_test: (38733, 7)\n",
      "y_train: (154929,)\n",
      "y_test: (38733,)\n"
     ]
    }
   ],
   "source": [
    "X_train, X_test, y_train, y_test = train_test_split(FeaturesSt, target, test_size=0.2)\n",
    "print('X_train:', X_train.shape)\n",
    "print('X_test:', X_test.shape)\n",
    "print('y_train:', y_train.shape)\n",
    "print('y_test:', y_test.shape)"
   ]
  },
  {
   "cell_type": "code",
   "execution_count": 90,
   "metadata": {},
   "outputs": [
    {
     "name": "stdout",
     "output_type": "stream",
     "text": [
      "56.4442064\n"
     ]
    }
   ],
   "source": [
    "start = timer()\n",
    "predictor = GradientBoostingRegressor(n_estimators=500, learning_rate=0.09)\n",
    "predictor.fit(X_train, y_train)\n",
    "y_pred = predictor.predict(X_test)\n",
    "end = timer()\n",
    "print(end - start)"
   ]
  },
  {
   "cell_type": "code",
   "execution_count": 91,
   "metadata": {},
   "outputs": [
    {
     "name": "stdout",
     "output_type": "stream",
     "text": [
      "R^2 GB: 0.5032, MSE GB: 1284452327332.152,RSME: 1133336.8110725745\n"
     ]
    }
   ],
   "source": [
    "mse=mean_squared_error(y_test,y_pred)\n",
    "print(f'R^2 GB: {round(predictor.score(X_test,y_test),4)}, MSE GB: {mse},RSME: {np.sqrt(mse)}')\n"
   ]
  },
  {
   "cell_type": "code",
   "execution_count": null,
   "metadata": {},
   "outputs": [],
   "source": []
  }
 ],
 "metadata": {
  "celltoolbar": "Raw Cell Format",
  "kernelspec": {
   "display_name": "Python 3",
   "language": "python",
   "name": "python3"
  },
  "language_info": {
   "codemirror_mode": {
    "name": "ipython",
    "version": 3
   },
   "file_extension": ".py",
   "mimetype": "text/x-python",
   "name": "python",
   "nbconvert_exporter": "python",
   "pygments_lexer": "ipython3",
   "version": "3.7.3"
  }
 },
 "nbformat": 4,
 "nbformat_minor": 4
}
