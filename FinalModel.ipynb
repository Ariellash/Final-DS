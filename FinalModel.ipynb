{
 "cells": [
  {
   "cell_type": "markdown",
   "metadata": {},
   "source": [
    "## Import libraries"
   ]
  },
  {
   "cell_type": "code",
   "execution_count": 1,
   "metadata": {},
   "outputs": [
    {
     "name": "stdout",
     "output_type": "stream",
     "text": [
      "Requirement already satisfied: xgboost in c:\\users\\dom\\anaconda3\\lib\\site-packages (1.2.0)\n",
      "Requirement already satisfied: numpy in c:\\users\\dom\\anaconda3\\lib\\site-packages (from xgboost) (1.16.4)\n",
      "Requirement already satisfied: scipy in c:\\users\\dom\\anaconda3\\lib\\site-packages (from xgboost) (1.2.1)\n",
      "Note: you may need to restart the kernel to use updated packages.\n"
     ]
    },
    {
     "name": "stderr",
     "output_type": "stream",
     "text": [
      "WARNING: You are using pip version 20.1.1; however, version 20.2.2 is available.\n",
      "You should consider upgrading via the 'C:\\Users\\dom\\Anaconda3\\python.exe -m pip install --upgrade pip' command.\n"
     ]
    }
   ],
   "source": [
    "pip install xgboost"
   ]
  },
  {
   "cell_type": "code",
   "execution_count": 2,
   "metadata": {},
   "outputs": [
    {
     "name": "stdout",
     "output_type": "stream",
     "text": [
      "Requirement already satisfied: hyperopt in c:\\users\\dom\\anaconda3\\lib\\site-packages (0.2.4)\n",
      "Requirement already satisfied: scipy in c:\\users\\dom\\anaconda3\\lib\\site-packages (from hyperopt) (1.2.1)\n",
      "Requirement already satisfied: cloudpickle in c:\\users\\dom\\anaconda3\\lib\\site-packages (from hyperopt) (1.2.1)\n",
      "Requirement already satisfied: six in c:\\users\\dom\\anaconda3\\lib\\site-packages (from hyperopt) (1.12.0)\n",
      "Requirement already satisfied: future in c:\\users\\dom\\anaconda3\\lib\\site-packages (from hyperopt) (0.17.1)\n",
      "Requirement already satisfied: numpy in c:\\users\\dom\\anaconda3\\lib\\site-packages (from hyperopt) (1.16.4)\n",
      "Requirement already satisfied: tqdm in c:\\users\\dom\\anaconda3\\lib\\site-packages (from hyperopt) (4.32.1)\n",
      "Requirement already satisfied: networkx>=2.2 in c:\\users\\dom\\anaconda3\\lib\\site-packages (from hyperopt) (2.3)\n",
      "Requirement already satisfied: decorator>=4.3.0 in c:\\users\\dom\\anaconda3\\lib\\site-packages (from networkx>=2.2->hyperopt) (4.4.0)\n",
      "Note: you may need to restart the kernel to use updated packages.\n"
     ]
    },
    {
     "name": "stderr",
     "output_type": "stream",
     "text": [
      "WARNING: You are using pip version 20.1.1; however, version 20.2.2 is available.\n",
      "You should consider upgrading via the 'C:\\Users\\dom\\Anaconda3\\python.exe -m pip install --upgrade pip' command.\n"
     ]
    }
   ],
   "source": [
    "pip install hyperopt"
   ]
  },
  {
   "cell_type": "code",
   "execution_count": 2,
   "metadata": {},
   "outputs": [
    {
     "name": "stderr",
     "output_type": "stream",
     "text": [
      "C:\\Users\\dom\\Anaconda3\\lib\\site-packages\\statsmodels\\tools\\_testing.py:19: FutureWarning: pandas.util.testing is deprecated. Use the functions in the public API at pandas.testing instead.\n",
      "  import pandas.util.testing as tm\n"
     ]
    }
   ],
   "source": [
    "import numpy as np\n",
    "import pickle\n",
    "import xgboost as xgb\n",
    "from sklearn.metrics import mean_squared_error\n",
    "#from hyperopt import fmin, tpe, hp, STATUS_OK, Trials\n",
    "import json\n",
    "#import pandas as pd\n",
    "\n",
    "#from sklearn.linear_model import LinearRegression\n",
    "#from sklearn.ensemble import GradientBoostingRegressor, RandomForestRegressor, AdaBoostRegressor\n",
    "#from sklearn.model_selection import train_test_split, KFold, StratifiedKFold\n",
    "#from sklearn.preprocessing import StandardScaler\n",
    "#from sklearn.tree import DecisionTreeRegressor\n",
    "#from tqdm import tqdm\n",
    "#from sklearn.base import clone\n",
    "#from sklearn.model_selection import RandomizedSearchCV\n",
    "#import seaborn as sns\n",
    "#%matplotlib inline\n",
    "\n",
    "#import matplotlib.pyplot as plt\n",
    "#import os\n",
    "\n",
    "#from sklearn.model_selection import cross_val_score\n",
    "\n"
   ]
  },
  {
   "cell_type": "code",
   "execution_count": 4,
   "metadata": {},
   "outputs": [],
   "source": [
    "with open('train_data.npy', 'rb') as f:\n",
    "    X_train = np.load(f)\n",
    "    y_train = np.load(f)"
   ]
  },
  {
   "cell_type": "code",
   "execution_count": 6,
   "metadata": {},
   "outputs": [],
   "source": [
    "with open('params.pkl', 'rb') as pkl_file:\n",
    "    params = pickle.load(pkl_file)"
   ]
  },
  {
   "cell_type": "code",
   "execution_count": 20,
   "metadata": {},
   "outputs": [],
   "source": [
    "model = xgb.XGBRegressor(**best)\n",
    "model.fit(total_features_train, y_train)\n",
    "y_pred = model.predict(total_features_test)"
   ]
  },
  {
   "cell_type": "code",
   "execution_count": 28,
   "metadata": {},
   "outputs": [
    {
     "name": "stdout",
     "output_type": "stream",
     "text": [
      "The RMSE = 0.46\n"
     ]
    }
   ],
   "source": [
    "print(f'The RMSE = {round(mean_squared_error(y_test, y_pred, squared=False),2)}')"
   ]
  },
  {
   "cell_type": "markdown",
   "metadata": {},
   "source": [
    "The RSME value is low lets see if it gets smaller and the model gets better with cross validation"
   ]
  },
  {
   "cell_type": "code",
   "execution_count": 29,
   "metadata": {},
   "outputs": [],
   "source": [
    "total_features = np.concatenate((total_features_train, total_features_test), axis=0)\n",
    "total_price = y_train.append(y_test)"
   ]
  },
  {
   "cell_type": "code",
   "execution_count": 30,
   "metadata": {},
   "outputs": [],
   "source": [
    "#cross validation for model training indication\n",
    "data_dmatrix = xgb.DMatrix(data=total_features, label=total_price)\n",
    "cv_results = xgb.cv(dtrain=data_dmatrix, params=best, nfold=3,\n",
    "                    num_boost_round=50,early_stopping_rounds=10,metrics=\"rmse\", as_pandas=True, seed=123)"
   ]
  },
  {
   "cell_type": "code",
   "execution_count": 31,
   "metadata": {},
   "outputs": [],
   "source": [
    "RSME=round(cv_results[\"test-rmse-mean\"][cv_results[\"test-rmse-mean\"]<1].head(1).values[0],2)\n",
    "rounds=cv_results[\"test-rmse-mean\"][cv_results[\"test-rmse-mean\"]<1].head(1).index[0]"
   ]
  },
  {
   "cell_type": "code",
   "execution_count": 32,
   "metadata": {},
   "outputs": [
    {
     "name": "stdout",
     "output_type": "stream",
     "text": [
      "The RSME improves from 6.16 to 0.91 after 3 rounds\n"
     ]
    }
   ],
   "source": [
    "print(f'The RSME improves from {round(cv_results[\"test-rmse-mean\"].head(1).values[0],2)} to {RSME} after {rounds} rounds')"
   ]
  },
  {
   "cell_type": "code",
   "execution_count": 43,
   "metadata": {},
   "outputs": [],
   "source": [
    "with open('model.pkl', 'wb') as output:\n",
    "       pickle.dump(model, output)"
   ]
  },
  {
   "cell_type": "markdown",
   "metadata": {},
   "source": [
    "![title](fin.jpg)"
   ]
  },
  {
   "cell_type": "markdown",
   "metadata": {},
   "source": [
    "The RSME that I've got is . The model is traing and with additional trainings becomes better. "
   ]
  }
 ],
 "metadata": {
  "kernelspec": {
   "display_name": "Python 3",
   "language": "python",
   "name": "python3"
  },
  "language_info": {
   "codemirror_mode": {
    "name": "ipython",
    "version": 3
   },
   "file_extension": ".py",
   "mimetype": "text/x-python",
   "name": "python",
   "nbconvert_exporter": "python",
   "pygments_lexer": "ipython3",
   "version": "3.7.3"
  }
 },
 "nbformat": 4,
 "nbformat_minor": 2
}
